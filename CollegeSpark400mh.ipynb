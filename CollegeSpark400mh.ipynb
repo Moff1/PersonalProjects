{
 "cells": [
  {
   "cell_type": "markdown",
   "id": "c5f351f8",
   "metadata": {},
   "source": [
    "## Import Packages"
   ]
  },
  {
   "cell_type": "code",
   "execution_count": 1,
   "id": "a30c322d",
   "metadata": {},
   "outputs": [],
   "source": [
    "import pyspark"
   ]
  },
  {
   "cell_type": "code",
   "execution_count": 2,
   "id": "6ad22882",
   "metadata": {},
   "outputs": [],
   "source": [
    "from pyspark.sql import SparkSession"
   ]
  },
  {
   "cell_type": "code",
   "execution_count": 3,
   "id": "eb23f56b",
   "metadata": {},
   "outputs": [],
   "source": [
    "from pyspark.sql.functions import col"
   ]
  },
  {
   "cell_type": "code",
   "execution_count": 4,
   "id": "e1749c51",
   "metadata": {},
   "outputs": [],
   "source": [
    "from pyspark.sql.functions import desc"
   ]
  },
  {
   "cell_type": "code",
   "execution_count": 5,
   "id": "eed3004b",
   "metadata": {},
   "outputs": [],
   "source": [
    "from pyspark.sql.functions import asc"
   ]
  },
  {
   "cell_type": "code",
   "execution_count": 6,
   "id": "bb7978c1",
   "metadata": {},
   "outputs": [],
   "source": [
    "import findspark"
   ]
  },
  {
   "cell_type": "code",
   "execution_count": 7,
   "id": "3e244fa3",
   "metadata": {},
   "outputs": [],
   "source": [
    "findspark.init()"
   ]
  },
  {
   "cell_type": "code",
   "execution_count": 8,
   "id": "7861315e",
   "metadata": {},
   "outputs": [],
   "source": [
    "spark = SparkSession.builder.appName('400MHurdles').getOrCreate()"
   ]
  },
  {
   "cell_type": "markdown",
   "id": "9575835f",
   "metadata": {},
   "source": [
    "## Import Data"
   ]
  },
  {
   "cell_type": "code",
   "execution_count": 11,
   "id": "ca913ed6",
   "metadata": {},
   "outputs": [],
   "source": [
    "Mens400mHurdles = spark.read.format('csv').option('inferSchema','true').option('header','true').option('path','Mens400mHurdles.csv').load()"
   ]
  },
  {
   "cell_type": "code",
   "execution_count": 12,
   "id": "b0ff8238",
   "metadata": {},
   "outputs": [],
   "source": [
    "Womens400mHurdles = spark.read.format('csv').option('inferSchema','true').option('header','true').option('path','Womens400mHurdles.csv').load()"
   ]
  },
  {
   "cell_type": "code",
   "execution_count": 13,
   "id": "e54c36f5",
   "metadata": {},
   "outputs": [],
   "source": [
    "from pyspark.sql.types import StructType, StructField, StringType, IntegerType"
   ]
  },
  {
   "cell_type": "markdown",
   "id": "f0ffb099",
   "metadata": {},
   "source": [
    "## Create View"
   ]
  },
  {
   "cell_type": "code",
   "execution_count": 14,
   "id": "608a16a5",
   "metadata": {},
   "outputs": [],
   "source": [
    "Mens400mHurdles.createOrReplaceTempView(\"Mens400mHurdles\")"
   ]
  },
  {
   "cell_type": "code",
   "execution_count": 15,
   "id": "89c28756",
   "metadata": {},
   "outputs": [],
   "source": [
    "Womens400mHurdles.createOrReplaceTempView(\"Womens400mHurdles\")"
   ]
  },
  {
   "cell_type": "code",
   "execution_count": null,
   "id": "7f56e3ac",
   "metadata": {},
   "outputs": [],
   "source": [
    "## Basic Selection"
   ]
  },
  {
   "cell_type": "code",
   "execution_count": null,
   "id": "a48e0eeb",
   "metadata": {
    "scrolled": true
   },
   "outputs": [],
   "source": [
    "resultone = spark.sql(\"SELECT * FROM Mens400mHurdles\")\n",
    "resultone.show()"
   ]
  },
  {
   "cell_type": "code",
   "execution_count": null,
   "id": "c54e2ae9",
   "metadata": {},
   "outputs": [],
   "source": [
    "resulttwo = spark.sql(\"SELECT * FROM Womens400mHurdles\")\n",
    "resulttwo.show()"
   ]
  },
  {
   "cell_type": "code",
   "execution_count": null,
   "id": "ea06fda0",
   "metadata": {},
   "outputs": [],
   "source": [
    "## Query One (Times)"
   ]
  },
  {
   "cell_type": "code",
   "execution_count": null,
   "id": "96f82c9a",
   "metadata": {},
   "outputs": [],
   "source": [
    "QueryOneA = spark.sql(\"SELECT Times, COUNT(*) as count FROM Mens400mHurdles GROUP BY Times ORDER BY count DESC\")\n",
    "QueryOneA.show()"
   ]
  },
  {
   "cell_type": "code",
   "execution_count": null,
   "id": "884eaf92",
   "metadata": {},
   "outputs": [],
   "source": [
    "QueryOneB = spark.sql(\"SELECT Times, COUNT(*) as count FROM Womens400mHurdles GROUP BY Times ORDER BY count DESC\")\n",
    "QueryOneB.show()"
   ]
  },
  {
   "cell_type": "code",
   "execution_count": null,
   "id": "e819f4ff",
   "metadata": {},
   "outputs": [],
   "source": [
    "## Query Two (Schools)"
   ]
  },
  {
   "cell_type": "code",
   "execution_count": null,
   "id": "64db3f86",
   "metadata": {},
   "outputs": [],
   "source": [
    "QueryTwoA = spark.sql(\"SELECT Schools, COUNT(*) as count FROM Mens400mHurdles GROUP BY Schools ORDER BY count DESC\")\n",
    "QueryTwoA.show()"
   ]
  },
  {
   "cell_type": "code",
   "execution_count": null,
   "id": "eec6e62e",
   "metadata": {},
   "outputs": [],
   "source": [
    "QueryTwoB = spark.sql(\"SELECT Schools, COUNT(*) as count FROM Womens400mHurdles GROUP BY Schools ORDER BY count DESC\")\n",
    "QueryTwoB.show()"
   ]
  },
  {
   "cell_type": "code",
   "execution_count": null,
   "id": "1429af29",
   "metadata": {},
   "outputs": [],
   "source": [
    "## Query Three (Times Percentages)"
   ]
  },
  {
   "cell_type": "code",
   "execution_count": null,
   "id": "de4a564f",
   "metadata": {},
   "outputs": [],
   "source": [
    "QueryThreeA = spark.sql(\"SELECT Times, COUNT(*) as count, (COUNT(*) / (SELECT COUNT(*) FROM Mens400mHurdles)) * 100 as percentage FROM Mens400mHurdles GROUP BY Times\")\n",
    "QueryThreeA.show()"
   ]
  },
  {
   "cell_type": "code",
   "execution_count": null,
   "id": "9da1dd6f",
   "metadata": {},
   "outputs": [],
   "source": [
    "QueryThreeB = spark.sql(\"SELECT Times, COUNT(*) as count, (COUNT(*) / (SELECT COUNT(*) FROM Womens400mHurdles)) * 100 as percentage FROM Womens400mHurdles GROUP BY Times\")\n",
    "QueryThreeB.show()"
   ]
  },
  {
   "cell_type": "code",
   "execution_count": null,
   "id": "b793831e",
   "metadata": {},
   "outputs": [],
   "source": [
    "## Query Four (School Percentages)"
   ]
  },
  {
   "cell_type": "code",
   "execution_count": null,
   "id": "24da84f0",
   "metadata": {},
   "outputs": [],
   "source": [
    "QueryFourA = spark.sql(\"SELECT Schools, COUNT(*) as count, (COUNT(*) / (SELECT COUNT(*) FROM Mens400mHurdles)) * 100 as percentage FROM Mens400mHurdles GROUP BY Schools\")\n",
    "QueryFourA.show()"
   ]
  },
  {
   "cell_type": "code",
   "execution_count": null,
   "id": "7ef3e71b",
   "metadata": {},
   "outputs": [],
   "source": [
    "QueryFourB = spark.sql(\"SELECT Schools, COUNT(*) as count, (COUNT(*) / (SELECT COUNT(*) FROM Womens400mHurdles)) * 100 as percentage FROM Mens400mHurdles GROUP BY Schools\")\n",
    "QueryFourB.show()"
   ]
  },
  {
   "cell_type": "code",
   "execution_count": null,
   "id": "d2c6fe2f",
   "metadata": {},
   "outputs": [],
   "source": [
    "import pandas as pd\n",
    "import matplotlib.pyplot as plt\n",
    "import seaborn as sns"
   ]
  },
  {
   "cell_type": "code",
   "execution_count": null,
   "id": "897e62dd",
   "metadata": {},
   "outputs": [],
   "source": [
    "## Import Data "
   ]
  },
  {
   "cell_type": "code",
   "execution_count": null,
   "id": "f4577fb2",
   "metadata": {},
   "outputs": [],
   "source": [
    "Mens400mHurdlesDF = pd.read_csv('Men400mHurdles.csv')\n",
    "Mens400mHurdlesDF"
   ]
  },
  {
   "cell_type": "code",
   "execution_count": null,
   "id": "34885632",
   "metadata": {},
   "outputs": [],
   "source": [
    "Womens400mHurdlesDF = pd.read_csv('Womens400mHurdles.csv')\n",
    "Womens400mHurdlesDF"
   ]
  },
  {
   "cell_type": "markdown",
   "id": "d1828bc3",
   "metadata": {},
   "source": [
    "## Create a histogram using Seaborn"
   ]
  },
  {
   "cell_type": "code",
   "execution_count": null,
   "id": "adf59985",
   "metadata": {},
   "outputs": [],
   "source": [
    "# Create a histogram using Seaborn\n",
    "column_name = \"Times\"\n",
    "sns.histplot(Mens400mHurdlesDF[column_name], bins=20, kde=True, color='skyblue', edgecolor='black')\n",
    "\n",
    "# Add labels and title\n",
    "plt.xlabel(column_name)\n",
    "plt.ylabel('Frequency')\n",
    "plt.title(f'Distribution of {column_name}')\n",
    "\n",
    "# Show the plot\n",
    "plt.show()"
   ]
  },
  {
   "cell_type": "code",
   "execution_count": null,
   "id": "19a182f7",
   "metadata": {},
   "outputs": [],
   "source": [
    "# Create a histogram using Seaborn\n",
    "column_name = \"Times\"\n",
    "sns.histplot(Womens400mHurdlesDF[column_name], bins=20, kde=True, color='red', edgecolor='black')\n",
    "\n",
    "# Add labels and title\n",
    "plt.xlabel(column_name)\n",
    "plt.ylabel('Frequency')\n",
    "plt.title(f'Distribution of {column_name}')\n",
    "\n",
    "# Show the plot\n",
    "plt.show()"
   ]
  },
  {
   "cell_type": "code",
   "execution_count": null,
   "id": "7788e173",
   "metadata": {},
   "outputs": [],
   "source": [
    "# Create a histogram using Seaborn\n",
    "column_name = \"Schools\"\n",
    "sns.histplot(Mens400mHurdlesDF[column_name], bins=20, kde=True, color='skyblue', edgecolor='black')\n",
    "\n",
    "# Add labels and title\n",
    "plt.xlabel(column_name)\n",
    "plt.ylabel('Frequency')\n",
    "plt.title(f'Distribution of {column_name}')\n",
    "\n",
    "#Make names more readable\n",
    "plt.xticks(rotation=60)\n",
    "\n",
    "\n",
    "# Show the plot\n",
    "plt.show()"
   ]
  },
  {
   "cell_type": "code",
   "execution_count": null,
   "id": "e237c0cf",
   "metadata": {},
   "outputs": [],
   "source": [
    "# Create a histogram using Seaborn\n",
    "column_name = \"Schools\"\n",
    "sns.histplot(Womens400mHurdlesDF[column_name], bins=20, kde=True, color='red', edgecolor='black')\n",
    "\n",
    "# Add labels and title\n",
    "plt.xlabel(column_name)\n",
    "plt.ylabel('Frequency')\n",
    "plt.title(f'Distribution of {column_name}')\n",
    "\n",
    "#Make names more readable\n",
    "plt.xticks(rotation=60)\n",
    "\n",
    "# Show the plot\n",
    "plt.show()"
   ]
  },
  {
   "cell_type": "code",
   "execution_count": null,
   "id": "a181c0ba",
   "metadata": {},
   "outputs": [],
   "source": []
  },
  {
   "cell_type": "code",
   "execution_count": null,
   "id": "20896a1e",
   "metadata": {},
   "outputs": [],
   "source": []
  },
  {
   "cell_type": "code",
   "execution_count": null,
   "id": "d92b00b1",
   "metadata": {},
   "outputs": [],
   "source": []
  },
  {
   "cell_type": "code",
   "execution_count": null,
   "id": "c4bb4b9b",
   "metadata": {},
   "outputs": [],
   "source": []
  },
  {
   "cell_type": "code",
   "execution_count": null,
   "id": "0dd10732",
   "metadata": {},
   "outputs": [],
   "source": []
  },
  {
   "cell_type": "code",
   "execution_count": null,
   "id": "8501e172",
   "metadata": {},
   "outputs": [],
   "source": []
  }
 ],
 "metadata": {
  "kernelspec": {
   "display_name": "Python 3 (ipykernel)",
   "language": "python",
   "name": "python3"
  },
  "language_info": {
   "codemirror_mode": {
    "name": "ipython",
    "version": 3
   },
   "file_extension": ".py",
   "mimetype": "text/x-python",
   "name": "python",
   "nbconvert_exporter": "python",
   "pygments_lexer": "ipython3",
   "version": "3.9.12"
  }
 },
 "nbformat": 4,
 "nbformat_minor": 5
}
