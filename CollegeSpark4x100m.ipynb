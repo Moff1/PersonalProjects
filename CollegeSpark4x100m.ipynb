{
 "cells": [
  {
   "cell_type": "code",
   "execution_count": null,
   "id": "640ee20f",
   "metadata": {},
   "outputs": [],
   "source": [
    "## Import Packages"
   ]
  },
  {
   "cell_type": "code",
   "execution_count": 1,
   "id": "a30c322d",
   "metadata": {},
   "outputs": [],
   "source": [
    "import pyspark"
   ]
  },
  {
   "cell_type": "code",
   "execution_count": 2,
   "id": "6ad22882",
   "metadata": {},
   "outputs": [],
   "source": [
    "from pyspark.sql import SparkSession"
   ]
  },
  {
   "cell_type": "code",
   "execution_count": 3,
   "id": "eb23f56b",
   "metadata": {},
   "outputs": [],
   "source": [
    "from pyspark.sql.functions import col"
   ]
  },
  {
   "cell_type": "code",
   "execution_count": 4,
   "id": "e1749c51",
   "metadata": {},
   "outputs": [],
   "source": [
    "from pyspark.sql.functions import desc"
   ]
  },
  {
   "cell_type": "code",
   "execution_count": 5,
   "id": "eed3004b",
   "metadata": {},
   "outputs": [],
   "source": [
    "from pyspark.sql.functions import asc"
   ]
  },
  {
   "cell_type": "code",
   "execution_count": 6,
   "id": "bb7978c1",
   "metadata": {},
   "outputs": [],
   "source": [
    "import findspark"
   ]
  },
  {
   "cell_type": "code",
   "execution_count": 7,
   "id": "3e244fa3",
   "metadata": {},
   "outputs": [],
   "source": [
    "findspark.init()"
   ]
  },
  {
   "cell_type": "code",
   "execution_count": 8,
   "id": "7861315e",
   "metadata": {},
   "outputs": [],
   "source": [
    "spark = SparkSession.builder.appName('4x100mRelay').getOrCreate()"
   ]
  },
  {
   "cell_type": "code",
   "execution_count": null,
   "id": "1134c0b6",
   "metadata": {},
   "outputs": [],
   "source": [
    "## Import Data"
   ]
  },
  {
   "cell_type": "code",
   "execution_count": 9,
   "id": "ca913ed6",
   "metadata": {},
   "outputs": [],
   "source": [
    "Mens4x100m = spark.read.format('csv').option('inferSchema','true').option('header','true').option('path','Men4x100m.csv').load()"
   ]
  },
  {
   "cell_type": "code",
   "execution_count": 10,
   "id": "b0ff8238",
   "metadata": {},
   "outputs": [],
   "source": [
    "Womens4x100m = spark.read.format('csv').option('inferSchema','true').option('header','true').option('path','Womens4x100m.csv').load()"
   ]
  },
  {
   "cell_type": "code",
   "execution_count": 11,
   "id": "e54c36f5",
   "metadata": {},
   "outputs": [],
   "source": [
    "from pyspark.sql.types import StructType, StructField, StringType, IntegerType"
   ]
  },
  {
   "cell_type": "code",
   "execution_count": null,
   "id": "98657e5a",
   "metadata": {},
   "outputs": [],
   "source": [
    "## Create Views"
   ]
  },
  {
   "cell_type": "code",
   "execution_count": 12,
   "id": "608a16a5",
   "metadata": {},
   "outputs": [],
   "source": [
    "Mens4x100m.createOrReplaceTempView(\"Mens4x100m\")"
   ]
  },
  {
   "cell_type": "code",
   "execution_count": 13,
   "id": "89c28756",
   "metadata": {},
   "outputs": [],
   "source": [
    "Womens4x100m.createOrReplaceTempView(\"Womens4x100m\")"
   ]
  },
  {
   "cell_type": "markdown",
   "id": "c4a56bbc",
   "metadata": {},
   "source": [
    "## Basic Selection"
   ]
  },
  {
   "cell_type": "code",
   "execution_count": null,
   "id": "a48e0eeb",
   "metadata": {},
   "outputs": [],
   "source": [
    "resultone = spark.sql(\"SELECT * FROM Mens4x100m\")\n",
    "resultone.show()"
   ]
  },
  {
   "cell_type": "code",
   "execution_count": null,
   "id": "c54e2ae9",
   "metadata": {},
   "outputs": [],
   "source": [
    "resulttwo = spark.sql(\"SELECT * FROM Womens4x100m\")\n",
    "resulttwo.show()"
   ]
  },
  {
   "cell_type": "markdown",
   "id": "afa65287",
   "metadata": {},
   "source": [
    "## Query One (Times)"
   ]
  },
  {
   "cell_type": "code",
   "execution_count": null,
   "id": "3a67670e",
   "metadata": {},
   "outputs": [],
   "source": [
    "QueryOneA = spark.sql(\"SELECT OfficialTimes, COUNT(*) as count FROM Mens4x100m GROUP BY OfficialTimes ORDER BY count DESC\")\n",
    "QueryOneA.show()"
   ]
  },
  {
   "cell_type": "code",
   "execution_count": null,
   "id": "3c820f0d",
   "metadata": {},
   "outputs": [],
   "source": [
    "QueryOneB = spark.sql(\"SELECT OfficialTimes, COUNT(*) as count FROM Womens4x100m GROUP BY OfficialTimes ORDER BY count DESC\")\n",
    "QueryOneB.show()"
   ]
  },
  {
   "cell_type": "markdown",
   "id": "14bc8e8e",
   "metadata": {},
   "source": [
    "## Query Two (Team Names)"
   ]
  },
  {
   "cell_type": "code",
   "execution_count": null,
   "id": "1e2e0faf",
   "metadata": {},
   "outputs": [],
   "source": [
    "QueryTwoA = spark.sql(\"SELECT Names, COUNT(*) as count FROM Mens4x100m GROUP BY Names ORDER BY count DESC\")\n",
    "QueryTwoA.show()"
   ]
  },
  {
   "cell_type": "code",
   "execution_count": null,
   "id": "5db95a15",
   "metadata": {},
   "outputs": [],
   "source": [
    "QueryTwoB = spark.sql(\"SELECT Names, COUNT(*) as count FROM Womens4x100m GROUP BY Names ORDER BY count DESC\")\n",
    "QueryTwoB.show()"
   ]
  },
  {
   "cell_type": "markdown",
   "id": "60c38443",
   "metadata": {},
   "source": [
    "## Query Three (Percentage of Times)"
   ]
  },
  {
   "cell_type": "code",
   "execution_count": null,
   "id": "d57c22dc",
   "metadata": {},
   "outputs": [],
   "source": [
    "QueryThreeA = spark.sql(\"SELECT OfficialTimes, COUNT(*) as count, (COUNT(*) / (SELECT COUNT(*) FROM Mens4x100m)) * 100 as percentage FROM Mens4x100m GROUP BY OfficialTimes\")\n",
    "QueryThreeA.show()"
   ]
  },
  {
   "cell_type": "code",
   "execution_count": null,
   "id": "26021011",
   "metadata": {},
   "outputs": [],
   "source": [
    "QueryThreeB = spark.sql(\"SELECT OfficialTimes, COUNT(*) as count, (COUNT(*) / (SELECT COUNT(*) FROM Womens4x100m)) * 100 as percentage FROM Womens4x100m GROUP BY OfficialTimes\")\n",
    "QueryThreeB.show()"
   ]
  },
  {
   "cell_type": "markdown",
   "id": "5f04903e",
   "metadata": {},
   "source": [
    "## Query Four (Percentage of Schools)"
   ]
  },
  {
   "cell_type": "code",
   "execution_count": null,
   "id": "316694ba",
   "metadata": {},
   "outputs": [],
   "source": [
    "QueryFourA = spark.sql(\"SELECT Names, COUNT(*) as count, (COUNT(*) / (SELECT COUNT(*) FROM Mens4x100m)) * 100 as percentage FROM Mens4x100m GROUP BY Names\")\n",
    "QueryFourA.show()"
   ]
  },
  {
   "cell_type": "code",
   "execution_count": null,
   "id": "e36e2d6e",
   "metadata": {},
   "outputs": [],
   "source": [
    "QueryFourB = spark.sql(\"SELECT Names, COUNT(*) as count, (COUNT(*) / (SELECT COUNT(*) FROM Womens4x100m)) * 100 as percentage FROM Womens4x100m GROUP BY Names\")\n",
    "QueryFourB.show()"
   ]
  },
  {
   "cell_type": "code",
   "execution_count": null,
   "id": "950bf461",
   "metadata": {},
   "outputs": [],
   "source": [
    "import pandas as pd\n",
    "import matplotlib.pyplot as plt\n",
    "import seaborn as sns"
   ]
  },
  {
   "cell_type": "markdown",
   "id": "35a28c0e",
   "metadata": {},
   "source": [
    "# Importing CSVs"
   ]
  },
  {
   "cell_type": "code",
   "execution_count": null,
   "id": "bcd69284",
   "metadata": {},
   "outputs": [],
   "source": [
    "Mens4x100m = pd.read_csv('Men4x100m.csv')\n",
    "Mens4x100m"
   ]
  },
  {
   "cell_type": "code",
   "execution_count": null,
   "id": "6def6518",
   "metadata": {},
   "outputs": [],
   "source": [
    "Womens4x100m = pd.read_csv('Womens4x100m.csv')\n",
    "Womens4x100m"
   ]
  },
  {
   "cell_type": "markdown",
   "id": "0cf81e91",
   "metadata": {},
   "source": [
    "## Create a histogram using Seaborn"
   ]
  },
  {
   "cell_type": "code",
   "execution_count": null,
   "id": "d4b0be76",
   "metadata": {},
   "outputs": [],
   "source": [
    "# Create a histogram using Seaborn\n",
    "column_name = \"OfficialTimes\"\n",
    "sns.histplot(Mens4x100m[column_name], bins=20, kde=True, color='skyblue', edgecolor='black')\n",
    "\n",
    "# Add labels and title\n",
    "plt.xlabel(column_name)\n",
    "plt.ylabel('Frequency')\n",
    "plt.title(f'Distribution of {column_name}')\n",
    "\n",
    "# Show the plot\n",
    "plt.show()"
   ]
  },
  {
   "cell_type": "code",
   "execution_count": null,
   "id": "f75b65fd",
   "metadata": {},
   "outputs": [],
   "source": [
    "# Create a histogram using Seaborn\n",
    "column_name = \"OfficialTimes\"\n",
    "sns.histplot(Womens4x100m[column_name], bins=20, kde=True, color='red', edgecolor='black')\n",
    "\n",
    "# Add labels and title\n",
    "plt.xlabel(column_name)\n",
    "plt.ylabel('Frequency')\n",
    "plt.title(f'Distribution of {column_name}')\n",
    "\n",
    "# Show the plot\n",
    "plt.show()"
   ]
  },
  {
   "cell_type": "code",
   "execution_count": null,
   "id": "74226c7d",
   "metadata": {},
   "outputs": [],
   "source": [
    "# Create a histogram using Seaborn\n",
    "column_name = \"Names\"\n",
    "sns.histplot(Mens4x100m[column_name], bins=20, kde=True, color='skyblue', edgecolor='black')\n",
    "\n",
    "# Add labels and title\n",
    "plt.xlabel(column_name)\n",
    "plt.ylabel('Frequency')\n",
    "plt.title(f'Distribution of {column_name}')\n",
    "\n",
    "#Make names more readable\n",
    "plt.xticks(rotation=60)\n",
    "\n",
    "\n",
    "# Show the plot\n",
    "plt.show()"
   ]
  },
  {
   "cell_type": "code",
   "execution_count": null,
   "id": "ab38c052",
   "metadata": {},
   "outputs": [],
   "source": [
    "# Create a histogram using Seaborn\n",
    "column_name = \"Names\"\n",
    "sns.histplot(Mens4x100m[column_name], bins=20, kde=True, color='red', edgecolor='black')\n",
    "\n",
    "# Add labels and title\n",
    "plt.xlabel(column_name)\n",
    "plt.ylabel('Frequency')\n",
    "plt.title(f'Distribution of {column_name}')\n",
    "\n",
    "#Make names more readable\n",
    "plt.xticks(rotation=60)\n",
    "\n",
    "# Show the plot\n",
    "plt.show()"
   ]
  },
  {
   "cell_type": "code",
   "execution_count": null,
   "id": "45b1771c",
   "metadata": {},
   "outputs": [],
   "source": []
  },
  {
   "cell_type": "code",
   "execution_count": null,
   "id": "55c59715",
   "metadata": {},
   "outputs": [],
   "source": []
  }
 ],
 "metadata": {
  "kernelspec": {
   "display_name": "Python 3 (ipykernel)",
   "language": "python",
   "name": "python3"
  },
  "language_info": {
   "codemirror_mode": {
    "name": "ipython",
    "version": 3
   },
   "file_extension": ".py",
   "mimetype": "text/x-python",
   "name": "python",
   "nbconvert_exporter": "python",
   "pygments_lexer": "ipython3",
   "version": "3.9.12"
  }
 },
 "nbformat": 4,
 "nbformat_minor": 5
}
