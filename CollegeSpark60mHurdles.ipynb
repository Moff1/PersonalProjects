{
 "cells": [
  {
   "cell_type": "markdown",
   "id": "e3e5d79b",
   "metadata": {},
   "source": [
    "## Import Packages"
   ]
  },
  {
   "cell_type": "code",
   "execution_count": 1,
   "id": "a30c322d",
   "metadata": {},
   "outputs": [],
   "source": [
    "import pyspark"
   ]
  },
  {
   "cell_type": "code",
   "execution_count": 2,
   "id": "6ad22882",
   "metadata": {},
   "outputs": [],
   "source": [
    "from pyspark.sql import SparkSession"
   ]
  },
  {
   "cell_type": "code",
   "execution_count": 3,
   "id": "eb23f56b",
   "metadata": {},
   "outputs": [],
   "source": [
    "from pyspark.sql.functions import col"
   ]
  },
  {
   "cell_type": "code",
   "execution_count": 4,
   "id": "e1749c51",
   "metadata": {},
   "outputs": [],
   "source": [
    "from pyspark.sql.functions import desc"
   ]
  },
  {
   "cell_type": "code",
   "execution_count": 5,
   "id": "eed3004b",
   "metadata": {},
   "outputs": [],
   "source": [
    "from pyspark.sql.functions import asc"
   ]
  },
  {
   "cell_type": "code",
   "execution_count": 6,
   "id": "bb7978c1",
   "metadata": {},
   "outputs": [],
   "source": [
    "import findspark"
   ]
  },
  {
   "cell_type": "code",
   "execution_count": 7,
   "id": "3e244fa3",
   "metadata": {},
   "outputs": [],
   "source": [
    "findspark.init()"
   ]
  },
  {
   "cell_type": "code",
   "execution_count": 8,
   "id": "7861315e",
   "metadata": {},
   "outputs": [],
   "source": [
    "spark = SparkSession.builder.appName('60MHurdles').getOrCreate()"
   ]
  },
  {
   "cell_type": "code",
   "execution_count": 13,
   "id": "ca913ed6",
   "metadata": {},
   "outputs": [],
   "source": [
    "Mens60mHurdles = spark.read.format('csv').option('inferSchema','true').option('header','true').option('path','Mens60mHurdles.csv').load()"
   ]
  },
  {
   "cell_type": "code",
   "execution_count": 14,
   "id": "b0ff8238",
   "metadata": {},
   "outputs": [],
   "source": [
    "Womens60mHurdles = spark.read.format('csv').option('inferSchema','true').option('header','true').option('path','Womens60mHurdles.csv').load()"
   ]
  },
  {
   "cell_type": "code",
   "execution_count": 15,
   "id": "e54c36f5",
   "metadata": {},
   "outputs": [],
   "source": [
    "from pyspark.sql.types import StructType, StructField, StringType, IntegerType"
   ]
  },
  {
   "cell_type": "markdown",
   "id": "d19d6a3a",
   "metadata": {},
   "source": [
    "## Create Views"
   ]
  },
  {
   "cell_type": "code",
   "execution_count": 16,
   "id": "608a16a5",
   "metadata": {},
   "outputs": [],
   "source": [
    "Mens60mHurdles.createOrReplaceTempView(\"Mens60mHurdles\")"
   ]
  },
  {
   "cell_type": "code",
   "execution_count": 17,
   "id": "89c28756",
   "metadata": {},
   "outputs": [],
   "source": [
    "Womens60mHurdles.createOrReplaceTempView(\"Womens60mHurdles\")"
   ]
  },
  {
   "cell_type": "markdown",
   "id": "2cd4786e",
   "metadata": {},
   "source": [
    "## Selection Queries"
   ]
  },
  {
   "cell_type": "code",
   "execution_count": 18,
   "id": "a48e0eeb",
   "metadata": {
    "scrolled": true
   },
   "outputs": [
    {
     "name": "stdout",
     "output_type": "stream",
     "text": [
      "+--------------------+-----+-------------+\n",
      "|               Names|Times|      Schools|\n",
      "+--------------------+-----+-------------+\n",
      "|(1) Grant HOLLOWAYJR| 7.35|      Florida|\n",
      "|(2) Trey CUNNINGH...| 7.38|Florida State|\n",
      "|  — Cunningham {2}SR|  7.4|Florida State|\n",
      "|  — Cunningham {3}SR|  7.4|Florida State|\n",
      "|(3) Daniel ROBERTSJR| 7.41|     Kentucky|\n",
      "|  — Cunningham {4}SR| 7.42|Florida State|\n",
      "|  — Cunningham {5}SR| 7.42|Florida State|\n",
      "|    — Holloway {2}SO| 7.42|      Florida|\n",
      "|    — Holloway {3}JR| 7.43|      Florida|\n",
      "|    — Holloway {4}JR| 7.44|      Florida|\n",
      "|    — Holloway {5}JR| 7.44|      Florida|\n",
      "|   (4) Omar MCLEODSO| 7.45|     Arkansas|\n",
      "|  — Cunningham {6}SR| 7.46|Florida State|\n",
      "|  — Cunningham {7}SR| 7.46|Florida State|\n",
      "|  — Cunningham {8}SR| 7.47|Florida State|\n",
      "|    — Holloway {6}SO| 7.47|      Florida|\n",
      "|   (5) Reggie TORIAN| 7.47|    Wisconsin|\n",
      "|     — Roberts {2}JR| 7.48|     Kentucky|\n",
      "|    — Holloway {7}JR| 7.48|      Florida|\n",
      "|  — Cunningham {9}SR| 7.49|Florida State|\n",
      "+--------------------+-----+-------------+\n",
      "only showing top 20 rows\n",
      "\n"
     ]
    }
   ],
   "source": [
    "resultone = spark.sql(\"SELECT * FROM Mens60mHurdles\")\n",
    "resultone.show()"
   ]
  },
  {
   "cell_type": "code",
   "execution_count": 19,
   "id": "c54e2ae9",
   "metadata": {
    "scrolled": true
   },
   "outputs": [
    {
     "name": "stdout",
     "output_type": "stream",
     "text": [
      "+--------------------+-----+-------------------+\n",
      "|               Names|Times|            Schools|\n",
      "+--------------------+-----+-------------------+\n",
      "| (1) Ackera NUGENTSO| 7.72|           Arkansas|\n",
      "|      — Nugent {2}SO| 7.73|           Arkansas|\n",
      "| (2) Masai RUSSELLSR| 7.75|           Kentucky|\n",
      "|     — Russell {2}SR| 7.75|           Kentucky|\n",
      "|     — Russell {3}SR| 7.77|           Kentucky|\n",
      "|     — Russell {4}SR| 7.78|           Kentucky|\n",
      "|   (3) Grace STARKSO| 7.78|            Florida|\n",
      "|(3) Brianna ROLLI...| 7.78|            Clemson|\n",
      "|     — Rollins {2}JR| 7.79|            Clemson|\n",
      "|      — Nugent {3}SO| 7.81|           Arkansas|\n",
      "|(5) Alia ARMSTRONGSO| 7.81|                LSU|\n",
      "|     — Rollins {3}JR| 7.82|            Clemson|\n",
      "|       — Stark {2}SO| 7.83|            Florida|\n",
      "| (6) Paula  SALMONSR| 7.83| North Carolina A&T|\n",
      "|(7) Virginia POWE...| 7.84|Southern California|\n",
      "|   — Armstrong {2}SO| 7.86|                LSU|\n",
      "|       — Stark {3}SO| 7.86|            Florida|\n",
      "|   — Armstrong {3}SO| 7.86|                LSU|\n",
      "|       — Stark {4}SO| 7.86|            Florida|\n",
      "|(8) Tonea MARSHALLSR| 7.86|                LSU|\n",
      "+--------------------+-----+-------------------+\n",
      "only showing top 20 rows\n",
      "\n"
     ]
    }
   ],
   "source": [
    "resulttwo = spark.sql(\"SELECT * FROM Womens60mHurdles\")\n",
    "resulttwo.show()"
   ]
  },
  {
   "cell_type": "markdown",
   "id": "530573d3",
   "metadata": {},
   "source": [
    "# Query One - Times"
   ]
  },
  {
   "cell_type": "code",
   "execution_count": 20,
   "id": "96f82c9a",
   "metadata": {
    "scrolled": true
   },
   "outputs": [
    {
     "name": "stdout",
     "output_type": "stream",
     "text": [
      "+-----+-----+\n",
      "|Times|count|\n",
      "+-----+-----+\n",
      "| 7.55|   15|\n",
      "| 7.53|   10|\n",
      "| 7.49|    8|\n",
      "| 7.54|    7|\n",
      "| 7.52|    7|\n",
      "| 7.51|    4|\n",
      "| 7.42|    3|\n",
      "|  7.5|    3|\n",
      "| 7.47|    3|\n",
      "|  7.4|    2|\n",
      "| 7.48|    2|\n",
      "| 7.44|    2|\n",
      "| 7.46|    2|\n",
      "| 7.45|    1|\n",
      "| 7.35|    1|\n",
      "| 7.38|    1|\n",
      "| 7.41|    1|\n",
      "| 7.43|    1|\n",
      "+-----+-----+\n",
      "\n"
     ]
    }
   ],
   "source": [
    "QueryOneA = spark.sql(\"SELECT Times, COUNT(*) as count FROM Mens60mHurdles GROUP BY Times ORDER BY count DESC\")\n",
    "QueryOneA.show()"
   ]
  },
  {
   "cell_type": "code",
   "execution_count": 23,
   "id": "fa85612a",
   "metadata": {},
   "outputs": [
    {
     "name": "stdout",
     "output_type": "stream",
     "text": [
      "+-----+-----+\n",
      "|Times|count|\n",
      "+-----+-----+\n",
      "| 7.91|   11|\n",
      "| 7.92|   11|\n",
      "|  7.9|    9|\n",
      "| 7.93|    7|\n",
      "| 7.89|    7|\n",
      "| 7.86|    5|\n",
      "| 7.88|    4|\n",
      "| 7.87|    4|\n",
      "| 7.78|    3|\n",
      "| 7.83|    2|\n",
      "| 7.81|    2|\n",
      "| 7.75|    2|\n",
      "| 7.84|    1|\n",
      "| 7.82|    1|\n",
      "| 7.72|    1|\n",
      "| 7.77|    1|\n",
      "| 7.79|    1|\n",
      "| 7.73|    1|\n",
      "+-----+-----+\n",
      "\n"
     ]
    }
   ],
   "source": [
    "QueryOneB = spark.sql(\"SELECT Times, COUNT(*) as count FROM Womens60mHurdles GROUP BY Times ORDER BY count DESC\")\n",
    "QueryOneB.show()"
   ]
  },
  {
   "cell_type": "markdown",
   "id": "a23de423",
   "metadata": {},
   "source": [
    "## Query Two - Schools"
   ]
  },
  {
   "cell_type": "code",
   "execution_count": 24,
   "id": "2eee36b4",
   "metadata": {},
   "outputs": [
    {
     "name": "stdout",
     "output_type": "stream",
     "text": [
      "+-------------------+-----+\n",
      "|            Schools|count|\n",
      "+-------------------+-----+\n",
      "|      Florida State|   19|\n",
      "|            Florida|   15|\n",
      "|           Arkansas|    4|\n",
      "|            Alabama|    4|\n",
      "|           Syracuse|    4|\n",
      "|     South Carolina|    4|\n",
      "|           Kentucky|    3|\n",
      "|    Pittsburg State|    3|\n",
      "|                LSU|    2|\n",
      "|           Illinois|    2|\n",
      "|          Tennessee|    2|\n",
      "|          Wisconsin|    2|\n",
      "|           Nebraska|    1|\n",
      "| North Carolina A&T|    1|\n",
      "|         Texas Tech|    1|\n",
      "|           Oklahoma|    1|\n",
      "|       Miami (Fla.)|    1|\n",
      "|    Minnesota State|    1|\n",
      "|               Iowa|    1|\n",
      "|Southern California|    1|\n",
      "+-------------------+-----+\n",
      "only showing top 20 rows\n",
      "\n"
     ]
    }
   ],
   "source": [
    "QueryTwoA = spark.sql(\"SELECT Schools, COUNT(*) as count FROM Mens60mHurdles GROUP BY Schools ORDER BY count DESC\")\n",
    "QueryTwoA.show()"
   ]
  },
  {
   "cell_type": "code",
   "execution_count": 25,
   "id": "f0afb25f",
   "metadata": {},
   "outputs": [
    {
     "name": "stdout",
     "output_type": "stream",
     "text": [
      "+-------------------+-----+\n",
      "|            Schools|count|\n",
      "+-------------------+-----+\n",
      "|           Kentucky|   12|\n",
      "|                LSU|    8|\n",
      "|            Florida|    8|\n",
      "|           Arkansas|    6|\n",
      "|             Baylor|    6|\n",
      "| North Carolina A&T|    5|\n",
      "|            Clemson|    5|\n",
      "|             Oregon|    4|\n",
      "|Southern California|    4|\n",
      "|           Nebraska|    3|\n",
      "|          Tennessee|    3|\n",
      "|           Michigan|    2|\n",
      "|            Indiana|    2|\n",
      "|              Texas|    1|\n",
      "|         Ohio State|    1|\n",
      "|         Texas Tech|    1|\n",
      "|           Illinois|    1|\n",
      "|                UCF|    1|\n",
      "+-------------------+-----+\n",
      "\n"
     ]
    }
   ],
   "source": [
    "QueryTwoB = spark.sql(\"SELECT Schools, COUNT(*) as count FROM Womens60mHurdles GROUP BY Schools ORDER BY count DESC\")\n",
    "QueryTwoB.show()"
   ]
  },
  {
   "cell_type": "markdown",
   "id": "d47ffb45",
   "metadata": {},
   "source": [
    "## Query Three - Percentage of Times"
   ]
  },
  {
   "cell_type": "code",
   "execution_count": 27,
   "id": "de4a564f",
   "metadata": {},
   "outputs": [
    {
     "name": "stdout",
     "output_type": "stream",
     "text": [
      "+-----+-----+------------------+\n",
      "|Times|count|        percentage|\n",
      "+-----+-----+------------------+\n",
      "| 7.42|    3|  4.10958904109589|\n",
      "|  7.4|    2|  2.73972602739726|\n",
      "| 7.51|    4|  5.47945205479452|\n",
      "| 7.49|    8| 10.95890410958904|\n",
      "| 7.54|    7|  9.58904109589041|\n",
      "| 7.45|    1|  1.36986301369863|\n",
      "| 7.48|    2|  2.73972602739726|\n",
      "| 7.35|    1|  1.36986301369863|\n",
      "|  7.5|    3|  4.10958904109589|\n",
      "| 7.38|    1|  1.36986301369863|\n",
      "| 7.52|    7|  9.58904109589041|\n",
      "| 7.44|    2|  2.73972602739726|\n",
      "| 7.55|   15| 20.54794520547945|\n",
      "| 7.46|    2|  2.73972602739726|\n",
      "| 7.53|   10|13.698630136986301|\n",
      "| 7.47|    3|  4.10958904109589|\n",
      "| 7.41|    1|  1.36986301369863|\n",
      "| 7.43|    1|  1.36986301369863|\n",
      "+-----+-----+------------------+\n",
      "\n"
     ]
    }
   ],
   "source": [
    "QueryThreeA = spark.sql(\"SELECT Times, COUNT(*) as count, (COUNT(*) / (SELECT COUNT(*) FROM Mens60mHurdles)) * 100 as percentage FROM Mens60mHurdles GROUP BY Times\")\n",
    "QueryThreeA.show()"
   ]
  },
  {
   "cell_type": "code",
   "execution_count": 31,
   "id": "9da1dd6f",
   "metadata": {},
   "outputs": [
    {
     "name": "stdout",
     "output_type": "stream",
     "text": [
      "+-----+-----+------------------+\n",
      "|Times|count|        percentage|\n",
      "+-----+-----+------------------+\n",
      "|54.67|    3| 5.769230769230769|\n",
      "|53.54|    1|1.9230769230769231|\n",
      "|54.52|    1|1.9230769230769231|\n",
      "|54.68|    2|3.8461538461538463|\n",
      "|52.75|    1|1.9230769230769231|\n",
      "| 54.6|    1|1.9230769230769231|\n",
      "|53.96|    1|1.9230769230769231|\n",
      "|54.15|    1|1.9230769230769231|\n",
      "|53.86|    1|1.9230769230769231|\n",
      "|54.22|    1|1.9230769230769231|\n",
      "|54.54|    2|3.8461538461538463|\n",
      "|54.45|    2|3.8461538461538463|\n",
      "|53.75|    1|1.9230769230769231|\n",
      "|54.21|    1|1.9230769230769231|\n",
      "| 54.5|    2|3.8461538461538463|\n",
      "| 53.6|    1|1.9230769230769231|\n",
      "|54.56|    2|3.8461538461538463|\n",
      "|54.37|    2|3.8461538461538463|\n",
      "|54.08|    1|1.9230769230769231|\n",
      "|54.66|    2|3.8461538461538463|\n",
      "+-----+-----+------------------+\n",
      "only showing top 20 rows\n",
      "\n"
     ]
    }
   ],
   "source": [
    "QueryThreeB = spark.sql(\"SELECT Times, COUNT(*) as count, (COUNT(*) / (SELECT COUNT(*) FROM Womens60mHurdles)) * 100 as percentage FROM Womens60mHurdles GROUP BY Times\")\n",
    "QueryThreeB.show()"
   ]
  },
  {
   "cell_type": "markdown",
   "id": "b82e526c",
   "metadata": {},
   "source": [
    "## Query Four - Percentage of Schools"
   ]
  },
  {
   "cell_type": "code",
   "execution_count": null,
   "id": "39bcdc70",
   "metadata": {},
   "outputs": [],
   "source": [
    "QueryFourA = spark.sql(\"SELECT Schools, COUNT(*) as count, (COUNT(*) / (SELECT COUNT(*) FROM Mens60mHurdles)) * 100 as percentage FROM Mens60mHurdles GROUP BY Schools\")\n",
    "QueryFourA.show()"
   ]
  },
  {
   "cell_type": "code",
   "execution_count": null,
   "id": "628ab11f",
   "metadata": {},
   "outputs": [],
   "source": [
    "QueryFourB = spark.sql(\"SELECT Schools, COUNT(*) as count, (COUNT(*) / (SELECT COUNT(*) FROM Womens60mHurdles)) * 100 as percentage FROM Womens60mHurdles GROUP BY Schools\")\n",
    "QueryFourB.show()"
   ]
  },
  {
   "cell_type": "code",
   "execution_count": null,
   "id": "493c7daa",
   "metadata": {},
   "outputs": [],
   "source": []
  },
  {
   "cell_type": "code",
   "execution_count": 28,
   "id": "2eef4927",
   "metadata": {},
   "outputs": [
    {
     "name": "stderr",
     "output_type": "stream",
     "text": [
      "C:\\Users\\MoJo\\anaconda3\\lib\\site-packages\\scipy\\__init__.py:146: UserWarning: A NumPy version >=1.16.5 and <1.23.0 is required for this version of SciPy (detected version 1.25.1\n",
      "  warnings.warn(f\"A NumPy version >={np_minversion} and <{np_maxversion}\"\n"
     ]
    }
   ],
   "source": [
    "import pandas as pd\n",
    "import matplotlib.pyplot as plt\n",
    "import seaborn as sns"
   ]
  },
  {
   "cell_type": "markdown",
   "id": "5c6657a9",
   "metadata": {},
   "source": [
    "## Import CSVs"
   ]
  },
  {
   "cell_type": "code",
   "execution_count": 29,
   "id": "3de3538f",
   "metadata": {},
   "outputs": [
    {
     "data": {
      "text/html": [
       "<div>\n",
       "<style scoped>\n",
       "    .dataframe tbody tr th:only-of-type {\n",
       "        vertical-align: middle;\n",
       "    }\n",
       "\n",
       "    .dataframe tbody tr th {\n",
       "        vertical-align: top;\n",
       "    }\n",
       "\n",
       "    .dataframe thead th {\n",
       "        text-align: right;\n",
       "    }\n",
       "</style>\n",
       "<table border=\"1\" class=\"dataframe\">\n",
       "  <thead>\n",
       "    <tr style=\"text-align: right;\">\n",
       "      <th></th>\n",
       "      <th>Names</th>\n",
       "      <th>Times</th>\n",
       "      <th>Schools</th>\n",
       "    </tr>\n",
       "  </thead>\n",
       "  <tbody>\n",
       "    <tr>\n",
       "      <th>0</th>\n",
       "      <td>(1) Grant HOLLOWAYJR</td>\n",
       "      <td>7.35</td>\n",
       "      <td>Florida</td>\n",
       "    </tr>\n",
       "    <tr>\n",
       "      <th>1</th>\n",
       "      <td>(2) Trey CUNNINGHAMSR</td>\n",
       "      <td>7.38</td>\n",
       "      <td>Florida State</td>\n",
       "    </tr>\n",
       "    <tr>\n",
       "      <th>2</th>\n",
       "      <td>— Cunningham {2}SR</td>\n",
       "      <td>7.40</td>\n",
       "      <td>Florida State</td>\n",
       "    </tr>\n",
       "    <tr>\n",
       "      <th>3</th>\n",
       "      <td>— Cunningham {3}SR</td>\n",
       "      <td>7.40</td>\n",
       "      <td>Florida State</td>\n",
       "    </tr>\n",
       "    <tr>\n",
       "      <th>4</th>\n",
       "      <td>(3) Daniel ROBERTSJR</td>\n",
       "      <td>7.41</td>\n",
       "      <td>Kentucky</td>\n",
       "    </tr>\n",
       "    <tr>\n",
       "      <th>...</th>\n",
       "      <td>...</td>\n",
       "      <td>...</td>\n",
       "      <td>...</td>\n",
       "    </tr>\n",
       "    <tr>\n",
       "      <th>68</th>\n",
       "      <td>(22) Jabari GREERSO</td>\n",
       "      <td>7.55</td>\n",
       "      <td>Tennessee</td>\n",
       "    </tr>\n",
       "    <tr>\n",
       "      <th>69</th>\n",
       "      <td>— Bramlett {2}SR</td>\n",
       "      <td>7.55</td>\n",
       "      <td>Alabama</td>\n",
       "    </tr>\n",
       "    <tr>\n",
       "      <th>70</th>\n",
       "      <td>— Bramlett {3}</td>\n",
       "      <td>7.55</td>\n",
       "      <td>Alabama</td>\n",
       "    </tr>\n",
       "    <tr>\n",
       "      <th>71</th>\n",
       "      <td>— Bramlett {4}</td>\n",
       "      <td>7.55</td>\n",
       "      <td>Alabama</td>\n",
       "    </tr>\n",
       "    <tr>\n",
       "      <th>72</th>\n",
       "      <td>— Trammell {3}JR</td>\n",
       "      <td>7.55</td>\n",
       "      <td>South Carolina</td>\n",
       "    </tr>\n",
       "  </tbody>\n",
       "</table>\n",
       "<p>73 rows × 3 columns</p>\n",
       "</div>"
      ],
      "text/plain": [
       "                    Names  Times         Schools\n",
       "0    (1) Grant HOLLOWAYJR   7.35         Florida\n",
       "1   (2) Trey CUNNINGHAMSR   7.38   Florida State\n",
       "2      — Cunningham {2}SR   7.40   Florida State\n",
       "3      — Cunningham {3}SR   7.40   Florida State\n",
       "4    (3) Daniel ROBERTSJR   7.41        Kentucky\n",
       "..                    ...    ...             ...\n",
       "68    (22) Jabari GREERSO   7.55       Tennessee\n",
       "69       — Bramlett {2}SR   7.55         Alabama\n",
       "70         — Bramlett {3}   7.55         Alabama\n",
       "71         — Bramlett {4}   7.55         Alabama\n",
       "72       — Trammell {3}JR   7.55  South Carolina\n",
       "\n",
       "[73 rows x 3 columns]"
      ]
     },
     "execution_count": 29,
     "metadata": {},
     "output_type": "execute_result"
    }
   ],
   "source": [
    "Mens60mHurdlesDF = pd.read_csv('Mens60mHurdles.csv')\n",
    "Mens60mHurdlesDF"
   ]
  },
  {
   "cell_type": "code",
   "execution_count": 30,
   "id": "e2c9bd6d",
   "metadata": {},
   "outputs": [
    {
     "data": {
      "text/html": [
       "<div>\n",
       "<style scoped>\n",
       "    .dataframe tbody tr th:only-of-type {\n",
       "        vertical-align: middle;\n",
       "    }\n",
       "\n",
       "    .dataframe tbody tr th {\n",
       "        vertical-align: top;\n",
       "    }\n",
       "\n",
       "    .dataframe thead th {\n",
       "        text-align: right;\n",
       "    }\n",
       "</style>\n",
       "<table border=\"1\" class=\"dataframe\">\n",
       "  <thead>\n",
       "    <tr style=\"text-align: right;\">\n",
       "      <th></th>\n",
       "      <th>Names</th>\n",
       "      <th>Times</th>\n",
       "      <th>Schools</th>\n",
       "    </tr>\n",
       "  </thead>\n",
       "  <tbody>\n",
       "    <tr>\n",
       "      <th>0</th>\n",
       "      <td>(1) Ackera NUGENTSO</td>\n",
       "      <td>7.72</td>\n",
       "      <td>Arkansas</td>\n",
       "    </tr>\n",
       "    <tr>\n",
       "      <th>1</th>\n",
       "      <td>— Nugent {2}SO</td>\n",
       "      <td>7.73</td>\n",
       "      <td>Arkansas</td>\n",
       "    </tr>\n",
       "    <tr>\n",
       "      <th>2</th>\n",
       "      <td>(2) Masai RUSSELLSR</td>\n",
       "      <td>7.75</td>\n",
       "      <td>Kentucky</td>\n",
       "    </tr>\n",
       "    <tr>\n",
       "      <th>3</th>\n",
       "      <td>— Russell {2}SR</td>\n",
       "      <td>7.75</td>\n",
       "      <td>Kentucky</td>\n",
       "    </tr>\n",
       "    <tr>\n",
       "      <th>4</th>\n",
       "      <td>— Russell {3}SR</td>\n",
       "      <td>7.77</td>\n",
       "      <td>Kentucky</td>\n",
       "    </tr>\n",
       "    <tr>\n",
       "      <th>...</th>\n",
       "      <td>...</td>\n",
       "      <td>...</td>\n",
       "      <td>...</td>\n",
       "    </tr>\n",
       "    <tr>\n",
       "      <th>68</th>\n",
       "      <td>— Taylor {3}JR</td>\n",
       "      <td>7.93</td>\n",
       "      <td>Tennessee</td>\n",
       "    </tr>\n",
       "    <tr>\n",
       "      <th>69</th>\n",
       "      <td>— Russell {10}JR</td>\n",
       "      <td>7.93</td>\n",
       "      <td>Kentucky</td>\n",
       "    </tr>\n",
       "    <tr>\n",
       "      <th>70</th>\n",
       "      <td>— Salmon {4}SR</td>\n",
       "      <td>7.93</td>\n",
       "      <td>North Carolina A&amp;T</td>\n",
       "    </tr>\n",
       "    <tr>\n",
       "      <th>71</th>\n",
       "      <td>— Nugent {12}SO</td>\n",
       "      <td>7.93</td>\n",
       "      <td>Baylor</td>\n",
       "    </tr>\n",
       "    <tr>\n",
       "      <th>72</th>\n",
       "      <td>— Stark {7}FR</td>\n",
       "      <td>7.93</td>\n",
       "      <td>Florida</td>\n",
       "    </tr>\n",
       "  </tbody>\n",
       "</table>\n",
       "<p>73 rows × 3 columns</p>\n",
       "</div>"
      ],
      "text/plain": [
       "                  Names  Times             Schools\n",
       "0   (1) Ackera NUGENTSO   7.72            Arkansas\n",
       "1        — Nugent {2}SO   7.73            Arkansas\n",
       "2   (2) Masai RUSSELLSR   7.75            Kentucky\n",
       "3       — Russell {2}SR   7.75            Kentucky\n",
       "4       — Russell {3}SR   7.77            Kentucky\n",
       "..                  ...    ...                 ...\n",
       "68       — Taylor {3}JR   7.93           Tennessee\n",
       "69     — Russell {10}JR   7.93            Kentucky\n",
       "70       — Salmon {4}SR   7.93  North Carolina A&T\n",
       "71      — Nugent {12}SO   7.93              Baylor\n",
       "72        — Stark {7}FR   7.93             Florida\n",
       "\n",
       "[73 rows x 3 columns]"
      ]
     },
     "execution_count": 30,
     "metadata": {},
     "output_type": "execute_result"
    }
   ],
   "source": [
    "Womens60mHurdlesDF = pd.read_csv('Womens60mHurdles.csv')\n",
    "Womens60mHurdlesDF"
   ]
  },
  {
   "cell_type": "markdown",
   "id": "f6815bb1",
   "metadata": {},
   "source": [
    "## Histograms"
   ]
  },
  {
   "cell_type": "code",
   "execution_count": 31,
   "id": "b07d7743",
   "metadata": {},
   "outputs": [
    {
     "data": {
      "image/png": "[encoded data removed]",
      "text/plain": [
       "<Figure size 432x288 with 1 Axes>"
      ]
     },
     "metadata": {
      "needs_background": "light"
     },
     "output_type": "display_data"
    }
   ],
   "source": [
    "# Create a histogram using Seaborn\n",
    "column_name = \"Times\"\n",
    "sns.histplot(Mens60mHurdlesDF[column_name], bins=20, kde=True, color='skyblue', edgecolor='black')\n",
    "\n",
    "# Add labels and title\n",
    "plt.xlabel(column_name)\n",
    "plt.ylabel('Frequency')\n",
    "plt.title(f'Distribution of {column_name} for Mens 60m Hurdles')\n",
    "\n",
    "# Show the plot\n",
    "plt.show()"
   ]
  },
  {
   "cell_type": "code",
   "execution_count": 32,
   "id": "eb4a3929",
   "metadata": {},
   "outputs": [
    {
     "data": {
      "image/png": "[encoded data removed]",
      "text/plain": [
       "<Figure size 432x288 with 1 Axes>"
      ]
     },
     "metadata": {
      "needs_background": "light"
     },
     "output_type": "display_data"
    }
   ],
   "source": [
    "# Create a histogram using Seaborn\n",
    "column_name = \"Times\"\n",
    "sns.histplot(Womens60mHurdlesDF[column_name], bins=20, kde=True, color='red', edgecolor='black')\n",
    "\n",
    "# Add labels and title\n",
    "plt.xlabel(column_name)\n",
    "plt.ylabel('Frequency')\n",
    "plt.title(f'Distribution of {column_name} for Womens 60m Hurdles')\n",
    "\n",
    "# Show the plot\n",
    "plt.show()"
   ]
  },
  {
   "cell_type": "code",
   "execution_count": 33,
   "id": "ffac3909",
   "metadata": {},
   "outputs": [
    {
     "data": {
      "image/png": "[encoded data removed]",
      "text/plain": [
       "<Figure size 432x288 with 1 Axes>"
      ]
     },
     "metadata": {
      "needs_background": "light"
     },
     "output_type": "display_data"
    }
   ],
   "source": [
    "# Create a histogram using Seaborn\n",
    "column_name = \"Schools\"\n",
    "sns.histplot(Mens60mHurdlesDF[column_name], bins=20, kde=True, color='skyblue', edgecolor='black')\n",
    "\n",
    "# Add labels and title\n",
    "plt.xlabel(column_name)\n",
    "plt.ylabel('Frequency')\n",
    "plt.title(f'Distribution of {column_name} for Mens 60m hurdles')\n",
    "\n",
    "#Make names more readable\n",
    "plt.xticks(rotation=90)\n",
    "\n",
    "\n",
    "# Show the plot\n",
    "plt.show()"
   ]
  },
  {
   "cell_type": "code",
   "execution_count": 34,
   "id": "4d869993",
   "metadata": {},
   "outputs": [
    {
     "data": {
      "image/png": "[encoded data removed]",
      "text/plain": [
       "<Figure size 432x288 with 1 Axes>"
      ]
     },
     "metadata": {
      "needs_background": "light"
     },
     "output_type": "display_data"
    }
   ],
   "source": [
    "# Create a histogram using Seaborn\n",
    "column_name = \"Schools\"\n",
    "sns.histplot(Womens60mHurdlesDF[column_name], bins=20, kde=True, color='red', edgecolor='black')\n",
    "\n",
    "# Add labels and title\n",
    "plt.xlabel(column_name)\n",
    "plt.ylabel('Frequency')\n",
    "plt.title(f'Distribution of {column_name} for Womens 60m hurdles')\n",
    "\n",
    "#Make names more readable\n",
    "plt.xticks(rotation=90)\n",
    "\n",
    "# Show the plot\n",
    "plt.show()"
   ]
  },
  {
   "cell_type": "code",
   "execution_count": null,
   "id": "09e11a8b",
   "metadata": {},
   "outputs": [],
   "source": []
  },
  {
   "cell_type": "code",
   "execution_count": null,
   "id": "66bff6ea",
   "metadata": {},
   "outputs": [],
   "source": []
  }
 ],
 "metadata": {
  "kernelspec": {
   "display_name": "Python 3 (ipykernel)",
   "language": "python",
   "name": "python3"
  },
  "language_info": {
   "codemirror_mode": {
    "name": "ipython",
    "version": 3
   },
   "file_extension": ".py",
   "mimetype": "text/x-python",
   "name": "python",
   "nbconvert_exporter": "python",
   "pygments_lexer": "ipython3",
   "version": "3.9.12"
  }
 },
 "nbformat": 4,
 "nbformat_minor": 5
}
