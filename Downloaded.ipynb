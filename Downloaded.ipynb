{
 "cells": [
  {
   "cell_type": "code",
   "execution_count": null,
   "id": "17974eec",
   "metadata": {},
   "outputs": [],
   "source": [
    "import requests"
   ]
  },
  {
   "cell_type": "code",
   "execution_count": null,
   "id": "b7c679ea",
   "metadata": {},
   "outputs": [],
   "source": [
    "from IPython.display import FileLink"
   ]
  },
  {
   "cell_type": "code",
   "execution_count": null,
   "id": "69965a35",
   "metadata": {},
   "outputs": [],
   "source": [
    "Events = ['60m','100m','200m','400m','110mh','400mh','4x100m','4x400m','60mh','800m','LongJump']"
   ]
  },
  {
   "cell_type": "code",
   "execution_count": null,
   "id": "324812b9",
   "metadata": {},
   "outputs": [],
   "source": [
    "folder_paths = []"
   ]
  },
  {
   "cell_type": "code",
   "execution_count": null,
   "id": "297eeace",
   "metadata": {},
   "outputs": [],
   "source": [
    "for i in range(0,len(Events)):\n",
    "    PATH = \"C:\\\\Users\\\\MoJo\\\\SparkTrackAndField\\\\College\\\\\"+Events[i]+\"\\\\\"\n",
    "    folder_paths.append(PATH)\n",
    "folder_paths"
   ]
  },
  {
   "cell_type": "code",
   "execution_count": null,
   "id": "de83718a",
   "metadata": {},
   "outputs": [],
   "source": [
    "import os"
   ]
  },
  {
   "cell_type": "code",
   "execution_count": null,
   "id": "40926687",
   "metadata": {},
   "outputs": [],
   "source": [
    "import HTML"
   ]
  },
  {
   "cell_type": "code",
   "execution_count": null,
   "id": "fe21a5c1",
   "metadata": {},
   "outputs": [],
   "source": [
    "# Get a list of CSV files in the folders\n",
    "csv_files = [file for folder_path in folder_paths for file in os.listdir(folder_path) if file.endswith(\".csv\")]\n",
    "\n",
    "# Create download links for each CSV file\n",
    "download_links = []\n",
    "shutildownloadlinks = []\n",
    "for csv_file in csv_files:\n",
    "    for folder_path in folder_paths:\n",
    "        csv_file_path = os.path.join(folder_path, csv_file)\n",
    "        download_link = f'<a href=\"{csv_file_path}\" download>{csv_file}</a><br>'\n",
    "        shutildownloadlink = csv_file_path\n",
    "        download_links.append(download_link)\n",
    "        shutildownloadlinks.append(shutildownloadlink)\n",
    "        \n",
    "\n",
    "# Display the download links\n",
    "#HTML(\"\".join(download_links))\n"
   ]
  },
  {
   "cell_type": "code",
   "execution_count": null,
   "id": "cfab0e27",
   "metadata": {
    "scrolled": true
   },
   "outputs": [],
   "source": [
    "csv_filenames = csv_files"
   ]
  },
  {
   "cell_type": "code",
   "execution_count": null,
   "id": "a6875c2c",
   "metadata": {},
   "outputs": [],
   "source": [
    "csv_filenames"
   ]
  },
  {
   "cell_type": "code",
   "execution_count": null,
   "id": "d4a3de4c",
   "metadata": {},
   "outputs": [],
   "source": [
    "'''\n",
    "import os\n",
    "csv_file_paths = []\n",
    "# Search for each file in the current directory and its subdirectories\n",
    "for csv_filename in csv_filenames:\n",
    "    found = False\n",
    "    for root, dirs, files in os.walk(os.getcwd()):\n",
    "        if csv_filename in files:\n",
    "            csv_file_path = os.path.join(root, csv_filename)\n",
    "            print(f\"CSV file '{csv_filename}' found at:\", csv_file_path)\n",
    "            csv_file_paths.append(csv_file_path)\n",
    "            found = True\n",
    "            break\n",
    "    if not found:\n",
    "        print(f\"CSV file '{csv_filename}' not found.\")\n",
    "'''"
   ]
  },
  {
   "cell_type": "code",
   "execution_count": null,
   "id": "5fa7354c",
   "metadata": {},
   "outputs": [],
   "source": [
    "shutildownloadlinks"
   ]
  },
  {
   "cell_type": "code",
   "execution_count": null,
   "id": "73e614d0",
   "metadata": {},
   "outputs": [],
   "source": [
    "csv_files"
   ]
  },
  {
   "cell_type": "code",
   "execution_count": null,
   "id": "88e6fbbc",
   "metadata": {},
   "outputs": [],
   "source": [
    "import shutil"
   ]
  },
  {
   "cell_type": "code",
   "execution_count": null,
   "id": "1ffad57e",
   "metadata": {},
   "outputs": [],
   "source": [
    "shutildownloadlinks[3]"
   ]
  },
  {
   "cell_type": "code",
   "execution_count": null,
   "id": "8b44ab1e",
   "metadata": {},
   "outputs": [],
   "source": []
  },
  {
   "cell_type": "code",
   "execution_count": null,
   "id": "36264e2c",
   "metadata": {},
   "outputs": [],
   "source": [
    "csv_filenames = csv_files"
   ]
  },
  {
   "cell_type": "code",
   "execution_count": null,
   "id": "ee796f3e",
   "metadata": {},
   "outputs": [],
   "source": [
    "csv_filepaths = []"
   ]
  },
  {
   "cell_type": "code",
   "execution_count": null,
   "id": "d52a6e81",
   "metadata": {},
   "outputs": [],
   "source": [
    "import os\n",
    "\n",
    "# Specify the list of CSV filenames you want to find\n",
    "csv_filenames  # Replace with actual CSV filenames\n",
    "\n",
    "# Search for each file in the current directory and its subdirectories\n",
    "for csv_filename in csv_filenames:\n",
    "    found = False\n",
    "    for root, dirs, files in os.walk(os.getcwd()):\n",
    "        if csv_filename in files:\n",
    "            csv_file_path = os.path.join(root, csv_filename)\n",
    "            print(f\"CSV file '{csv_filename}' found at:\", csv_file_path)\n",
    "            csv_filepaths.append(csv_file_path)\n",
    "            \n",
    "            found = True\n",
    "            break\n",
    "    if not found:\n",
    "        print(f\"CSV file '{csv_filename}' not found.\")\n"
   ]
  },
  {
   "cell_type": "code",
   "execution_count": null,
   "id": "b058b20f",
   "metadata": {},
   "outputs": [],
   "source": [
    "csv_filepaths"
   ]
  },
  {
   "cell_type": "code",
   "execution_count": null,
   "id": "e7f3108a",
   "metadata": {},
   "outputs": [],
   "source": [
    "len(csv_filepaths)"
   ]
  },
  {
   "cell_type": "code",
   "execution_count": null,
   "id": "d9cd673b",
   "metadata": {},
   "outputs": [],
   "source": [
    "# Specify the source file path\n",
    "#source_file_path = \"C:\\\\Users\\\\MoJo\\\\SparkTrackAndField\\\\College\\\\60m\\\\Men60m.csv\"  # Replace with the actual source file path\n",
    "\n",
    "# Specify the destination folder path\n",
    "destination_folder = \"C:\\\\ProgramData\\\\MySQL\\\\MySQL Server 8.0\\\\Uploads\\\\\"\n",
    "\n",
    "# Replace with the actual destination folder path\n",
    "for i in range(0,len(csv_filepaths)):\n",
    "    shutil.copy(csv_filepaths[i], destination_folder)  # Use shutil.move() to move the file instead\n",
    "\n",
    "print(\"CSVs file downloaded to the destination folder.\")\n"
   ]
  },
  {
   "cell_type": "code",
   "execution_count": null,
   "id": "389151f7",
   "metadata": {},
   "outputs": [],
   "source": [
    "csv_filepaths[2]"
   ]
  },
  {
   "cell_type": "code",
   "execution_count": null,
   "id": "51e3d6e6",
   "metadata": {},
   "outputs": [],
   "source": [
    "# Specify the source file path\n",
    "#source_file_path = \"C:\\\\Users\\\\MoJo\\\\SparkTrackAndField\\\\College\\\\60m\\\\Men60m.csv\"  # Replace with the actual source file path\n",
    "\n",
    "# Specify the destination folder path\n",
    "# C:\\\\ProgramData\\\\MySQL\\\\MySQL Server 8.0\\\\Uploads\\\\\n",
    "\n",
    "destination_folder = \"C:\\\\ProgramData\\\\MySQL\\\\MySQL Server 8.0\\\\Uploads\\\\\"  # Replace with the actual destination folder path\n",
    "\n",
    "shutil.copy(csv_filepaths[2], destination_folder)  # Use shutil.move() to move the file instead\n",
    "\n",
    "print(\"CSVs file downloaded to the destination folder.\")"
   ]
  },
  {
   "cell_type": "code",
   "execution_count": null,
   "id": "72ebea64",
   "metadata": {},
   "outputs": [],
   "source": []
  }
 ],
 "metadata": {
  "kernelspec": {
   "display_name": "Python 3 (ipykernel)",
   "language": "python",
   "name": "python3"
  },
  "language_info": {
   "codemirror_mode": {
    "name": "ipython",
    "version": 3
   },
   "file_extension": ".py",
   "mimetype": "text/x-python",
   "name": "python",
   "nbconvert_exporter": "python",
   "pygments_lexer": "ipython3",
   "version": "3.9.12"
  }
 },
 "nbformat": 4,
 "nbformat_minor": 5
}
