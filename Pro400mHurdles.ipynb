{
 "cells": [
  {
   "cell_type": "code",
   "execution_count": 1,
   "id": "ff7fefc5",
   "metadata": {},
   "outputs": [],
   "source": [
    "import pyspark\n",
    "\n",
    "from pyspark.sql import SparkSession\n",
    "\n",
    "from pyspark.sql.functions import col\n",
    "\n",
    "from pyspark.sql.functions import desc\n",
    "\n",
    "from pyspark.sql.functions import asc\n",
    "\n",
    "import findspark\n",
    "\n",
    "from pyspark.sql.types import StructType, StructField, StringType, IntegerType\n",
    "\n",
    "import pandas as pd"
   ]
  },
  {
   "cell_type": "code",
   "execution_count": 2,
   "id": "201c7e22",
   "metadata": {},
   "outputs": [],
   "source": [
    "spark = SparkSession.builder.appName('Pro400MHurdles').enableHiveSupport().getOrCreate()"
   ]
  },
  {
   "cell_type": "code",
   "execution_count": 4,
   "id": "f67adc05",
   "metadata": {},
   "outputs": [],
   "source": [
    "ProMens400mHurdles = spark.read.format('csv').option('inferSchema','true').option('header','true').option('path','ProMens400mHurdles.csv').load()\n",
    "\n",
    "ProWomens400mHurdles = spark.read.format('csv').option('inferSchema','true').option('header','true').option('path','ProWomens400mHurdles.csv').load()"
   ]
  },
  {
   "cell_type": "code",
   "execution_count": 5,
   "id": "661a771a",
   "metadata": {},
   "outputs": [],
   "source": [
    "ProMens400mHurdles.createOrReplaceTempView(\"ProMens400mHurdles\")"
   ]
  },
  {
   "cell_type": "code",
   "execution_count": 6,
   "id": "13f9dba6",
   "metadata": {},
   "outputs": [],
   "source": [
    "ProWomens400mHurdles.createOrReplaceTempView(\"ProWomens400mHurdles\")"
   ]
  },
  {
   "cell_type": "code",
   "execution_count": 7,
   "id": "50b7cc52",
   "metadata": {},
   "outputs": [
    {
     "name": "stdout",
     "output_type": "stream",
     "text": [
      "+--------+-----+--------------------+---------+---------+------------+\n",
      "|RANKINGS|TIMES|             ATHLETE| LOCATION|BIRTHYEAR|DATEOFTHERUN|\n",
      "+--------+-----+--------------------+---------+---------+------------+\n",
      "|       1|45.94|     Karsten Warholm|    Tokyo| 28.02.96|  03.08.2021|\n",
      "|       2|46.17|        Rai Benjamin|    Tokyo| 27.07.97|  03.08.2021|\n",
      "|       3|46.29|Alison Brendom do...|   Eugene| 03.06.00|  19.07.2022|\n",
      "|       4|46.51|     Karsten Warholm|   Monaco| 28.02.96|  21.07.2023|\n",
      "|       5|46.52|     Karsten Warholm|     Oslo| 28.02.96|  15.06.2023|\n",
      "|       6|46.62|        Rai Benjamin|   Eugene| 27.07.97|  09.07.2023|\n",
      "|       7|46.70|     Karsten Warholm|     Oslo| 28.02.96|  01.07.2021|\n",
      "|       8|46.72|Alison Brendom do...|    Tokyo| 03.06.00|  03.08.2021|\n",
      "|       9|46.76|     Karsten Warholm| Jessheim| 28.02.96|  06.07.2023|\n",
      "|      10|46.78|         Kevin Young|Barcelona| 16.09.66|  06.08.1992|\n",
      "|      11|46.80|Alison Brendom do...|Stockholm| 03.06.00|  30.06.2022|\n",
      "|      12|46.83|        Rai Benjamin|   Eugene| 27.07.97|  26.06.2021|\n",
      "|      13|46.87|     Karsten Warholm|Stockholm| 28.02.96|  23.08.2020|\n",
      "|      14|46.89|        Rai Benjamin|   Eugene| 27.07.97|  19.07.2022|\n",
      "|      15|46.92|     Karsten Warholm|   Zürich| 28.02.96|  29.08.2019|\n",
      "|      16|46.98|  Abderrahmane Samba|    Paris| 05.09.95|  30.06.2018|\n",
      "|      16|46.98|        Rai Benjamin|   Zürich| 27.07.97|  29.08.2019|\n",
      "|      16|46.98|Alison Brendom do...|   Zürich| 03.06.00|  08.09.2022|\n",
      "|      19|47.02|         Edwin Moses|  Koblenz| 31.08.55|  31.08.1983|\n",
      "|      19|47.02|        Rai Benjamin|   Eugene| 27.07.97|  08.06.2018|\n",
      "+--------+-----+--------------------+---------+---------+------------+\n",
      "only showing top 20 rows\n",
      "\n"
     ]
    }
   ],
   "source": [
    "resultOne = spark.sql(\"SELECT * FROM ProMens400mHurdles\")\n",
    "resultOne.show()"
   ]
  },
  {
   "cell_type": "code",
   "execution_count": 8,
   "id": "6a92a207",
   "metadata": {},
   "outputs": [
    {
     "name": "stdout",
     "output_type": "stream",
     "text": [
      "+--------+-----+--------------------+---------+---------+------------+\n",
      "|RANKINGS|TIMES|             ATHLETE| LOCATION|BIRTHYEAR|DATEOFTHERUN|\n",
      "+--------+-----+--------------------+---------+---------+------------+\n",
      "|       1|45.94|     Karsten Warholm|    Tokyo| 28.02.96|  03.08.2021|\n",
      "|       2|46.17|        Rai Benjamin|    Tokyo| 27.07.97|  03.08.2021|\n",
      "|       3|46.29|Alison Brendom do...|   Eugene| 03.06.00|  19.07.2022|\n",
      "|       4|46.51|     Karsten Warholm|   Monaco| 28.02.96|  21.07.2023|\n",
      "|       5|46.52|     Karsten Warholm|     Oslo| 28.02.96|  15.06.2023|\n",
      "|       6|46.62|        Rai Benjamin|   Eugene| 27.07.97|  09.07.2023|\n",
      "|       7|46.70|     Karsten Warholm|     Oslo| 28.02.96|  01.07.2021|\n",
      "|       8|46.72|Alison Brendom do...|    Tokyo| 03.06.00|  03.08.2021|\n",
      "|       9|46.76|     Karsten Warholm| Jessheim| 28.02.96|  06.07.2023|\n",
      "|      10|46.78|         Kevin Young|Barcelona| 16.09.66|  06.08.1992|\n",
      "|      11|46.80|Alison Brendom do...|Stockholm| 03.06.00|  30.06.2022|\n",
      "|      12|46.83|        Rai Benjamin|   Eugene| 27.07.97|  26.06.2021|\n",
      "|      13|46.87|     Karsten Warholm|Stockholm| 28.02.96|  23.08.2020|\n",
      "|      14|46.89|        Rai Benjamin|   Eugene| 27.07.97|  19.07.2022|\n",
      "|      15|46.92|     Karsten Warholm|   Zürich| 28.02.96|  29.08.2019|\n",
      "|      16|46.98|  Abderrahmane Samba|    Paris| 05.09.95|  30.06.2018|\n",
      "|      16|46.98|        Rai Benjamin|   Zürich| 27.07.97|  29.08.2019|\n",
      "|      16|46.98|Alison Brendom do...|   Zürich| 03.06.00|  08.09.2022|\n",
      "|      19|47.02|         Edwin Moses|  Koblenz| 31.08.55|  31.08.1983|\n",
      "|      19|47.02|        Rai Benjamin|   Eugene| 27.07.97|  08.06.2018|\n",
      "+--------+-----+--------------------+---------+---------+------------+\n",
      "only showing top 20 rows\n",
      "\n"
     ]
    }
   ],
   "source": [
    "resultTwo = spark.sql(\"SELECT * FROM ProMens400mHurdles\")\n",
    "resultTwo.show()"
   ]
  },
  {
   "cell_type": "code",
   "execution_count": null,
   "id": "2b277123",
   "metadata": {},
   "outputs": [],
   "source": []
  },
  {
   "cell_type": "code",
   "execution_count": null,
   "id": "f34e5cac",
   "metadata": {},
   "outputs": [],
   "source": []
  },
  {
   "cell_type": "code",
   "execution_count": null,
   "id": "90acf049",
   "metadata": {},
   "outputs": [],
   "source": []
  },
  {
   "cell_type": "code",
   "execution_count": null,
   "id": "4c01f4e6",
   "metadata": {},
   "outputs": [],
   "source": []
  },
  {
   "cell_type": "code",
   "execution_count": null,
   "id": "71ba6039",
   "metadata": {},
   "outputs": [],
   "source": []
  },
  {
   "cell_type": "code",
   "execution_count": null,
   "id": "70cf8e36",
   "metadata": {},
   "outputs": [],
   "source": []
  },
  {
   "cell_type": "code",
   "execution_count": null,
   "id": "52dc1cbb",
   "metadata": {},
   "outputs": [],
   "source": []
  }
 ],
 "metadata": {
  "kernelspec": {
   "display_name": "Python 3 (ipykernel)",
   "language": "python",
   "name": "python3"
  },
  "language_info": {
   "codemirror_mode": {
    "name": "ipython",
    "version": 3
   },
   "file_extension": ".py",
   "mimetype": "text/x-python",
   "name": "python",
   "nbconvert_exporter": "python",
   "pygments_lexer": "ipython3",
   "version": "3.9.12"
  }
 },
 "nbformat": 4,
 "nbformat_minor": 5
}
