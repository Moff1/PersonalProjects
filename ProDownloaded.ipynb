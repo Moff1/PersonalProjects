{
 "cells": [
  {
   "cell_type": "code",
   "execution_count": 1,
   "id": "17974eec",
   "metadata": {},
   "outputs": [],
   "source": [
    "import requests"
   ]
  },
  {
   "cell_type": "code",
   "execution_count": 2,
   "id": "b7c679ea",
   "metadata": {},
   "outputs": [],
   "source": [
    "from IPython.display import FileLink"
   ]
  },
  {
   "cell_type": "code",
   "execution_count": 3,
   "id": "69965a35",
   "metadata": {},
   "outputs": [],
   "source": [
    "Events = ['60m','100m','200m','300m','400m','110mHurdles','400mHurdles','4x100m','4x400m','800m','LongJump','SpecialEvents','60mHurdles',]"
   ]
  },
  {
   "cell_type": "code",
   "execution_count": 4,
   "id": "324812b9",
   "metadata": {},
   "outputs": [],
   "source": [
    "folder_paths = []"
   ]
  },
  {
   "cell_type": "code",
   "execution_count": 5,
   "id": "297eeace",
   "metadata": {},
   "outputs": [
    {
     "data": {
      "text/plain": [
       "['C:\\\\Users\\\\MoJo\\\\SparkTrackAndField\\\\Professional\\\\60m\\\\',\n",
       " 'C:\\\\Users\\\\MoJo\\\\SparkTrackAndField\\\\Professional\\\\100m\\\\',\n",
       " 'C:\\\\Users\\\\MoJo\\\\SparkTrackAndField\\\\Professional\\\\200m\\\\',\n",
       " 'C:\\\\Users\\\\MoJo\\\\SparkTrackAndField\\\\Professional\\\\300m\\\\',\n",
       " 'C:\\\\Users\\\\MoJo\\\\SparkTrackAndField\\\\Professional\\\\400m\\\\',\n",
       " 'C:\\\\Users\\\\MoJo\\\\SparkTrackAndField\\\\Professional\\\\110mHurdles\\\\',\n",
       " 'C:\\\\Users\\\\MoJo\\\\SparkTrackAndField\\\\Professional\\\\400mHurdles\\\\',\n",
       " 'C:\\\\Users\\\\MoJo\\\\SparkTrackAndField\\\\Professional\\\\4x100m\\\\',\n",
       " 'C:\\\\Users\\\\MoJo\\\\SparkTrackAndField\\\\Professional\\\\4x400m\\\\',\n",
       " 'C:\\\\Users\\\\MoJo\\\\SparkTrackAndField\\\\Professional\\\\800m\\\\',\n",
       " 'C:\\\\Users\\\\MoJo\\\\SparkTrackAndField\\\\Professional\\\\LongJump\\\\',\n",
       " 'C:\\\\Users\\\\MoJo\\\\SparkTrackAndField\\\\Professional\\\\SpecialEvents\\\\',\n",
       " 'C:\\\\Users\\\\MoJo\\\\SparkTrackAndField\\\\Professional\\\\60mHurdles\\\\']"
      ]
     },
     "execution_count": 5,
     "metadata": {},
     "output_type": "execute_result"
    }
   ],
   "source": [
    "for i in range(0,len(Events)):\n",
    "    PATH = \"C:\\\\Users\\\\MoJo\\\\SparkTrackAndField\\\\Professional\\\\\"+Events[i]+\"\\\\\"\n",
    "    folder_paths.append(PATH)\n",
    "folder_paths"
   ]
  },
  {
   "cell_type": "code",
   "execution_count": 6,
   "id": "de83718a",
   "metadata": {},
   "outputs": [],
   "source": [
    "import os"
   ]
  },
  {
   "cell_type": "code",
   "execution_count": 7,
   "id": "fe21a5c1",
   "metadata": {},
   "outputs": [],
   "source": [
    "# Get a list of CSV files in the folders\n",
    "csv_files = [file for folder_path in folder_paths for file in os.listdir(folder_path) if file.endswith(\".csv\")]\n",
    "\n",
    "# Create download links for each CSV file\n",
    "download_links = []\n",
    "shutildownloadlinks = []\n",
    "for csv_file in csv_files:\n",
    "    for folder_path in folder_paths:\n",
    "        csv_file_path = os.path.join(folder_path, csv_file)\n",
    "        download_link = f'<a href=\"{csv_file_path}\" download>{csv_file}</a><br>'\n",
    "        shutildownloadlink = csv_file_path\n",
    "        download_links.append(download_link)\n",
    "        shutildownloadlinks.append(shutildownloadlink)\n",
    "        \n",
    "\n",
    "# Display the download links\n",
    "#HTML(\"\".join(download_links))\n"
   ]
  },
  {
   "cell_type": "code",
   "execution_count": 8,
   "id": "cfab0e27",
   "metadata": {
    "scrolled": true
   },
   "outputs": [],
   "source": [
    "csv_filenames = csv_files"
   ]
  },
  {
   "cell_type": "code",
   "execution_count": 9,
   "id": "a6875c2c",
   "metadata": {},
   "outputs": [
    {
     "data": {
      "text/plain": [
       "['ProMens60m.csv',\n",
       " 'ProWomens60m.csv',\n",
       " 'ProMens100m.csv',\n",
       " 'ProWomens100m.csv',\n",
       " 'IndoorProMens200m.csv',\n",
       " 'IndoorProWomens200m.csv',\n",
       " 'ProMens200m.csv',\n",
       " 'ProWomens200m.csv',\n",
       " 'IndoorMens300m.csv',\n",
       " 'IndoorWomens300m.csv',\n",
       " 'ProMens300m.csv',\n",
       " 'ProWomens300m.csv',\n",
       " 'ProIndoorMens400m.csv',\n",
       " 'ProIndoorWomens400m.csv',\n",
       " 'ProMens400m.csv',\n",
       " 'ProWomens400m.csv',\n",
       " 'ProiWomens100mHurdles.csv',\n",
       " 'ProMens110mHurdles.csv',\n",
       " 'ProMens400mHurdles.csv',\n",
       " 'ProWomens400mHurdles.csv',\n",
       " 'ProMens4x100m.csv',\n",
       " 'ProWomens4x100m.csv',\n",
       " 'IndoorProMens4x400m.csv',\n",
       " 'IndoorProWomens4x400m.csv',\n",
       " 'ProMens4x400m.csv',\n",
       " 'ProWomens4x400m.csv',\n",
       " 'IndoorProMens800m.csv',\n",
       " 'IndoorProWomens800m.csv',\n",
       " 'ProMens800m.csv',\n",
       " 'ProWomens800m.csv',\n",
       " 'IndoorProMensLJ.csv',\n",
       " 'IndoorProWomensLJ.csv',\n",
       " 'ProMensLJ.csv',\n",
       " 'ProWomensLJ.csv',\n",
       " 'ProMenDecathlon.csv',\n",
       " 'ProWomensPent.csv',\n",
       " 'ProMens60mHurdles.csv',\n",
       " 'ProWomens60mHurdles.csv']"
      ]
     },
     "execution_count": 9,
     "metadata": {},
     "output_type": "execute_result"
    }
   ],
   "source": [
    "csv_filenames"
   ]
  },
  {
   "cell_type": "code",
   "execution_count": 10,
   "id": "827d1480",
   "metadata": {},
   "outputs": [],
   "source": [
    "csv_filepaths = []"
   ]
  },
  {
   "cell_type": "code",
   "execution_count": 11,
   "id": "51a321f0",
   "metadata": {},
   "outputs": [
    {
     "name": "stdout",
     "output_type": "stream",
     "text": [
      "CSV file 'ProMens60m.csv' found at: C:\\Users\\MoJo\\SparkTrackAndField\\Professional\\60m\\ProMens60m.csv\n",
      "CSV file 'ProWomens60m.csv' found at: C:\\Users\\MoJo\\SparkTrackAndField\\Professional\\60m\\ProWomens60m.csv\n",
      "CSV file 'ProMens100m.csv' found at: C:\\Users\\MoJo\\SparkTrackAndField\\Professional\\100m\\ProMens100m.csv\n",
      "CSV file 'ProWomens100m.csv' found at: C:\\Users\\MoJo\\SparkTrackAndField\\Professional\\100m\\ProWomens100m.csv\n",
      "CSV file 'IndoorProMens200m.csv' found at: C:\\Users\\MoJo\\SparkTrackAndField\\Professional\\200m\\IndoorProMens200m.csv\n",
      "CSV file 'IndoorProWomens200m.csv' found at: C:\\Users\\MoJo\\SparkTrackAndField\\Professional\\200m\\IndoorProWomens200m.csv\n",
      "CSV file 'ProMens200m.csv' found at: C:\\Users\\MoJo\\SparkTrackAndField\\Professional\\200m\\ProMens200m.csv\n",
      "CSV file 'ProWomens200m.csv' found at: C:\\Users\\MoJo\\SparkTrackAndField\\Professional\\200m\\ProWomens200m.csv\n",
      "CSV file 'IndoorMens300m.csv' found at: C:\\Users\\MoJo\\SparkTrackAndField\\Professional\\300m\\IndoorMens300m.csv\n",
      "CSV file 'IndoorWomens300m.csv' found at: C:\\Users\\MoJo\\SparkTrackAndField\\Professional\\300m\\IndoorWomens300m.csv\n",
      "CSV file 'ProMens300m.csv' found at: C:\\Users\\MoJo\\SparkTrackAndField\\Professional\\300m\\ProMens300m.csv\n",
      "CSV file 'ProWomens300m.csv' found at: C:\\Users\\MoJo\\SparkTrackAndField\\Professional\\300m\\ProWomens300m.csv\n",
      "CSV file 'ProIndoorMens400m.csv' found at: C:\\Users\\MoJo\\SparkTrackAndField\\Professional\\400m\\ProIndoorMens400m.csv\n",
      "CSV file 'ProIndoorWomens400m.csv' found at: C:\\Users\\MoJo\\SparkTrackAndField\\Professional\\400m\\ProIndoorWomens400m.csv\n",
      "CSV file 'ProMens400m.csv' found at: C:\\Users\\MoJo\\SparkTrackAndField\\Professional\\400m\\ProMens400m.csv\n",
      "CSV file 'ProWomens400m.csv' found at: C:\\Users\\MoJo\\SparkTrackAndField\\Professional\\400m\\ProWomens400m.csv\n",
      "CSV file 'ProiWomens100mHurdles.csv' found at: C:\\Users\\MoJo\\SparkTrackAndField\\Professional\\110mHurdles\\ProiWomens100mHurdles.csv\n",
      "CSV file 'ProMens110mHurdles.csv' found at: C:\\Users\\MoJo\\SparkTrackAndField\\Professional\\110mHurdles\\ProMens110mHurdles.csv\n",
      "CSV file 'ProMens400mHurdles.csv' found at: C:\\Users\\MoJo\\SparkTrackAndField\\Professional\\400mHurdles\\ProMens400mHurdles.csv\n",
      "CSV file 'ProWomens400mHurdles.csv' found at: C:\\Users\\MoJo\\SparkTrackAndField\\Professional\\400mHurdles\\ProWomens400mHurdles.csv\n",
      "CSV file 'ProMens4x100m.csv' found at: C:\\Users\\MoJo\\SparkTrackAndField\\Professional\\4x100m\\ProMens4x100m.csv\n",
      "CSV file 'ProWomens4x100m.csv' found at: C:\\Users\\MoJo\\SparkTrackAndField\\Professional\\4x100m\\ProWomens4x100m.csv\n",
      "CSV file 'IndoorProMens4x400m.csv' found at: C:\\Users\\MoJo\\SparkTrackAndField\\Professional\\4x400m\\IndoorProMens4x400m.csv\n",
      "CSV file 'IndoorProWomens4x400m.csv' found at: C:\\Users\\MoJo\\SparkTrackAndField\\Professional\\4x400m\\IndoorProWomens4x400m.csv\n",
      "CSV file 'ProMens4x400m.csv' found at: C:\\Users\\MoJo\\SparkTrackAndField\\Professional\\4x400m\\ProMens4x400m.csv\n",
      "CSV file 'ProWomens4x400m.csv' found at: C:\\Users\\MoJo\\SparkTrackAndField\\Professional\\4x400m\\ProWomens4x400m.csv\n",
      "CSV file 'IndoorProMens800m.csv' found at: C:\\Users\\MoJo\\SparkTrackAndField\\Professional\\800m\\IndoorProMens800m.csv\n",
      "CSV file 'IndoorProWomens800m.csv' found at: C:\\Users\\MoJo\\SparkTrackAndField\\Professional\\800m\\IndoorProWomens800m.csv\n",
      "CSV file 'ProMens800m.csv' found at: C:\\Users\\MoJo\\SparkTrackAndField\\Professional\\800m\\ProMens800m.csv\n",
      "CSV file 'ProWomens800m.csv' found at: C:\\Users\\MoJo\\SparkTrackAndField\\Professional\\800m\\ProWomens800m.csv\n",
      "CSV file 'IndoorProMensLJ.csv' found at: C:\\Users\\MoJo\\SparkTrackAndField\\Professional\\LongJump\\IndoorProMensLJ.csv\n",
      "CSV file 'IndoorProWomensLJ.csv' found at: C:\\Users\\MoJo\\SparkTrackAndField\\Professional\\LongJump\\IndoorProWomensLJ.csv\n",
      "CSV file 'ProMensLJ.csv' found at: C:\\Users\\MoJo\\SparkTrackAndField\\Professional\\LongJump\\ProMensLJ.csv\n",
      "CSV file 'ProWomensLJ.csv' found at: C:\\Users\\MoJo\\SparkTrackAndField\\Professional\\LongJump\\ProWomensLJ.csv\n",
      "CSV file 'ProMenDecathlon.csv' found at: C:\\Users\\MoJo\\SparkTrackAndField\\Professional\\SpecialEvents\\ProMenDecathlon.csv\n",
      "CSV file 'ProWomensPent.csv' found at: C:\\Users\\MoJo\\SparkTrackAndField\\Professional\\SpecialEvents\\ProWomensPent.csv\n",
      "CSV file 'ProMens60mHurdles.csv' found at: C:\\Users\\MoJo\\SparkTrackAndField\\Professional\\60mHurdles\\ProMens60mHurdles.csv\n",
      "CSV file 'ProWomens60mHurdles.csv' found at: C:\\Users\\MoJo\\SparkTrackAndField\\Professional\\60mHurdles\\ProWomens60mHurdles.csv\n"
     ]
    }
   ],
   "source": [
    "import os\n",
    "\n",
    "# Specify the list of CSV filenames you want to find\n",
    "csv_filenames  # Replace with actual CSV filenames\n",
    "\n",
    "# Search for each file in the current directory and its subdirectories\n",
    "for csv_filename in csv_filenames:\n",
    "    found = False\n",
    "    for root, dirs, files in os.walk(os.getcwd()):\n",
    "        if csv_filename in files:\n",
    "            csv_file_path = os.path.join(root, csv_filename)\n",
    "            print(f\"CSV file '{csv_filename}' found at:\", csv_file_path)\n",
    "            csv_filepaths.append(csv_file_path)\n",
    "            \n",
    "            found = True\n",
    "            break\n",
    "    if not found:\n",
    "        print(f\"CSV file '{csv_filename}' not found.\")"
   ]
  },
  {
   "cell_type": "code",
   "execution_count": 12,
   "id": "3c5d8bbb",
   "metadata": {},
   "outputs": [
    {
     "data": {
      "text/plain": [
       "['C:\\\\Users\\\\MoJo\\\\SparkTrackAndField\\\\Professional\\\\60m\\\\ProMens60m.csv',\n",
       " 'C:\\\\Users\\\\MoJo\\\\SparkTrackAndField\\\\Professional\\\\60m\\\\ProWomens60m.csv',\n",
       " 'C:\\\\Users\\\\MoJo\\\\SparkTrackAndField\\\\Professional\\\\100m\\\\ProMens100m.csv',\n",
       " 'C:\\\\Users\\\\MoJo\\\\SparkTrackAndField\\\\Professional\\\\100m\\\\ProWomens100m.csv',\n",
       " 'C:\\\\Users\\\\MoJo\\\\SparkTrackAndField\\\\Professional\\\\200m\\\\IndoorProMens200m.csv',\n",
       " 'C:\\\\Users\\\\MoJo\\\\SparkTrackAndField\\\\Professional\\\\200m\\\\IndoorProWomens200m.csv',\n",
       " 'C:\\\\Users\\\\MoJo\\\\SparkTrackAndField\\\\Professional\\\\200m\\\\ProMens200m.csv',\n",
       " 'C:\\\\Users\\\\MoJo\\\\SparkTrackAndField\\\\Professional\\\\200m\\\\ProWomens200m.csv',\n",
       " 'C:\\\\Users\\\\MoJo\\\\SparkTrackAndField\\\\Professional\\\\300m\\\\IndoorMens300m.csv',\n",
       " 'C:\\\\Users\\\\MoJo\\\\SparkTrackAndField\\\\Professional\\\\300m\\\\IndoorWomens300m.csv',\n",
       " 'C:\\\\Users\\\\MoJo\\\\SparkTrackAndField\\\\Professional\\\\300m\\\\ProMens300m.csv',\n",
       " 'C:\\\\Users\\\\MoJo\\\\SparkTrackAndField\\\\Professional\\\\300m\\\\ProWomens300m.csv',\n",
       " 'C:\\\\Users\\\\MoJo\\\\SparkTrackAndField\\\\Professional\\\\400m\\\\ProIndoorMens400m.csv',\n",
       " 'C:\\\\Users\\\\MoJo\\\\SparkTrackAndField\\\\Professional\\\\400m\\\\ProIndoorWomens400m.csv',\n",
       " 'C:\\\\Users\\\\MoJo\\\\SparkTrackAndField\\\\Professional\\\\400m\\\\ProMens400m.csv',\n",
       " 'C:\\\\Users\\\\MoJo\\\\SparkTrackAndField\\\\Professional\\\\400m\\\\ProWomens400m.csv',\n",
       " 'C:\\\\Users\\\\MoJo\\\\SparkTrackAndField\\\\Professional\\\\110mHurdles\\\\ProiWomens100mHurdles.csv',\n",
       " 'C:\\\\Users\\\\MoJo\\\\SparkTrackAndField\\\\Professional\\\\110mHurdles\\\\ProMens110mHurdles.csv',\n",
       " 'C:\\\\Users\\\\MoJo\\\\SparkTrackAndField\\\\Professional\\\\400mHurdles\\\\ProMens400mHurdles.csv',\n",
       " 'C:\\\\Users\\\\MoJo\\\\SparkTrackAndField\\\\Professional\\\\400mHurdles\\\\ProWomens400mHurdles.csv',\n",
       " 'C:\\\\Users\\\\MoJo\\\\SparkTrackAndField\\\\Professional\\\\4x100m\\\\ProMens4x100m.csv',\n",
       " 'C:\\\\Users\\\\MoJo\\\\SparkTrackAndField\\\\Professional\\\\4x100m\\\\ProWomens4x100m.csv',\n",
       " 'C:\\\\Users\\\\MoJo\\\\SparkTrackAndField\\\\Professional\\\\4x400m\\\\IndoorProMens4x400m.csv',\n",
       " 'C:\\\\Users\\\\MoJo\\\\SparkTrackAndField\\\\Professional\\\\4x400m\\\\IndoorProWomens4x400m.csv',\n",
       " 'C:\\\\Users\\\\MoJo\\\\SparkTrackAndField\\\\Professional\\\\4x400m\\\\ProMens4x400m.csv',\n",
       " 'C:\\\\Users\\\\MoJo\\\\SparkTrackAndField\\\\Professional\\\\4x400m\\\\ProWomens4x400m.csv',\n",
       " 'C:\\\\Users\\\\MoJo\\\\SparkTrackAndField\\\\Professional\\\\800m\\\\IndoorProMens800m.csv',\n",
       " 'C:\\\\Users\\\\MoJo\\\\SparkTrackAndField\\\\Professional\\\\800m\\\\IndoorProWomens800m.csv',\n",
       " 'C:\\\\Users\\\\MoJo\\\\SparkTrackAndField\\\\Professional\\\\800m\\\\ProMens800m.csv',\n",
       " 'C:\\\\Users\\\\MoJo\\\\SparkTrackAndField\\\\Professional\\\\800m\\\\ProWomens800m.csv',\n",
       " 'C:\\\\Users\\\\MoJo\\\\SparkTrackAndField\\\\Professional\\\\LongJump\\\\IndoorProMensLJ.csv',\n",
       " 'C:\\\\Users\\\\MoJo\\\\SparkTrackAndField\\\\Professional\\\\LongJump\\\\IndoorProWomensLJ.csv',\n",
       " 'C:\\\\Users\\\\MoJo\\\\SparkTrackAndField\\\\Professional\\\\LongJump\\\\ProMensLJ.csv',\n",
       " 'C:\\\\Users\\\\MoJo\\\\SparkTrackAndField\\\\Professional\\\\LongJump\\\\ProWomensLJ.csv',\n",
       " 'C:\\\\Users\\\\MoJo\\\\SparkTrackAndField\\\\Professional\\\\SpecialEvents\\\\ProMenDecathlon.csv',\n",
       " 'C:\\\\Users\\\\MoJo\\\\SparkTrackAndField\\\\Professional\\\\SpecialEvents\\\\ProWomensPent.csv',\n",
       " 'C:\\\\Users\\\\MoJo\\\\SparkTrackAndField\\\\Professional\\\\60mHurdles\\\\ProMens60mHurdles.csv',\n",
       " 'C:\\\\Users\\\\MoJo\\\\SparkTrackAndField\\\\Professional\\\\60mHurdles\\\\ProWomens60mHurdles.csv']"
      ]
     },
     "execution_count": 12,
     "metadata": {},
     "output_type": "execute_result"
    }
   ],
   "source": [
    "csv_filepaths"
   ]
  },
  {
   "cell_type": "code",
   "execution_count": 14,
   "id": "f629e859",
   "metadata": {},
   "outputs": [],
   "source": [
    "import shutil"
   ]
  },
  {
   "cell_type": "code",
   "execution_count": 15,
   "id": "5979a769",
   "metadata": {},
   "outputs": [
    {
     "name": "stdout",
     "output_type": "stream",
     "text": [
      "CSVs file downloaded to the destination folder.\n"
     ]
    }
   ],
   "source": [
    "# Specify the source file path\n",
    "#source_file_path = \"C:\\\\Users\\\\MoJo\\\\SparkTrackAndField\\\\College\\\\60m\\\\Men60m.csv\"  # Replace with the actual source file path\n",
    "\n",
    "# Specify the destination folder path\n",
    "destination_folder = \"C:\\\\ProgramData\\\\MySQL\\\\MySQL Server 8.0\\\\Uploads\\\\\"\n",
    "\n",
    "# Replace with the actual destination folder path\n",
    "for i in range(0,len(csv_filepaths)):\n",
    "    shutil.copy(csv_filepaths[i], destination_folder)  # Use shutil.move() to move the file instead\n",
    "\n",
    "print(\"CSVs file downloaded to the destination folder.\")"
   ]
  },
  {
   "cell_type": "code",
   "execution_count": null,
   "id": "c7f4ae3a",
   "metadata": {},
   "outputs": [],
   "source": []
  }
 ],
 "metadata": {
  "kernelspec": {
   "display_name": "Python 3 (ipykernel)",
   "language": "python",
   "name": "python3"
  },
  "language_info": {
   "codemirror_mode": {
    "name": "ipython",
    "version": 3
   },
   "file_extension": ".py",
   "mimetype": "text/x-python",
   "name": "python",
   "nbconvert_exporter": "python",
   "pygments_lexer": "ipython3",
   "version": "3.9.12"
  }
 },
 "nbformat": 4,
 "nbformat_minor": 5
}
