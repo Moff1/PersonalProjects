{
 "cells": [
  {
   "cell_type": "code",
   "execution_count": 1,
   "id": "a30c322d",
   "metadata": {},
   "outputs": [],
   "source": [
    "import pyspark"
   ]
  },
  {
   "cell_type": "code",
   "execution_count": 2,
   "id": "6ad22882",
   "metadata": {},
   "outputs": [],
   "source": [
    "from pyspark.sql import SparkSession"
   ]
  },
  {
   "cell_type": "code",
   "execution_count": 3,
   "id": "eb23f56b",
   "metadata": {},
   "outputs": [],
   "source": [
    "from pyspark.sql.functions import col"
   ]
  },
  {
   "cell_type": "code",
   "execution_count": 4,
   "id": "e1749c51",
   "metadata": {},
   "outputs": [],
   "source": [
    "from pyspark.sql.functions import desc"
   ]
  },
  {
   "cell_type": "code",
   "execution_count": 5,
   "id": "9514e18f",
   "metadata": {},
   "outputs": [],
   "source": [
    "from pyspark.sql.functions import asc"
   ]
  },
  {
   "cell_type": "code",
   "execution_count": 6,
   "id": "bb7978c1",
   "metadata": {},
   "outputs": [],
   "source": [
    "import findspark"
   ]
  },
  {
   "cell_type": "code",
   "execution_count": 7,
   "id": "db8e7525",
   "metadata": {},
   "outputs": [],
   "source": [
    "from pyspark.sql.types import StructType, StructField, StringType, IntegerType"
   ]
  },
  {
   "cell_type": "code",
   "execution_count": 8,
   "id": "637dd949",
   "metadata": {},
   "outputs": [],
   "source": [
    "import pandas as pd"
   ]
  },
  {
   "cell_type": "code",
   "execution_count": 9,
   "id": "3e244fa3",
   "metadata": {},
   "outputs": [],
   "source": [
    "findspark.init()"
   ]
  },
  {
   "cell_type": "code",
   "execution_count": 11,
   "id": "7861315e",
   "metadata": {},
   "outputs": [],
   "source": [
    "spark = SparkSession.builder.appName('Pro100M').enableHiveSupport().getOrCreate()"
   ]
  },
  {
   "cell_type": "code",
   "execution_count": 12,
   "id": "ca913ed6",
   "metadata": {},
   "outputs": [],
   "source": [
    "ProMens100m = spark.read.format('csv').option('inferSchema','true').option('header','true').option('path','ProMens100m.csv').load()"
   ]
  },
  {
   "cell_type": "code",
   "execution_count": 13,
   "id": "f21ef966",
   "metadata": {},
   "outputs": [],
   "source": [
    "ProWomens100m = spark.read.format('csv').option('inferSchema','true').option('header','true').option('path','ProWomens100m.csv').load()"
   ]
  },
  {
   "cell_type": "code",
   "execution_count": 14,
   "id": "2db5b62b",
   "metadata": {},
   "outputs": [],
   "source": [
    "ProMens100m.createOrReplaceTempView(\"ProMens100m\")"
   ]
  },
  {
   "cell_type": "code",
   "execution_count": 15,
   "id": "ebca99b1",
   "metadata": {},
   "outputs": [],
   "source": [
    "ProWomens100m.createOrReplaceTempView(\"ProWomens100m\")"
   ]
  },
  {
   "cell_type": "code",
   "execution_count": 16,
   "id": "81e155a9",
   "metadata": {
    "scrolled": true
   },
   "outputs": [
    {
     "name": "stdout",
     "output_type": "stream",
     "text": [
      "+--------+-----+-------+-------------------+-------------+---------+------------+-----------+\n",
      "|RANKINGS|TIMES|COUNTRY|            ATHLETE|     LOCATION|BIRTHYEAR|DATEOFTHERUN|WINDREADING|\n",
      "+--------+-----+-------+-------------------+-------------+---------+------------+-----------+\n",
      "|       1| 9.58|    JAM|         Usain Bolt|       Berlin| 21.08.86|  16.08.2009|  +0.9    U|\n",
      "|       2| 9.63|    JAM|         Usain Bolt|       London| 21.08.86|  05.08.2012|  +1.5    U|\n",
      "|       3| 9.69|    JAM|         Usain Bolt|      Beijing| 21.08.86|  16.08.2008|  ±0.0    U|\n",
      "|       3| 9.69|    USA|          Tyson Gay|     Shanghai| 09.08.82|  20.09.2009|  +2.0    T|\n",
      "|       3| 9.69|    JAM|        Yohan Blake|     Lausanne| 26.12.89|  23.08.2012|  -0.1    Y|\n",
      "|       6| 9.71|    USA|          Tyson Gay|       Berlin| 09.08.82|  16.08.2009|  +0.9    T|\n",
      "|       7| 9.72|    JAM|         Usain Bolt|New York City| 21.08.86|  31.05.2008|  +1.7    U|\n",
      "|       7| 9.72|    JAM|       Asafa Powell|     Lausanne| 23.11.82|  02.09.2008|  +0.2    A|\n",
      "|       9| 9.74|    JAM|       Asafa Powell|        Rieti| 23.11.82|  09.09.2007|  +1.7    A|\n",
      "|       9| 9.74|    USA|      Justin Gatlin|    Ad-Dawhah| 10.02.82|  15.05.2015|  +0.9    J|\n",
      "|      11| 9.75|    JAM|        Yohan Blake|     Kingston| 26.12.89|  29.06.2012|  +1.1    Y|\n",
      "|      11| 9.75|    JAM|        Yohan Blake|       London| 26.12.89|  05.08.2012|  +1.5    Y|\n",
      "|      11| 9.75|    USA|      Justin Gatlin|         Roma| 10.02.82|  04.06.2015|  +0.9    J|\n",
      "|      11| 9.75|    USA|      Justin Gatlin|     Lausanne| 10.02.82|  09.07.2015|  +1.4    J|\n",
      "|      15| 9.76|    JAM|         Usain Bolt|     Kingston| 21.08.86|  03.05.2008|  +1.8    U|\n",
      "|      15| 9.76|    JAM|         Usain Bolt|    Bruxelles| 21.08.86|  16.09.2011|  +1.3    U|\n",
      "|      15| 9.76|    JAM|         Usain Bolt|         Roma| 21.08.86|  31.05.2012|  -0.1    U|\n",
      "|      15| 9.76|    JAM|        Yohan Blake|       Zürich| 26.12.89|  30.08.2012|  +1.4    Y|\n",
      "|      15| 9.76|    USA|    Christian Colem|    Ad-Dawhah| 06.03.96|  28.09.2019|  +0.6    C|\n",
      "|      15|9.76A|    USA|     TrayvonBromell|      Nairobi| 10.07.95|  18.09.2021|  +1.2    T|\n",
      "+--------+-----+-------+-------------------+-------------+---------+------------+-----------+\n",
      "only showing top 20 rows\n",
      "\n"
     ]
    }
   ],
   "source": [
    "resultOne = spark.sql(\"SELECT * FROM ProMens100m\")\n",
    "resultOne.show()"
   ]
  },
  {
   "cell_type": "code",
   "execution_count": 17,
   "id": "03e873bd",
   "metadata": {},
   "outputs": [
    {
     "name": "stdout",
     "output_type": "stream",
     "text": [
      "+--------+------+-------+-------------------+--------------+---------+------------+-----------+\n",
      "|RANKINGS| TIMES|COUNTRY|            ATHLETE|      LOCATION|BIRTHYEAR|DATEOFTHERUN|WINDREADING|\n",
      "+--------+------+-------+-------------------+--------------+---------+------------+-----------+\n",
      "|       1| 10.49|    USA|     FlorenceGriffi|  Indianapolis| 21.12.59|  16.07.1988|  ±0.0    F|\n",
      "|       2| 10.54|    JAM|    Elaine Thompson|        Eugene| 28.06.92|  21.08.2021|  +0.9    E|\n",
      "|       3| 10.60|    JAM|    Shelly-Ann Fras|      Lausanne| 27.12.86|  26.08.2021|  +1.7    S|\n",
      "|       4| 10.61|    USA|     FlorenceGriffi|  Indianapolis| 21.12.59|  17.07.1988|  +1.2    F|\n",
      "|       4| 10.61|    JAM|    Elaine Thompson|         Tokyo| 28.06.92|  31.07.2021|  -0.6    E|\n",
      "|       6| 10.62|    USA|     FlorenceGriffi|         Seoul| 21.12.59|  24.09.1988|  +1.0    F|\n",
      "|       6| 10.62|    JAM|    Shelly-Ann Fras|        Monaco| 27.12.86|  10.08.2022|  +0.4    S|\n",
      "|       8| 10.63|    JAM|    Shelly-Ann Fras|      Kingston| 27.12.86|  05.06.2021|  +1.3    S|\n",
      "|       9| 10.64|    USA|    Carmelita Jeter|      Shanghai| 24.11.79|  20.09.2009|  +1.2    C|\n",
      "|       9| 10.64|    JAM|    Elaine Thompson|      Lausanne| 28.06.92|  26.08.2021|  +1.7    E|\n",
      "|      11|10.65A|    USA|       Marion Jones|  Johannesburg| 12.10.75|  12.09.1998|  +1.1    M|\n",
      "|      11| 10.65|    JAM|    Elaine Thompson|        Zürich| 28.06.92|  09.09.2021|  +0.6    E|\n",
      "|      11| 10.65|    JAM|    Shelly-Ann Fras|        Zürich| 27.12.86|  08.09.2022|  -0.8    S|\n",
      "|      11| 10.65|    JAM|     SherickaJackso|      Kingston| 16.07.94|  07.07.2023|  +1.0    S|\n",
      "|      15| 10.66|    JAM|    Shelly-Ann Fras|       Chorzów| 27.12.86|  06.08.2022|  +0.5    S|\n",
      "|      16| 10.67|    USA|    Carmelita Jeter|  Thessaloníki| 24.11.79|  13.09.2009|  -0.1    C|\n",
      "|      16|10.67A|    JAM|    Shelly-Ann Fras|       Nairobi| 27.12.86|  07.05.2022|  -0.4    S|\n",
      "|      16| 10.67|    JAM|    Shelly-Ann Fras|         Paris| 27.12.86|  18.06.2022|  +0.5    S|\n",
      "|      16| 10.67|    JAM|    Shelly-Ann Fras|        Eugene| 27.12.86|  17.07.2022|  +0.8    S|\n",
      "|      16| 10.67|    JAM|    Shelly-Ann Fras|Székesfehérvár| 27.12.86|  08.08.2022|  +1.3    S|\n",
      "+--------+------+-------+-------------------+--------------+---------+------------+-----------+\n",
      "only showing top 20 rows\n",
      "\n"
     ]
    }
   ],
   "source": [
    "resultTwo = spark.sql(\"SELECT * FROM ProWomens100m\")\n",
    "resultTwo.show()"
   ]
  },
  {
   "cell_type": "code",
   "execution_count": null,
   "id": "cce31ab1",
   "metadata": {},
   "outputs": [],
   "source": []
  }
 ],
 "metadata": {
  "kernelspec": {
   "display_name": "Python 3 (ipykernel)",
   "language": "python",
   "name": "python3"
  },
  "language_info": {
   "codemirror_mode": {
    "name": "ipython",
    "version": 3
   },
   "file_extension": ".py",
   "mimetype": "text/x-python",
   "name": "python",
   "nbconvert_exporter": "python",
   "pygments_lexer": "ipython3",
   "version": "3.9.12"
  }
 },
 "nbformat": 4,
 "nbformat_minor": 5
}
