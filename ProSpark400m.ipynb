{
 "cells": [
  {
   "cell_type": "code",
   "execution_count": 1,
   "id": "e7eded90",
   "metadata": {},
   "outputs": [],
   "source": [
    "import pyspark\n",
    "\n",
    "from pyspark.sql import SparkSession\n",
    "\n",
    "from pyspark.sql.functions import col\n",
    "\n",
    "from pyspark.sql.functions import desc\n",
    "\n",
    "from pyspark.sql.functions import asc\n",
    "\n",
    "import findspark\n",
    "\n",
    "from pyspark.sql.types import StructType, StructField, StringType, IntegerType\n",
    "\n",
    "import pandas as pd"
   ]
  },
  {
   "cell_type": "code",
   "execution_count": 2,
   "id": "cca5c543",
   "metadata": {},
   "outputs": [],
   "source": [
    "findspark.init()\n",
    "\n",
    "spark = SparkSession.builder.appName('Pro400M').enableHiveSupport().getOrCreate()"
   ]
  },
  {
   "cell_type": "code",
   "execution_count": 3,
   "id": "dd4ffd40",
   "metadata": {},
   "outputs": [],
   "source": [
    "ProMens400m = spark.read.format('csv').option('inferSchema','true').option('header','true').option('path','ProMens400m.csv').load()\n",
    "ProWomens400m = spark.read.format('csv').option('inferSchema','true').option('header','true').option('path','ProWomens400m.csv').load()"
   ]
  },
  {
   "cell_type": "code",
   "execution_count": 4,
   "id": "eed21349",
   "metadata": {},
   "outputs": [],
   "source": [
    "ProMens400m.createOrReplaceTempView(\"ProMens400m\")"
   ]
  },
  {
   "cell_type": "code",
   "execution_count": 5,
   "id": "53ea1e98",
   "metadata": {},
   "outputs": [],
   "source": [
    "ProWomens400m.createOrReplaceTempView(\"ProWomens400m\")"
   ]
  },
  {
   "cell_type": "code",
   "execution_count": 6,
   "id": "ccd813e9",
   "metadata": {},
   "outputs": [
    {
     "name": "stdout",
     "output_type": "stream",
     "text": [
      "+--------+-----+----------------+-------------+---------+------------+\n",
      "|RANKINGS|TIMES|         ATHLETE|     LOCATION|BIRTHYEAR|DATEOFTHERUN|\n",
      "+--------+-----+----------------+-------------+---------+------------+\n",
      "|       1|43.03|Wayde vanNiekerk|Rio deJaneiro| 15.07.92|  14.08.2016|\n",
      "|       2|43.18| Michael Johnson|      Sevilla| 13.09.67|  26.08.1999|\n",
      "|       3|43.29|  Harry Reynolds|       Zürich| 08.06.64|  17.08.1988|\n",
      "|       4|43.39| Michael Johnson|     Göteborg| 13.09.67|  09.08.1995|\n",
      "|       5|43.44| Michael Johnson|      Atlanta| 13.09.67|  19.06.1996|\n",
      "|       6|43.45|  Jeremy Wariner|        Osaka| 31.01.84|  31.08.2007|\n",
      "|       6|43.45|  Michael Norman|     Torrance| 03.12.97|  20.04.2019|\n",
      "|       8|43.48|Wayde vanNiekerk|      Beijing| 15.07.92|  26.08.2015|\n",
      "|       8|43.48| Steven Gardiner|    Ad-Dawhah| 12.09.95|  04.10.2019|\n",
      "|      10|43.49| Michael Johnson|      Atlanta| 13.09.67|  29.07.1996|\n",
      "|      11|43.50|    Quincy Watts|    Barcelona| 19.06.70|  05.08.1992|\n",
      "|      11|43.50|  Jeremy Wariner|    Stockholm| 31.01.84|  07.08.2007|\n",
      "|      13|43.56|  Michael Norman|       Eugene| 03.12.97|  25.06.2022|\n",
      "|      14|43.60|  Michael Norman|       Eugene| 03.12.97|  28.05.2022|\n",
      "|      15|43.61|  Michael Norman|       Eugene| 03.12.97|  08.06.2018|\n",
      "|      16|43.62|  Jeremy Wariner|         Roma| 31.01.84|  14.07.2006|\n",
      "|      16|43.62|Wayde vanNiekerk|     Lausanne| 15.07.92|  06.07.2017|\n",
      "|      18|43.64|     Fred Kerley|   Des Moines| 07.05.95|  27.07.2019|\n",
      "|      19|43.65| Michael Johnson|    Stuttgart| 13.09.67|  17.08.1993|\n",
      "|      19|43.65| LaShawn Merritt|      Beijing| 27.06.86|  26.08.2015|\n",
      "+--------+-----+----------------+-------------+---------+------------+\n",
      "only showing top 20 rows\n",
      "\n"
     ]
    }
   ],
   "source": [
    "resultOne = spark.sql(\"SELECT * FROM ProMens400m\")\n",
    "resultOne.show()\n"
   ]
  },
  {
   "cell_type": "code",
   "execution_count": 7,
   "id": "c999fb6b",
   "metadata": {},
   "outputs": [
    {
     "name": "stdout",
     "output_type": "stream",
     "text": [
      "+--------+-----+--------------------+---------+---------+------------+\n",
      "|RANKINGS|TIMES|             ATHLETE| LOCATION|BIRTHYEAR|DATEOFTHERUN|\n",
      "+--------+-----+--------------------+---------+---------+------------+\n",
      "|       1|47.60|         Marita Koch| Canberra| 18.02.57|  06.10.1985|\n",
      "|       2|47.99|Jarmila Kratochví...| Helsinki| 26.01.51|  10.08.1983|\n",
      "|       3|48.14|      Salwa EidNaser|Ad-Dawhah| 23.05.98|  03.10.2019|\n",
      "|       4|48.16|         Marita Koch|  Athínai| 18.02.57|  08.09.1982|\n",
      "|       4|48.16|         Marita Koch|    Praha| 18.02.57|  17.08.1984|\n",
      "|       6|48.22|         Marita Koch|Stuttgart| 18.02.57|  28.08.1986|\n",
      "|       7|48.25|    Marie-José Pérec|  Atlanta| 09.05.68|  29.07.1996|\n",
      "|       8|48.26|         Marita Koch|  Dresden| 18.02.57|  27.07.1984|\n",
      "|       9|48.27|       Olga Bryzgina| Canberra| 30.06.63|  06.10.1985|\n",
      "|      10|48.36| Shaunae Miller-Uibo|    Tokyo| 15.04.94|  06.08.2021|\n",
      "|      11|48.37| Shaunae Miller-Uibo|Ad-Dawhah| 15.04.94|  03.10.2019|\n",
      "|      12|48.45|Jarmila Kratochví...|    Praha| 26.01.51|  23.07.1983|\n",
      "|      13|48.54|      ChristineMboma|Bydgoszcz| 22.05.03|  30.06.2021|\n",
      "|      14|48.59|    Tatána Kocembová| Helsinki| 02.05.62|  10.08.1983|\n",
      "|      15|48.60|         Marita Koch|   Torino| 18.02.57|  04.08.1979|\n",
      "|      15|48.60|       Olga Bryzgina|   Moskva| 30.06.63|  17.08.1985|\n",
      "|      17|48.61|Jarmila Kratochví...|     Roma| 26.01.51|  06.09.1981|\n",
      "|      18|48.63|       Cathy Freeman|  Atlanta| 16.02.73|  29.07.1996|\n",
      "|      19|48.65|       Olga Bryzgina|    Seoul| 30.06.63|  26.09.1988|\n",
      "|      20|48.70| Sanya Richards-Ross|  Athínai| 26.02.85|  16.09.2006|\n",
      "+--------+-----+--------------------+---------+---------+------------+\n",
      "only showing top 20 rows\n",
      "\n"
     ]
    }
   ],
   "source": [
    "resultTwo = spark.sql(\"SELECT * FROM ProWomens400m\")\n",
    "resultTwo.show()"
   ]
  },
  {
   "cell_type": "code",
   "execution_count": null,
   "id": "9324170f",
   "metadata": {},
   "outputs": [],
   "source": []
  },
  {
   "cell_type": "code",
   "execution_count": null,
   "id": "4994ddf7",
   "metadata": {},
   "outputs": [],
   "source": []
  },
  {
   "cell_type": "code",
   "execution_count": null,
   "id": "3ebe9a35",
   "metadata": {},
   "outputs": [],
   "source": []
  },
  {
   "cell_type": "code",
   "execution_count": null,
   "id": "c70f9254",
   "metadata": {},
   "outputs": [],
   "source": []
  },
  {
   "cell_type": "code",
   "execution_count": null,
   "id": "4da48c9c",
   "metadata": {},
   "outputs": [],
   "source": []
  },
  {
   "cell_type": "code",
   "execution_count": null,
   "id": "a2f3d843",
   "metadata": {},
   "outputs": [],
   "source": []
  },
  {
   "cell_type": "code",
   "execution_count": null,
   "id": "ddc38be9",
   "metadata": {},
   "outputs": [],
   "source": []
  },
  {
   "cell_type": "code",
   "execution_count": null,
   "id": "23bcfe95",
   "metadata": {},
   "outputs": [],
   "source": []
  },
  {
   "cell_type": "code",
   "execution_count": null,
   "id": "8d2f301b",
   "metadata": {},
   "outputs": [],
   "source": []
  },
  {
   "cell_type": "code",
   "execution_count": null,
   "id": "0c2cea40",
   "metadata": {},
   "outputs": [],
   "source": []
  },
  {
   "cell_type": "code",
   "execution_count": null,
   "id": "40a3087f",
   "metadata": {},
   "outputs": [],
   "source": []
  }
 ],
 "metadata": {
  "kernelspec": {
   "display_name": "Python 3 (ipykernel)",
   "language": "python",
   "name": "python3"
  },
  "language_info": {
   "codemirror_mode": {
    "name": "ipython",
    "version": 3
   },
   "file_extension": ".py",
   "mimetype": "text/x-python",
   "name": "python",
   "nbconvert_exporter": "python",
   "pygments_lexer": "ipython3",
   "version": "3.9.12"
  }
 },
 "nbformat": 4,
 "nbformat_minor": 5
}
