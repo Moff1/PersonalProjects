{
 "cells": [
  {
   "cell_type": "markdown",
   "id": "7c5aac9e",
   "metadata": {},
   "source": [
    " # Machine Learning Projects "
   ]
  },
  {
   "cell_type": "markdown",
   "id": "77bf50ea",
   "metadata": {},
   "source": [
    "### This file contains an assortment of project from a Udemy class I took on Machine Learning and Data Science.These projects do have their own solution; however this is my personal spin on them. I hope you enjoy!"
   ]
  },
  {
   "cell_type": "markdown",
   "id": "61739ab8",
   "metadata": {},
   "source": [
    "### Project One - USA Housing"
   ]
  },
  {
   "cell_type": "markdown",
   "id": "a1751e8d",
   "metadata": {},
   "source": [
    "#### The purpose of this project is make a simple regression analysis on some Housing data pulled from the CSV files referenced"
   ]
  },
  {
   "cell_type": "markdown",
   "id": "5678e2c7",
   "metadata": {},
   "source": [
    "## Imports for all Projects"
   ]
  },
  {
   "cell_type": "code",
   "execution_count": null,
   "id": "958493f2",
   "metadata": {},
   "outputs": [],
   "source": [
    "import pandas as pd\n",
    "import numpy as np\n",
    "import matplotlib.pyplot as plt\n",
    "import seaborn as sns\n",
    "from sklearn.model_selection import train_test_split\n",
    "from sklearn.linear_model import LinearRegression\n",
    "from sklearn.datasets import load_boston\n",
    "from sklearn.metrics import mean_squared_error\n",
    "from sklearn.metrics import mean_absolute_error\n",
    "from sklearn.preprocessing import StandardScaler\n",
    "from sklearn.neighbors import KNeighborsClassifier\n",
    "from sklearn.metrics import accuracy_score, classification_report, confusion_matrix\n",
    "from sklearn.model_selection import train_test_split, cross_val_score\n",
    "%matplotlib inline"
   ]
  },
  {
   "cell_type": "markdown",
   "id": "2f65d1cd",
   "metadata": {},
   "source": [
    "### Import Housing Data"
   ]
  },
  {
   "cell_type": "code",
   "execution_count": null,
   "id": "46e4d67b",
   "metadata": {},
   "outputs": [],
   "source": [
    "USAHousingData = pd.read_csv('USA_Housing.csv')\n",
    "USAHousingData"
   ]
  },
  {
   "cell_type": "markdown",
   "id": "917b64b6",
   "metadata": {},
   "source": [
    "### EDA For Housing Data"
   ]
  },
  {
   "cell_type": "code",
   "execution_count": null,
   "id": "a60f10a0",
   "metadata": {},
   "outputs": [],
   "source": [
    "USAHousingData.head()"
   ]
  },
  {
   "cell_type": "code",
   "execution_count": null,
   "id": "b7f717fd",
   "metadata": {},
   "outputs": [],
   "source": [
    "USAHousingData.columns"
   ]
  },
  {
   "cell_type": "code",
   "execution_count": null,
   "id": "ec64f539",
   "metadata": {},
   "outputs": [],
   "source": [
    "sns.pairplot(USAHousingData)"
   ]
  },
  {
   "cell_type": "code",
   "execution_count": null,
   "id": "f8352e1a",
   "metadata": {},
   "outputs": [],
   "source": [
    "sns.distplot(USAHousingData[\"Price\"])"
   ]
  },
  {
   "cell_type": "code",
   "execution_count": null,
   "id": "5c8494a2",
   "metadata": {},
   "outputs": [],
   "source": [
    "Address = USAHousingData[\"Address\"]\n",
    "Address"
   ]
  },
  {
   "cell_type": "code",
   "execution_count": null,
   "id": "c9beba46",
   "metadata": {},
   "outputs": [],
   "source": [
    "USAHousingData = USAHousingData.drop(\"Address\",axis =1)"
   ]
  },
  {
   "cell_type": "code",
   "execution_count": null,
   "id": "92b67425",
   "metadata": {},
   "outputs": [],
   "source": [
    "sns.heatmap(USAHousingData.corr())"
   ]
  },
  {
   "cell_type": "code",
   "execution_count": null,
   "id": "2250cc6f",
   "metadata": {},
   "outputs": [],
   "source": [
    "sns.distplot(USAHousingData[\"Price\"])"
   ]
  },
  {
   "cell_type": "code",
   "execution_count": null,
   "id": "7eca53bc",
   "metadata": {},
   "outputs": [],
   "source": [
    "sns.heatmap(USAHousingData.corr(),annot = True)"
   ]
  },
  {
   "cell_type": "code",
   "execution_count": null,
   "id": "c10c938f",
   "metadata": {},
   "outputs": [],
   "source": [
    "USAHousingData.columns"
   ]
  },
  {
   "cell_type": "code",
   "execution_count": null,
   "id": "0202e859",
   "metadata": {},
   "outputs": [],
   "source": [
    "### Modeling for Housing Data"
   ]
  },
  {
   "cell_type": "code",
   "execution_count": null,
   "id": "64c143d4",
   "metadata": {},
   "outputs": [],
   "source": [
    "X = USAHousingData[['Avg. Area Income', 'Avg. Area House Age', 'Avg. Area Number of Rooms',\n",
    "       'Avg. Area Number of Bedrooms', 'Area Population']]"
   ]
  },
  {
   "cell_type": "code",
   "execution_count": null,
   "id": "a7bd1f25",
   "metadata": {},
   "outputs": [],
   "source": [
    "y = USAHousingData['Price']"
   ]
  },
  {
   "cell_type": "code",
   "execution_count": null,
   "id": "d5563763",
   "metadata": {},
   "outputs": [],
   "source": [
    "X_train, X_test, y_train, y_test = train_test_split(X,y,test_size = .4, random_state = 101)"
   ]
  },
  {
   "cell_type": "code",
   "execution_count": null,
   "id": "b55daf19",
   "metadata": {},
   "outputs": [],
   "source": [
    "lm = LinearRegression()"
   ]
  },
  {
   "cell_type": "code",
   "execution_count": null,
   "id": "e0c1776c",
   "metadata": {},
   "outputs": [],
   "source": [
    "lm.fit(X_train,y_train)"
   ]
  },
  {
   "cell_type": "code",
   "execution_count": null,
   "id": "ab550623",
   "metadata": {},
   "outputs": [],
   "source": [
    "print(lm.intercept_)"
   ]
  },
  {
   "cell_type": "code",
   "execution_count": null,
   "id": "b3b95679",
   "metadata": {},
   "outputs": [],
   "source": [
    "lm.coef_"
   ]
  },
  {
   "cell_type": "code",
   "execution_count": null,
   "id": "5858dad8",
   "metadata": {},
   "outputs": [],
   "source": [
    "X.columns"
   ]
  },
  {
   "cell_type": "code",
   "execution_count": null,
   "id": "f764cb8e",
   "metadata": {},
   "outputs": [],
   "source": [
    "cdf = pd.DataFrame(lm.coef_,X.columns,columns = ['Coeff'])\n",
    "cdf"
   ]
  },
  {
   "cell_type": "markdown",
   "id": "85f00036",
   "metadata": {},
   "source": [
    "### Importing ECommerce Data"
   ]
  },
  {
   "cell_type": "code",
   "execution_count": null,
   "id": "78f09636",
   "metadata": {},
   "outputs": [],
   "source": [
    "ECustomers = pd.read_csv(\"Ecommerce Customers\")\n",
    "ECustomers.head(5)"
   ]
  },
  {
   "cell_type": "code",
   "execution_count": null,
   "id": "c86a97b4",
   "metadata": {},
   "outputs": [],
   "source": [
    "ECustomers.describe()"
   ]
  },
  {
   "cell_type": "code",
   "execution_count": null,
   "id": "fa949267",
   "metadata": {},
   "outputs": [],
   "source": [
    "ECustomers.info()"
   ]
  },
  {
   "cell_type": "code",
   "execution_count": null,
   "id": "45e5a621",
   "metadata": {},
   "outputs": [],
   "source": [
    "sns.set(style = \"whitegrid\")\n",
    "sns.jointplot(x = ECustomers[\"Time on Website\"],y = ECustomers[\"Yearly Amount Spent\"],data = ECustomers, kind = \"scatter\")\n",
    "plt.show()"
   ]
  },
  {
   "cell_type": "code",
   "execution_count": null,
   "id": "2fb8e662",
   "metadata": {},
   "outputs": [],
   "source": [
    "sns.set(style = \"whitegrid\")\n",
    "sns.jointplot(x = ECustomers[\"Time on App\"],y = ECustomers[\"Yearly Amount Spent\"],data = ECustomers, kind = \"scatter\")\n",
    "plt.show()"
   ]
  },
  {
   "cell_type": "code",
   "execution_count": null,
   "id": "11763ea3",
   "metadata": {},
   "outputs": [],
   "source": [
    "sns.set(style = \"whitegrid\")\n",
    "sns.jointplot(x = ECustomers[\"Time on App\"],y = ECustomers[\"Length of Membership\"],data = ECustomers, kind = \"hex\")\n",
    "plt.show()"
   ]
  },
  {
   "cell_type": "code",
   "execution_count": null,
   "id": "0f4286a5",
   "metadata": {},
   "outputs": [],
   "source": [
    "sns.pairplot(data = ECustomers)"
   ]
  },
  {
   "cell_type": "code",
   "execution_count": null,
   "id": "092cb6ab",
   "metadata": {},
   "outputs": [],
   "source": [
    "sns.lmplot(x = \"Yearly Amount Spent\",y = \"Length of Membership\",data = ECustomers)"
   ]
  },
  {
   "cell_type": "code",
   "execution_count": null,
   "id": "c5a12e37",
   "metadata": {},
   "outputs": [],
   "source": [
    "ECustomers.info()"
   ]
  },
  {
   "cell_type": "code",
   "execution_count": null,
   "id": "ff4302bb",
   "metadata": {},
   "outputs": [],
   "source": [
    "X = ECustomers[[\"Avg. Session Length\",\"Time on App\",\"Time on Website\",\"Length of Membership\"]]\n",
    "y = ECustomers[[\"Yearly Amount Spent\"]]"
   ]
  },
  {
   "cell_type": "code",
   "execution_count": null,
   "id": "d2655b8e",
   "metadata": {},
   "outputs": [],
   "source": [
    "X_train, X_test, y_train, y_test = train_test_split(X,y,test_size = .4, random_state = 101)"
   ]
  },
  {
   "cell_type": "code",
   "execution_count": null,
   "id": "db6231b3",
   "metadata": {},
   "outputs": [],
   "source": [
    "lm = LinearRegression()"
   ]
  },
  {
   "cell_type": "code",
   "execution_count": null,
   "id": "19931da6",
   "metadata": {},
   "outputs": [],
   "source": [
    "lm.fit(X_train,y_train)"
   ]
  },
  {
   "cell_type": "code",
   "execution_count": null,
   "id": "bd188158",
   "metadata": {},
   "outputs": [],
   "source": [
    "print(lm.intercept_)"
   ]
  },
  {
   "cell_type": "code",
   "execution_count": null,
   "id": "a1c49c34",
   "metadata": {},
   "outputs": [],
   "source": [
    "lm.coef_"
   ]
  },
  {
   "cell_type": "code",
   "execution_count": null,
   "id": "6c6342a0",
   "metadata": {},
   "outputs": [],
   "source": [
    "preds = lm.predict(X_test)\n",
    "preds"
   ]
  },
  {
   "cell_type": "code",
   "execution_count": null,
   "id": "01b410a9",
   "metadata": {},
   "outputs": [],
   "source": [
    "plt.scatter(y_test,preds)\n",
    "plt.xlabel(\"Y Test\")\n",
    "plt.ylabel(\"Predicted Y\")"
   ]
  },
  {
   "cell_type": "markdown",
   "id": "9b4de3cd",
   "metadata": {},
   "source": [
    "### Interpreting Results for the model"
   ]
  },
  {
   "cell_type": "code",
   "execution_count": null,
   "id": "821939b9",
   "metadata": {},
   "outputs": [],
   "source": [
    "mae = mean_absolute_error(y_test, preds)\n",
    "print(\"Mean Absolute Error (MAE):\", mae)"
   ]
  },
  {
   "cell_type": "code",
   "execution_count": null,
   "id": "baba7839",
   "metadata": {},
   "outputs": [],
   "source": [
    "mse = mean_squared_error(y_test,preds)\n",
    "print(\"Mean Squared Error (MSE):\", mse)"
   ]
  },
  {
   "cell_type": "code",
   "execution_count": null,
   "id": "de667b6d",
   "metadata": {},
   "outputs": [],
   "source": [
    "mse = mean_squared_error(y_test, preds)\n",
    "\n",
    "# Calculate RMSE\n",
    "rmse = np.sqrt(mse)\n",
    "print(\"Root Mean Squared Error (RMSE):\", rmse)"
   ]
  },
  {
   "cell_type": "code",
   "execution_count": null,
   "id": "24b969fe",
   "metadata": {},
   "outputs": [],
   "source": [
    "residuals = y_test - preds"
   ]
  },
  {
   "cell_type": "code",
   "execution_count": null,
   "id": "cc031fde",
   "metadata": {},
   "outputs": [],
   "source": [
    "sns.set(style=\"whitegrid\")  # Optional: Set a style for the plot\n",
    "sns.distplot(residuals, bins=15, kde=True)  # You can adjust the number of bins\n",
    "plt.xlabel(\"Residuals\")\n",
    "plt.ylabel(\"Density\")\n",
    "plt.title(\"Distribution of Residuals\")\n",
    "plt.show()"
   ]
  },
  {
   "cell_type": "code",
   "execution_count": null,
   "id": "d58c8d88",
   "metadata": {},
   "outputs": [],
   "source": [
    "lm.coef_"
   ]
  },
  {
   "cell_type": "code",
   "execution_count": null,
   "id": "31cc3663",
   "metadata": {},
   "outputs": [],
   "source": [
    "X.columns"
   ]
  },
  {
   "cell_type": "markdown",
   "id": "450471d5",
   "metadata": {},
   "source": [
    "### Project Two - Advertising"
   ]
  },
  {
   "cell_type": "markdown",
   "id": "245b5a24",
   "metadata": {},
   "source": [
    "#### The purpose of this mini-project is to create a Logistic Regression analysis to see the types of factors that can influence whether an online add being click or not. *This one is does not really make common sense but the code is all there*"
   ]
  },
  {
   "cell_type": "markdown",
   "id": "4e46ca31",
   "metadata": {},
   "source": [
    "### Import Advertising Data"
   ]
  },
  {
   "cell_type": "code",
   "execution_count": null,
   "id": "419e200e",
   "metadata": {},
   "outputs": [],
   "source": [
    "AdData = pd.read_csv(\"advertising.csv\")\n",
    "AdData.head(3)"
   ]
  },
  {
   "cell_type": "code",
   "execution_count": null,
   "id": "3b0cd3c3",
   "metadata": {},
   "outputs": [],
   "source": [
    "AdData.info()"
   ]
  },
  {
   "cell_type": "code",
   "execution_count": null,
   "id": "1ec145f4",
   "metadata": {},
   "outputs": [],
   "source": [
    "AdData.describe()"
   ]
  },
  {
   "cell_type": "code",
   "execution_count": null,
   "id": "3a037906",
   "metadata": {},
   "outputs": [],
   "source": [
    "sns.histplot(AdData['Age'])"
   ]
  },
  {
   "cell_type": "code",
   "execution_count": null,
   "id": "b2a96354",
   "metadata": {},
   "outputs": [],
   "source": [
    "sns.jointplot(x = ECustomers[\"Time on App\"],y = ECustomers[\"Length of Membership\"],data = ECustomers, kind = \"hex\")"
   ]
  },
  {
   "cell_type": "code",
   "execution_count": null,
   "id": "927416e9",
   "metadata": {},
   "outputs": [],
   "source": [
    "sns.jointplot(x = AdData['Area Income'],y = AdData['Age'], data = AdData)"
   ]
  },
  {
   "cell_type": "code",
   "execution_count": null,
   "id": "5177a170",
   "metadata": {},
   "outputs": [],
   "source": [
    "sns.jointplot(x = AdData['Daily Time Spent on Site'],y = AdData['Daily Internet Usage'], data = AdData)"
   ]
  },
  {
   "cell_type": "code",
   "execution_count": null,
   "id": "640f2bfb",
   "metadata": {},
   "outputs": [],
   "source": [
    "sns.jointplot(x = AdData['Daily Time Spent on Site'],y = AdData['Age'], data = AdData, kind = \"kde\" )"
   ]
  },
  {
   "cell_type": "code",
   "execution_count": null,
   "id": "651623b1",
   "metadata": {},
   "outputs": [],
   "source": [
    "sns.set(style=\"whitegrid\")  # Optional: Set a style for the plot\n",
    "sns.pairplot(data=AdData, hue='Clicked on Ad')\n",
    "plt.show()"
   ]
  },
  {
   "cell_type": "code",
   "execution_count": null,
   "id": "93c7e869",
   "metadata": {},
   "outputs": [],
   "source": [
    "AdData"
   ]
  },
  {
   "cell_type": "markdown",
   "id": "9421ed1a",
   "metadata": {},
   "source": [
    "### Model Prepping "
   ]
  },
  {
   "cell_type": "code",
   "execution_count": null,
   "id": "63201e3f",
   "metadata": {},
   "outputs": [],
   "source": [
    "encoded_data = pd.get_dummies(AdData, columns=['Daily Time Spent on Site','Age','Area Income','Daily Internet Usage','Ad Topic Line','Male'])"
   ]
  },
  {
   "cell_type": "code",
   "execution_count": null,
   "id": "353fa9a7",
   "metadata": {},
   "outputs": [],
   "source": [
    "encoded_data"
   ]
  },
  {
   "cell_type": "code",
   "execution_count": null,
   "id": "0630576f",
   "metadata": {},
   "outputs": [],
   "source": [
    "encoded_data = encoded_data.drop([\"City\",\"Country\"],axis = 1)"
   ]
  },
  {
   "cell_type": "code",
   "execution_count": null,
   "id": "a683509a",
   "metadata": {},
   "outputs": [],
   "source": [
    "X = encoded_data\n",
    "y = AdData[\"Clicked on Ad\"]"
   ]
  },
  {
   "cell_type": "code",
   "execution_count": null,
   "id": "fd7fce29",
   "metadata": {},
   "outputs": [],
   "source": [
    "X"
   ]
  },
  {
   "cell_type": "code",
   "execution_count": null,
   "id": "7d6ff897",
   "metadata": {},
   "outputs": [],
   "source": [
    "y"
   ]
  },
  {
   "cell_type": "code",
   "execution_count": null,
   "id": "16cd1f61",
   "metadata": {},
   "outputs": [],
   "source": [
    "X_train, X_test, y_train, y_test = train_test_split(X,y,test_size = .3, random_state = 42)"
   ]
  },
  {
   "cell_type": "code",
   "execution_count": null,
   "id": "64884108",
   "metadata": {},
   "outputs": [],
   "source": [
    "y_test"
   ]
  },
  {
   "cell_type": "markdown",
   "id": "1d653f1a",
   "metadata": {},
   "source": [
    "### Model"
   ]
  },
  {
   "cell_type": "code",
   "execution_count": null,
   "id": "e55425f3",
   "metadata": {},
   "outputs": [],
   "source": [
    "model = LogisticRegression()"
   ]
  },
  {
   "cell_type": "code",
   "execution_count": null,
   "id": "551cc01e",
   "metadata": {},
   "outputs": [],
   "source": [
    "# Fit the model on the training data\n",
    "model.fit(X_train, y_train)\n",
    "\n",
    "# Make predictions on the test data\n",
    "y_pred = model.predict(X_test)"
   ]
  },
  {
   "cell_type": "code",
   "execution_count": null,
   "id": "f781287f",
   "metadata": {},
   "outputs": [],
   "source": [
    "# Evaluate the model\n",
    "accuracy = accuracy_score(y_test, y_pred)\n",
    "confusion = confusion_matrix(y_test, y_pred)\n",
    "classification_rep = classification_report(y_test, y_pred)\n",
    "\n",
    "print(\"Accuracy:\", accuracy)\n",
    "print(\"Confusion Matrix:\\n\", confusion)\n",
    "print(\"Classification Report:\\n\", classification_rep)"
   ]
  },
  {
   "cell_type": "markdown",
   "id": "8ad02f77",
   "metadata": {},
   "source": [
    "### Project Three - Advertising"
   ]
  },
  {
   "cell_type": "markdown",
   "id": "f0ff32e9",
   "metadata": {},
   "source": [
    "#### This mini-project is all about creating a KNN model with synthetic (not-real life) data"
   ]
  },
  {
   "cell_type": "code",
   "execution_count": null,
   "id": "e64132f4",
   "metadata": {},
   "outputs": [],
   "source": [
    "KNNProjectData = pd.read_csv(\"KNN_Project_Data\")"
   ]
  },
  {
   "cell_type": "code",
   "execution_count": null,
   "id": "75057857",
   "metadata": {},
   "outputs": [],
   "source": [
    "KNNProjectData.head(3)"
   ]
  },
  {
   "cell_type": "code",
   "execution_count": null,
   "id": "060a1d8e",
   "metadata": {},
   "outputs": [],
   "source": [
    "sns.pairplot(KNNProjectData, hue = \"TARGET CLASS\")"
   ]
  },
  {
   "cell_type": "code",
   "execution_count": null,
   "id": "32ed37f4",
   "metadata": {},
   "outputs": [],
   "source": [
    "scaler = StandardScaler()"
   ]
  },
  {
   "cell_type": "code",
   "execution_count": null,
   "id": "af12f965",
   "metadata": {},
   "outputs": [],
   "source": [
    "Y = KNNProjectData[\"TARGET CLASS\"]"
   ]
  },
  {
   "cell_type": "code",
   "execution_count": null,
   "id": "bbbd056f",
   "metadata": {},
   "outputs": [],
   "source": [
    "KNNProjectData = KNNProjectData.drop(\"TARGET CLASS\",axis = 1)"
   ]
  },
  {
   "cell_type": "markdown",
   "id": "ba34dd46",
   "metadata": {},
   "source": [
    "### Model Prepping and Model"
   ]
  },
  {
   "cell_type": "code",
   "execution_count": null,
   "id": "78d9152e",
   "metadata": {},
   "outputs": [],
   "source": [
    "# Fit and transform the data\n",
    "scaled_data = scaler.fit_transform(KNNProjectData)\n",
    "\n",
    "# Create a new DataFrame with the standardized data\n",
    "scaled_df = pd.DataFrame(scaled_data, columns=KNNProjectData.columns)"
   ]
  },
  {
   "cell_type": "code",
   "execution_count": null,
   "id": "cae5a585",
   "metadata": {},
   "outputs": [],
   "source": [
    "scaled_df"
   ]
  },
  {
   "cell_type": "code",
   "execution_count": null,
   "id": "832b7f75",
   "metadata": {},
   "outputs": [],
   "source": [
    "# Split the data into features and target\n",
    "X = scaled_df\n",
    "\n",
    "# Split the data into training and testing sets\n",
    "X_train, X_test, y_train, y_test = train_test_split(X, Y, test_size=0.33, random_state=42)"
   ]
  },
  {
   "cell_type": "code",
   "execution_count": null,
   "id": "83908749",
   "metadata": {},
   "outputs": [],
   "source": [
    "# Create a KNN model\n",
    "k = 3  # Number of neighbors to consider\n",
    "model = KNeighborsClassifier(n_neighbors=k)\n",
    "\n",
    "# Fit the model on the training data\n",
    "model.fit(X_train, y_train)\n",
    "\n",
    "# Make predictions on the test data\n",
    "y_pred = model.predict(X_test)"
   ]
  },
  {
   "cell_type": "code",
   "execution_count": null,
   "id": "f778bb35",
   "metadata": {},
   "outputs": [],
   "source": [
    "# Evaluate the model\n",
    "accuracy = accuracy_score(y_test, y_pred)\n",
    "confusion = confusion_matrix(y_test, y_pred)\n",
    "classification_rep = classification_report(y_test, y_pred)\n",
    "\n",
    "print(\"Accuracy:\", accuracy)\n",
    "print(\"Confusion Matrix:\\n\", confusion)\n",
    "print(\"Classification Report:\\n\", classification_rep)"
   ]
  },
  {
   "cell_type": "markdown",
   "id": "4e928782",
   "metadata": {},
   "source": [
    "### Retrain"
   ]
  },
  {
   "cell_type": "code",
   "execution_count": null,
   "id": "0e94df11",
   "metadata": {},
   "outputs": [],
   "source": [
    "# Create a list of K values to test\n",
    "k_values = list(range(3, 30))  # Test K values from 1 to 20\n",
    "\n",
    "# Initialize variables to store results\n",
    "best_k = None\n",
    "best_accuracy = 0"
   ]
  },
  {
   "cell_type": "code",
   "execution_count": null,
   "id": "42b9bd9b",
   "metadata": {},
   "outputs": [],
   "source": [
    "# Loop through different K values and perform cross-validation\n",
    "for k in k_values:\n",
    "    model = KNeighborsClassifier(n_neighbors=k)\n",
    "    scores = cross_val_score(model, X_train, y_train, cv=5)  # 5-fold cross-validation\n",
    "    mean_accuracy = scores.mean()\n",
    "    \n",
    "    if mean_accuracy > best_accuracy:\n",
    "        best_accuracy = mean_accuracy\n",
    "        best_k = k"
   ]
  },
  {
   "cell_type": "code",
   "execution_count": null,
   "id": "f879481a",
   "metadata": {},
   "outputs": [],
   "source": [
    "print(\"Best K value:\", best_k)\n",
    "print(\"Best Cross-Validation Accuracy:\", best_accuracy)"
   ]
  },
  {
   "cell_type": "code",
   "execution_count": null,
   "id": "05002c24",
   "metadata": {},
   "outputs": [],
   "source": [
    "# Train the final KNN model with the best K value on the entire training set\n",
    "final_model = KNeighborsClassifier(n_neighbors=best_k)\n",
    "final_model.fit(X_train, y_train)"
   ]
  },
  {
   "cell_type": "code",
   "execution_count": null,
   "id": "2ea3e131",
   "metadata": {},
   "outputs": [],
   "source": [
    "# Evaluate the final model on the test set\n",
    "test_accuracy = final_model.score(X_test, y_test)\n",
    "print(\"Test Set Accuracy with Best K:\", test_accuracy)"
   ]
  }
 ],
 "metadata": {
  "kernelspec": {
   "display_name": "conda_python3",
   "language": "python",
   "name": "conda_python3"
  },
  "language_info": {
   "codemirror_mode": {
    "name": "ipython",
    "version": 3
   },
   "file_extension": ".py",
   "mimetype": "text/x-python",
   "name": "python",
   "nbconvert_exporter": "python",
   "pygments_lexer": "ipython3",
   "version": "3.10.12"
  }
 },
 "nbformat": 4,
 "nbformat_minor": 5
}
