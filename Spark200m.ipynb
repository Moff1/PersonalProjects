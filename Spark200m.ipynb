{
 "cells": [
  {
   "cell_type": "code",
   "execution_count": 1,
   "id": "f9436203",
   "metadata": {},
   "outputs": [],
   "source": [
    "import pyspark\n",
    "from pyspark.sql import SparkSession\n",
    "from pyspark.sql.functions import col\n",
    "from pyspark.sql.functions import desc\n",
    "from pyspark.sql.functions import asc\n",
    "import findspark\n",
    "from pyspark.sql.types import StructType, StructField, StringType, IntegerType\n",
    "import pandas as pd\n",
    "findspark.init()"
   ]
  },
  {
   "cell_type": "code",
   "execution_count": 2,
   "id": "48a97bd5",
   "metadata": {},
   "outputs": [],
   "source": [
    "spark = SparkSession.builder.appName('Pro200M').enableHiveSupport().getOrCreate()"
   ]
  },
  {
   "cell_type": "code",
   "execution_count": 3,
   "id": "5c84a1c3",
   "metadata": {},
   "outputs": [],
   "source": [
    "ProMens200m = spark.read.format('csv').option('inferSchema','true').option('header','true').option('path','ProMens200m.csv').load()\n",
    "ProWomens200m = spark.read.format('csv').option('inferSchema','true').option('header','true').option('path','ProWomens200m.csv').load()"
   ]
  },
  {
   "cell_type": "code",
   "execution_count": 4,
   "id": "50313392",
   "metadata": {},
   "outputs": [],
   "source": [
    "ProMens200m.createOrReplaceTempView(\"ProMens200m\")\n",
    "ProWomens200m.createOrReplaceTempView(\"ProWomens200m\")"
   ]
  },
  {
   "cell_type": "code",
   "execution_count": 5,
   "id": "132e42ab",
   "metadata": {},
   "outputs": [
    {
     "name": "stdout",
     "output_type": "stream",
     "text": [
      "+--------+-----+-------+------------------+----------+---------+------------+-----------+\n",
      "|RANKINGS|TIMES|COUNTRY|           ATHLETE|  LOCATION|BIRTHYEAR|DATEOFTHERUN|WINDREADING|\n",
      "+--------+-----+-------+------------------+----------+---------+------------+-----------+\n",
      "|       1|19.19|    JAM|        Usain Bolt|    Berlin| 21.08.86|  20.08.2009|  -0.3    U|\n",
      "|       2|19.26|    JAM|       Yohan Blake| Bruxelles| 26.12.89|  16.09.2011|  +0.7    Y|\n",
      "|       3|19.30|    JAM|        Usain Bolt|   Beijing| 21.08.86|  20.08.2008|  -0.9    U|\n",
      "|       4|19.31|    USA|        Noah Lyles|    Eugene| 18.07.97|  21.07.2022|  +0.4    N|\n",
      "|       5|19.32|    USA|    MichaelJohnson|   Atlanta| 13.09.67|  01.08.1996|  +0.4    M|\n",
      "|       5|19.32|    JAM|        Usain Bolt|    London| 21.08.86|  09.08.2012|  +0.4    U|\n",
      "|       7|19.40|    JAM|        Usain Bolt|     Daegu| 21.08.86|  03.09.2011|  +0.8    U|\n",
      "|       8|19.44|    JAM|       Yohan Blake|    London| 26.12.89|  09.08.2012|  +0.4    Y|\n",
      "|       9|19.46|    USA|        Noah Lyles|    Monaco| 18.07.97|  10.08.2022|  +0.8    N|\n",
      "|      10|19.47|    USA|        Noah Lyles|    London| 18.07.97|  23.07.2023|  +1.6    N|\n",
      "|      11|19.49|    USA|    ErriyonKnighto|BatonRouge| 29.01.04|  30.04.2022|  +1.4    E|\n",
      "|      12|19.50|    USA|        Noah Lyles|  Lausanne| 18.07.97|  05.07.2019|  -0.1    N|\n",
      "|      12|19.50|    BOT|     LetsileTebogo|    London| 07.06.03|  23.07.2023|  +1.6    L|\n",
      "|      14|19.52|    USA|        Noah Lyles|    Eugene| 18.07.97|  21.08.2021|  +1.5    N|\n",
      "|      14|19.52|    USA|        Noah Lyles|    Zürich| 18.07.97|  08.09.2022|  -0.6    N|\n",
      "|      16|19.53|    USA|        Walter Dix| Bruxelles| 31.01.86|  16.09.2011|  +0.7    W|\n",
      "|      17|19.54|    JAM|       Yohan Blake| Bruxelles| 26.12.89|  07.09.2012|  ±0.0    Y|\n",
      "|      18|19.55|    JAM|        Usain Bolt|   Beijing| 21.08.86|  27.08.2015|  -0.1    U|\n",
      "|      19|19.56|    JAM|        Usain Bolt|  Kingston| 21.08.86|  01.05.2010|  -0.8    U|\n",
      "|      19|19.56|    USA|        Noah Lyles|  Lausanne| 18.07.97|  26.08.2022|  +1.3    N|\n",
      "+--------+-----+-------+------------------+----------+---------+------------+-----------+\n",
      "only showing top 20 rows\n",
      "\n"
     ]
    }
   ],
   "source": [
    "resultOne = spark.sql(\"SELECT * FROM ProMens200m\")\n",
    "resultOne.show()"
   ]
  },
  {
   "cell_type": "code",
   "execution_count": 6,
   "id": "ea5b9f81",
   "metadata": {},
   "outputs": [
    {
     "name": "stdout",
     "output_type": "stream",
     "text": [
      "+--------+------+-------+-------------------+---------------+---------+------------+-----------+\n",
      "|RANKINGS| TIMES|COUNTRY|            ATHLETE|       LOCATION|BIRTHYEAR|DATEOFTHERUN|WINDREADING|\n",
      "+--------+------+-------+-------------------+---------------+---------+------------+-----------+\n",
      "|       1| 21.34|    USA|     FlorenceGriffi|          Seoul| 21.12.59|  29.09.1988|  +1.3    F|\n",
      "|       2| 21.45|    JAM|     SherickaJackso|         Eugene| 16.07.94|  21.07.2022|  +0.6    S|\n",
      "|       3| 21.53|    JAM|    Elaine Thompson|          Tokyo| 28.06.92|  03.08.2021|  +0.8    E|\n",
      "|       4| 21.55|    JAM|     SherickaJackso|       Kingston| 16.07.94|  26.06.2022|  ±0.0    S|\n",
      "|       5| 21.56|    USA|     FlorenceGriffi|          Seoul| 21.12.59|  29.09.1988|  +1.7    F|\n",
      "|       6| 21.60|    USA|    Gabrielle Thoma|         Eugene| 07.12.96|  09.07.2023|  -0.4    G|\n",
      "|       7| 21.61|    USA|    Gabrielle Thoma|         Eugene| 07.12.96|  26.06.2021|  +1.3    G|\n",
      "|       8|21.62A|    USA|       Marion Jones|   Johannesburg| 12.10.75|  11.09.1998|  -0.6    M|\n",
      "|       9| 21.63|    NED|    Dafne Schippers|        Beijing| 15.06.92|  28.08.2015|  +0.2    D|\n",
      "|      10| 21.64|    JAM|       MerleneOttey|      Bruxelles| 10.05.60|  13.09.1991|  +0.8    M|\n",
      "|      11| 21.66|    JAM|       MerleneOttey|         Zürich| 10.05.60|  15.08.1990|  -1.0    M|\n",
      "|      11| 21.66|    JAM|    Elaine Thompson|        Beijing| 28.06.92|  28.08.2015|  +0.2    E|\n",
      "|      11| 21.66|    JAM|    Elaine Thompson|          Tokyo| 28.06.92|  02.08.2021|  +0.3    E|\n",
      "|      14| 21.67|    JAM|     SherickaJackso|         Eugene| 16.07.94|  19.07.2022|  +2.0    S|\n",
      "|      15| 21.69|    USA|       AllysonFelix|         Eugene| 18.11.85|  30.06.2012|  +1.0    A|\n",
      "|      16| 21.71|    GDR|        Marita Koch|Karl-Marx-Stadt| 18.02.57|  10.06.1979|  +0.7    M|\n",
      "|      16| 21.71|    GDR|        Marita Koch|        Potsdam| 18.02.57|  21.07.1984|  +0.3    M|\n",
      "|      16| 21.71|    GER|    Heike Drechsler|           Jena| 16.12.64|  29.06.1986|  +1.2    H|\n",
      "|      16| 21.71|    GER|    Heike Drechsler|      Stuttgart| 16.12.64|  29.08.1986|  -0.8    H|\n",
      "|      16| 21.71|    JAM|     SherickaJackso|       Kingston| 16.07.94|  09.07.2023|  -0.5    S|\n",
      "+--------+------+-------+-------------------+---------------+---------+------------+-----------+\n",
      "only showing top 20 rows\n",
      "\n"
     ]
    }
   ],
   "source": [
    "resultTwo = spark.sql(\"SELECT * FROM ProWomens200m\")\n",
    "resultTwo.show()"
   ]
  },
  {
   "cell_type": "code",
   "execution_count": null,
   "id": "d1526f7a",
   "metadata": {},
   "outputs": [],
   "source": []
  },
  {
   "cell_type": "code",
   "execution_count": null,
   "id": "b27db06b",
   "metadata": {},
   "outputs": [],
   "source": []
  },
  {
   "cell_type": "code",
   "execution_count": null,
   "id": "105ba102",
   "metadata": {},
   "outputs": [],
   "source": []
  },
  {
   "cell_type": "code",
   "execution_count": null,
   "id": "83903030",
   "metadata": {},
   "outputs": [],
   "source": []
  }
 ],
 "metadata": {
  "kernelspec": {
   "display_name": "Python 3 (ipykernel)",
   "language": "python",
   "name": "python3"
  },
  "language_info": {
   "codemirror_mode": {
    "name": "ipython",
    "version": 3
   },
   "file_extension": ".py",
   "mimetype": "text/x-python",
   "name": "python",
   "nbconvert_exporter": "python",
   "pygments_lexer": "ipython3",
   "version": "3.9.12"
  }
 },
 "nbformat": 4,
 "nbformat_minor": 5
}
