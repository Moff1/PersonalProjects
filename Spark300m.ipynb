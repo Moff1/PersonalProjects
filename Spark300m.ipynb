{
 "cells": [
  {
   "cell_type": "code",
   "execution_count": 1,
   "id": "4720bc97",
   "metadata": {},
   "outputs": [],
   "source": [
    "import pyspark\n",
    "from pyspark.sql import SparkSession\n",
    "from pyspark.sql.functions import col\n",
    "from pyspark.sql.functions import desc\n",
    "from pyspark.sql.functions import asc\n",
    "import findspark\n",
    "from pyspark.sql.types import StructType, StructField, StringType, IntegerType\n",
    "import pandas as pd\n",
    "findspark.init()"
   ]
  },
  {
   "cell_type": "code",
   "execution_count": 2,
   "id": "ba7f4609",
   "metadata": {},
   "outputs": [],
   "source": [
    "spark = SparkSession.builder.appName('Pro300M').enableHiveSupport().getOrCreate()"
   ]
  },
  {
   "cell_type": "code",
   "execution_count": 3,
   "id": "0a8bc0c9",
   "metadata": {},
   "outputs": [],
   "source": [
    "ProMens300m = spark.read.format('csv').option('inferSchema','true').option('header','true').option('path','Mens300m.csv').load()"
   ]
  },
  {
   "cell_type": "code",
   "execution_count": 4,
   "id": "d8649e8b",
   "metadata": {},
   "outputs": [],
   "source": [
    "ProWomens300m = spark.read.format('csv').option('inferSchema','true').option('header','true').option('path','Womens300m.csv').load()"
   ]
  },
  {
   "cell_type": "code",
   "execution_count": 6,
   "id": "106377cf",
   "metadata": {},
   "outputs": [],
   "source": [
    "ProMens300m.createOrReplaceTempView(\"ProMens300m\")"
   ]
  },
  {
   "cell_type": "code",
   "execution_count": 7,
   "id": "95eb5c9c",
   "metadata": {},
   "outputs": [],
   "source": [
    "ProWomens300m.createOrReplaceTempView(\"ProWomens300m\")"
   ]
  },
  {
   "cell_type": "code",
   "execution_count": 8,
   "id": "8d3aaa83",
   "metadata": {},
   "outputs": [
    {
     "name": "stdout",
     "output_type": "stream",
     "text": [
      "+--------+------+-------+-----------------+--------------------+---------+----------+\n",
      "|RANKINGS| TIMES|COUNTRY|          ATHLETE|            LOCATION|BIRTHYEAR| YEAROFRUN|\n",
      "+--------+------+-------+-----------------+--------------------+---------+----------+\n",
      "|       1| 30.81|    RSA| Wayde vanNiekerk|             Ostrava| 15.07.92|28.06.2017|\n",
      "|       2|30.85A|    USA|  Michael Johnson|            Pretoria| 13.09.67|24.03.2000|\n",
      "|       3| 30.97|    JAM|       Usain Bolt|             Ostrava| 21.08.86|27.05.2010|\n",
      "|       4| 31.03|    RSA| Wayde vanNiekerk|            Kingston| 15.07.92|11.06.2016|\n",
      "|       5| 31.23|    USA|  LaShawn Merritt|            Kingston| 27.06.86|11.06.2016|\n",
      "|       6| 31.30|    USA|  LaShawn Merritt|              Eugene| 27.06.86|07.06.2009|\n",
      "|       7| 31.31|    USA|  LaShawn Merritt|              Eugene| 27.06.86|08.08.2006|\n",
      "|       8| 31.44|    BOT|    Isaac Makwala|             Ostrava| 24.09.85|28.06.2017|\n",
      "|       9| 31.48|    USA|    Danny Everett|Jerez de la Frontera| 01.11.66|03.09.1990|\n",
      "|       9| 31.48|    CUB|Roberto Hernández|Jerez de la Frontera| 06.03.67|03.09.1990|\n",
      "|      11| 31.52|    BAH|  Steven Gardiner|               Ponce| 12.09.95|12.05.2022|\n",
      "|      11|31.52A|    BOT|   Letsile Tebogo|            Pretoria| 07.06.03|18.02.2023|\n",
      "|      13| 31.53|    USA|  LaShawn Merritt|             Atlanta| 27.06.86|01.08.2015|\n",
      "|      14| 31.56|    USA|  Michael Johnson|           Salamanca| 13.09.67|22.07.1994|\n",
      "|      14| 31.56|    GBR|      Doug Walker|           Gateshead| 28.07.73|19.07.1998|\n",
      "|      16| 31.59|    BAH|  Steven Gardiner|            Carolina| 12.09.95|17.03.2023|\n",
      "|      17| 31.61|    USA|  Anthuan Maybank|              Durham| 30.12.69|13.07.1996|\n",
      "|      17| 31.61|    RSA|   ClarenceMunyai|             Ostrava| 20.02.98|28.06.2017|\n",
      "|      19| 31.63|    RSA| Wayde vanNiekerk|          Birmingham| 15.07.92|07.06.2015|\n",
      "|      20| 31.64|    USA|      Tony McQuay|            Kingston| 16.04.90|11.06.2016|\n",
      "+--------+------+-------+-----------------+--------------------+---------+----------+\n",
      "only showing top 20 rows\n",
      "\n"
     ]
    }
   ],
   "source": [
    "resultOne = spark.sql(\"SELECT * FROM ProMens300m\")\n",
    "resultOne.show()"
   ]
  },
  {
   "cell_type": "code",
   "execution_count": 9,
   "id": "817ead9c",
   "metadata": {},
   "outputs": [
    {
     "name": "stdout",
     "output_type": "stream",
     "text": [
      "+--------+------+-------+--------------------+---------------+---------+----------+\n",
      "|RANKINGS| TIMES|COUNTRY|             ATHLETE|       LOCATION|BIRTHYEAR| YEAROFRUN|\n",
      "+--------+------+-------+--------------------+---------------+---------+----------+\n",
      "|       1| 34.41|    BAH| Shaunae Miller-Uibo|        Ostrava| 15.04.94|20.06.2019|\n",
      "|       2|34.60A|    NAM|   BeatriceMasilingi|       Pretoria| 10.04.03|18.02.2023|\n",
      "|       3| 35.16|    DOM|    MarileidyPaulino|       Carolina| 25.10.96|17.03.2023|\n",
      "|       4|35.30A|    MEX|         Ana Guevara|Ciudadde México| 04.03.77|03.05.2003|\n",
      "|       5| 35.46|    GBR|          Kathy Cook|         London| 03.05.60|18.08.1984|\n",
      "|       5| 35.46|    USA|Chandra Cheesebor...|         London| 10.01.59|18.08.1984|\n",
      "|       7| 35.51|    GBR|          Kathy Cook|         London| 03.05.60|09.09.1983|\n",
      "|       8| 35.70|    POL|     Irena Szewinska|         London| 24.05.46|04.07.1975|\n",
      "|       8| 35.70|    SUI|        Léa Sprunger|     Langenthal| 05.03.90|25.05.2017|\n",
      "|      10| 35.71|    GBR|        Donna Fraser|      Gateshead| 07.11.72|28.08.2000|\n",
      "|      11| 35.74|    USA|       CourtneyOkolo|        Houston| 15.03.94|23.07.2016|\n",
      "|      12| 35.81|    GER|         Silke Knoll|           Olpe| 21.02.67|19.05.1990|\n",
      "|      13| 35.82|    CAY|  Cydonie Mothersill|         Sydney| 19.03.78|14.09.2000|\n",
      "|      14| 35.91|    USA|       BrittanyBrown|        Ostrava| 18.04.95|20.06.2019|\n",
      "|      15| 35.92|    MEX|         Ana Guevara|      Gateshead| 04.03.77|19.08.2001|\n",
      "|      16| 35.99|    JAM|       Merlene Ottey|         London| 10.05.60|18.08.1984|\n",
      "|      17| 36.00|    GBR|      KatharineMerry|      Gateshead| 21.09.74|28.08.2000|\n",
      "|      17| 36.00|    USA|    LaTasha Colander|      Gateshead| 23.08.76|28.08.2000|\n",
      "|      19| 36.01|    GBR|       MichelleScutt|         London| 17.06.60|13.07.1980|\n",
      "|      20| 36.07|    USA|   Jearl Miles-Clark|         Sydney| 04.09.66|14.09.2000|\n",
      "+--------+------+-------+--------------------+---------------+---------+----------+\n",
      "only showing top 20 rows\n",
      "\n"
     ]
    }
   ],
   "source": [
    "resultTwo = spark.sql(\"SELECT * FROM ProWomens300m\")\n",
    "resultTwo.show()"
   ]
  },
  {
   "cell_type": "code",
   "execution_count": null,
   "id": "48967f66",
   "metadata": {},
   "outputs": [],
   "source": []
  },
  {
   "cell_type": "code",
   "execution_count": null,
   "id": "04dd2cb3",
   "metadata": {},
   "outputs": [],
   "source": []
  },
  {
   "cell_type": "code",
   "execution_count": null,
   "id": "ae61ee62",
   "metadata": {},
   "outputs": [],
   "source": []
  },
  {
   "cell_type": "code",
   "execution_count": null,
   "id": "635fe2ea",
   "metadata": {},
   "outputs": [],
   "source": []
  },
  {
   "cell_type": "code",
   "execution_count": null,
   "id": "d6c81fc0",
   "metadata": {},
   "outputs": [],
   "source": []
  }
 ],
 "metadata": {
  "kernelspec": {
   "display_name": "Python 3 (ipykernel)",
   "language": "python",
   "name": "python3"
  },
  "language_info": {
   "codemirror_mode": {
    "name": "ipython",
    "version": 3
   },
   "file_extension": ".py",
   "mimetype": "text/x-python",
   "name": "python",
   "nbconvert_exporter": "python",
   "pygments_lexer": "ipython3",
   "version": "3.9.12"
  }
 },
 "nbformat": 4,
 "nbformat_minor": 5
}
