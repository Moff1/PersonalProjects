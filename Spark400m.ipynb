{
 "cells": [
  {
   "cell_type": "markdown",
   "id": "31b9689a",
   "metadata": {},
   "source": [
    "## Import Packages"
   ]
  },
  {
   "cell_type": "code",
   "execution_count": 1,
   "id": "a30c322d",
   "metadata": {},
   "outputs": [],
   "source": [
    "import pyspark"
   ]
  },
  {
   "cell_type": "code",
   "execution_count": 2,
   "id": "6ad22882",
   "metadata": {},
   "outputs": [],
   "source": [
    "from pyspark.sql import SparkSession"
   ]
  },
  {
   "cell_type": "code",
   "execution_count": 3,
   "id": "eb23f56b",
   "metadata": {},
   "outputs": [],
   "source": [
    "from pyspark.sql.functions import col"
   ]
  },
  {
   "cell_type": "code",
   "execution_count": 4,
   "id": "e1749c51",
   "metadata": {},
   "outputs": [],
   "source": [
    "from pyspark.sql.functions import desc"
   ]
  },
  {
   "cell_type": "code",
   "execution_count": 5,
   "id": "eed3004b",
   "metadata": {},
   "outputs": [],
   "source": [
    "from pyspark.sql.functions import asc"
   ]
  },
  {
   "cell_type": "code",
   "execution_count": 6,
   "id": "bb7978c1",
   "metadata": {},
   "outputs": [],
   "source": [
    "import findspark"
   ]
  },
  {
   "cell_type": "code",
   "execution_count": 7,
   "id": "3e244fa3",
   "metadata": {},
   "outputs": [],
   "source": [
    "findspark.init()"
   ]
  },
  {
   "cell_type": "code",
   "execution_count": 8,
   "id": "7861315e",
   "metadata": {},
   "outputs": [],
   "source": [
    "spark = SparkSession.builder.appName('400M').getOrCreate()"
   ]
  },
  {
   "cell_type": "markdown",
   "id": "e0ff8dc3",
   "metadata": {},
   "source": [
    "## Load the Data"
   ]
  },
  {
   "cell_type": "code",
   "execution_count": 9,
   "id": "ca913ed6",
   "metadata": {},
   "outputs": [],
   "source": [
    "Mens400m = spark.read.format('csv').option('inferSchema','true').option('header','true').option('path','OutdoorMens400m.csv').load()"
   ]
  },
  {
   "cell_type": "code",
   "execution_count": 10,
   "id": "b0ff8238",
   "metadata": {},
   "outputs": [],
   "source": [
    "Womens400m = spark.read.format('csv').option('inferSchema','true').option('header','true').option('path','OutdoorWomens400m.csv').load()"
   ]
  },
  {
   "cell_type": "code",
   "execution_count": 11,
   "id": "2da22f62",
   "metadata": {},
   "outputs": [],
   "source": [
    "IndoorMens400m = spark.read.format('csv').option('inferSchema','true').option('header','true').option('path','IndoorMens400m.csv').load()"
   ]
  },
  {
   "cell_type": "code",
   "execution_count": 12,
   "id": "9a9794fb",
   "metadata": {},
   "outputs": [],
   "source": [
    "IndoorWomens400m = spark.read.format('csv').option('inferSchema','true').option('header','true').option('path','IndoorWomens400m.csv').load()"
   ]
  },
  {
   "cell_type": "code",
   "execution_count": 13,
   "id": "e54c36f5",
   "metadata": {},
   "outputs": [],
   "source": [
    "from pyspark.sql.types import StructType, StructField, StringType, IntegerType"
   ]
  },
  {
   "cell_type": "markdown",
   "id": "d67287fa",
   "metadata": {},
   "source": [
    "## Create Views"
   ]
  },
  {
   "cell_type": "code",
   "execution_count": 14,
   "id": "608a16a5",
   "metadata": {},
   "outputs": [],
   "source": [
    "Mens400m.createOrReplaceTempView(\"Mens400m\")"
   ]
  },
  {
   "cell_type": "code",
   "execution_count": 15,
   "id": "89c28756",
   "metadata": {},
   "outputs": [],
   "source": [
    "Womens400m.createOrReplaceTempView(\"Womens400m\")"
   ]
  },
  {
   "cell_type": "code",
   "execution_count": 16,
   "id": "f63205b5",
   "metadata": {},
   "outputs": [],
   "source": [
    "IndoorMens400m.createOrReplaceTempView(\"IndoorMens400m\")"
   ]
  },
  {
   "cell_type": "code",
   "execution_count": 17,
   "id": "fe368c48",
   "metadata": {},
   "outputs": [],
   "source": [
    "IndoorWomens400m.createOrReplaceTempView(\"IndoorWomens400m\")"
   ]
  },
  {
   "cell_type": "markdown",
   "id": "c61c6e2b",
   "metadata": {},
   "source": [
    "## Selection"
   ]
  },
  {
   "cell_type": "code",
   "execution_count": 18,
   "id": "a48e0eeb",
   "metadata": {},
   "outputs": [
    {
     "name": "stdout",
     "output_type": "stream",
     "text": [
      "+--------------------+-----+-------------------+\n",
      "|               Names|Times|            Schools|\n",
      "+--------------------+-----+-------------------+\n",
      "|(1) Michael NORMANSO|43.61|Southern California|\n",
      "|   (2) Fred KERLEYSR| 43.7|          Texas A&M|\n",
      "| (3) Randolph ROSSSO|43.85| North Carolina A&T|\n",
      "|(4) Akeem BLOOMFI...|43.94|             Auburn|\n",
      "|  (5) Quincy WATTSSR| 44.0|Southern California|\n",
      "|      — Kerley {2}SR|44.09|          Texas A&M|\n",
      "|      — Kerley {3}SR| 44.1|          Texas A&M|\n",
      "|  (6) Butch REYNOLDS| 44.1|         Ohio State|\n",
      "|        — Ross {2}JR|44.13| North Carolina A&T|\n",
      "|  (7) Nathon ALLENSO|44.13|             Auburn|\n",
      "|    — Reynolds {2}JR|44.13|         Ohio State|\n",
      "|    (8) Jerome YOUNG|44.19|  Saint Augustine's|\n",
      "|        — Ross {3}JR|44.23| North Carolina A&T|\n",
      "|(9) Kahmari MONTG...|44.23|            Houston|\n",
      "|(10) Emmanuel BAM...|44.24|            Florida|\n",
      "|  (11) Ryan WILLIEJR|44.25|            Florida|\n",
      "|(11) Trevor STEWA...|44.25| North Carolina A&T|\n",
      "|      — Willie {2}JR|44.27|            Florida|\n",
      "|(13) Darold WILLI...|44.27|             Baylor|\n",
      "|       — Allen {2}SO|44.28|             Auburn|\n",
      "+--------------------+-----+-------------------+\n",
      "only showing top 20 rows\n",
      "\n"
     ]
    }
   ],
   "source": [
    "resultone = spark.sql(\"SELECT * FROM Mens400m\")\n",
    "resultone.show()"
   ]
  },
  {
   "cell_type": "code",
   "execution_count": 19,
   "id": "45be483c",
   "metadata": {},
   "outputs": [
    {
     "name": "stdout",
     "output_type": "stream",
     "text": [
      "+--------------------+-----+-------------------+\n",
      "|               Names|Times|            Schools|\n",
      "+--------------------+-----+-------------------+\n",
      "|(1) Britton WILSONJR|49.13|           Arkansas|\n",
      "|(2) Rhasidat ADEL...| 49.2|              Texas|\n",
      "|      — Wilson {2}JR|49.36|           Arkansas|\n",
      "|      — Wilson {3}JR| 49.4|           Arkansas|\n",
      "|      — Wilson {4}JR|49.51|           Arkansas|\n",
      "|      — Wilson {5}JR|49.51|           Arkansas|\n",
      "|     — Adeleke {2}JR|49.54|              Texas|\n",
      "|     (3) Athing MUFR|49.57|          Texas A&M|\n",
      "|      — Wilson {6}JR|49.64|           Arkansas|\n",
      "|          — Mu {2}FR|49.68|          Texas A&M|\n",
      "|(4) Courtney OKOLOSR|49.71|              Texas|\n",
      "|    (5) Lynna IRBYFR| 49.8|            Georgia|\n",
      "|          — Mu {3}FR|49.84|          Texas A&M|\n",
      "|     — Adeleke {3}JR|49.86|              Texas|\n",
      "|(6) Charokee YOUNGSO|49.87|          Texas A&M|\n",
      "|     — Adeleke {4}JR| 49.9|              Texas|\n",
      "| (7) Talitha DIGGSSO|49.99|            Florida|\n",
      "| (7) Kendall ELLISSR|49.99|Southern California|\n",
      "|       — Young {2}SO| 50.0|          Texas A&M|\n",
      "|       — Okolo {2}SO|50.03|              Texas|\n",
      "+--------------------+-----+-------------------+\n",
      "only showing top 20 rows\n",
      "\n"
     ]
    }
   ],
   "source": [
    "resulttwo = spark.sql(\"SELECT * FROM Womens400m\")\n",
    "resulttwo.show()"
   ]
  },
  {
   "cell_type": "code",
   "execution_count": 20,
   "id": "4531e3e9",
   "metadata": {},
   "outputs": [
    {
     "name": "stdout",
     "output_type": "stream",
     "text": [
      "+--------------------+-----+-------------------+\n",
      "|               Names|Times|            Schools|\n",
      "+--------------------+-----+-------------------+\n",
      "|(1) Britton WILSONSO|49.48|           Arkansas|\n",
      "| (2) Talitha DIGGSSO|50.15|            Florida|\n",
      "|(3) Rhasidat ADEL...|50.33|              Texas|\n",
      "| (4) Kendall ELLISSR|50.34|Southern California|\n",
      "|(5) Sydney MCLAUG...|50.36|           Kentucky|\n",
      "|     — Adeleke {2}SO|50.45|              Texas|\n",
      "|     — Adeleke {3}SO|50.45|              Texas|\n",
      "| (6) Phyllis FRANCIS|50.46|             Oregon|\n",
      "|       — Diggs {2}SO|50.49|            Florida|\n",
      "|     (7) Athing MUFR|50.52|          Texas A&M|\n",
      "|  — McLaughlin {2}FR|50.52|           Kentucky|\n",
      "| (8) Rosey EFFIONGJR|50.54|           Arkansas|\n",
      "|(8) Francena MCCO...|50.54|            Hampton|\n",
      "|   (10) Lynna IRBYFR|50.62|            Georgia|\n",
      "| (11) Amber ANNINGJR|50.68|           Arkansas|\n",
      "|      — Wilson {2}SO|50.69|           Arkansas|\n",
      "|(12) Courtney OKO...|50.69|              Texas|\n",
      "|       — Okolo {2}SR|50.69|              Texas|\n",
      "|(13) Alexis HOLMESJR|50.77|           Kentucky|\n",
      "|       — Diggs {3}SO|50.79|            Florida|\n",
      "+--------------------+-----+-------------------+\n",
      "only showing top 20 rows\n",
      "\n"
     ]
    }
   ],
   "source": [
    "resultthree = spark.sql(\"SELECT * FROM IndoorWomens400m\")\n",
    "resultthree.show()"
   ]
  },
  {
   "cell_type": "code",
   "execution_count": 21,
   "id": "97617c1a",
   "metadata": {},
   "outputs": [
    {
     "name": "stdout",
     "output_type": "stream",
     "text": [
      "+--------------------+-----+--------------------+\n",
      "|               Names|Times|             Schools|\n",
      "+--------------------+-----+--------------------+\n",
      "|(1) Michael NORMANSO|44.52| Southern California|\n",
      "|(2) Kerron CLEMENTSO|44.57|             Florida|\n",
      "| (3) Randolph ROSSJR|44.62|  North Carolina A&T|\n",
      "| (4) Noah WILLIAMSJR|44.71|                 LSU|\n",
      "|  (5) Elija GODWINSR|44.75|             Georgia|\n",
      "|      — Godwin {2}SR|44.75|             Georgia|\n",
      "|  (6) Kirani JAMESSO| 44.8|             Alabama|\n",
      "|(7) Tyrell RICHARDSR|44.82|South Carolina State|\n",
      "|        — Ross {2}JR|44.83|  North Carolina A&T|\n",
      "|   (8) Fred KERLEYSR|44.85|           Texas A&M|\n",
      "|(9) Akeem BLOOMFI...|44.86|              Auburn|\n",
      "|  (10) Ryan WILLIEJR|44.93|             Florida|\n",
      "|(10) LaShawn MERRITT|44.93|       East Carolina|\n",
      "|        — Ross {3}SO|44.99|  North Carolina A&T|\n",
      "|      — Norman {2}SO| 45.0| Southern California|\n",
      "|  — Bloomfield {2}SO|45.02|              Auburn|\n",
      "|      — Kerley {2}SR|45.02|           Texas A&M|\n",
      "|(12) Kahmari MONT...|45.03|             Houston|\n",
      "| (12) Deon LENDOREJR|45.03|           Texas A&M|\n",
      "|(12) Torrin LAWRE...|45.03|             Georgia|\n",
      "+--------------------+-----+--------------------+\n",
      "only showing top 20 rows\n",
      "\n"
     ]
    }
   ],
   "source": [
    "resultfour = spark.sql(\"SELECT * FROM IndoorMens400m\")\n",
    "resultfour.show()"
   ]
  },
  {
   "cell_type": "markdown",
   "id": "12fcebb2",
   "metadata": {},
   "source": [
    "## Query One (Mens Times)"
   ]
  },
  {
   "cell_type": "code",
   "execution_count": null,
   "id": "4c3068e2",
   "metadata": {},
   "outputs": [],
   "source": [
    "QueryOneA = spark.sql(\"SELECT Times, COUNT(*) as count FROM Mens400m GROUP BY Times ORDER BY count DESC\")\n",
    "QueryOneA.show()"
   ]
  },
  {
   "cell_type": "code",
   "execution_count": null,
   "id": "aa9559ce",
   "metadata": {},
   "outputs": [],
   "source": [
    "QueryOneB = spark.sql(\"SELECT Times, COUNT(*) as count FROM IndoorMens400m GROUP BY Times ORDER BY count DESC\")\n",
    "QueryOneB.show()"
   ]
  },
  {
   "cell_type": "markdown",
   "id": "a9325631",
   "metadata": {},
   "source": [
    "## Query Two (Womens Times)"
   ]
  },
  {
   "cell_type": "code",
   "execution_count": null,
   "id": "4f52f33d",
   "metadata": {},
   "outputs": [],
   "source": [
    "QueryTwoA = spark.sql(\"SELECT Times, COUNT(*) as count FROM Womens400m GROUP BY Times ORDER BY count DESC\")\n",
    "QueryTwoA.show()"
   ]
  },
  {
   "cell_type": "code",
   "execution_count": null,
   "id": "b1d78d5b",
   "metadata": {},
   "outputs": [],
   "source": [
    "QueryTwoB = spark.sql(\"SELECT Times, COUNT(*) as count FROM IndoorWomens400m GROUP BY Times ORDER BY count DESC\")\n",
    "QueryTwoB.show()"
   ]
  },
  {
   "cell_type": "markdown",
   "id": "59c4a48a",
   "metadata": {},
   "source": [
    "## Query Three (Mens Schools)"
   ]
  },
  {
   "cell_type": "code",
   "execution_count": null,
   "id": "8e58828d",
   "metadata": {},
   "outputs": [],
   "source": [
    "QueryThreeA = spark.sql(\"SELECT Schools, COUNT(*) as count FROM IndoorMens400m GROUP BY Schools ORDER BY count DESC\")\n",
    "QueryThreeA.show()"
   ]
  },
  {
   "cell_type": "code",
   "execution_count": null,
   "id": "0b333298",
   "metadata": {},
   "outputs": [],
   "source": [
    "QueryThreeB = spark.sql(\"SELECT Schools, COUNT(*) as count FROM Mens400m GROUP BY Schools ORDER BY count DESC\")\n",
    "QueryThreeB.show()"
   ]
  },
  {
   "cell_type": "markdown",
   "id": "a3065b70",
   "metadata": {},
   "source": [
    "## Query Four (Womens Schools)"
   ]
  },
  {
   "cell_type": "code",
   "execution_count": null,
   "id": "db87da7f",
   "metadata": {},
   "outputs": [],
   "source": [
    "QueryFourA = spark.sql(\"SELECT Schools, COUNT(*) as count FROM Womens400m GROUP BY Schools ORDER BY count DESC\")\n",
    "QueryFourA.show()"
   ]
  },
  {
   "cell_type": "code",
   "execution_count": null,
   "id": "e70dc0b4",
   "metadata": {},
   "outputs": [],
   "source": [
    "QueryFourB = spark.sql(\"SELECT Schools, COUNT(*) as count FROM IndoorWomens400m GROUP BY Schools ORDER BY count DESC\")\n",
    "QueryFourB.show()"
   ]
  },
  {
   "cell_type": "markdown",
   "id": "576d5e9a",
   "metadata": {},
   "source": [
    "## Query Five (Womens Times Percentages)"
   ]
  },
  {
   "cell_type": "code",
   "execution_count": null,
   "id": "1a41ce61",
   "metadata": {},
   "outputs": [],
   "source": [
    "QueryFiveA = spark.sql(\"SELECT Times, COUNT(*) as count, (COUNT(*) / (SELECT COUNT(*) FROM Womens400m)) * 100 as percentage FROM Womens400m GROUP BY Times\")\n",
    "QueryFiveA.show()"
   ]
  },
  {
   "cell_type": "code",
   "execution_count": null,
   "id": "791244ad",
   "metadata": {},
   "outputs": [],
   "source": [
    "QueryFiveB = spark.sql(\"SELECT Times, COUNT(*) as count, (COUNT(*) / (SELECT COUNT(*) FROM IndoorWomens400m)) * 100 as percentage FROM IndoorWomens400m GROUP BY Times\")\n",
    "QueryFiveB.show()"
   ]
  },
  {
   "cell_type": "markdown",
   "id": "00d90124",
   "metadata": {},
   "source": [
    "## Query Five (Mens Schools)"
   ]
  },
  {
   "cell_type": "code",
   "execution_count": null,
   "id": "0d986cd6",
   "metadata": {},
   "outputs": [],
   "source": [
    "QuerySixA = spark.sql(\"SELECT Times, COUNT(*) as count, (COUNT(*) / (SELECT COUNT(*) FROM Mens400m)) * 100 as percentage FROM Mens400m GROUP BY Times\")\n",
    "QuerySixA.show()"
   ]
  },
  {
   "cell_type": "code",
   "execution_count": null,
   "id": "0efffb27",
   "metadata": {},
   "outputs": [],
   "source": [
    "QuerySixB = spark.sql(\"SELECT Times, COUNT(*) as count, (COUNT(*) / (SELECT COUNT(*) FROM IndoorMens400m)) * 100 as percentage FROM IndoorMens400m GROUP BY Times\")\n",
    "QuerySixB.show()"
   ]
  },
  {
   "cell_type": "code",
   "execution_count": null,
   "id": "268669b4",
   "metadata": {},
   "outputs": [],
   "source": [
    "import pandas as pd\n",
    "import matplotlib.pyplot as plt\n",
    "import seaborn as sns"
   ]
  },
  {
   "cell_type": "code",
   "execution_count": null,
   "id": "aea60ef2",
   "metadata": {},
   "outputs": [],
   "source": [
    "## Import DataFrames"
   ]
  },
  {
   "cell_type": "code",
   "execution_count": null,
   "id": "82be6b48",
   "metadata": {},
   "outputs": [],
   "source": [
    "Mens400mDF = pd.read_csv('OutdoorMens400m.csv')\n",
    "Mens400mDF"
   ]
  },
  {
   "cell_type": "code",
   "execution_count": null,
   "id": "ebc051fc",
   "metadata": {},
   "outputs": [],
   "source": [
    "Womens400mDF = pd.read_csv('OutdoorWomens400m.csv')\n",
    "Womens400mDF"
   ]
  },
  {
   "cell_type": "code",
   "execution_count": null,
   "id": "a6141871",
   "metadata": {},
   "outputs": [],
   "source": [
    "IndoorMens400mDF = pd.read_csv('IndoorMens400m.csv')\n",
    "IndoorMens400mDF"
   ]
  },
  {
   "cell_type": "code",
   "execution_count": null,
   "id": "79d23a6c",
   "metadata": {},
   "outputs": [],
   "source": [
    "IndoorWomens400mDF = pd.read_csv('IndoorWomens400m.csv')\n",
    "IndoorWomens400mDF"
   ]
  },
  {
   "cell_type": "markdown",
   "id": "5cfd5c94",
   "metadata": {},
   "source": [
    "## Create a histogram using Seaborn"
   ]
  },
  {
   "cell_type": "code",
   "execution_count": null,
   "id": "05267f5f",
   "metadata": {},
   "outputs": [],
   "source": [
    "\n",
    "column_name = \"Times\"\n",
    "sns.histplot(Mens400mDF[column_name], bins=20, kde=True, color='skyblue', edgecolor='black')\n",
    "\n",
    "# Add labels and title\n",
    "plt.xlabel(column_name)\n",
    "plt.ylabel('Frequency')\n",
    "plt.title(f'Distribution of {column_name}')\n",
    "\n",
    "# Show the plot\n",
    "plt.show()"
   ]
  },
  {
   "cell_type": "code",
   "execution_count": null,
   "id": "aca7903d",
   "metadata": {},
   "outputs": [],
   "source": [
    "# Create a histogram using Seaborn\n",
    "column_name = \"Times\"\n",
    "sns.histplot(Womens400mDF[column_name], bins=20, kde=True, color='red', edgecolor='black')\n",
    "\n",
    "# Add labels and title\n",
    "plt.xlabel(column_name)\n",
    "plt.ylabel('Frequency')\n",
    "plt.title(f'Distribution of {column_name}')\n",
    "\n",
    "# Show the plot\n",
    "plt.show()"
   ]
  },
  {
   "cell_type": "code",
   "execution_count": null,
   "id": "06b136b1",
   "metadata": {},
   "outputs": [],
   "source": [
    "# Create a histogram using Seaborn\n",
    "column_name = \"Times\"\n",
    "sns.histplot(IndoorMens400mDF[column_name], bins=20, kde=True, color='darkblue', edgecolor='black')\n",
    "\n",
    "# Add labels and title\n",
    "plt.xlabel(column_name)\n",
    "plt.ylabel('Frequency')\n",
    "plt.title(f'Distribution of {column_name}')\n",
    "\n",
    "# Show the plot\n",
    "plt.show()\n"
   ]
  },
  {
   "cell_type": "code",
   "execution_count": null,
   "id": "7bba9850",
   "metadata": {},
   "outputs": [],
   "source": [
    "# Create a histogram using Seaborn\n",
    "column_name = \"Times\"\n",
    "sns.histplot(IndoorWomens400mDF[column_name], bins=20, kde=True, color='green', edgecolor='black')\n",
    "\n",
    "# Add labels and title\n",
    "plt.xlabel(column_name)\n",
    "plt.ylabel('Frequency')\n",
    "plt.title(f'Distribution of {column_name}')\n",
    "\n",
    "# Show the plot\n",
    "plt.show()"
   ]
  },
  {
   "cell_type": "code",
   "execution_count": null,
   "id": "923691ce",
   "metadata": {},
   "outputs": [],
   "source": []
  }
 ],
 "metadata": {
  "kernelspec": {
   "display_name": "Python 3 (ipykernel)",
   "language": "python",
   "name": "python3"
  },
  "language_info": {
   "codemirror_mode": {
    "name": "ipython",
    "version": 3
   },
   "file_extension": ".py",
   "mimetype": "text/x-python",
   "name": "python",
   "nbconvert_exporter": "python",
   "pygments_lexer": "ipython3",
   "version": "3.9.12"
  }
 },
 "nbformat": 4,
 "nbformat_minor": 5
}
