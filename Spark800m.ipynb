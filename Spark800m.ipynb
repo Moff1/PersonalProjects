{
 "cells": [
  {
   "cell_type": "markdown",
   "id": "018ec899",
   "metadata": {},
   "source": [
    "## Import Packages"
   ]
  },
  {
   "cell_type": "code",
   "execution_count": 2,
   "id": "a30c322d",
   "metadata": {},
   "outputs": [],
   "source": [
    "import pyspark"
   ]
  },
  {
   "cell_type": "code",
   "execution_count": 3,
   "id": "6ad22882",
   "metadata": {},
   "outputs": [],
   "source": [
    "from pyspark.sql import SparkSession"
   ]
  },
  {
   "cell_type": "code",
   "execution_count": 4,
   "id": "eb23f56b",
   "metadata": {},
   "outputs": [],
   "source": [
    "from pyspark.sql.functions import col"
   ]
  },
  {
   "cell_type": "code",
   "execution_count": 5,
   "id": "e1749c51",
   "metadata": {},
   "outputs": [],
   "source": [
    "from pyspark.sql.functions import desc"
   ]
  },
  {
   "cell_type": "code",
   "execution_count": 6,
   "id": "eed3004b",
   "metadata": {},
   "outputs": [],
   "source": [
    "from pyspark.sql.functions import asc"
   ]
  },
  {
   "cell_type": "code",
   "execution_count": 7,
   "id": "bb7978c1",
   "metadata": {},
   "outputs": [],
   "source": [
    "import findspark"
   ]
  },
  {
   "cell_type": "code",
   "execution_count": 8,
   "id": "3e244fa3",
   "metadata": {},
   "outputs": [],
   "source": [
    "findspark.init()"
   ]
  },
  {
   "cell_type": "code",
   "execution_count": 9,
   "id": "7861315e",
   "metadata": {},
   "outputs": [],
   "source": [
    "spark = SparkSession.builder.appName('800MDash').getOrCreate()"
   ]
  },
  {
   "cell_type": "code",
   "execution_count": 10,
   "id": "ca913ed6",
   "metadata": {},
   "outputs": [],
   "source": [
    "Mens800m = spark.read.format('csv').option('inferSchema','true').option('header','true').option('path','Mens800m.csv').load()"
   ]
  },
  {
   "cell_type": "code",
   "execution_count": 11,
   "id": "b0ff8238",
   "metadata": {},
   "outputs": [],
   "source": [
    "Womens800m = spark.read.format('csv').option('inferSchema','true').option('header','true').option('path','Womens800m.csv').load()"
   ]
  },
  {
   "cell_type": "code",
   "execution_count": 15,
   "id": "e0b91b2b",
   "metadata": {},
   "outputs": [],
   "source": [
    "IndoorMens800m = spark.read.format('csv').option('inferSchema','true').option('header','true').option('path','MensIndoor800m.csv').load()"
   ]
  },
  {
   "cell_type": "code",
   "execution_count": 16,
   "id": "f3f8158c",
   "metadata": {},
   "outputs": [],
   "source": [
    "IndoorWomens800m = spark.read.format('csv').option('inferSchema','true').option('header','true').option('path','WomensIndoor800m.csv').load()"
   ]
  },
  {
   "cell_type": "code",
   "execution_count": 12,
   "id": "e54c36f5",
   "metadata": {},
   "outputs": [],
   "source": [
    "from pyspark.sql.types import StructType, StructField, StringType, IntegerType"
   ]
  },
  {
   "cell_type": "markdown",
   "id": "ee68f03d",
   "metadata": {},
   "source": [
    "## Create Views"
   ]
  },
  {
   "cell_type": "code",
   "execution_count": 13,
   "id": "608a16a5",
   "metadata": {},
   "outputs": [],
   "source": [
    "Mens800m.createOrReplaceTempView(\"Mens800m\")"
   ]
  },
  {
   "cell_type": "code",
   "execution_count": 14,
   "id": "89c28756",
   "metadata": {},
   "outputs": [],
   "source": [
    "Womens800m.createOrReplaceTempView(\"Womens800m\")"
   ]
  },
  {
   "cell_type": "code",
   "execution_count": 17,
   "id": "2a7ba0be",
   "metadata": {},
   "outputs": [],
   "source": [
    "IndoorMens800m.createOrReplaceTempView(\"IndoorMens800m\")"
   ]
  },
  {
   "cell_type": "code",
   "execution_count": 18,
   "id": "bf9b61ed",
   "metadata": {},
   "outputs": [],
   "source": [
    "IndoorWomens800m.createOrReplaceTempView(\"IndoorWomens800m\")"
   ]
  },
  {
   "cell_type": "code",
   "execution_count": null,
   "id": "995badde",
   "metadata": {},
   "outputs": [],
   "source": []
  },
  {
   "cell_type": "code",
   "execution_count": 19,
   "id": "a48e0eeb",
   "metadata": {
    "scrolled": true
   },
   "outputs": [
    {
     "name": "stdout",
     "output_type": "stream",
     "text": [
      "+--------------------+-------+-------------------+\n",
      "|               Names|  Times|            Schools|\n",
      "+--------------------+-------+-------------------+\n",
      "|(1) Michael SARUNISO|1:43.25|               UTEP|\n",
      "|(2) Donavan BRAZI...|1:43.55|          Texas A&M|\n",
      "|   (3) Moad ZAHAFISR|1:43.69|         Texas Tech|\n",
      "|(4) Emmanuel KORIRFR|1:43.73|               UTEP|\n",
      "|   (5) Will SUMNERFR|1:44.26|            Georgia|\n",
      "|  (6) Bryce HOPPELJR|1:44.41|             Kansas|\n",
      "|      — Zahafi {2}SR|1:44.49|         Texas Tech|\n",
      "|(7) Brandon MCBRI...|1:44.50|  Mississippi State|\n",
      "|    (8) Julius ACHON|1:44.55|       George Mason|\n",
      "|     — McBride {2}SR|1:44.63|  Mississippi State|\n",
      "|      — Zahafi {3}SR|1:44.65|         Texas Tech|\n",
      "| (9) Isaiah JEWETTSR|1:44.68|Southern California|\n",
      "| (10) Mark EVERETTSR|1:44.70|            Florida|\n",
      "|(11) Robby ANDREWSSO|1:44.71|           Virginia|\n",
      "|     (11) Cory PRIMM|1:44.71|               UCLA|\n",
      "|(13) Dmitrijs MIL...|1:44.74|           Nebraska|\n",
      "| (14) Charles JOCKSR|1:44.75|          UC Irvine|\n",
      "|        — Jock {2}JR|1:44.75|          UC Irvine|\n",
      "|  (15) Devin DIXONJR|1:44.76|          Texas A&M|\n",
      "|(15) Isaiah HARRISJR|1:44.76|         Penn State|\n",
      "+--------------------+-------+-------------------+\n",
      "only showing top 20 rows\n",
      "\n"
     ]
    }
   ],
   "source": [
    "resultone = spark.sql(\"SELECT * FROM Mens800m\")\n",
    "resultone.show()"
   ]
  },
  {
   "cell_type": "code",
   "execution_count": 20,
   "id": "f706a3a1",
   "metadata": {},
   "outputs": [
    {
     "name": "stdout",
     "output_type": "stream",
     "text": [
      "+--------------------+-------+-----------+\n",
      "|               Names|  Times|    Schools|\n",
      "+--------------------+-------+-----------+\n",
      "|     (1) Athing MUFR|1:57.73|  Texas A&M|\n",
      "| (2) Michaela ROSESO|1:59.08|        LSU|\n",
      "| (3) Raevyn ROGERSJR|1:59.10|     Oregon|\n",
      "|    (4) Suzy FAVORSR|1:59.11|  Wisconsin|\n",
      "|(5) Alysia JOHNSONJR|1:59.29| California|\n",
      "|    (6) Katie ERDMAN|1:59.35|   Michigan|\n",
      "|        — Rogers {2}|1:59.71|     Oregon|\n",
      "|        — Rose {2}SO|1:59.73|        LSU|\n",
      "|        — Rose {3}SO|1:59.83|        LSU|\n",
      "|      — Rogers {3}JR|2:00.02|     Oregon|\n",
      "|(7) Claire SEYMOURSR|2:00.04|        BYU|\n",
      "|  (8) Natoya GOULEJR|2:00.06|        LSU|\n",
      "|    (9) Jasmin JONES|2:00.24|  Tennessee|\n",
      "|  (10) Inez TURNERSR|2:00.27|Texas State|\n",
      "|(11) Michaela MEY...|2:00.28|   Virginia|\n",
      "|        — Rose {4}SO|2:00.31|        LSU|\n",
      "|(12) Valery TOBIASSR|2:00.31|      Texas|\n",
      "|        — Rose {5}SO|2:00.34|        LSU|\n",
      "|        — Rose {6}SO|2:00.34|        LSU|\n",
      "|       — Meyer {2}SR|2:00.40|   Virginia|\n",
      "+--------------------+-------+-----------+\n",
      "only showing top 20 rows\n",
      "\n"
     ]
    }
   ],
   "source": [
    "resulttwo = spark.sql(\"SELECT * FROM Womens800m\")\n",
    "resulttwo.show()"
   ]
  },
  {
   "cell_type": "code",
   "execution_count": 21,
   "id": "ae27f7c3",
   "metadata": {},
   "outputs": [
    {
     "name": "stdout",
     "output_type": "stream",
     "text": [
      "+--------------------+-------+-----------------+\n",
      "|               Names|  Times|          Schools|\n",
      "+--------------------+-------+-----------------+\n",
      "|    (1) Paul ERENGSO|1:44.84|         Virginia|\n",
      "|(2) Michael SARUNISO|1:45.15|             UTEP|\n",
      "|      — Saruni {2}SO|1:45.19|             UTEP|\n",
      "|(3) Brandon MILLERSO|1:45.24|        Texas A&M|\n",
      "|   (4) Devin DIXONJR|1:45.27|        Texas A&M|\n",
      "|(5) Patrick NDUWI...|1:45.33|          Arizona|\n",
      "|(6) Charlie HUNTERJR|1:45.59|           Oregon|\n",
      "|(7) Einars TUPURITIS|1:45.80|    Wichita State|\n",
      "|(8) Derrick PETER...|1:45.88|         Missouri|\n",
      "|      — Hunter {2}JR|1:45.90|           Oregon|\n",
      "|    (9) Marco AROPSO|1:45.90|Mississippi State|\n",
      "|(10) Finley MCLEARSO|1:45.91|     Miami (Ohio)|\n",
      "|(11) Donavan BRAZ...|1:45.93|        Texas A&M|\n",
      "|    (12) Dirk HEINZE|1:45.95|         Arkansas|\n",
      "|(13) Takieddine H...|1:45.98|       Texas Tech|\n",
      "|     — Tupuritis {2}|1:45.98|    Wichita State|\n",
      "|(14) Yusuf BIZIMA...|1:46.02|            Texas|\n",
      "|  (15) Edward KEMBOI|1:46.05|       Iowa State|\n",
      "|   (15) Trinity GRAY|1:46.05|            Brown|\n",
      "|   (17) Sam AUSTINSO|1:46.06|          Florida|\n",
      "+--------------------+-------+-----------------+\n",
      "only showing top 20 rows\n",
      "\n"
     ]
    }
   ],
   "source": [
    "resultthree = spark.sql(\"SELECT * FROM IndoorMens800m\")\n",
    "resultthree.show()"
   ]
  },
  {
   "cell_type": "code",
   "execution_count": 22,
   "id": "98bc1f18",
   "metadata": {},
   "outputs": [
    {
     "name": "stdout",
     "output_type": "stream",
     "text": [
      "+--------------------+-------+-------------+\n",
      "|               Names|  Times|      Schools|\n",
      "+--------------------+-------+-------------+\n",
      "|     (1) Athing MUFR|1:58.40|    Texas A&M|\n",
      "| (2) Roisin WILLISFR|1:59.93|     Stanford|\n",
      "|      — Willis {2}FR|1:59.95|     Stanford|\n",
      "|(3) Juliette WHIT...|2:00.05|     Stanford|\n",
      "| (4) Michaela ROSESO|2:00.18|          LSU|\n",
      "|   — Whittaker {2}FR|2:00.32|     Stanford|\n",
      "|(5) Aaliyah MILLERSR|2:00.69|       Baylor|\n",
      "|  (5) Jazmine FRAYSO|2:00.69|    Texas A&M|\n",
      "|     (7) Nia AKINSSR|2:00.71|         Penn|\n",
      "|   (8) Nicole COOKSR|2:00.75|    Tennessee|\n",
      "|        — Rose {2}SO|2:00.85|          LSU|\n",
      "| (9) Raevyn ROGERSSO|2:00.90|       Oregon|\n",
      "|          — Mu {2}FR|2:01.07|    Texas A&M|\n",
      "|        — Rose {3}SO|2:01.09|          LSU|\n",
      "|      — Rogers {2}JR|2:01.09|       Oregon|\n",
      "|(10) Laurie BARTONSR|2:01.21|      Clemson|\n",
      "|(11) Shafiqua MAL...|2:01.22|     Arkansas|\n",
      "|(12) Imogen BARRE...|2:01.23|      Florida|\n",
      "|(12) Lindsey BUTL...|2:01.23|Virginia Tech|\n",
      "|      — Butler {2}JR|2:01.37|Virginia Tech|\n",
      "+--------------------+-------+-------------+\n",
      "only showing top 20 rows\n",
      "\n"
     ]
    }
   ],
   "source": [
    "resultfour = spark.sql(\"SELECT * FROM IndoorWomens800m\")\n",
    "resultfour.show()"
   ]
  },
  {
   "cell_type": "markdown",
   "id": "2f729713",
   "metadata": {},
   "source": [
    "## Query One - Times (Womens)"
   ]
  },
  {
   "cell_type": "code",
   "execution_count": 23,
   "id": "8c370415",
   "metadata": {},
   "outputs": [
    {
     "name": "stdout",
     "output_type": "stream",
     "text": [
      "+-------+-----+\n",
      "|  Times|count|\n",
      "+-------+-----+\n",
      "|2:02.15|    3|\n",
      "|2:01.96|    3|\n",
      "|2:02.13|    3|\n",
      "|2:02.00|    3|\n",
      "|2:01.09|    2|\n",
      "|2:00.69|    2|\n",
      "|2:01.84|    2|\n",
      "|2:01.23|    2|\n",
      "|2:02.10|    1|\n",
      "|2:02.05|    1|\n",
      "|2:01.07|    1|\n",
      "|2:02.07|    1|\n",
      "|1:58.40|    1|\n",
      "|2:01.32|    1|\n",
      "|2:01.75|    1|\n",
      "|1:59.95|    1|\n",
      "|2:01.65|    1|\n",
      "|2:01.66|    1|\n",
      "|2:01.55|    1|\n",
      "|2:00.75|    1|\n",
      "+-------+-----+\n",
      "only showing top 20 rows\n",
      "\n"
     ]
    }
   ],
   "source": [
    "QueryOneA = spark.sql(\"SELECT Times, COUNT(*) as count FROM IndoorWomens800m GROUP BY Times ORDER BY count DESC\")\n",
    "QueryOneA.show()"
   ]
  },
  {
   "cell_type": "code",
   "execution_count": 24,
   "id": "7090d3ef",
   "metadata": {},
   "outputs": [
    {
     "name": "stdout",
     "output_type": "stream",
     "text": [
      "+-------+-----+\n",
      "|  Times|count|\n",
      "+-------+-----+\n",
      "|2:00.65|    2|\n",
      "|2:00.34|    2|\n",
      "|2:00.62|    2|\n",
      "|2:00.40|    2|\n",
      "|2:00.31|    2|\n",
      "|2:00.87|    2|\n",
      "|1:59.08|    1|\n",
      "|2:00.72|    1|\n",
      "|2:00.02|    1|\n",
      "|1:59.83|    1|\n",
      "|2:00.04|    1|\n",
      "|1:59.73|    1|\n",
      "|2:00.27|    1|\n",
      "|2:00.57|    1|\n",
      "|2:00.67|    1|\n",
      "|2:00.80|    1|\n",
      "|2:00.75|    1|\n",
      "|1:59.29|    1|\n",
      "|2:00.85|    1|\n",
      "|2:00.76|    1|\n",
      "+-------+-----+\n",
      "only showing top 20 rows\n",
      "\n"
     ]
    }
   ],
   "source": [
    "QueryOneB = spark.sql(\"SELECT Times, COUNT(*) as count FROM Womens800m GROUP BY Times ORDER BY count DESC\")\n",
    "QueryOneB.show()"
   ]
  },
  {
   "cell_type": "markdown",
   "id": "40a2bf74",
   "metadata": {},
   "source": [
    "## Query Two - Times (Men)"
   ]
  },
  {
   "cell_type": "code",
   "execution_count": 25,
   "id": "bbeb81eb",
   "metadata": {},
   "outputs": [
    {
     "name": "stdout",
     "output_type": "stream",
     "text": [
      "+-------+-----+\n",
      "|  Times|count|\n",
      "+-------+-----+\n",
      "|1:45.90|    2|\n",
      "|1:45.98|    2|\n",
      "|1:46.08|    2|\n",
      "|1:46.05|    2|\n",
      "|1:46.28|    2|\n",
      "|1:45.27|    1|\n",
      "|1:46.13|    1|\n",
      "|1:45.95|    1|\n",
      "|1:45.91|    1|\n",
      "|1:46.20|    1|\n",
      "|1:45.33|    1|\n",
      "|1:46.09|    1|\n",
      "|1:46.06|    1|\n",
      "|1:45.93|    1|\n",
      "|1:45.19|    1|\n",
      "|1:46.19|    1|\n",
      "|1:46.07|    1|\n",
      "|1:45.59|    1|\n",
      "|1:45.80|    1|\n",
      "|1:45.15|    1|\n",
      "+-------+-----+\n",
      "only showing top 20 rows\n",
      "\n"
     ]
    }
   ],
   "source": [
    "QueryTwoA = spark.sql(\"SELECT Times, COUNT(*) as count FROM IndoorMens800m GROUP BY Times ORDER BY count DESC\")\n",
    "QueryTwoA.show()"
   ]
  },
  {
   "cell_type": "code",
   "execution_count": 26,
   "id": "6a92b985",
   "metadata": {},
   "outputs": [
    {
     "name": "stdout",
     "output_type": "stream",
     "text": [
      "+-------+-----+\n",
      "|  Times|count|\n",
      "+-------+-----+\n",
      "|1:44.76|    3|\n",
      "|1:44.75|    2|\n",
      "|1:44.71|    2|\n",
      "|1:44.70|    1|\n",
      "|1:42.93|    1|\n",
      "|1:43.41|    1|\n",
      "|1:43.60|    1|\n",
      "|1:44.97|    1|\n",
      "|1:44.41|    1|\n",
      "|1:43.57|    1|\n",
      "|1:44.74|    1|\n",
      "|1:44.89|    1|\n",
      "|1:44.99|    1|\n",
      "|1:43.72|    1|\n",
      "|1:43.25|    1|\n",
      "|1:43.73|    1|\n",
      "|1:43.00|    1|\n",
      "|1:44.91|    1|\n",
      "|1:43.67|    1|\n",
      "|1:43.55|    1|\n",
      "+-------+-----+\n",
      "only showing top 20 rows\n",
      "\n"
     ]
    }
   ],
   "source": [
    "QueryTwoB = spark.sql(\"SELECT Times, COUNT(*) as count FROM Mens800m GROUP BY Times ORDER BY count DESC\")\n",
    "QueryTwoB.show()"
   ]
  },
  {
   "cell_type": "markdown",
   "id": "e30d706f",
   "metadata": {},
   "source": [
    "## Query Three - Schools (Womens)"
   ]
  },
  {
   "cell_type": "code",
   "execution_count": 27,
   "id": "2349f3b4",
   "metadata": {},
   "outputs": [
    {
     "name": "stdout",
     "output_type": "stream",
     "text": [
      "+--------------+-----+\n",
      "|       Schools|count|\n",
      "+--------------+-----+\n",
      "|           LSU|    8|\n",
      "|        Oregon|    6|\n",
      "|           BYU|    3|\n",
      "|      Virginia|    3|\n",
      "|    California|    3|\n",
      "|         Texas|    2|\n",
      "|      Michigan|    2|\n",
      "| Ohio Northern|    2|\n",
      "|     Tennessee|    2|\n",
      "|       Clemson|    2|\n",
      "|          UNLV|    1|\n",
      "|Oklahoma State|    1|\n",
      "|        Baylor|    1|\n",
      "|      Stanford|    1|\n",
      "|  Miami (Ohio)|    1|\n",
      "|     Texas A&M|    1|\n",
      "|   Texas State|    1|\n",
      "|       Harvard|    1|\n",
      "|     Wisconsin|    1|\n",
      "|      Colorado|    1|\n",
      "+--------------+-----+\n",
      "\n"
     ]
    }
   ],
   "source": [
    "QueryThreeA = spark.sql(\"SELECT Schools, COUNT(*) as count FROM Womens800m GROUP BY Schools ORDER BY count DESC\")\n",
    "QueryThreeA.show()"
   ]
  },
  {
   "cell_type": "code",
   "execution_count": 28,
   "id": "65e9f959",
   "metadata": {},
   "outputs": [
    {
     "name": "stdout",
     "output_type": "stream",
     "text": [
      "+--------------+-----+\n",
      "|       Schools|count|\n",
      "+--------------+-----+\n",
      "|      Arkansas|    6|\n",
      "|        Oregon|    5|\n",
      "|           LSU|    5|\n",
      "|      Stanford|    5|\n",
      "|       Florida|    5|\n",
      "| Virginia Tech|    5|\n",
      "|     Texas A&M|    3|\n",
      "|       Clemson|    3|\n",
      "|    Washington|    2|\n",
      "|           BYU|    2|\n",
      "|     Tennessee|    2|\n",
      "|Kennesaw State|    2|\n",
      "|     Wisconsin|    2|\n",
      "|         Texas|    1|\n",
      "|        Baylor|    1|\n",
      "|          Penn|    1|\n",
      "+--------------+-----+\n",
      "\n"
     ]
    }
   ],
   "source": [
    "QueryThreeB = spark.sql(\"SELECT Schools, COUNT(*) as count FROM IndoorWomens800m GROUP BY Schools ORDER BY count DESC\")\n",
    "QueryThreeB.show()"
   ]
  },
  {
   "cell_type": "markdown",
   "id": "2669a644",
   "metadata": {},
   "source": [
    "## Query Four - Schools (Men)"
   ]
  },
  {
   "cell_type": "code",
   "execution_count": 29,
   "id": "c4c90b53",
   "metadata": {},
   "outputs": [
    {
     "name": "stdout",
     "output_type": "stream",
     "text": [
      "+-----------------+-----+\n",
      "|          Schools|count|\n",
      "+-----------------+-----+\n",
      "|        Texas A&M|    4|\n",
      "|          Florida|    3|\n",
      "|           Oregon|    2|\n",
      "|         Arkansas|    2|\n",
      "|            Texas|    2|\n",
      "|             UTEP|    2|\n",
      "|    Wichita State|    2|\n",
      "|Mississippi State|    1|\n",
      "|              TCU|    1|\n",
      "|       Texas Tech|    1|\n",
      "|       Penn State|    1|\n",
      "|         Missouri|    1|\n",
      "|     Miami (Ohio)|    1|\n",
      "|         Ole Miss|    1|\n",
      "|         Virginia|    1|\n",
      "|       Iowa State|    1|\n",
      "|          Arizona|    1|\n",
      "|            Brown|    1|\n",
      "|   South Carolina|    1|\n",
      "+-----------------+-----+\n",
      "\n"
     ]
    }
   ],
   "source": [
    "QueryFourA = spark.sql(\"SELECT Schools, COUNT(*) as count FROM IndoorMens800m GROUP BY Schools ORDER BY count DESC\")\n",
    "QueryFourA.show()"
   ]
  },
  {
   "cell_type": "code",
   "execution_count": 30,
   "id": "a3a2f180",
   "metadata": {},
   "outputs": [
    {
     "name": "stdout",
     "output_type": "stream",
     "text": [
      "+-------------------+-----+\n",
      "|            Schools|count|\n",
      "+-------------------+-----+\n",
      "|           Virginia|    6|\n",
      "|             Oregon|    5|\n",
      "|  Mississippi State|    4|\n",
      "|         Texas Tech|    4|\n",
      "|          Texas A&M|    4|\n",
      "|               UTEP|    3|\n",
      "|          UC Irvine|    2|\n",
      "|            Florida|    2|\n",
      "|           Nebraska|    1|\n",
      "|       George Mason|    1|\n",
      "|        Florida A&M|    1|\n",
      "|         Penn State|    1|\n",
      "|              Akron|    1|\n",
      "|               UCLA|    1|\n",
      "|                BYU|    1|\n",
      "|            Georgia|    1|\n",
      "| Eastern New Mexico|    1|\n",
      "|             Kansas|    1|\n",
      "|Southern California|    1|\n",
      "|     South Carolina|    1|\n",
      "+-------------------+-----+\n",
      "only showing top 20 rows\n",
      "\n"
     ]
    }
   ],
   "source": [
    "QueryFourB = spark.sql(\"SELECT Schools, COUNT(*) as count FROM Mens800m GROUP BY Schools ORDER BY count DESC\")\n",
    "QueryFourB.show()"
   ]
  },
  {
   "cell_type": "markdown",
   "id": "a3b564a9",
   "metadata": {},
   "source": [
    "## Query Five - Percentage of Times (Women)"
   ]
  },
  {
   "cell_type": "code",
   "execution_count": 31,
   "id": "9d601b45",
   "metadata": {},
   "outputs": [
    {
     "name": "stdout",
     "output_type": "stream",
     "text": [
      "+-------+-----+------------------+\n",
      "|  Times|count|        percentage|\n",
      "+-------+-----+------------------+\n",
      "|1:59.08|    1|2.3255813953488373|\n",
      "|2:00.72|    1|2.3255813953488373|\n",
      "|2:00.65|    2| 4.651162790697675|\n",
      "|2:00.02|    1|2.3255813953488373|\n",
      "|1:59.83|    1|2.3255813953488373|\n",
      "|2:00.04|    1|2.3255813953488373|\n",
      "|1:59.73|    1|2.3255813953488373|\n",
      "|2:00.34|    2| 4.651162790697675|\n",
      "|2:00.27|    1|2.3255813953488373|\n",
      "|2:00.57|    1|2.3255813953488373|\n",
      "|2:00.67|    1|2.3255813953488373|\n",
      "|2:00.62|    2| 4.651162790697675|\n",
      "|2:00.80|    1|2.3255813953488373|\n",
      "|2:00.40|    2| 4.651162790697675|\n",
      "|2:00.75|    1|2.3255813953488373|\n",
      "|1:59.29|    1|2.3255813953488373|\n",
      "|2:00.85|    1|2.3255813953488373|\n",
      "|2:00.31|    2| 4.651162790697675|\n",
      "|2:00.76|    1|2.3255813953488373|\n",
      "|2:00.54|    1|2.3255813953488373|\n",
      "+-------+-----+------------------+\n",
      "only showing top 20 rows\n",
      "\n"
     ]
    }
   ],
   "source": [
    "QueryFiveA = spark.sql(\"SELECT Times, COUNT(*) as count, (COUNT(*) / (SELECT COUNT(*) FROM Womens800m)) * 100 as percentage FROM Womens800m GROUP BY Times\")\n",
    "QueryFiveA.show()"
   ]
  },
  {
   "cell_type": "code",
   "execution_count": 32,
   "id": "0feefa6d",
   "metadata": {},
   "outputs": [
    {
     "name": "stdout",
     "output_type": "stream",
     "text": [
      "+-------+-----+----------+\n",
      "|  Times|count|percentage|\n",
      "+-------+-----+----------+\n",
      "|2:02.10|    1|       2.0|\n",
      "|2:02.05|    1|       2.0|\n",
      "|2:01.07|    1|       2.0|\n",
      "|2:02.07|    1|       2.0|\n",
      "|2:02.15|    3|       6.0|\n",
      "|1:58.40|    1|       2.0|\n",
      "|2:01.96|    3|       6.0|\n",
      "|2:02.13|    3|       6.0|\n",
      "|2:02.00|    3|       6.0|\n",
      "|2:01.32|    1|       2.0|\n",
      "|2:01.75|    1|       2.0|\n",
      "|1:59.95|    1|       2.0|\n",
      "|2:01.65|    1|       2.0|\n",
      "|2:01.66|    1|       2.0|\n",
      "|2:01.55|    1|       2.0|\n",
      "|2:00.75|    1|       2.0|\n",
      "|2:00.85|    1|       2.0|\n",
      "|2:01.09|    2|       4.0|\n",
      "|2:01.74|    1|       2.0|\n",
      "|2:01.37|    1|       2.0|\n",
      "+-------+-----+----------+\n",
      "only showing top 20 rows\n",
      "\n"
     ]
    }
   ],
   "source": [
    "QueryFiveB = spark.sql(\"SELECT Times, COUNT(*) as count, (COUNT(*) / (SELECT COUNT(*) FROM IndoorWomens800m)) * 100 as percentage FROM IndoorWomens800m GROUP BY Times\")\n",
    "QueryFiveB.show()"
   ]
  },
  {
   "cell_type": "markdown",
   "id": "92b420c8",
   "metadata": {},
   "source": [
    "## Query Six - Percentage of Times (Mens)"
   ]
  },
  {
   "cell_type": "code",
   "execution_count": 33,
   "id": "ea780c13",
   "metadata": {},
   "outputs": [
    {
     "name": "stdout",
     "output_type": "stream",
     "text": [
      "+-------+-----+------------------+\n",
      "|  Times|count|        percentage|\n",
      "+-------+-----+------------------+\n",
      "|1:59.08|    1|3.4482758620689653|\n",
      "|2:00.72|    1|3.4482758620689653|\n",
      "|2:00.65|    2| 6.896551724137931|\n",
      "|2:00.02|    1|3.4482758620689653|\n",
      "|1:59.83|    1|3.4482758620689653|\n",
      "|2:00.04|    1|3.4482758620689653|\n",
      "|1:59.73|    1|3.4482758620689653|\n",
      "|2:00.34|    2| 6.896551724137931|\n",
      "|2:00.27|    1|3.4482758620689653|\n",
      "|2:00.57|    1|3.4482758620689653|\n",
      "|2:00.67|    1|3.4482758620689653|\n",
      "|2:00.62|    2| 6.896551724137931|\n",
      "|2:00.80|    1|3.4482758620689653|\n",
      "|2:00.40|    2| 6.896551724137931|\n",
      "|2:00.75|    1|3.4482758620689653|\n",
      "|1:59.29|    1|3.4482758620689653|\n",
      "|2:00.85|    1|3.4482758620689653|\n",
      "|2:00.31|    2| 6.896551724137931|\n",
      "|2:00.76|    1|3.4482758620689653|\n",
      "|2:00.54|    1|3.4482758620689653|\n",
      "+-------+-----+------------------+\n",
      "only showing top 20 rows\n",
      "\n"
     ]
    }
   ],
   "source": [
    "QuerySixA = spark.sql(\"SELECT Times, COUNT(*) as count, (COUNT(*) / (SELECT COUNT(*) FROM IndoorMens800m)) * 100 as percentage FROM Womens800m GROUP BY Times\")\n",
    "QuerySixA.show()"
   ]
  },
  {
   "cell_type": "code",
   "execution_count": 34,
   "id": "ed6e7b41",
   "metadata": {},
   "outputs": [
    {
     "name": "stdout",
     "output_type": "stream",
     "text": [
      "+-------+-----+------------------+\n",
      "|  Times|count|        percentage|\n",
      "+-------+-----+------------------+\n",
      "|1:59.08|    1|2.3255813953488373|\n",
      "|2:00.72|    1|2.3255813953488373|\n",
      "|2:00.65|    2| 4.651162790697675|\n",
      "|2:00.02|    1|2.3255813953488373|\n",
      "|1:59.83|    1|2.3255813953488373|\n",
      "|2:00.04|    1|2.3255813953488373|\n",
      "|1:59.73|    1|2.3255813953488373|\n",
      "|2:00.34|    2| 4.651162790697675|\n",
      "|2:00.27|    1|2.3255813953488373|\n",
      "|2:00.57|    1|2.3255813953488373|\n",
      "|2:00.67|    1|2.3255813953488373|\n",
      "|2:00.62|    2| 4.651162790697675|\n",
      "|2:00.80|    1|2.3255813953488373|\n",
      "|2:00.40|    2| 4.651162790697675|\n",
      "|2:00.75|    1|2.3255813953488373|\n",
      "|1:59.29|    1|2.3255813953488373|\n",
      "|2:00.85|    1|2.3255813953488373|\n",
      "|2:00.31|    2| 4.651162790697675|\n",
      "|2:00.76|    1|2.3255813953488373|\n",
      "|2:00.54|    1|2.3255813953488373|\n",
      "+-------+-----+------------------+\n",
      "only showing top 20 rows\n",
      "\n"
     ]
    }
   ],
   "source": [
    "QuerySixB = spark.sql(\"SELECT Times, COUNT(*) as count, (COUNT(*) / (SELECT COUNT(*) FROM Mens800m)) * 100 as percentage FROM Womens800m GROUP BY Times\")\n",
    "QuerySixB.show()"
   ]
  },
  {
   "cell_type": "markdown",
   "id": "161e2319",
   "metadata": {},
   "source": [
    "## Query Seven - Percentage of Schools (Womens)"
   ]
  },
  {
   "cell_type": "code",
   "execution_count": 35,
   "id": "5cdd325d",
   "metadata": {},
   "outputs": [
    {
     "name": "stdout",
     "output_type": "stream",
     "text": [
      "+--------------+-----+----------+\n",
      "|       Schools|count|percentage|\n",
      "+--------------+-----+----------+\n",
      "|        Oregon|    5|      10.0|\n",
      "|      Arkansas|    6|      12.0|\n",
      "|         Texas|    1|       2.0|\n",
      "|           LSU|    5|      10.0|\n",
      "|    Washington|    2|       4.0|\n",
      "|        Baylor|    1|       2.0|\n",
      "|      Stanford|    5|      10.0|\n",
      "|           BYU|    2|       4.0|\n",
      "|     Texas A&M|    3|       6.0|\n",
      "|     Tennessee|    2|       4.0|\n",
      "|       Florida|    5|      10.0|\n",
      "|          Penn|    1|       2.0|\n",
      "| Virginia Tech|    5|      10.0|\n",
      "|       Clemson|    3|       6.0|\n",
      "|Kennesaw State|    2|       4.0|\n",
      "|     Wisconsin|    2|       4.0|\n",
      "+--------------+-----+----------+\n",
      "\n"
     ]
    }
   ],
   "source": [
    "QuerySevenA = spark.sql(\"SELECT Schools, COUNT(*) as count, (COUNT(*) / (SELECT COUNT(*) FROM IndoorWomens800m)) * 100 as percentage FROM IndoorWomens800m GROUP BY Schools\")\n",
    "QuerySevenA.show()"
   ]
  },
  {
   "cell_type": "code",
   "execution_count": 36,
   "id": "32ccf195",
   "metadata": {},
   "outputs": [
    {
     "name": "stdout",
     "output_type": "stream",
     "text": [
      "+--------------+-----+------------------+\n",
      "|       Schools|count|        percentage|\n",
      "+--------------+-----+------------------+\n",
      "|        Oregon|    6|13.953488372093023|\n",
      "|         Texas|    2| 4.651162790697675|\n",
      "|          UNLV|    1|2.3255813953488373|\n",
      "|           LSU|    8|  18.6046511627907|\n",
      "|Oklahoma State|    1|2.3255813953488373|\n",
      "|        Baylor|    1|2.3255813953488373|\n",
      "|      Stanford|    1|2.3255813953488373|\n",
      "|  Miami (Ohio)|    1|2.3255813953488373|\n",
      "|           BYU|    3| 6.976744186046512|\n",
      "|      Michigan|    2| 4.651162790697675|\n",
      "|      Virginia|    3| 6.976744186046512|\n",
      "|     Texas A&M|    1|2.3255813953488373|\n",
      "|   Texas State|    1|2.3255813953488373|\n",
      "| Ohio Northern|    2| 4.651162790697675|\n",
      "|     Tennessee|    2| 4.651162790697675|\n",
      "|       Harvard|    1|2.3255813953488373|\n",
      "|    California|    3| 6.976744186046512|\n",
      "|       Clemson|    2| 4.651162790697675|\n",
      "|     Wisconsin|    1|2.3255813953488373|\n",
      "|      Colorado|    1|2.3255813953488373|\n",
      "+--------------+-----+------------------+\n",
      "\n"
     ]
    }
   ],
   "source": [
    "QuerySevenB = spark.sql(\"SELECT Schools, COUNT(*) as count, (COUNT(*) / (SELECT COUNT(*) FROM Womens800m)) * 100 as percentage FROM Womens800m GROUP BY Schools\")\n",
    "QuerySevenB.show()"
   ]
  },
  {
   "cell_type": "markdown",
   "id": "aa33e83f",
   "metadata": {},
   "source": [
    "## Query Eight - Percentage of Schools (Mens)"
   ]
  },
  {
   "cell_type": "code",
   "execution_count": 37,
   "id": "a6ff1137",
   "metadata": {},
   "outputs": [
    {
     "name": "stdout",
     "output_type": "stream",
     "text": [
      "+--------------+-----+------------------+\n",
      "|       Schools|count|        percentage|\n",
      "+--------------+-----+------------------+\n",
      "|        Oregon|    6|13.953488372093023|\n",
      "|         Texas|    2| 4.651162790697675|\n",
      "|          UNLV|    1|2.3255813953488373|\n",
      "|           LSU|    8|  18.6046511627907|\n",
      "|Oklahoma State|    1|2.3255813953488373|\n",
      "|        Baylor|    1|2.3255813953488373|\n",
      "|      Stanford|    1|2.3255813953488373|\n",
      "|  Miami (Ohio)|    1|2.3255813953488373|\n",
      "|           BYU|    3| 6.976744186046512|\n",
      "|      Michigan|    2| 4.651162790697675|\n",
      "|      Virginia|    3| 6.976744186046512|\n",
      "|     Texas A&M|    1|2.3255813953488373|\n",
      "|   Texas State|    1|2.3255813953488373|\n",
      "| Ohio Northern|    2| 4.651162790697675|\n",
      "|     Tennessee|    2| 4.651162790697675|\n",
      "|       Harvard|    1|2.3255813953488373|\n",
      "|    California|    3| 6.976744186046512|\n",
      "|       Clemson|    2| 4.651162790697675|\n",
      "|     Wisconsin|    1|2.3255813953488373|\n",
      "|      Colorado|    1|2.3255813953488373|\n",
      "+--------------+-----+------------------+\n",
      "\n"
     ]
    }
   ],
   "source": [
    "QueryEightA = spark.sql(\"SELECT Schools, COUNT(*) as count, (COUNT(*) / (SELECT COUNT(*) FROM Mens800m)) * 100 as percentage FROM Womens800m GROUP BY Schools\")\n",
    "QueryEightA.show()"
   ]
  },
  {
   "cell_type": "code",
   "execution_count": 38,
   "id": "2f13d13a",
   "metadata": {},
   "outputs": [
    {
     "name": "stdout",
     "output_type": "stream",
     "text": [
      "+--------------+-----+------------------+\n",
      "|       Schools|count|        percentage|\n",
      "+--------------+-----+------------------+\n",
      "|        Oregon|    6|20.689655172413794|\n",
      "|         Texas|    2| 6.896551724137931|\n",
      "|          UNLV|    1|3.4482758620689653|\n",
      "|           LSU|    8|27.586206896551722|\n",
      "|Oklahoma State|    1|3.4482758620689653|\n",
      "|        Baylor|    1|3.4482758620689653|\n",
      "|      Stanford|    1|3.4482758620689653|\n",
      "|  Miami (Ohio)|    1|3.4482758620689653|\n",
      "|           BYU|    3|10.344827586206897|\n",
      "|      Michigan|    2| 6.896551724137931|\n",
      "|      Virginia|    3|10.344827586206897|\n",
      "|     Texas A&M|    1|3.4482758620689653|\n",
      "|   Texas State|    1|3.4482758620689653|\n",
      "| Ohio Northern|    2| 6.896551724137931|\n",
      "|     Tennessee|    2| 6.896551724137931|\n",
      "|       Harvard|    1|3.4482758620689653|\n",
      "|    California|    3|10.344827586206897|\n",
      "|       Clemson|    2| 6.896551724137931|\n",
      "|     Wisconsin|    1|3.4482758620689653|\n",
      "|      Colorado|    1|3.4482758620689653|\n",
      "+--------------+-----+------------------+\n",
      "\n"
     ]
    }
   ],
   "source": [
    "QueryEightB = spark.sql(\"SELECT Schools, COUNT(*) as count, (COUNT(*) / (SELECT COUNT(*) FROM IndoorMens800m)) * 100 as percentage FROM Womens800m GROUP BY Schools\")\n",
    "QueryEightB.show()"
   ]
  },
  {
   "cell_type": "markdown",
   "id": "894441e0",
   "metadata": {},
   "source": [
    "## Import Data as CSVs"
   ]
  },
  {
   "cell_type": "code",
   "execution_count": 39,
   "id": "1001ef24",
   "metadata": {},
   "outputs": [
    {
     "name": "stderr",
     "output_type": "stream",
     "text": [
      "C:\\Users\\MoJo\\anaconda3\\lib\\site-packages\\scipy\\__init__.py:146: UserWarning: A NumPy version >=1.16.5 and <1.23.0 is required for this version of SciPy (detected version 1.25.1\n",
      "  warnings.warn(f\"A NumPy version >={np_minversion} and <{np_maxversion}\"\n"
     ]
    }
   ],
   "source": [
    "import pandas as pd\n",
    "import matplotlib.pyplot as plt\n",
    "import seaborn as sns"
   ]
  },
  {
   "cell_type": "code",
   "execution_count": 40,
   "id": "a21318f1",
   "metadata": {},
   "outputs": [
    {
     "data": {
      "text/html": [
       "<div>\n",
       "<style scoped>\n",
       "    .dataframe tbody tr th:only-of-type {\n",
       "        vertical-align: middle;\n",
       "    }\n",
       "\n",
       "    .dataframe tbody tr th {\n",
       "        vertical-align: top;\n",
       "    }\n",
       "\n",
       "    .dataframe thead th {\n",
       "        text-align: right;\n",
       "    }\n",
       "</style>\n",
       "<table border=\"1\" class=\"dataframe\">\n",
       "  <thead>\n",
       "    <tr style=\"text-align: right;\">\n",
       "      <th></th>\n",
       "      <th>Names</th>\n",
       "      <th>Times</th>\n",
       "      <th>Schools</th>\n",
       "    </tr>\n",
       "  </thead>\n",
       "  <tbody>\n",
       "    <tr>\n",
       "      <th>0</th>\n",
       "      <td>(1) Michael SARUNISO</td>\n",
       "      <td>1:43.25</td>\n",
       "      <td>UTEP</td>\n",
       "    </tr>\n",
       "    <tr>\n",
       "      <th>1</th>\n",
       "      <td>(2) Donavan BRAZIERFR</td>\n",
       "      <td>1:43.55</td>\n",
       "      <td>Texas A&amp;M</td>\n",
       "    </tr>\n",
       "    <tr>\n",
       "      <th>2</th>\n",
       "      <td>(3) Moad ZAHAFISR</td>\n",
       "      <td>1:43.69</td>\n",
       "      <td>Texas Tech</td>\n",
       "    </tr>\n",
       "    <tr>\n",
       "      <th>3</th>\n",
       "      <td>(4) Emmanuel KORIRFR</td>\n",
       "      <td>1:43.73</td>\n",
       "      <td>UTEP</td>\n",
       "    </tr>\n",
       "    <tr>\n",
       "      <th>4</th>\n",
       "      <td>(5) Will SUMNERFR</td>\n",
       "      <td>1:44.26</td>\n",
       "      <td>Georgia</td>\n",
       "    </tr>\n",
       "    <tr>\n",
       "      <th>5</th>\n",
       "      <td>(6) Bryce HOPPELJR</td>\n",
       "      <td>1:44.41</td>\n",
       "      <td>Kansas</td>\n",
       "    </tr>\n",
       "    <tr>\n",
       "      <th>6</th>\n",
       "      <td>— Zahafi {2}SR</td>\n",
       "      <td>1:44.49</td>\n",
       "      <td>Texas Tech</td>\n",
       "    </tr>\n",
       "    <tr>\n",
       "      <th>7</th>\n",
       "      <td>(7) Brandon MCBRIDESR</td>\n",
       "      <td>1:44.50</td>\n",
       "      <td>Mississippi State</td>\n",
       "    </tr>\n",
       "    <tr>\n",
       "      <th>8</th>\n",
       "      <td>(8) Julius ACHON</td>\n",
       "      <td>1:44.55</td>\n",
       "      <td>George Mason</td>\n",
       "    </tr>\n",
       "    <tr>\n",
       "      <th>9</th>\n",
       "      <td>— McBride {2}SR</td>\n",
       "      <td>1:44.63</td>\n",
       "      <td>Mississippi State</td>\n",
       "    </tr>\n",
       "    <tr>\n",
       "      <th>10</th>\n",
       "      <td>— Zahafi {3}SR</td>\n",
       "      <td>1:44.65</td>\n",
       "      <td>Texas Tech</td>\n",
       "    </tr>\n",
       "    <tr>\n",
       "      <th>11</th>\n",
       "      <td>(9) Isaiah JEWETTSR</td>\n",
       "      <td>1:44.68</td>\n",
       "      <td>Southern California</td>\n",
       "    </tr>\n",
       "    <tr>\n",
       "      <th>12</th>\n",
       "      <td>(10) Mark EVERETTSR</td>\n",
       "      <td>1:44.70</td>\n",
       "      <td>Florida</td>\n",
       "    </tr>\n",
       "    <tr>\n",
       "      <th>13</th>\n",
       "      <td>(11) Robby ANDREWSSO</td>\n",
       "      <td>1:44.71</td>\n",
       "      <td>Virginia</td>\n",
       "    </tr>\n",
       "    <tr>\n",
       "      <th>14</th>\n",
       "      <td>(11) Cory PRIMM</td>\n",
       "      <td>1:44.71</td>\n",
       "      <td>UCLA</td>\n",
       "    </tr>\n",
       "    <tr>\n",
       "      <th>15</th>\n",
       "      <td>(13) Dmitrijs MILKEVICSSO</td>\n",
       "      <td>1:44.74</td>\n",
       "      <td>Nebraska</td>\n",
       "    </tr>\n",
       "    <tr>\n",
       "      <th>16</th>\n",
       "      <td>(14) Charles JOCKSR</td>\n",
       "      <td>1:44.75</td>\n",
       "      <td>UC Irvine</td>\n",
       "    </tr>\n",
       "    <tr>\n",
       "      <th>17</th>\n",
       "      <td>— Jock {2}JR</td>\n",
       "      <td>1:44.75</td>\n",
       "      <td>UC Irvine</td>\n",
       "    </tr>\n",
       "    <tr>\n",
       "      <th>18</th>\n",
       "      <td>(15) Devin DIXONJR</td>\n",
       "      <td>1:44.76</td>\n",
       "      <td>Texas A&amp;M</td>\n",
       "    </tr>\n",
       "    <tr>\n",
       "      <th>19</th>\n",
       "      <td>(15) Isaiah HARRISJR</td>\n",
       "      <td>1:44.76</td>\n",
       "      <td>Penn State</td>\n",
       "    </tr>\n",
       "    <tr>\n",
       "      <th>20</th>\n",
       "      <td>(15) Otukile LEKOTE</td>\n",
       "      <td>1:44.76</td>\n",
       "      <td>South Carolina</td>\n",
       "    </tr>\n",
       "    <tr>\n",
       "      <th>21</th>\n",
       "      <td>(18) Ryan MARTINSR</td>\n",
       "      <td>1:44.77</td>\n",
       "      <td>UC Santa Barbara</td>\n",
       "    </tr>\n",
       "    <tr>\n",
       "      <th>22</th>\n",
       "      <td>— Dixon {2}JR</td>\n",
       "      <td>1:44.84</td>\n",
       "      <td>Texas A&amp;M</td>\n",
       "    </tr>\n",
       "    <tr>\n",
       "      <th>23</th>\n",
       "      <td>(19) Jonathan JOHNSON</td>\n",
       "      <td>1:44.86</td>\n",
       "      <td>Texas Tech</td>\n",
       "    </tr>\n",
       "    <tr>\n",
       "      <th>24</th>\n",
       "      <td>— McBride {3}SR</td>\n",
       "      <td>1:44.89</td>\n",
       "      <td>Mississippi State</td>\n",
       "    </tr>\n",
       "    <tr>\n",
       "      <th>25</th>\n",
       "      <td>(20) Joaquim CRUZFR</td>\n",
       "      <td>1:44.91</td>\n",
       "      <td>Oregon</td>\n",
       "    </tr>\n",
       "    <tr>\n",
       "      <th>26</th>\n",
       "      <td>(21) Kevin HICKS</td>\n",
       "      <td>1:44.94</td>\n",
       "      <td>Florida A&amp;M</td>\n",
       "    </tr>\n",
       "    <tr>\n",
       "      <th>27</th>\n",
       "      <td>(22) Brandon MILLERFR</td>\n",
       "      <td>1:44.97</td>\n",
       "      <td>Texas A&amp;M</td>\n",
       "    </tr>\n",
       "    <tr>\n",
       "      <th>28</th>\n",
       "      <td>(23) Shaquille WALKERJR</td>\n",
       "      <td>1:44.99</td>\n",
       "      <td>BYU</td>\n",
       "    </tr>\n",
       "    <tr>\n",
       "      <th>29</th>\n",
       "      <td>(24) Navasky ANDERSONJR</td>\n",
       "      <td>1:45.02</td>\n",
       "      <td>Mississippi State</td>\n",
       "    </tr>\n",
       "    <tr>\n",
       "      <th>30</th>\n",
       "      <td>Joaquim CRUZ</td>\n",
       "      <td>1:41.77</td>\n",
       "      <td>Oregon</td>\n",
       "    </tr>\n",
       "    <tr>\n",
       "      <th>31</th>\n",
       "      <td>Joaquim CRUZ</td>\n",
       "      <td>1:42.34</td>\n",
       "      <td>Oregon</td>\n",
       "    </tr>\n",
       "    <tr>\n",
       "      <th>32</th>\n",
       "      <td>Clayton MURPHYJR</td>\n",
       "      <td>1:42.93</td>\n",
       "      <td>Akron</td>\n",
       "    </tr>\n",
       "    <tr>\n",
       "      <th>33</th>\n",
       "      <td>Joaquim CRUZ</td>\n",
       "      <td>1:43.00</td>\n",
       "      <td>Oregon</td>\n",
       "    </tr>\n",
       "    <tr>\n",
       "      <th>34</th>\n",
       "      <td>Emmanuel KORIRFR</td>\n",
       "      <td>1:43.10</td>\n",
       "      <td>UTEP</td>\n",
       "    </tr>\n",
       "    <tr>\n",
       "      <th>35</th>\n",
       "      <td>Paul ERENG</td>\n",
       "      <td>1:43.16</td>\n",
       "      <td>Virginia</td>\n",
       "    </tr>\n",
       "    <tr>\n",
       "      <th>36</th>\n",
       "      <td>Paul ERENG</td>\n",
       "      <td>1:43.22</td>\n",
       "      <td>Virginia</td>\n",
       "    </tr>\n",
       "    <tr>\n",
       "      <th>37</th>\n",
       "      <td>Joaquim CRUZ</td>\n",
       "      <td>1:43.41</td>\n",
       "      <td>Oregon</td>\n",
       "    </tr>\n",
       "    <tr>\n",
       "      <th>38</th>\n",
       "      <td>Paul ERENGFR</td>\n",
       "      <td>1:43.45</td>\n",
       "      <td>Virginia</td>\n",
       "    </tr>\n",
       "    <tr>\n",
       "      <th>39</th>\n",
       "      <td>Mike BOIT</td>\n",
       "      <td>1:43.57</td>\n",
       "      <td>Eastern New Mexico</td>\n",
       "    </tr>\n",
       "    <tr>\n",
       "      <th>40</th>\n",
       "      <td>Paul ERENG</td>\n",
       "      <td>1:43.60</td>\n",
       "      <td>Virginia</td>\n",
       "    </tr>\n",
       "    <tr>\n",
       "      <th>41</th>\n",
       "      <td>Mark EVERETT</td>\n",
       "      <td>1:43.67</td>\n",
       "      <td>Florida</td>\n",
       "    </tr>\n",
       "    <tr>\n",
       "      <th>42</th>\n",
       "      <td>Paul ERENG</td>\n",
       "      <td>1:43.72</td>\n",
       "      <td>Virginia</td>\n",
       "    </tr>\n",
       "  </tbody>\n",
       "</table>\n",
       "</div>"
      ],
      "text/plain": [
       "                        Names    Times              Schools\n",
       "0        (1) Michael SARUNISO  1:43.25                 UTEP\n",
       "1       (2) Donavan BRAZIERFR  1:43.55            Texas A&M\n",
       "2           (3) Moad ZAHAFISR  1:43.69           Texas Tech\n",
       "3        (4) Emmanuel KORIRFR  1:43.73                 UTEP\n",
       "4           (5) Will SUMNERFR  1:44.26              Georgia\n",
       "5          (6) Bryce HOPPELJR  1:44.41               Kansas\n",
       "6              — Zahafi {2}SR  1:44.49           Texas Tech\n",
       "7       (7) Brandon MCBRIDESR  1:44.50    Mississippi State\n",
       "8            (8) Julius ACHON  1:44.55         George Mason\n",
       "9             — McBride {2}SR  1:44.63    Mississippi State\n",
       "10             — Zahafi {3}SR  1:44.65           Texas Tech\n",
       "11        (9) Isaiah JEWETTSR  1:44.68  Southern California\n",
       "12        (10) Mark EVERETTSR  1:44.70              Florida\n",
       "13       (11) Robby ANDREWSSO  1:44.71             Virginia\n",
       "14            (11) Cory PRIMM  1:44.71                 UCLA\n",
       "15  (13) Dmitrijs MILKEVICSSO  1:44.74             Nebraska\n",
       "16        (14) Charles JOCKSR  1:44.75            UC Irvine\n",
       "17               — Jock {2}JR  1:44.75            UC Irvine\n",
       "18         (15) Devin DIXONJR  1:44.76            Texas A&M\n",
       "19       (15) Isaiah HARRISJR  1:44.76           Penn State\n",
       "20        (15) Otukile LEKOTE  1:44.76       South Carolina\n",
       "21         (18) Ryan MARTINSR  1:44.77     UC Santa Barbara\n",
       "22              — Dixon {2}JR  1:44.84            Texas A&M\n",
       "23      (19) Jonathan JOHNSON  1:44.86           Texas Tech\n",
       "24            — McBride {3}SR  1:44.89    Mississippi State\n",
       "25        (20) Joaquim CRUZFR  1:44.91               Oregon\n",
       "26           (21) Kevin HICKS  1:44.94          Florida A&M\n",
       "27      (22) Brandon MILLERFR  1:44.97            Texas A&M\n",
       "28    (23) Shaquille WALKERJR  1:44.99                  BYU\n",
       "29    (24) Navasky ANDERSONJR  1:45.02    Mississippi State\n",
       "30               Joaquim CRUZ  1:41.77               Oregon\n",
       "31               Joaquim CRUZ  1:42.34               Oregon\n",
       "32           Clayton MURPHYJR  1:42.93                Akron\n",
       "33               Joaquim CRUZ  1:43.00               Oregon\n",
       "34           Emmanuel KORIRFR  1:43.10                 UTEP\n",
       "35                 Paul ERENG  1:43.16             Virginia\n",
       "36                 Paul ERENG  1:43.22             Virginia\n",
       "37               Joaquim CRUZ  1:43.41               Oregon\n",
       "38               Paul ERENGFR  1:43.45             Virginia\n",
       "39                  Mike BOIT  1:43.57   Eastern New Mexico\n",
       "40                 Paul ERENG  1:43.60             Virginia\n",
       "41               Mark EVERETT  1:43.67              Florida\n",
       "42                 Paul ERENG  1:43.72             Virginia"
      ]
     },
     "execution_count": 40,
     "metadata": {},
     "output_type": "execute_result"
    }
   ],
   "source": [
    "Mens800mDF = pd.read_csv('Mens800m.csv')\n",
    "Mens800mDF"
   ]
  },
  {
   "cell_type": "code",
   "execution_count": 41,
   "id": "a1993132",
   "metadata": {},
   "outputs": [
    {
     "data": {
      "text/html": [
       "<div>\n",
       "<style scoped>\n",
       "    .dataframe tbody tr th:only-of-type {\n",
       "        vertical-align: middle;\n",
       "    }\n",
       "\n",
       "    .dataframe tbody tr th {\n",
       "        vertical-align: top;\n",
       "    }\n",
       "\n",
       "    .dataframe thead th {\n",
       "        text-align: right;\n",
       "    }\n",
       "</style>\n",
       "<table border=\"1\" class=\"dataframe\">\n",
       "  <thead>\n",
       "    <tr style=\"text-align: right;\">\n",
       "      <th></th>\n",
       "      <th>Names</th>\n",
       "      <th>Times</th>\n",
       "      <th>Schools</th>\n",
       "    </tr>\n",
       "  </thead>\n",
       "  <tbody>\n",
       "    <tr>\n",
       "      <th>0</th>\n",
       "      <td>(1) Athing MUFR</td>\n",
       "      <td>1:57.73</td>\n",
       "      <td>Texas A&amp;M</td>\n",
       "    </tr>\n",
       "    <tr>\n",
       "      <th>1</th>\n",
       "      <td>(2) Michaela ROSESO</td>\n",
       "      <td>1:59.08</td>\n",
       "      <td>LSU</td>\n",
       "    </tr>\n",
       "    <tr>\n",
       "      <th>2</th>\n",
       "      <td>(3) Raevyn ROGERSJR</td>\n",
       "      <td>1:59.10</td>\n",
       "      <td>Oregon</td>\n",
       "    </tr>\n",
       "    <tr>\n",
       "      <th>3</th>\n",
       "      <td>(4) Suzy FAVORSR</td>\n",
       "      <td>1:59.11</td>\n",
       "      <td>Wisconsin</td>\n",
       "    </tr>\n",
       "    <tr>\n",
       "      <th>4</th>\n",
       "      <td>(5) Alysia JOHNSONJR</td>\n",
       "      <td>1:59.29</td>\n",
       "      <td>California</td>\n",
       "    </tr>\n",
       "    <tr>\n",
       "      <th>5</th>\n",
       "      <td>(6) Katie ERDMAN</td>\n",
       "      <td>1:59.35</td>\n",
       "      <td>Michigan</td>\n",
       "    </tr>\n",
       "    <tr>\n",
       "      <th>6</th>\n",
       "      <td>— Rogers {2}</td>\n",
       "      <td>1:59.71</td>\n",
       "      <td>Oregon</td>\n",
       "    </tr>\n",
       "    <tr>\n",
       "      <th>7</th>\n",
       "      <td>— Rose {2}SO</td>\n",
       "      <td>1:59.73</td>\n",
       "      <td>LSU</td>\n",
       "    </tr>\n",
       "    <tr>\n",
       "      <th>8</th>\n",
       "      <td>— Rose {3}SO</td>\n",
       "      <td>1:59.83</td>\n",
       "      <td>LSU</td>\n",
       "    </tr>\n",
       "    <tr>\n",
       "      <th>9</th>\n",
       "      <td>— Rogers {3}JR</td>\n",
       "      <td>2:00.02</td>\n",
       "      <td>Oregon</td>\n",
       "    </tr>\n",
       "    <tr>\n",
       "      <th>10</th>\n",
       "      <td>(7) Claire SEYMOURSR</td>\n",
       "      <td>2:00.04</td>\n",
       "      <td>BYU</td>\n",
       "    </tr>\n",
       "    <tr>\n",
       "      <th>11</th>\n",
       "      <td>(8) Natoya GOULEJR</td>\n",
       "      <td>2:00.06</td>\n",
       "      <td>LSU</td>\n",
       "    </tr>\n",
       "    <tr>\n",
       "      <th>12</th>\n",
       "      <td>(9) Jasmin JONES</td>\n",
       "      <td>2:00.24</td>\n",
       "      <td>Tennessee</td>\n",
       "    </tr>\n",
       "    <tr>\n",
       "      <th>13</th>\n",
       "      <td>(10) Inez TURNERSR</td>\n",
       "      <td>2:00.27</td>\n",
       "      <td>Texas State</td>\n",
       "    </tr>\n",
       "    <tr>\n",
       "      <th>14</th>\n",
       "      <td>(11) Michaela MEYERSR</td>\n",
       "      <td>2:00.28</td>\n",
       "      <td>Virginia</td>\n",
       "    </tr>\n",
       "    <tr>\n",
       "      <th>15</th>\n",
       "      <td>— Rose {4}SO</td>\n",
       "      <td>2:00.31</td>\n",
       "      <td>LSU</td>\n",
       "    </tr>\n",
       "    <tr>\n",
       "      <th>16</th>\n",
       "      <td>(12) Valery TOBIASSR</td>\n",
       "      <td>2:00.31</td>\n",
       "      <td>Texas</td>\n",
       "    </tr>\n",
       "    <tr>\n",
       "      <th>17</th>\n",
       "      <td>— Rose {5}SO</td>\n",
       "      <td>2:00.34</td>\n",
       "      <td>LSU</td>\n",
       "    </tr>\n",
       "    <tr>\n",
       "      <th>18</th>\n",
       "      <td>— Rose {6}SO</td>\n",
       "      <td>2:00.34</td>\n",
       "      <td>LSU</td>\n",
       "    </tr>\n",
       "    <tr>\n",
       "      <th>19</th>\n",
       "      <td>— Meyer {2}SR</td>\n",
       "      <td>2:00.40</td>\n",
       "      <td>Virginia</td>\n",
       "    </tr>\n",
       "    <tr>\n",
       "      <th>20</th>\n",
       "      <td>— Meyer {3}SR</td>\n",
       "      <td>2:00.40</td>\n",
       "      <td>Virginia</td>\n",
       "    </tr>\n",
       "    <tr>\n",
       "      <th>21</th>\n",
       "      <td>(13) Gabija GALVYDYTESO</td>\n",
       "      <td>2:00.47</td>\n",
       "      <td>Oklahoma State</td>\n",
       "    </tr>\n",
       "    <tr>\n",
       "      <th>22</th>\n",
       "      <td>(14) Meredith RAINEY</td>\n",
       "      <td>2:00.48</td>\n",
       "      <td>Harvard</td>\n",
       "    </tr>\n",
       "    <tr>\n",
       "      <th>23</th>\n",
       "      <td>(15) Laura ROESLERSR</td>\n",
       "      <td>2:00.54</td>\n",
       "      <td>Oregon</td>\n",
       "    </tr>\n",
       "    <tr>\n",
       "      <th>24</th>\n",
       "      <td>— Seymour {2}SR</td>\n",
       "      <td>2:00.55</td>\n",
       "      <td>BYU</td>\n",
       "    </tr>\n",
       "    <tr>\n",
       "      <th>25</th>\n",
       "      <td>— Johnson {2}</td>\n",
       "      <td>2:00.57</td>\n",
       "      <td>California</td>\n",
       "    </tr>\n",
       "    <tr>\n",
       "      <th>26</th>\n",
       "      <td>(16) Sage HURTASR</td>\n",
       "      <td>2:00.62</td>\n",
       "      <td>Colorado</td>\n",
       "    </tr>\n",
       "    <tr>\n",
       "      <th>27</th>\n",
       "      <td>(16) Emily RICHARDSJR</td>\n",
       "      <td>2:00.62</td>\n",
       "      <td>Ohio Northern</td>\n",
       "    </tr>\n",
       "    <tr>\n",
       "      <th>28</th>\n",
       "      <td>(18) Claudia SAUNDERS</td>\n",
       "      <td>2:00.63</td>\n",
       "      <td>Stanford</td>\n",
       "    </tr>\n",
       "    <tr>\n",
       "      <th>29</th>\n",
       "      <td>(19) Laurie BARTONJR</td>\n",
       "      <td>2:00.65</td>\n",
       "      <td>Clemson</td>\n",
       "    </tr>\n",
       "    <tr>\n",
       "      <th>30</th>\n",
       "      <td>(19) Trena HULL</td>\n",
       "      <td>2:00.65</td>\n",
       "      <td>UNLV</td>\n",
       "    </tr>\n",
       "    <tr>\n",
       "      <th>31</th>\n",
       "      <td>— Richards {2}SR</td>\n",
       "      <td>2:00.67</td>\n",
       "      <td>Ohio Northern</td>\n",
       "    </tr>\n",
       "    <tr>\n",
       "      <th>32</th>\n",
       "      <td>— Tobias {2}SR</td>\n",
       "      <td>2:00.68</td>\n",
       "      <td>Texas</td>\n",
       "    </tr>\n",
       "    <tr>\n",
       "      <th>33</th>\n",
       "      <td>— Barton {2}JR</td>\n",
       "      <td>2:00.70</td>\n",
       "      <td>Clemson</td>\n",
       "    </tr>\n",
       "    <tr>\n",
       "      <th>34</th>\n",
       "      <td>(21) Sabrina SOUTHERLANDSR</td>\n",
       "      <td>2:00.72</td>\n",
       "      <td>Oregon</td>\n",
       "    </tr>\n",
       "    <tr>\n",
       "      <th>35</th>\n",
       "      <td>— Rogers {4}SO</td>\n",
       "      <td>2:00.75</td>\n",
       "      <td>Oregon</td>\n",
       "    </tr>\n",
       "    <tr>\n",
       "      <th>36</th>\n",
       "      <td>— Goule {2}JR</td>\n",
       "      <td>2:00.76</td>\n",
       "      <td>LSU</td>\n",
       "    </tr>\n",
       "    <tr>\n",
       "      <th>37</th>\n",
       "      <td>— Johnson {3}</td>\n",
       "      <td>2:00.77</td>\n",
       "      <td>California</td>\n",
       "    </tr>\n",
       "    <tr>\n",
       "      <th>38</th>\n",
       "      <td>(22) Geena GALLSR</td>\n",
       "      <td>2:00.80</td>\n",
       "      <td>Michigan</td>\n",
       "    </tr>\n",
       "    <tr>\n",
       "      <th>39</th>\n",
       "      <td>— Seymour {3}SR</td>\n",
       "      <td>2:00.81</td>\n",
       "      <td>BYU</td>\n",
       "    </tr>\n",
       "    <tr>\n",
       "      <th>40</th>\n",
       "      <td>(23) Karen BAKEWELL</td>\n",
       "      <td>2:00.85</td>\n",
       "      <td>Miami (Ohio)</td>\n",
       "    </tr>\n",
       "    <tr>\n",
       "      <th>41</th>\n",
       "      <td>(24) Aaliyah MILLERJR</td>\n",
       "      <td>2:00.87</td>\n",
       "      <td>Baylor</td>\n",
       "    </tr>\n",
       "    <tr>\n",
       "      <th>42</th>\n",
       "      <td>(24) Phoebe WRIGHTSR</td>\n",
       "      <td>2:00.87</td>\n",
       "      <td>Tennessee</td>\n",
       "    </tr>\n",
       "  </tbody>\n",
       "</table>\n",
       "</div>"
      ],
      "text/plain": [
       "                         Names    Times         Schools\n",
       "0              (1) Athing MUFR  1:57.73       Texas A&M\n",
       "1          (2) Michaela ROSESO  1:59.08             LSU\n",
       "2          (3) Raevyn ROGERSJR  1:59.10          Oregon\n",
       "3             (4) Suzy FAVORSR  1:59.11       Wisconsin\n",
       "4         (5) Alysia JOHNSONJR  1:59.29      California\n",
       "5             (6) Katie ERDMAN  1:59.35        Michigan\n",
       "6                 — Rogers {2}  1:59.71          Oregon\n",
       "7                 — Rose {2}SO  1:59.73             LSU\n",
       "8                 — Rose {3}SO  1:59.83             LSU\n",
       "9               — Rogers {3}JR  2:00.02          Oregon\n",
       "10        (7) Claire SEYMOURSR  2:00.04             BYU\n",
       "11          (8) Natoya GOULEJR  2:00.06             LSU\n",
       "12            (9) Jasmin JONES  2:00.24       Tennessee\n",
       "13          (10) Inez TURNERSR  2:00.27     Texas State\n",
       "14       (11) Michaela MEYERSR  2:00.28        Virginia\n",
       "15                — Rose {4}SO  2:00.31             LSU\n",
       "16        (12) Valery TOBIASSR  2:00.31           Texas\n",
       "17                — Rose {5}SO  2:00.34             LSU\n",
       "18                — Rose {6}SO  2:00.34             LSU\n",
       "19               — Meyer {2}SR  2:00.40        Virginia\n",
       "20               — Meyer {3}SR  2:00.40        Virginia\n",
       "21     (13) Gabija GALVYDYTESO  2:00.47  Oklahoma State\n",
       "22        (14) Meredith RAINEY  2:00.48         Harvard\n",
       "23        (15) Laura ROESLERSR  2:00.54          Oregon\n",
       "24             — Seymour {2}SR  2:00.55             BYU\n",
       "25               — Johnson {2}  2:00.57      California\n",
       "26           (16) Sage HURTASR  2:00.62        Colorado\n",
       "27       (16) Emily RICHARDSJR  2:00.62   Ohio Northern\n",
       "28       (18) Claudia SAUNDERS  2:00.63        Stanford\n",
       "29        (19) Laurie BARTONJR  2:00.65         Clemson\n",
       "30             (19) Trena HULL  2:00.65            UNLV\n",
       "31            — Richards {2}SR  2:00.67   Ohio Northern\n",
       "32              — Tobias {2}SR  2:00.68           Texas\n",
       "33              — Barton {2}JR  2:00.70         Clemson\n",
       "34  (21) Sabrina SOUTHERLANDSR  2:00.72          Oregon\n",
       "35              — Rogers {4}SO  2:00.75          Oregon\n",
       "36               — Goule {2}JR  2:00.76             LSU\n",
       "37               — Johnson {3}  2:00.77      California\n",
       "38           (22) Geena GALLSR  2:00.80        Michigan\n",
       "39             — Seymour {3}SR  2:00.81             BYU\n",
       "40         (23) Karen BAKEWELL  2:00.85    Miami (Ohio)\n",
       "41       (24) Aaliyah MILLERJR  2:00.87          Baylor\n",
       "42        (24) Phoebe WRIGHTSR  2:00.87       Tennessee"
      ]
     },
     "execution_count": 41,
     "metadata": {},
     "output_type": "execute_result"
    }
   ],
   "source": [
    "Womens800mDF = pd.read_csv('Womens800m.csv')\n",
    "Womens800mDF"
   ]
  },
  {
   "cell_type": "code",
   "execution_count": 42,
   "id": "52fe08a4",
   "metadata": {},
   "outputs": [],
   "source": [
    "IndoorMens800mDF = pd.read_csv('WomensIndoor800m.csv')"
   ]
  },
  {
   "cell_type": "code",
   "execution_count": 43,
   "id": "83670b9e",
   "metadata": {},
   "outputs": [],
   "source": [
    "IndoorWomens800mDF = pd.read_csv('MensIndoor800m.csv')"
   ]
  },
  {
   "cell_type": "markdown",
   "id": "d2411993",
   "metadata": {},
   "source": [
    "## Create Histograms"
   ]
  },
  {
   "cell_type": "code",
   "execution_count": 44,
   "id": "b46c1e0e",
   "metadata": {},
   "outputs": [
    {
     "data": {
      "image/png": "[encoded data removed]",
      "text/plain": [
       "<Figure size 432x288 with 1 Axes>"
      ]
     },
     "metadata": {
      "needs_background": "light"
     },
     "output_type": "display_data"
    }
   ],
   "source": [
    "# Create a histogram using Seaborn\n",
    "column_name = \"Times\"\n",
    "sns.histplot(Mens800mDF[column_name], bins=20, kde=True, color='skyblue', edgecolor='black')\n",
    "\n",
    "#Make names more readable\n",
    "plt.xticks(rotation=90)\n",
    "\n",
    "# Add labels and title\n",
    "plt.xlabel(column_name)\n",
    "plt.ylabel('Frequency')\n",
    "plt.title(f'Distribution of {column_name}')\n",
    "\n",
    "# Show the plot\n",
    "plt.show()"
   ]
  },
  {
   "cell_type": "code",
   "execution_count": 45,
   "id": "1c746de1",
   "metadata": {},
   "outputs": [
    {
     "data": {
      "image/png": "[encoded data removed]",
      "text/plain": [
       "<Figure size 432x288 with 1 Axes>"
      ]
     },
     "metadata": {
      "needs_background": "light"
     },
     "output_type": "display_data"
    }
   ],
   "source": [
    "# Create a histogram using Seaborn\n",
    "column_name = \"Times\"\n",
    "sns.histplot(Womens800mDF[column_name], bins=20, kde=True, color='red', edgecolor='black')\n",
    "\n",
    "\n",
    "#Make names more readable\n",
    "plt.xticks(rotation=90)\n",
    "\n",
    "# Add labels and title\n",
    "plt.xlabel(column_name)\n",
    "plt.ylabel('Frequency')\n",
    "plt.title(f'Distribution of {column_name}')\n",
    "\n",
    "# Show the plot\n",
    "plt.show()"
   ]
  },
  {
   "cell_type": "code",
   "execution_count": 46,
   "id": "64e85446",
   "metadata": {},
   "outputs": [
    {
     "data": {
      "image/png": "[encoded data removed]",
      "text/plain": [
       "<Figure size 432x288 with 1 Axes>"
      ]
     },
     "metadata": {
      "needs_background": "light"
     },
     "output_type": "display_data"
    }
   ],
   "source": [
    "# Create a histogram using Seaborn\n",
    "column_name = \"Schools\"\n",
    "sns.histplot(Mens800mDF[column_name], bins=20, kde=True, color='skyblue', edgecolor='black')\n",
    "\n",
    "# Add labels and title\n",
    "plt.xlabel(column_name)\n",
    "plt.ylabel('Frequency')\n",
    "plt.title(f'Distribution of {column_name}')\n",
    "\n",
    "#Make names more readable\n",
    "plt.xticks(rotation=90)\n",
    "\n",
    "\n",
    "# Show the plot\n",
    "plt.show()"
   ]
  },
  {
   "cell_type": "code",
   "execution_count": 47,
   "id": "07170160",
   "metadata": {},
   "outputs": [
    {
     "data": {
      "image/png": "[encoded data removed]",
      "text/plain": [
       "<Figure size 432x288 with 1 Axes>"
      ]
     },
     "metadata": {
      "needs_background": "light"
     },
     "output_type": "display_data"
    }
   ],
   "source": [
    "# Create a histogram using Seaborn\n",
    "column_name = \"Schools\"\n",
    "sns.histplot(Womens800mDF[column_name], bins=20, kde=True, color='red', edgecolor='black')\n",
    "\n",
    "# Add labels and title\n",
    "plt.xlabel(column_name)\n",
    "plt.ylabel('Frequency')\n",
    "plt.title(f'Distribution of {column_name}')\n",
    "\n",
    "#Make names more readable\n",
    "plt.xticks(rotation=90)\n",
    "\n",
    "# Show the plot\n",
    "plt.show()"
   ]
  },
  {
   "cell_type": "markdown",
   "id": "56619897",
   "metadata": {},
   "source": [
    "## Indoor"
   ]
  },
  {
   "cell_type": "code",
   "execution_count": 48,
   "id": "a913e891",
   "metadata": {},
   "outputs": [
    {
     "data": {
      "image/png": "[encoded data removed]",
      "text/plain": [
       "<Figure size 432x288 with 1 Axes>"
      ]
     },
     "metadata": {
      "needs_background": "light"
     },
     "output_type": "display_data"
    }
   ],
   "source": [
    "# Create a histogram using Seaborn\n",
    "column_name = \"Times\"\n",
    "sns.histplot(IndoorMens800mDF[column_name], bins=20, kde=True, color='skyblue', edgecolor='black')\n",
    "\n",
    "#Make names more readable\n",
    "plt.xticks(rotation=90)\n",
    "\n",
    "# Add labels and title\n",
    "plt.xlabel(column_name)\n",
    "plt.ylabel('Frequency')\n",
    "plt.title(f'Distribution of {column_name}')\n",
    "\n",
    "# Show the plot\n",
    "plt.show()"
   ]
  },
  {
   "cell_type": "code",
   "execution_count": 49,
   "id": "fda0c100",
   "metadata": {},
   "outputs": [
    {
     "data": {
      "image/png": "[encoded data removed]",
      "text/plain": [
       "<Figure size 432x288 with 1 Axes>"
      ]
     },
     "metadata": {
      "needs_background": "light"
     },
     "output_type": "display_data"
    }
   ],
   "source": [
    "# Create a histogram using Seaborn\n",
    "column_name = \"Times\"\n",
    "sns.histplot(IndoorWomens800mDF[column_name], bins=20, kde=True, color='red', edgecolor='black')\n",
    "\n",
    "\n",
    "#Make names more readable\n",
    "plt.xticks(rotation=90)\n",
    "\n",
    "# Add labels and title\n",
    "plt.xlabel(column_name)\n",
    "plt.ylabel('Frequency')\n",
    "plt.title(f'Distribution of {column_name}')\n",
    "\n",
    "# Show the plot\n",
    "plt.show()"
   ]
  },
  {
   "cell_type": "code",
   "execution_count": 50,
   "id": "0071f4c4",
   "metadata": {},
   "outputs": [
    {
     "data": {
      "image/png": "[encoded data removed]",
      "text/plain": [
       "<Figure size 432x288 with 1 Axes>"
      ]
     },
     "metadata": {
      "needs_background": "light"
     },
     "output_type": "display_data"
    }
   ],
   "source": [
    "# Create a histogram using Seaborn\n",
    "column_name = \"Schools\"\n",
    "sns.histplot(IndoorMens800mDF[column_name], bins=20, kde=True, color='skyblue', edgecolor='black')\n",
    "\n",
    "# Add labels and title\n",
    "plt.xlabel(column_name)\n",
    "plt.ylabel('Frequency')\n",
    "plt.title(f'Distribution of {column_name}')\n",
    "\n",
    "#Make names more readable\n",
    "plt.xticks(rotation=90)\n",
    "\n",
    "\n",
    "# Show the plot\n",
    "plt.show()"
   ]
  },
  {
   "cell_type": "code",
   "execution_count": 51,
   "id": "220fd2af",
   "metadata": {},
   "outputs": [
    {
     "data": {
      "image/png": "[encoded data removed]",
      "text/plain": [
       "<Figure size 432x288 with 1 Axes>"
      ]
     },
     "metadata": {
      "needs_background": "light"
     },
     "output_type": "display_data"
    }
   ],
   "source": [
    "# Create a histogram using Seaborn\n",
    "column_name = \"Schools\"\n",
    "sns.histplot(IndoorWomens800mDF[column_name], bins=20, kde=True, color='red', edgecolor='black')\n",
    "\n",
    "# Add labels and title\n",
    "plt.xlabel(column_name)\n",
    "plt.ylabel('Frequency')\n",
    "plt.title(f'Distribution of {column_name}')\n",
    "\n",
    "#Make names more readable\n",
    "plt.xticks(rotation=90)\n",
    "\n",
    "# Show the plot\n",
    "plt.show()"
   ]
  },
  {
   "cell_type": "code",
   "execution_count": null,
   "id": "e15c96f2",
   "metadata": {},
   "outputs": [],
   "source": []
  }
 ],
 "metadata": {
  "kernelspec": {
   "display_name": "Python 3 (ipykernel)",
   "language": "python",
   "name": "python3"
  },
  "language_info": {
   "codemirror_mode": {
    "name": "ipython",
    "version": 3
   },
   "file_extension": ".py",
   "mimetype": "text/x-python",
   "name": "python",
   "nbconvert_exporter": "python",
   "pygments_lexer": "ipython3",
   "version": "3.9.12"
  }
 },
 "nbformat": 4,
 "nbformat_minor": 5
}
