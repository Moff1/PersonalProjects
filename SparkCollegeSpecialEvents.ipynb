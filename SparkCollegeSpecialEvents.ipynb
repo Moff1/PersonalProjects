{
 "cells": [
  {
   "cell_type": "code",
   "execution_count": 1,
   "id": "a30c322d",
   "metadata": {},
   "outputs": [],
   "source": [
    "import pyspark"
   ]
  },
  {
   "cell_type": "code",
   "execution_count": 2,
   "id": "6ad22882",
   "metadata": {},
   "outputs": [],
   "source": [
    "from pyspark.sql import SparkSession"
   ]
  },
  {
   "cell_type": "code",
   "execution_count": 3,
   "id": "eb23f56b",
   "metadata": {},
   "outputs": [],
   "source": [
    "from pyspark.sql.functions import col"
   ]
  },
  {
   "cell_type": "code",
   "execution_count": 4,
   "id": "e1749c51",
   "metadata": {},
   "outputs": [],
   "source": [
    "from pyspark.sql.functions import desc"
   ]
  },
  {
   "cell_type": "code",
   "execution_count": 5,
   "id": "eed3004b",
   "metadata": {},
   "outputs": [],
   "source": [
    "from pyspark.sql.functions import asc"
   ]
  },
  {
   "cell_type": "code",
   "execution_count": 6,
   "id": "bb7978c1",
   "metadata": {},
   "outputs": [],
   "source": [
    "import findspark"
   ]
  },
  {
   "cell_type": "code",
   "execution_count": 7,
   "id": "7861315e",
   "metadata": {},
   "outputs": [],
   "source": [
    "spark = SparkSession.builder.appName('SpecialEvents').getOrCreate()"
   ]
  },
  {
   "cell_type": "code",
   "execution_count": 8,
   "id": "ca913ed6",
   "metadata": {},
   "outputs": [],
   "source": [
    "MensDeca = spark.read.format('csv').option('inferSchema','true').option('header','true').option('path','MensDeca.csv').load()"
   ]
  },
  {
   "cell_type": "code",
   "execution_count": 9,
   "id": "b0ff8238",
   "metadata": {},
   "outputs": [],
   "source": [
    "MensHep = spark.read.format('csv').option('inferSchema','true').option('header','true').option('path','MensHep.csv').load()"
   ]
  },
  {
   "cell_type": "code",
   "execution_count": 10,
   "id": "c350081a",
   "metadata": {},
   "outputs": [],
   "source": [
    "WomensDeca = spark.read.format('csv').option('inferSchema','true').option('header','true').option('path','WomensHep.csv').load()"
   ]
  },
  {
   "cell_type": "code",
   "execution_count": 11,
   "id": "6e9679ac",
   "metadata": {},
   "outputs": [],
   "source": [
    "WomensPent = spark.read.format('csv').option('inferSchema','true').option('header','true').option('path','WomensPent.csv').load()"
   ]
  },
  {
   "cell_type": "code",
   "execution_count": null,
   "id": "05847f3f",
   "metadata": {},
   "outputs": [],
   "source": []
  },
  {
   "cell_type": "code",
   "execution_count": 12,
   "id": "e54c36f5",
   "metadata": {},
   "outputs": [],
   "source": [
    "from pyspark.sql.types import StructType, StructField, StringType, IntegerType"
   ]
  },
  {
   "cell_type": "markdown",
   "id": "ee68f03d",
   "metadata": {},
   "source": [
    "## Create Views"
   ]
  },
  {
   "cell_type": "code",
   "execution_count": 13,
   "id": "608a16a5",
   "metadata": {},
   "outputs": [],
   "source": [
    "MensDeca.createOrReplaceTempView(\"MensDeca\")"
   ]
  },
  {
   "cell_type": "code",
   "execution_count": 14,
   "id": "89c28756",
   "metadata": {},
   "outputs": [],
   "source": [
    "MensHep.createOrReplaceTempView(\"MensHep\")"
   ]
  },
  {
   "cell_type": "code",
   "execution_count": 16,
   "id": "2a7ba0be",
   "metadata": {},
   "outputs": [],
   "source": [
    "WomensDeca.createOrReplaceTempView(\"WomensDeca\")"
   ]
  },
  {
   "cell_type": "code",
   "execution_count": 17,
   "id": "bf9b61ed",
   "metadata": {},
   "outputs": [],
   "source": [
    "WomensPent.createOrReplaceTempView(\"WomensPent\")"
   ]
  },
  {
   "cell_type": "markdown",
   "id": "acddba05",
   "metadata": {},
   "source": [
    "## Result One"
   ]
  },
  {
   "cell_type": "code",
   "execution_count": 18,
   "id": "89183ac8",
   "metadata": {},
   "outputs": [
    {
     "name": "stdout",
     "output_type": "stream",
     "text": [
      "+--------------------+------+---------+\n",
      "|               Names|Scores|  Schools|\n",
      "+--------------------+------+---------+\n",
      "|   Leo NEUGEBAUER JR| 8,836|    Texas|\n",
      "|      Kyle GARLANDSO| 8,720|  Georgia|\n",
      "|       Garland {2}SR| 8,630|  Georgia|\n",
      "|       Garland {3}SR| 8,589|  Georgia|\n",
      "|     Lindon VICTORSR| 8,539|Texas A&M|\n",
      "|Ayden OWENS-DELER...| 8,528| Arkansas|\n",
      "|       Karel TILGASO| 8,484|  Georgia|\n",
      "|   Neugebauer  {2}JR| 8,478|    Texas|\n",
      "|        Victor {2}SR| 8,472|Texas A&M|\n",
      "|         Trey HARDEE| 8,465|    Texas|\n",
      "|          Tom PAPPAS| 8,463|Tennessee|\n",
      "| Owens-Delerme {2}JR| 8,457| Arkansas|\n",
      "|      Ashton EATONSR| 8,457|   Oregon|\n",
      "|          Victor {3}| 8,446|Texas A&M|\n",
      "|        Victor {4}SR| 8,390|Texas A&M|\n",
      "|        Victor {5}JR| 8,379|Texas A&M|\n",
      "|   Neugebauer  {3}SO| 8,362|    Texas|\n",
      "|         Maicel UIBO| 8,356|  Georgia|\n",
      "|      Johannes ERMSO| 8,352|  Georgia|\n",
      "|    Devon WILLIAMSSR| 8,345|  Georgia|\n",
      "+--------------------+------+---------+\n",
      "only showing top 20 rows\n",
      "\n"
     ]
    }
   ],
   "source": [
    "resultone = spark.sql(\"SELECT * FROM MensDeca\")\n",
    "resultone.show()"
   ]
  },
  {
   "cell_type": "code",
   "execution_count": 19,
   "id": "f6d9b819",
   "metadata": {},
   "outputs": [
    {
     "name": "stdout",
     "output_type": "stream",
     "text": [
      "+--------------------+------+--------+\n",
      "|               Names|Scores| Schools|\n",
      "+--------------------+------+--------+\n",
      "|      Kyle GARLANDSR| 6,639| Georgia|\n",
      "|Ayden OWENS-DELER...| 6,518|Arkansas|\n",
      "|      Ashton EATONSR| 6,499|  Oregon|\n",
      "|       Garland {2}SR| 6,415| Georgia|\n",
      "| Owens-Delerme {2}SO| 6,272|Arkansas|\n",
      "|       Karel TILGASO| 6,264| Georgia|\n",
      "|           Eaton {2}| 6,256|  Oregon|\n",
      "| Owens-Delerme {3}JR| 6,237|Arkansas|\n",
      "|   Leo NEUGEBAUER JR| 6,214|   Texas|\n",
      "| Owens-Delerme {4}SO| 6,211|Arkansas|\n",
      "|         Trey HARDEE| 6,208|   Texas|\n",
      "|       Garland {3}SO| 6,205| Georgia|\n",
      "|       Garland {4}SO| 6,200| Georgia|\n",
      "|       Garland {5}SO| 6,200| Georgia|\n",
      "|   Till STEINFORTHSO| 6,196|Nebraska|\n",
      "|        Curtis BEACH| 6,190|    Duke|\n",
      "|     Tim DUCKWORTHSR| 6,188|Kentucky|\n",
      "|    Devon WILLIAMSSR| 6,177| Georgia|\n",
      "|       Kevin LAZASJR| 6,175|Arkansas|\n",
      "|           Eaton {3}| 6,174|  Oregon|\n",
      "+--------------------+------+--------+\n",
      "only showing top 20 rows\n",
      "\n"
     ]
    }
   ],
   "source": [
    "resulttwo = spark.sql(\"SELECT * FROM MensHep\")\n",
    "resulttwo.show()"
   ]
  },
  {
   "cell_type": "code",
   "execution_count": 20,
   "id": "39c3d37a",
   "metadata": {},
   "outputs": [
    {
     "name": "stdout",
     "output_type": "stream",
     "text": [
      "+-------------------+------+-------------------+\n",
      "|              Names|Scores|            Schools|\n",
      "+-------------------+------+-------------------+\n",
      "|    Diane GUTHRIESR| 6,527|       George Mason|\n",
      "|        Anna HALLSO| 6,458|            Florida|\n",
      "|   Brianne THEISEN.| 6,440|             Oregon|\n",
      "|     Tyra GITTENSJR| 6,418|          Texas A&M|\n",
      "|         Hall {2}SO| 6,412|            Florida|\n",
      "|         Hall {3}SO| 6,385|            Florida|\n",
      "|        Akela JONES| 6,371|       Kansas State|\n",
      "|    Jackie JOYNERJR| 6,365|               UCLA|\n",
      "| Kendell WILLIAMSSR| 6,354|            Georgia|\n",
      "|        Theisen {2}| 6,353|             Oregon|\n",
      "|          Jones {2}| 6,307|       Kansas State|\n",
      "|     Jackie JOHNSON| 6,307|      Arizona State|\n",
      "|      Gittens {2}JR| 6,285|          Texas A&M|\n",
      "|  Joyner-Kersee {2}| 6,275|               UCLA|\n",
      "|      Gittens {3}JR| 6,274|          Texas A&M|\n",
      "|Guthrie-Gresham {2}| 6,271|       George Mason|\n",
      "|     Williams {2}SR| 6,265|            Georgia|\n",
      "|      Erica BOUGARD| 6,250|  Mississippi State|\n",
      "|      Allie JONESSR| 6,234|Southern California|\n",
      "|     Williams {3}JR| 6,225|            Georgia|\n",
      "+-------------------+------+-------------------+\n",
      "only showing top 20 rows\n",
      "\n"
     ]
    }
   ],
   "source": [
    "resultthree = spark.sql(\"SELECT * FROM WomensDeca\")\n",
    "resultthree.show()"
   ]
  },
  {
   "cell_type": "code",
   "execution_count": 21,
   "id": "a49f50da",
   "metadata": {},
   "outputs": [
    {
     "name": "stdout",
     "output_type": "stream",
     "text": [
      "+------------------+------+-----------------+\n",
      "|             Names|Scores|          Schools|\n",
      "+------------------+------+-----------------+\n",
      "|    Tyra GITTENSJR| 4,746|        Texas A&M|\n",
      "|Kendell WILLIAMSJR| 4,703|          Georgia|\n",
      "|    Williams {2}SR| 4,686|          Georgia|\n",
      "|    Williams {3}SR| 4,682|          Georgia|\n",
      "|      Williams {4}| 4,678|          Georgia|\n",
      "|       Akela JONES| 4,643|     Kansas State|\n",
      "|      Williams {5}| 4,635|          Georgia|\n",
      "|       Anna HALLSO| 4,618|          Florida|\n",
      "|     Gittens {2}SR| 4,612|        Texas A&M|\n",
      "|      Williams {6}| 4,609|          Georgia|\n",
      "|        Hall {2}SO| 4,590|          Georgia|\n",
      "|        Hall {3}SO| 4,586|          Florida|\n",
      "|      Williams {7}| 4,586|          Georgia|\n",
      "|     Erica BOUGARD| 4,586|Mississippi State|\n",
      "|  Taliyah BROOKSJR| 4,580|         Arkansas|\n",
      "|      Brooks {2}SR| 4,572|         Arkansas|\n",
      "|     Makeba ALCIDE| 4,569|         Arkansas|\n",
      "|       Bougard {2}| 4,566|Mississippi State|\n",
      "|      Williams {8}| 4,558|          Georgia|\n",
      "|   Brianne THEISEN| 4,555|           Oregon|\n",
      "+------------------+------+-----------------+\n",
      "only showing top 20 rows\n",
      "\n"
     ]
    }
   ],
   "source": [
    "resultfour = spark.sql(\"SELECT * FROM WomensPent\")\n",
    "resultfour.show()"
   ]
  },
  {
   "cell_type": "markdown",
   "id": "943b7231",
   "metadata": {},
   "source": [
    "## Query One - Scores (Women)"
   ]
  },
  {
   "cell_type": "code",
   "execution_count": 22,
   "id": "5ddb837f",
   "metadata": {},
   "outputs": [
    {
     "name": "stdout",
     "output_type": "stream",
     "text": [
      "+------+-----+\n",
      "|Scores|count|\n",
      "+------+-----+\n",
      "| 6,146|    3|\n",
      "| 6,307|    2|\n",
      "| 6,117|    2|\n",
      "| 6,100|    2|\n",
      "| 6,274|    1|\n",
      "| 6,418|    1|\n",
      "| 6,173|    1|\n",
      "| 6,114|    1|\n",
      "| 6,142|    1|\n",
      "| 6,271|    1|\n",
      "| 6,147|    1|\n",
      "| 6,150|    1|\n",
      "| 6,440|    1|\n",
      "| 6,354|    1|\n",
      "| 6,250|    1|\n",
      "| 6,275|    1|\n",
      "| 6,165|    1|\n",
      "| 6,205|    1|\n",
      "| 6,385|    1|\n",
      "| 6,285|    1|\n",
      "+------+-----+\n",
      "only showing top 20 rows\n",
      "\n"
     ]
    }
   ],
   "source": [
    "QueryOneA = spark.sql(\"SELECT Scores, COUNT(*) as count FROM WomensDeca GROUP BY Scores ORDER BY count DESC\")\n",
    "QueryOneA.show()"
   ]
  },
  {
   "cell_type": "code",
   "execution_count": 24,
   "id": "a39ebddf",
   "metadata": {},
   "outputs": [
    {
     "name": "stdout",
     "output_type": "stream",
     "text": [
      "+------+-----+\n",
      "|Scores|count|\n",
      "+------+-----+\n",
      "| 4,586|    3|\n",
      "| 4,396|    3|\n",
      "| 4,450|    2|\n",
      "| 4,498|    2|\n",
      "| 4,402|    2|\n",
      "| 4,417|    2|\n",
      "| 4,425|    2|\n",
      "| 4,412|    2|\n",
      "| 4,476|    1|\n",
      "| 4,566|    1|\n",
      "| 4,635|    1|\n",
      "| 4,572|    1|\n",
      "| 4,432|    1|\n",
      "| 4,502|    1|\n",
      "| 4,555|    1|\n",
      "| 4,609|    1|\n",
      "| 4,399|    1|\n",
      "| 4,643|    1|\n",
      "| 4,540|    1|\n",
      "| 4,519|    1|\n",
      "+------+-----+\n",
      "only showing top 20 rows\n",
      "\n"
     ]
    }
   ],
   "source": [
    "QueryOneB = spark.sql(\"SELECT Scores, COUNT(*) as count FROM WomensPent GROUP BY Scores ORDER BY count DESC\")\n",
    "QueryOneB.show()"
   ]
  },
  {
   "cell_type": "markdown",
   "id": "cd63d969",
   "metadata": {},
   "source": [
    "## Query One - Scores (Men)"
   ]
  },
  {
   "cell_type": "code",
   "execution_count": 26,
   "id": "e129bcee",
   "metadata": {},
   "outputs": [
    {
     "name": "stdout",
     "output_type": "stream",
     "text": [
      "+------+-----+\n",
      "|Scores|count|\n",
      "+------+-----+\n",
      "| 8,457|    2|\n",
      "| 8,223|    2|\n",
      "| 8,261|    2|\n",
      "| 8,336|    1|\n",
      "| 8,390|    1|\n",
      "| 8,379|    1|\n",
      "| 8,362|    1|\n",
      "| 8,172|    1|\n",
      "| 8,528|    1|\n",
      "| 8,232|    1|\n",
      "| 8,465|    1|\n",
      "| 8,446|    1|\n",
      "| 8,215|    1|\n",
      "| 8,326|    1|\n",
      "| 8,196|    1|\n",
      "| 8,836|    1|\n",
      "| 8,179|    1|\n",
      "| 8,267|    1|\n",
      "| 8,201|    1|\n",
      "| 8,241|    1|\n",
      "+------+-----+\n",
      "only showing top 20 rows\n",
      "\n"
     ]
    }
   ],
   "source": [
    "QueryTwoA = spark.sql(\"SELECT Scores, COUNT(*) as count FROM MensDeca GROUP BY Scores ORDER BY count DESC\")\n",
    "QueryTwoA.show()"
   ]
  },
  {
   "cell_type": "code",
   "execution_count": 27,
   "id": "e9387346",
   "metadata": {},
   "outputs": [
    {
     "name": "stdout",
     "output_type": "stream",
     "text": [
      "+------+-----+\n",
      "|Scores|count|\n",
      "+------+-----+\n",
      "| 6,082|    2|\n",
      "| 6,165|    2|\n",
      "| 6,090|    2|\n",
      "| 6,200|    2|\n",
      "| 6,048|    2|\n",
      "| 6,177|    1|\n",
      "| 6,173|    1|\n",
      "| 6,264|    1|\n",
      "| 6,518|    1|\n",
      "| 6,068|    1|\n",
      "| 6,272|    1|\n",
      "| 6,114|    1|\n",
      "| 6,499|    1|\n",
      "| 6,256|    1|\n",
      "| 6,188|    1|\n",
      "| 6,205|    1|\n",
      "| 6,138|    1|\n",
      "| 6,175|    1|\n",
      "| 6,136|    1|\n",
      "| 6,081|    1|\n",
      "+------+-----+\n",
      "only showing top 20 rows\n",
      "\n"
     ]
    }
   ],
   "source": [
    "QueryTwoB = spark.sql(\"SELECT Scores, COUNT(*) as count FROM MensHep GROUP BY Scores ORDER BY count DESC\")\n",
    "QueryTwoB.show()"
   ]
  },
  {
   "cell_type": "markdown",
   "id": "d6317e41",
   "metadata": {},
   "source": [
    "## Query Three - Schools (Womens)"
   ]
  },
  {
   "cell_type": "code",
   "execution_count": 28,
   "id": "f9eeb3c3",
   "metadata": {},
   "outputs": [
    {
     "name": "stdout",
     "output_type": "stream",
     "text": [
      "+--------------------+-----+\n",
      "|             Schools|count|\n",
      "+--------------------+-----+\n",
      "|             Georgia|    8|\n",
      "|        Kansas State|    4|\n",
      "|               Texas|    3|\n",
      "|           Texas A&M|    3|\n",
      "|             Florida|    3|\n",
      "|       Arizona State|    3|\n",
      "|              Oregon|    2|\n",
      "|   Mississippi State|    2|\n",
      "|          Washington|    2|\n",
      "|            Oklahoma|    2|\n",
      "|        George Mason|    2|\n",
      "|                UCLA|    2|\n",
      "|                 BYU|    2|\n",
      "| Southern California|    2|\n",
      "|           Wisconsin|    2|\n",
      "|New Mexico Highlands|    1|\n",
      "|          Vanderbilt|    1|\n",
      "|        Miami (Fla.)|    1|\n",
      "|    Washington State|    1|\n",
      "+--------------------+-----+\n",
      "\n"
     ]
    }
   ],
   "source": [
    "QueryThreeA = spark.sql(\"SELECT Schools, COUNT(*) as count FROM WomensDeca GROUP BY Schools ORDER BY count DESC\")\n",
    "QueryThreeA.show()"
   ]
  },
  {
   "cell_type": "code",
   "execution_count": 29,
   "id": "5c13924e",
   "metadata": {},
   "outputs": [
    {
     "name": "stdout",
     "output_type": "stream",
     "text": [
      "+-------------------+-----+\n",
      "|            Schools|count|\n",
      "+-------------------+-----+\n",
      "|            Georgia|   17|\n",
      "|           Arkansas|    9|\n",
      "|       Kansas State|    6|\n",
      "|             Oregon|    5|\n",
      "|  Mississippi State|    5|\n",
      "|Southern California|    3|\n",
      "|              Omaha|    2|\n",
      "|       Miami (Fla.)|    2|\n",
      "|          Texas A&M|    2|\n",
      "|            Florida|    2|\n",
      "|              Texas|    1|\n",
      "|           Nebraska|    1|\n",
      "|           Oklahoma|    1|\n",
      "|         Notre Dame|    1|\n",
      "|     North Carolina|    1|\n",
      "|             Kansas|    1|\n",
      "|           Maryland|    1|\n",
      "|      Arizona State|    1|\n",
      "|     Kennesaw State|    1|\n",
      "+-------------------+-----+\n",
      "\n"
     ]
    }
   ],
   "source": [
    "QueryThreeB = spark.sql(\"SELECT Schools, COUNT(*) as count FROM WomensPent GROUP BY Schools ORDER BY count DESC\")\n",
    "QueryThreeB.show()"
   ]
  },
  {
   "cell_type": "markdown",
   "id": "7f9d887f",
   "metadata": {},
   "source": [
    "## Query Four - Schools (Men)"
   ]
  },
  {
   "cell_type": "code",
   "execution_count": 30,
   "id": "f1ecdee3",
   "metadata": {},
   "outputs": [
    {
     "name": "stdout",
     "output_type": "stream",
     "text": [
      "+------------+-----+\n",
      "|     Schools|count|\n",
      "+------------+-----+\n",
      "|     Georgia|   18|\n",
      "|       Texas|    6|\n",
      "|   Texas A&M|    5|\n",
      "|      Oregon|    4|\n",
      "|   Tennessee|    4|\n",
      "|  Washington|    3|\n",
      "|    Arkansas|    2|\n",
      "|     Arizona|    2|\n",
      "|   Minnesota|    1|\n",
      "|         LSU|    1|\n",
      "|George Mason|    1|\n",
      "|         BYU|    1|\n",
      "|    Michigan|    1|\n",
      "|        Iowa|    1|\n",
      "|    Kentucky|    1|\n",
      "|   Wisconsin|    1|\n",
      "+------------+-----+\n",
      "\n"
     ]
    }
   ],
   "source": [
    "QueryFourA = spark.sql(\"SELECT Schools, COUNT(*) as count FROM MensDeca GROUP BY Schools ORDER BY count DESC\")\n",
    "QueryFourA.show()"
   ]
  },
  {
   "cell_type": "code",
   "execution_count": 31,
   "id": "9aa7668b",
   "metadata": {},
   "outputs": [
    {
     "name": "stdout",
     "output_type": "stream",
     "text": [
      "+-----------------+-----+\n",
      "|          Schools|count|\n",
      "+-----------------+-----+\n",
      "|          Georgia|   11|\n",
      "|            Texas|    6|\n",
      "|         Arkansas|    5|\n",
      "|        Wisconsin|    4|\n",
      "|           Oregon|    3|\n",
      "|         Kentucky|    3|\n",
      "|        Minnesota|    2|\n",
      "|         Nebraska|    2|\n",
      "|       Washington|    2|\n",
      "|             Duke|    2|\n",
      "|Sam Houston State|    1|\n",
      "|        Princeton|    1|\n",
      "|       Pittsburgh|    1|\n",
      "|             Iowa|    1|\n",
      "|    Wichita State|    1|\n",
      "+-----------------+-----+\n",
      "\n"
     ]
    }
   ],
   "source": [
    "QueryFourB = spark.sql(\"SELECT Schools, COUNT(*) as count FROM MensHep GROUP BY Schools ORDER BY count DESC\")\n",
    "QueryFourB.show()"
   ]
  },
  {
   "cell_type": "markdown",
   "id": "ebfc8676",
   "metadata": {},
   "source": [
    "## Query Five - Percentage of Times (Women)"
   ]
  },
  {
   "cell_type": "code",
   "execution_count": 33,
   "id": "fb1260c9",
   "metadata": {},
   "outputs": [
    {
     "name": "stdout",
     "output_type": "stream",
     "text": [
      "+------+-----+------------------+\n",
      "|Scores|count|        percentage|\n",
      "+------+-----+------------------+\n",
      "| 6,274|    1|2.1739130434782608|\n",
      "| 6,418|    1|2.1739130434782608|\n",
      "| 6,173|    1|2.1739130434782608|\n",
      "| 6,307|    2|4.3478260869565215|\n",
      "| 6,114|    1|2.1739130434782608|\n",
      "| 6,142|    1|2.1739130434782608|\n",
      "| 6,271|    1|2.1739130434782608|\n",
      "| 6,147|    1|2.1739130434782608|\n",
      "| 6,150|    1|2.1739130434782608|\n",
      "| 6,440|    1|2.1739130434782608|\n",
      "| 6,354|    1|2.1739130434782608|\n",
      "| 6,250|    1|2.1739130434782608|\n",
      "| 6,275|    1|2.1739130434782608|\n",
      "| 6,165|    1|2.1739130434782608|\n",
      "| 6,117|    2|4.3478260869565215|\n",
      "| 6,205|    1|2.1739130434782608|\n",
      "| 6,385|    1|2.1739130434782608|\n",
      "| 6,100|    2|4.3478260869565215|\n",
      "| 6,285|    1|2.1739130434782608|\n",
      "| 6,225|    1|2.1739130434782608|\n",
      "+------+-----+------------------+\n",
      "only showing top 20 rows\n",
      "\n"
     ]
    }
   ],
   "source": [
    "QueryFiveA = spark.sql(\"SELECT Scores, COUNT(*) as count, (COUNT(*) / (SELECT COUNT(*) FROM WomensDeca)) * 100 as percentage FROM WomensDeca GROUP BY Scores\")\n",
    "QueryFiveA.show()"
   ]
  },
  {
   "cell_type": "code",
   "execution_count": 34,
   "id": "e6889948",
   "metadata": {},
   "outputs": [
    {
     "name": "stdout",
     "output_type": "stream",
     "text": [
      "+------+-----+------------------+\n",
      "|Scores|count|        percentage|\n",
      "+------+-----+------------------+\n",
      "| 4,476|    1|1.6129032258064515|\n",
      "| 4,566|    1|1.6129032258064515|\n",
      "| 4,635|    1|1.6129032258064515|\n",
      "| 4,572|    1|1.6129032258064515|\n",
      "| 4,432|    1|1.6129032258064515|\n",
      "| 4,502|    1|1.6129032258064515|\n",
      "| 4,586|    3| 4.838709677419355|\n",
      "| 4,555|    1|1.6129032258064515|\n",
      "| 4,609|    1|1.6129032258064515|\n",
      "| 4,399|    1|1.6129032258064515|\n",
      "| 4,643|    1|1.6129032258064515|\n",
      "| 4,540|    1|1.6129032258064515|\n",
      "| 4,450|    2| 3.225806451612903|\n",
      "| 4,498|    2| 3.225806451612903|\n",
      "| 4,519|    1|1.6129032258064515|\n",
      "| 4,678|    1|1.6129032258064515|\n",
      "| 4,686|    1|1.6129032258064515|\n",
      "| 4,703|    1|1.6129032258064515|\n",
      "| 4,406|    1|1.6129032258064515|\n",
      "| 4,512|    1|1.6129032258064515|\n",
      "+------+-----+------------------+\n",
      "only showing top 20 rows\n",
      "\n"
     ]
    }
   ],
   "source": [
    "QueryFiveB = spark.sql(\"SELECT Scores, COUNT(*) as count, (COUNT(*) / (SELECT COUNT(*) FROM WomensPent)) * 100 as percentage FROM WomensPent GROUP BY Scores\")\n",
    "QueryFiveB.show()"
   ]
  },
  {
   "cell_type": "markdown",
   "id": "1908b441",
   "metadata": {},
   "source": [
    "## Query Six - Percentage of Times (Mens)"
   ]
  },
  {
   "cell_type": "code",
   "execution_count": 35,
   "id": "8eb8421d",
   "metadata": {},
   "outputs": [
    {
     "name": "stdout",
     "output_type": "stream",
     "text": [
      "+------+-----+------------------+\n",
      "|Scores|count|        percentage|\n",
      "+------+-----+------------------+\n",
      "| 8,336|    1|1.9230769230769231|\n",
      "| 8,390|    1|1.9230769230769231|\n",
      "| 8,379|    1|1.9230769230769231|\n",
      "| 8,362|    1|1.9230769230769231|\n",
      "| 8,172|    1|1.9230769230769231|\n",
      "| 8,528|    1|1.9230769230769231|\n",
      "| 8,232|    1|1.9230769230769231|\n",
      "| 8,465|    1|1.9230769230769231|\n",
      "| 8,446|    1|1.9230769230769231|\n",
      "| 8,457|    2|3.8461538461538463|\n",
      "| 8,215|    1|1.9230769230769231|\n",
      "| 8,326|    1|1.9230769230769231|\n",
      "| 8,196|    1|1.9230769230769231|\n",
      "| 8,836|    1|1.9230769230769231|\n",
      "| 8,179|    1|1.9230769230769231|\n",
      "| 8,267|    1|1.9230769230769231|\n",
      "| 8,201|    1|1.9230769230769231|\n",
      "| 8,241|    1|1.9230769230769231|\n",
      "| 8,463|    1|1.9230769230769231|\n",
      "| 8,227|    1|1.9230769230769231|\n",
      "+------+-----+------------------+\n",
      "only showing top 20 rows\n",
      "\n"
     ]
    }
   ],
   "source": [
    "QuerySixA = spark.sql(\"SELECT Scores, COUNT(*) as count, (COUNT(*) / (SELECT COUNT(*) FROM MensDeca)) * 100 as percentage FROM MensDeca GROUP BY Scores\")\n",
    "QuerySixA.show()"
   ]
  },
  {
   "cell_type": "code",
   "execution_count": 36,
   "id": "301571d8",
   "metadata": {},
   "outputs": [
    {
     "name": "stdout",
     "output_type": "stream",
     "text": [
      "+------+-----+------------------+\n",
      "|Scores|count|        percentage|\n",
      "+------+-----+------------------+\n",
      "| 6,177|    1|2.2222222222222223|\n",
      "| 6,173|    1|2.2222222222222223|\n",
      "| 6,264|    1|2.2222222222222223|\n",
      "| 6,518|    1|2.2222222222222223|\n",
      "| 6,082|    2| 4.444444444444445|\n",
      "| 6,068|    1|2.2222222222222223|\n",
      "| 6,272|    1|2.2222222222222223|\n",
      "| 6,114|    1|2.2222222222222223|\n",
      "| 6,499|    1|2.2222222222222223|\n",
      "| 6,256|    1|2.2222222222222223|\n",
      "| 6,188|    1|2.2222222222222223|\n",
      "| 6,165|    2| 4.444444444444445|\n",
      "| 6,205|    1|2.2222222222222223|\n",
      "| 6,138|    1|2.2222222222222223|\n",
      "| 6,175|    1|2.2222222222222223|\n",
      "| 6,136|    1|2.2222222222222223|\n",
      "| 6,090|    2| 4.444444444444445|\n",
      "| 6,081|    1|2.2222222222222223|\n",
      "| 6,196|    1|2.2222222222222223|\n",
      "| 6,089|    1|2.2222222222222223|\n",
      "+------+-----+------------------+\n",
      "only showing top 20 rows\n",
      "\n"
     ]
    }
   ],
   "source": [
    "QuerySixB = spark.sql(\"SELECT Scores, COUNT(*) as count, (COUNT(*) / (SELECT COUNT(*) FROM MensHep)) * 100 as percentage FROM MensHep GROUP BY Scores\")\n",
    "QuerySixB.show()"
   ]
  },
  {
   "cell_type": "markdown",
   "id": "c0f13ebe",
   "metadata": {},
   "source": [
    "## Query Seven - Percentage of Schools (Womens)"
   ]
  },
  {
   "cell_type": "code",
   "execution_count": 37,
   "id": "71813844",
   "metadata": {},
   "outputs": [
    {
     "name": "stdout",
     "output_type": "stream",
     "text": [
      "+--------------------+-----+------------------+\n",
      "|             Schools|count|        percentage|\n",
      "+--------------------+-----+------------------+\n",
      "|New Mexico Highlands|    1|2.1739130434782608|\n",
      "|              Oregon|    2|4.3478260869565215|\n",
      "|               Texas|    3| 6.521739130434782|\n",
      "|        Kansas State|    4| 8.695652173913043|\n",
      "|   Mississippi State|    2|4.3478260869565215|\n",
      "|          Washington|    2|4.3478260869565215|\n",
      "|            Oklahoma|    2|4.3478260869565215|\n",
      "|          Vanderbilt|    1|2.1739130434782608|\n",
      "|        George Mason|    2|4.3478260869565215|\n",
      "|                UCLA|    2|4.3478260869565215|\n",
      "|                 BYU|    2|4.3478260869565215|\n",
      "|        Miami (Fla.)|    1|2.1739130434782608|\n",
      "|             Georgia|    8|17.391304347826086|\n",
      "|           Texas A&M|    3| 6.521739130434782|\n",
      "|    Washington State|    1|2.1739130434782608|\n",
      "| Southern California|    2|4.3478260869565215|\n",
      "|             Florida|    3| 6.521739130434782|\n",
      "|       Arizona State|    3| 6.521739130434782|\n",
      "|           Wisconsin|    2|4.3478260869565215|\n",
      "+--------------------+-----+------------------+\n",
      "\n"
     ]
    }
   ],
   "source": [
    "QuerySevenA = spark.sql(\"SELECT Schools, COUNT(*) as count, (COUNT(*) / (SELECT COUNT(*) FROM WomensDeca)) * 100 as percentage FROM WomensDeca GROUP BY Schools\")\n",
    "QuerySevenA.show()"
   ]
  },
  {
   "cell_type": "code",
   "execution_count": 38,
   "id": "14685f34",
   "metadata": {},
   "outputs": [
    {
     "name": "stdout",
     "output_type": "stream",
     "text": [
      "+-------------------+-----+------------------+\n",
      "|            Schools|count|        percentage|\n",
      "+-------------------+-----+------------------+\n",
      "|              Omaha|    2| 3.225806451612903|\n",
      "|           Arkansas|    9|14.516129032258066|\n",
      "|             Oregon|    5| 8.064516129032258|\n",
      "|              Texas|    1|1.6129032258064515|\n",
      "|       Kansas State|    6|  9.67741935483871|\n",
      "|  Mississippi State|    5| 8.064516129032258|\n",
      "|           Nebraska|    1|1.6129032258064515|\n",
      "|           Oklahoma|    1|1.6129032258064515|\n",
      "|         Notre Dame|    1|1.6129032258064515|\n",
      "|       Miami (Fla.)|    2| 3.225806451612903|\n",
      "|            Georgia|   17|27.419354838709676|\n",
      "|          Texas A&M|    2| 3.225806451612903|\n",
      "|     North Carolina|    1|1.6129032258064515|\n",
      "|             Kansas|    1|1.6129032258064515|\n",
      "|           Maryland|    1|1.6129032258064515|\n",
      "|Southern California|    3| 4.838709677419355|\n",
      "|            Florida|    2| 3.225806451612903|\n",
      "|      Arizona State|    1|1.6129032258064515|\n",
      "|     Kennesaw State|    1|1.6129032258064515|\n",
      "+-------------------+-----+------------------+\n",
      "\n"
     ]
    }
   ],
   "source": [
    "QuerySevenB = spark.sql(\"SELECT Schools, COUNT(*) as count, (COUNT(*) / (SELECT COUNT(*) FROM WomensPent)) * 100 as percentage FROM WomensPent GROUP BY Schools\")\n",
    "QuerySevenB.show()"
   ]
  },
  {
   "cell_type": "markdown",
   "id": "c32e76c0",
   "metadata": {},
   "source": [
    "## Query Eight - Percentage of Schools (Mens)"
   ]
  },
  {
   "cell_type": "code",
   "execution_count": 39,
   "id": "592174fb",
   "metadata": {},
   "outputs": [
    {
     "name": "stdout",
     "output_type": "stream",
     "text": [
      "+------------+-----+------------------+\n",
      "|     Schools|count|        percentage|\n",
      "+------------+-----+------------------+\n",
      "|   Minnesota|    1|1.9230769230769231|\n",
      "|    Arkansas|    2|3.8461538461538463|\n",
      "|      Oregon|    4|7.6923076923076925|\n",
      "|       Texas|    6|11.538461538461538|\n",
      "|         LSU|    1|1.9230769230769231|\n",
      "|  Washington|    3| 5.769230769230769|\n",
      "|George Mason|    1|1.9230769230769231|\n",
      "|         BYU|    1|1.9230769230769231|\n",
      "|     Georgia|   18| 34.61538461538461|\n",
      "|    Michigan|    1|1.9230769230769231|\n",
      "|   Texas A&M|    5| 9.615384615384617|\n",
      "|     Arizona|    2|3.8461538461538463|\n",
      "|        Iowa|    1|1.9230769230769231|\n",
      "|    Kentucky|    1|1.9230769230769231|\n",
      "|   Tennessee|    4|7.6923076923076925|\n",
      "|   Wisconsin|    1|1.9230769230769231|\n",
      "+------------+-----+------------------+\n",
      "\n"
     ]
    }
   ],
   "source": [
    "QueryEightA = spark.sql(\"SELECT Schools, COUNT(*) as count, (COUNT(*) / (SELECT COUNT(*) FROM MensDeca)) * 100 as percentage FROM MensDeca GROUP BY Schools\")\n",
    "QueryEightA.show()"
   ]
  },
  {
   "cell_type": "code",
   "execution_count": 40,
   "id": "58378188",
   "metadata": {},
   "outputs": [
    {
     "name": "stdout",
     "output_type": "stream",
     "text": [
      "+-----------------+-----+------------------+\n",
      "|          Schools|count|        percentage|\n",
      "+-----------------+-----+------------------+\n",
      "|        Minnesota|    2| 4.444444444444445|\n",
      "|         Arkansas|    5| 11.11111111111111|\n",
      "|           Oregon|    3| 6.666666666666667|\n",
      "|            Texas|    6|13.333333333333334|\n",
      "|Sam Houston State|    1|2.2222222222222223|\n",
      "|        Princeton|    1|2.2222222222222223|\n",
      "|         Nebraska|    2| 4.444444444444445|\n",
      "|       Washington|    2| 4.444444444444445|\n",
      "|             Duke|    2| 4.444444444444445|\n",
      "|       Pittsburgh|    1|2.2222222222222223|\n",
      "|          Georgia|   11|24.444444444444443|\n",
      "|             Iowa|    1|2.2222222222222223|\n",
      "|         Kentucky|    3| 6.666666666666667|\n",
      "|    Wichita State|    1|2.2222222222222223|\n",
      "|        Wisconsin|    4|  8.88888888888889|\n",
      "+-----------------+-----+------------------+\n",
      "\n"
     ]
    }
   ],
   "source": [
    "QueryEightB = spark.sql(\"SELECT Schools, COUNT(*) as count, (COUNT(*) / (SELECT COUNT(*) FROM MensHep)) * 100 as percentage FROM MensHep GROUP BY Schools\")\n",
    "QueryEightB.show()"
   ]
  },
  {
   "cell_type": "markdown",
   "id": "13db15e7",
   "metadata": {},
   "source": [
    "## Import Data as CSVs"
   ]
  },
  {
   "cell_type": "code",
   "execution_count": 41,
   "id": "ac5dc17d",
   "metadata": {},
   "outputs": [
    {
     "name": "stderr",
     "output_type": "stream",
     "text": [
      "C:\\Users\\MoJo\\anaconda3\\lib\\site-packages\\scipy\\__init__.py:146: UserWarning: A NumPy version >=1.16.5 and <1.23.0 is required for this version of SciPy (detected version 1.25.1\n",
      "  warnings.warn(f\"A NumPy version >={np_minversion} and <{np_maxversion}\"\n"
     ]
    }
   ],
   "source": [
    "import pandas as pd\n",
    "import matplotlib.pyplot as plt\n",
    "import seaborn as sns"
   ]
  },
  {
   "cell_type": "code",
   "execution_count": 42,
   "id": "69c2b90d",
   "metadata": {},
   "outputs": [
    {
     "data": {
      "text/html": [
       "<div>\n",
       "<style scoped>\n",
       "    .dataframe tbody tr th:only-of-type {\n",
       "        vertical-align: middle;\n",
       "    }\n",
       "\n",
       "    .dataframe tbody tr th {\n",
       "        vertical-align: top;\n",
       "    }\n",
       "\n",
       "    .dataframe thead th {\n",
       "        text-align: right;\n",
       "    }\n",
       "</style>\n",
       "<table border=\"1\" class=\"dataframe\">\n",
       "  <thead>\n",
       "    <tr style=\"text-align: right;\">\n",
       "      <th></th>\n",
       "      <th>Names</th>\n",
       "      <th>Scores</th>\n",
       "      <th>Schools</th>\n",
       "    </tr>\n",
       "  </thead>\n",
       "  <tbody>\n",
       "    <tr>\n",
       "      <th>0</th>\n",
       "      <td>Leo NEUGEBAUER JR</td>\n",
       "      <td>8,836</td>\n",
       "      <td>Texas</td>\n",
       "    </tr>\n",
       "    <tr>\n",
       "      <th>1</th>\n",
       "      <td>Kyle GARLANDSO</td>\n",
       "      <td>8,720</td>\n",
       "      <td>Georgia</td>\n",
       "    </tr>\n",
       "    <tr>\n",
       "      <th>2</th>\n",
       "      <td>Garland {2}SR</td>\n",
       "      <td>8,630</td>\n",
       "      <td>Georgia</td>\n",
       "    </tr>\n",
       "    <tr>\n",
       "      <th>3</th>\n",
       "      <td>Garland {3}SR</td>\n",
       "      <td>8,589</td>\n",
       "      <td>Georgia</td>\n",
       "    </tr>\n",
       "    <tr>\n",
       "      <th>4</th>\n",
       "      <td>Lindon VICTORSR</td>\n",
       "      <td>8,539</td>\n",
       "      <td>Texas A&amp;M</td>\n",
       "    </tr>\n",
       "    <tr>\n",
       "      <th>5</th>\n",
       "      <td>Ayden OWENS-DELERMEJR</td>\n",
       "      <td>8,528</td>\n",
       "      <td>Arkansas</td>\n",
       "    </tr>\n",
       "    <tr>\n",
       "      <th>6</th>\n",
       "      <td>Karel TILGASO</td>\n",
       "      <td>8,484</td>\n",
       "      <td>Georgia</td>\n",
       "    </tr>\n",
       "    <tr>\n",
       "      <th>7</th>\n",
       "      <td>Neugebauer  {2}JR</td>\n",
       "      <td>8,478</td>\n",
       "      <td>Texas</td>\n",
       "    </tr>\n",
       "    <tr>\n",
       "      <th>8</th>\n",
       "      <td>Victor {2}SR</td>\n",
       "      <td>8,472</td>\n",
       "      <td>Texas A&amp;M</td>\n",
       "    </tr>\n",
       "    <tr>\n",
       "      <th>9</th>\n",
       "      <td>Trey HARDEE</td>\n",
       "      <td>8,465</td>\n",
       "      <td>Texas</td>\n",
       "    </tr>\n",
       "    <tr>\n",
       "      <th>10</th>\n",
       "      <td>Tom PAPPAS</td>\n",
       "      <td>8,463</td>\n",
       "      <td>Tennessee</td>\n",
       "    </tr>\n",
       "    <tr>\n",
       "      <th>11</th>\n",
       "      <td>Owens-Delerme {2}JR</td>\n",
       "      <td>8,457</td>\n",
       "      <td>Arkansas</td>\n",
       "    </tr>\n",
       "    <tr>\n",
       "      <th>12</th>\n",
       "      <td>Ashton EATONSR</td>\n",
       "      <td>8,457</td>\n",
       "      <td>Oregon</td>\n",
       "    </tr>\n",
       "    <tr>\n",
       "      <th>13</th>\n",
       "      <td>Victor {3}</td>\n",
       "      <td>8,446</td>\n",
       "      <td>Texas A&amp;M</td>\n",
       "    </tr>\n",
       "    <tr>\n",
       "      <th>14</th>\n",
       "      <td>Victor {4}SR</td>\n",
       "      <td>8,390</td>\n",
       "      <td>Texas A&amp;M</td>\n",
       "    </tr>\n",
       "    <tr>\n",
       "      <th>15</th>\n",
       "      <td>Victor {5}JR</td>\n",
       "      <td>8,379</td>\n",
       "      <td>Texas A&amp;M</td>\n",
       "    </tr>\n",
       "    <tr>\n",
       "      <th>16</th>\n",
       "      <td>Neugebauer  {3}SO</td>\n",
       "      <td>8,362</td>\n",
       "      <td>Texas</td>\n",
       "    </tr>\n",
       "    <tr>\n",
       "      <th>17</th>\n",
       "      <td>Maicel UIBO</td>\n",
       "      <td>8,356</td>\n",
       "      <td>Georgia</td>\n",
       "    </tr>\n",
       "    <tr>\n",
       "      <th>18</th>\n",
       "      <td>Johannes ERMSO</td>\n",
       "      <td>8,352</td>\n",
       "      <td>Georgia</td>\n",
       "    </tr>\n",
       "    <tr>\n",
       "      <th>19</th>\n",
       "      <td>Devon WILLIAMSSR</td>\n",
       "      <td>8,345</td>\n",
       "      <td>Georgia</td>\n",
       "    </tr>\n",
       "    <tr>\n",
       "      <th>20</th>\n",
       "      <td>Tim DUCKWORTHSR</td>\n",
       "      <td>8,336</td>\n",
       "      <td>Kentucky</td>\n",
       "    </tr>\n",
       "    <tr>\n",
       "      <th>21</th>\n",
       "      <td>Garland {4}SO</td>\n",
       "      <td>8,333</td>\n",
       "      <td>Georgia</td>\n",
       "    </tr>\n",
       "    <tr>\n",
       "      <th>22</th>\n",
       "      <td>Uibo {2}</td>\n",
       "      <td>8,326</td>\n",
       "      <td>Georgia</td>\n",
       "    </tr>\n",
       "    <tr>\n",
       "      <th>23</th>\n",
       "      <td>Mike RAMOS</td>\n",
       "      <td>8,322</td>\n",
       "      <td>Washington</td>\n",
       "    </tr>\n",
       "    <tr>\n",
       "      <th>24</th>\n",
       "      <td>Uibo {3}</td>\n",
       "      <td>8,315</td>\n",
       "      <td>Georgia</td>\n",
       "    </tr>\n",
       "    <tr>\n",
       "      <th>25</th>\n",
       "      <td>Eaton {2}</td>\n",
       "      <td>8,310</td>\n",
       "      <td>Oregon</td>\n",
       "    </tr>\n",
       "    <tr>\n",
       "      <th>26</th>\n",
       "      <td>Tito STEINER</td>\n",
       "      <td>8,304</td>\n",
       "      <td>BYU</td>\n",
       "    </tr>\n",
       "    <tr>\n",
       "      <th>27</th>\n",
       "      <td>Zach ZIEMEKSR</td>\n",
       "      <td>8,300</td>\n",
       "      <td>Wisconsin</td>\n",
       "    </tr>\n",
       "    <tr>\n",
       "      <th>28</th>\n",
       "      <td>Uibo {4}SR</td>\n",
       "      <td>8,294</td>\n",
       "      <td>Georgia</td>\n",
       "    </tr>\n",
       "    <tr>\n",
       "      <th>29</th>\n",
       "      <td>Johannes HOCK</td>\n",
       "      <td>8,293</td>\n",
       "      <td>Texas</td>\n",
       "    </tr>\n",
       "    <tr>\n",
       "      <th>30</th>\n",
       "      <td>Brian BROPHY</td>\n",
       "      <td>8,276</td>\n",
       "      <td>Tennessee</td>\n",
       "    </tr>\n",
       "    <tr>\n",
       "      <th>31</th>\n",
       "      <td>Hock {2}</td>\n",
       "      <td>8,267</td>\n",
       "      <td>Texas</td>\n",
       "    </tr>\n",
       "    <tr>\n",
       "      <th>32</th>\n",
       "      <td>Tilga {2}SO</td>\n",
       "      <td>8,261</td>\n",
       "      <td>Georgia</td>\n",
       "    </tr>\n",
       "    <tr>\n",
       "      <th>33</th>\n",
       "      <td>Ramos {2}</td>\n",
       "      <td>8,261</td>\n",
       "      <td>Washington</td>\n",
       "    </tr>\n",
       "    <tr>\n",
       "      <th>34</th>\n",
       "      <td>Pau TONNESEN</td>\n",
       "      <td>8,247</td>\n",
       "      <td>Arizona</td>\n",
       "    </tr>\n",
       "    <tr>\n",
       "      <th>35</th>\n",
       "      <td>Eaton {3}JR</td>\n",
       "      <td>8,241</td>\n",
       "      <td>Oregon</td>\n",
       "    </tr>\n",
       "    <tr>\n",
       "      <th>36</th>\n",
       "      <td>Jeremy TAIWO</td>\n",
       "      <td>8,239</td>\n",
       "      <td>Washington</td>\n",
       "    </tr>\n",
       "    <tr>\n",
       "      <th>37</th>\n",
       "      <td>Owens-Delerme {3}SO</td>\n",
       "      <td>8,238</td>\n",
       "      <td>Michigan</td>\n",
       "    </tr>\n",
       "    <tr>\n",
       "      <th>38</th>\n",
       "      <td>Garrett SCANTLING</td>\n",
       "      <td>8,232</td>\n",
       "      <td>Georgia</td>\n",
       "    </tr>\n",
       "    <tr>\n",
       "      <th>39</th>\n",
       "      <td>Aric LONG</td>\n",
       "      <td>8,227</td>\n",
       "      <td>Tennessee</td>\n",
       "    </tr>\n",
       "    <tr>\n",
       "      <th>40</th>\n",
       "      <td>Uibo {5}?</td>\n",
       "      <td>8,223</td>\n",
       "      <td>Georgia</td>\n",
       "    </tr>\n",
       "    <tr>\n",
       "      <th>41</th>\n",
       "      <td>Uibo {6}</td>\n",
       "      <td>8,223</td>\n",
       "      <td>Georgia</td>\n",
       "    </tr>\n",
       "    <tr>\n",
       "      <th>42</th>\n",
       "      <td>Jake ARNOLDSR</td>\n",
       "      <td>8,215</td>\n",
       "      <td>Arizona</td>\n",
       "    </tr>\n",
       "    <tr>\n",
       "      <th>43</th>\n",
       "      <td>Rob MUZZIO</td>\n",
       "      <td>8,205</td>\n",
       "      <td>George Mason</td>\n",
       "    </tr>\n",
       "    <tr>\n",
       "      <th>44</th>\n",
       "      <td>Luca WIELANDSR</td>\n",
       "      <td>8,201</td>\n",
       "      <td>Minnesota</td>\n",
       "    </tr>\n",
       "    <tr>\n",
       "      <th>45</th>\n",
       "      <td>Garland {5}FR</td>\n",
       "      <td>8,196</td>\n",
       "      <td>Georgia</td>\n",
       "    </tr>\n",
       "    <tr>\n",
       "      <th>46</th>\n",
       "      <td>Pappas {2}SR</td>\n",
       "      <td>8,184</td>\n",
       "      <td>Tennessee</td>\n",
       "    </tr>\n",
       "    <tr>\n",
       "      <th>47</th>\n",
       "      <td>Uibo {7}SO</td>\n",
       "      <td>8,182</td>\n",
       "      <td>Georgia</td>\n",
       "    </tr>\n",
       "    <tr>\n",
       "      <th>48</th>\n",
       "      <td>Williams {2}SR</td>\n",
       "      <td>8,181</td>\n",
       "      <td>Georgia</td>\n",
       "    </tr>\n",
       "    <tr>\n",
       "      <th>49</th>\n",
       "      <td>Austin WESTSO</td>\n",
       "      <td>8,179</td>\n",
       "      <td>Iowa</td>\n",
       "    </tr>\n",
       "    <tr>\n",
       "      <th>50</th>\n",
       "      <td>Pedro DA SILVA</td>\n",
       "      <td>8,176</td>\n",
       "      <td>Oregon</td>\n",
       "    </tr>\n",
       "    <tr>\n",
       "      <th>51</th>\n",
       "      <td>Mario SATEGNASR</td>\n",
       "      <td>8,172</td>\n",
       "      <td>LSU</td>\n",
       "    </tr>\n",
       "  </tbody>\n",
       "</table>\n",
       "</div>"
      ],
      "text/plain": [
       "                    Names Scores       Schools\n",
       "0       Leo NEUGEBAUER JR  8,836         Texas\n",
       "1          Kyle GARLANDSO  8,720       Georgia\n",
       "2           Garland {2}SR  8,630       Georgia\n",
       "3           Garland {3}SR  8,589       Georgia\n",
       "4         Lindon VICTORSR  8,539     Texas A&M\n",
       "5   Ayden OWENS-DELERMEJR  8,528      Arkansas\n",
       "6           Karel TILGASO  8,484       Georgia\n",
       "7       Neugebauer  {2}JR  8,478         Texas\n",
       "8            Victor {2}SR  8,472     Texas A&M\n",
       "9             Trey HARDEE  8,465         Texas\n",
       "10             Tom PAPPAS  8,463     Tennessee\n",
       "11    Owens-Delerme {2}JR  8,457      Arkansas\n",
       "12         Ashton EATONSR  8,457        Oregon\n",
       "13             Victor {3}  8,446     Texas A&M\n",
       "14           Victor {4}SR  8,390     Texas A&M\n",
       "15           Victor {5}JR  8,379     Texas A&M\n",
       "16      Neugebauer  {3}SO  8,362         Texas\n",
       "17            Maicel UIBO  8,356       Georgia\n",
       "18         Johannes ERMSO  8,352       Georgia\n",
       "19       Devon WILLIAMSSR  8,345       Georgia\n",
       "20        Tim DUCKWORTHSR  8,336      Kentucky\n",
       "21          Garland {4}SO  8,333       Georgia\n",
       "22               Uibo {2}  8,326       Georgia\n",
       "23             Mike RAMOS  8,322    Washington\n",
       "24               Uibo {3}  8,315       Georgia\n",
       "25              Eaton {2}  8,310        Oregon\n",
       "26           Tito STEINER  8,304           BYU\n",
       "27          Zach ZIEMEKSR  8,300     Wisconsin\n",
       "28             Uibo {4}SR  8,294       Georgia\n",
       "29          Johannes HOCK  8,293         Texas\n",
       "30           Brian BROPHY  8,276     Tennessee\n",
       "31               Hock {2}  8,267         Texas\n",
       "32            Tilga {2}SO  8,261       Georgia\n",
       "33              Ramos {2}  8,261    Washington\n",
       "34           Pau TONNESEN  8,247       Arizona\n",
       "35            Eaton {3}JR  8,241        Oregon\n",
       "36           Jeremy TAIWO  8,239    Washington\n",
       "37    Owens-Delerme {3}SO  8,238      Michigan\n",
       "38      Garrett SCANTLING  8,232       Georgia\n",
       "39              Aric LONG  8,227     Tennessee\n",
       "40              Uibo {5}?  8,223       Georgia\n",
       "41               Uibo {6}  8,223       Georgia\n",
       "42          Jake ARNOLDSR  8,215       Arizona\n",
       "43             Rob MUZZIO  8,205  George Mason\n",
       "44         Luca WIELANDSR  8,201     Minnesota\n",
       "45          Garland {5}FR  8,196       Georgia\n",
       "46           Pappas {2}SR  8,184     Tennessee\n",
       "47             Uibo {7}SO  8,182       Georgia\n",
       "48         Williams {2}SR  8,181       Georgia\n",
       "49          Austin WESTSO  8,179          Iowa\n",
       "50         Pedro DA SILVA  8,176        Oregon\n",
       "51        Mario SATEGNASR  8,172           LSU"
      ]
     },
     "execution_count": 42,
     "metadata": {},
     "output_type": "execute_result"
    }
   ],
   "source": [
    "MensDecaDF = pd.read_csv('MensDeca.csv')\n",
    "MensDecaDF"
   ]
  },
  {
   "cell_type": "code",
   "execution_count": 43,
   "id": "0004db10",
   "metadata": {},
   "outputs": [
    {
     "data": {
      "text/html": [
       "<div>\n",
       "<style scoped>\n",
       "    .dataframe tbody tr th:only-of-type {\n",
       "        vertical-align: middle;\n",
       "    }\n",
       "\n",
       "    .dataframe tbody tr th {\n",
       "        vertical-align: top;\n",
       "    }\n",
       "\n",
       "    .dataframe thead th {\n",
       "        text-align: right;\n",
       "    }\n",
       "</style>\n",
       "<table border=\"1\" class=\"dataframe\">\n",
       "  <thead>\n",
       "    <tr style=\"text-align: right;\">\n",
       "      <th></th>\n",
       "      <th>Names</th>\n",
       "      <th>Scores</th>\n",
       "      <th>Schools</th>\n",
       "    </tr>\n",
       "  </thead>\n",
       "  <tbody>\n",
       "    <tr>\n",
       "      <th>0</th>\n",
       "      <td>Kyle GARLANDSR</td>\n",
       "      <td>6,639</td>\n",
       "      <td>Georgia</td>\n",
       "    </tr>\n",
       "    <tr>\n",
       "      <th>1</th>\n",
       "      <td>Ayden OWENS-DELERMEJR</td>\n",
       "      <td>6,518</td>\n",
       "      <td>Arkansas</td>\n",
       "    </tr>\n",
       "    <tr>\n",
       "      <th>2</th>\n",
       "      <td>Ashton EATONSR</td>\n",
       "      <td>6,499</td>\n",
       "      <td>Oregon</td>\n",
       "    </tr>\n",
       "    <tr>\n",
       "      <th>3</th>\n",
       "      <td>Garland {2}SR</td>\n",
       "      <td>6,415</td>\n",
       "      <td>Georgia</td>\n",
       "    </tr>\n",
       "    <tr>\n",
       "      <th>4</th>\n",
       "      <td>Owens-Delerme {2}SO</td>\n",
       "      <td>6,272</td>\n",
       "      <td>Arkansas</td>\n",
       "    </tr>\n",
       "    <tr>\n",
       "      <th>5</th>\n",
       "      <td>Karel TILGASO</td>\n",
       "      <td>6,264</td>\n",
       "      <td>Georgia</td>\n",
       "    </tr>\n",
       "    <tr>\n",
       "      <th>6</th>\n",
       "      <td>Eaton {2}</td>\n",
       "      <td>6,256</td>\n",
       "      <td>Oregon</td>\n",
       "    </tr>\n",
       "    <tr>\n",
       "      <th>7</th>\n",
       "      <td>Owens-Delerme {3}JR</td>\n",
       "      <td>6,237</td>\n",
       "      <td>Arkansas</td>\n",
       "    </tr>\n",
       "    <tr>\n",
       "      <th>8</th>\n",
       "      <td>Leo NEUGEBAUER JR</td>\n",
       "      <td>6,214</td>\n",
       "      <td>Texas</td>\n",
       "    </tr>\n",
       "    <tr>\n",
       "      <th>9</th>\n",
       "      <td>Owens-Delerme {4}SO</td>\n",
       "      <td>6,211</td>\n",
       "      <td>Arkansas</td>\n",
       "    </tr>\n",
       "    <tr>\n",
       "      <th>10</th>\n",
       "      <td>Trey HARDEE</td>\n",
       "      <td>6,208</td>\n",
       "      <td>Texas</td>\n",
       "    </tr>\n",
       "    <tr>\n",
       "      <th>11</th>\n",
       "      <td>Garland {3}SO</td>\n",
       "      <td>6,205</td>\n",
       "      <td>Georgia</td>\n",
       "    </tr>\n",
       "    <tr>\n",
       "      <th>12</th>\n",
       "      <td>Garland {4}SO</td>\n",
       "      <td>6,200</td>\n",
       "      <td>Georgia</td>\n",
       "    </tr>\n",
       "    <tr>\n",
       "      <th>13</th>\n",
       "      <td>Garland {5}SO</td>\n",
       "      <td>6,200</td>\n",
       "      <td>Georgia</td>\n",
       "    </tr>\n",
       "    <tr>\n",
       "      <th>14</th>\n",
       "      <td>Till STEINFORTHSO</td>\n",
       "      <td>6,196</td>\n",
       "      <td>Nebraska</td>\n",
       "    </tr>\n",
       "    <tr>\n",
       "      <th>15</th>\n",
       "      <td>Curtis BEACH</td>\n",
       "      <td>6,190</td>\n",
       "      <td>Duke</td>\n",
       "    </tr>\n",
       "    <tr>\n",
       "      <th>16</th>\n",
       "      <td>Tim DUCKWORTHSR</td>\n",
       "      <td>6,188</td>\n",
       "      <td>Kentucky</td>\n",
       "    </tr>\n",
       "    <tr>\n",
       "      <th>17</th>\n",
       "      <td>Devon WILLIAMSSR</td>\n",
       "      <td>6,177</td>\n",
       "      <td>Georgia</td>\n",
       "    </tr>\n",
       "    <tr>\n",
       "      <th>18</th>\n",
       "      <td>Kevin LAZASJR</td>\n",
       "      <td>6,175</td>\n",
       "      <td>Arkansas</td>\n",
       "    </tr>\n",
       "    <tr>\n",
       "      <th>19</th>\n",
       "      <td>Eaton {3}</td>\n",
       "      <td>6,174</td>\n",
       "      <td>Oregon</td>\n",
       "    </tr>\n",
       "    <tr>\n",
       "      <th>20</th>\n",
       "      <td>Zach ZIEMEKSR</td>\n",
       "      <td>6,173</td>\n",
       "      <td>Wisconsin</td>\n",
       "    </tr>\n",
       "    <tr>\n",
       "      <th>21</th>\n",
       "      <td>Duckworth {2}JR</td>\n",
       "      <td>6,165</td>\n",
       "      <td>Kentucky</td>\n",
       "    </tr>\n",
       "    <tr>\n",
       "      <th>22</th>\n",
       "      <td>Japheth CATOJR</td>\n",
       "      <td>6,165</td>\n",
       "      <td>Wisconsin</td>\n",
       "    </tr>\n",
       "    <tr>\n",
       "      <th>23</th>\n",
       "      <td>Garland {6}SO</td>\n",
       "      <td>6,163</td>\n",
       "      <td>Georgia</td>\n",
       "    </tr>\n",
       "    <tr>\n",
       "      <th>24</th>\n",
       "      <td>Jeremy TAIWO</td>\n",
       "      <td>6,156</td>\n",
       "      <td>Washington</td>\n",
       "    </tr>\n",
       "    <tr>\n",
       "      <th>25</th>\n",
       "      <td>Neugebauer  {2}SO</td>\n",
       "      <td>6,148</td>\n",
       "      <td>Texas</td>\n",
       "    </tr>\n",
       "    <tr>\n",
       "      <th>26</th>\n",
       "      <td>Beach {2}JR</td>\n",
       "      <td>6,138</td>\n",
       "      <td>Duke</td>\n",
       "    </tr>\n",
       "    <tr>\n",
       "      <th>27</th>\n",
       "      <td>Donovan KILMARTINFR</td>\n",
       "      <td>6,136</td>\n",
       "      <td>Texas</td>\n",
       "    </tr>\n",
       "    <tr>\n",
       "      <th>28</th>\n",
       "      <td>Johannes ERMJR</td>\n",
       "      <td>6,114</td>\n",
       "      <td>Georgia</td>\n",
       "    </tr>\n",
       "    <tr>\n",
       "      <th>29</th>\n",
       "      <td>Neugebauer  {3}JR</td>\n",
       "      <td>6,097</td>\n",
       "      <td>Texas</td>\n",
       "    </tr>\n",
       "    <tr>\n",
       "      <th>30</th>\n",
       "      <td>Hunter VEITHSR</td>\n",
       "      <td>6,090</td>\n",
       "      <td>Wichita State</td>\n",
       "    </tr>\n",
       "    <tr>\n",
       "      <th>31</th>\n",
       "      <td>Cato {2}</td>\n",
       "      <td>6,090</td>\n",
       "      <td>Wisconsin</td>\n",
       "    </tr>\n",
       "    <tr>\n",
       "      <th>32</th>\n",
       "      <td>Luca WIELANDSR</td>\n",
       "      <td>6,089</td>\n",
       "      <td>Minnesota</td>\n",
       "    </tr>\n",
       "    <tr>\n",
       "      <th>33</th>\n",
       "      <td>Steinforth {2}SO</td>\n",
       "      <td>6,082</td>\n",
       "      <td>Nebraska</td>\n",
       "    </tr>\n",
       "    <tr>\n",
       "      <th>34</th>\n",
       "      <td>Cato {3}</td>\n",
       "      <td>6,082</td>\n",
       "      <td>Wisconsin</td>\n",
       "    </tr>\n",
       "    <tr>\n",
       "      <th>35</th>\n",
       "      <td>Tyler ADAMSSR</td>\n",
       "      <td>6,081</td>\n",
       "      <td>Sam Houston State</td>\n",
       "    </tr>\n",
       "    <tr>\n",
       "      <th>36</th>\n",
       "      <td>Duckworth {3}SR</td>\n",
       "      <td>6,071</td>\n",
       "      <td>Kentucky</td>\n",
       "    </tr>\n",
       "    <tr>\n",
       "      <th>37</th>\n",
       "      <td>Wieland {2}</td>\n",
       "      <td>6,070</td>\n",
       "      <td>Minnesota</td>\n",
       "    </tr>\n",
       "    <tr>\n",
       "      <th>38</th>\n",
       "      <td>Andrei IOSIVASJR</td>\n",
       "      <td>6,069</td>\n",
       "      <td>Princeton</td>\n",
       "    </tr>\n",
       "    <tr>\n",
       "      <th>39</th>\n",
       "      <td>Garrett SCANTLING</td>\n",
       "      <td>6,068</td>\n",
       "      <td>Georgia</td>\n",
       "    </tr>\n",
       "    <tr>\n",
       "      <th>40</th>\n",
       "      <td>Bruno COMIN PESCADORJR</td>\n",
       "      <td>6,061</td>\n",
       "      <td>Washington</td>\n",
       "    </tr>\n",
       "    <tr>\n",
       "      <th>41</th>\n",
       "      <td>Felix WOLTERSR</td>\n",
       "      <td>6,059</td>\n",
       "      <td>Pittsburgh</td>\n",
       "    </tr>\n",
       "    <tr>\n",
       "      <th>42</th>\n",
       "      <td>Karl SALURIJR</td>\n",
       "      <td>6,051</td>\n",
       "      <td>Georgia</td>\n",
       "    </tr>\n",
       "    <tr>\n",
       "      <th>43</th>\n",
       "      <td>Peyton HAACKJR</td>\n",
       "      <td>6,048</td>\n",
       "      <td>Iowa</td>\n",
       "    </tr>\n",
       "    <tr>\n",
       "      <th>44</th>\n",
       "      <td>Kilmartin {2}JR</td>\n",
       "      <td>6,048</td>\n",
       "      <td>Texas</td>\n",
       "    </tr>\n",
       "  </tbody>\n",
       "</table>\n",
       "</div>"
      ],
      "text/plain": [
       "                     Names Scores            Schools\n",
       "0           Kyle GARLANDSR  6,639            Georgia\n",
       "1    Ayden OWENS-DELERMEJR  6,518           Arkansas\n",
       "2           Ashton EATONSR  6,499             Oregon\n",
       "3            Garland {2}SR  6,415            Georgia\n",
       "4      Owens-Delerme {2}SO  6,272           Arkansas\n",
       "5            Karel TILGASO  6,264            Georgia\n",
       "6                Eaton {2}  6,256             Oregon\n",
       "7      Owens-Delerme {3}JR  6,237           Arkansas\n",
       "8        Leo NEUGEBAUER JR  6,214              Texas\n",
       "9      Owens-Delerme {4}SO  6,211           Arkansas\n",
       "10             Trey HARDEE  6,208              Texas\n",
       "11           Garland {3}SO  6,205            Georgia\n",
       "12           Garland {4}SO  6,200            Georgia\n",
       "13           Garland {5}SO  6,200            Georgia\n",
       "14       Till STEINFORTHSO  6,196           Nebraska\n",
       "15            Curtis BEACH  6,190               Duke\n",
       "16         Tim DUCKWORTHSR  6,188           Kentucky\n",
       "17        Devon WILLIAMSSR  6,177            Georgia\n",
       "18           Kevin LAZASJR  6,175           Arkansas\n",
       "19               Eaton {3}  6,174             Oregon\n",
       "20           Zach ZIEMEKSR  6,173          Wisconsin\n",
       "21         Duckworth {2}JR  6,165           Kentucky\n",
       "22          Japheth CATOJR  6,165          Wisconsin\n",
       "23           Garland {6}SO  6,163            Georgia\n",
       "24            Jeremy TAIWO  6,156         Washington\n",
       "25       Neugebauer  {2}SO  6,148              Texas\n",
       "26             Beach {2}JR  6,138               Duke\n",
       "27     Donovan KILMARTINFR  6,136              Texas\n",
       "28          Johannes ERMJR  6,114            Georgia\n",
       "29       Neugebauer  {3}JR  6,097              Texas\n",
       "30          Hunter VEITHSR  6,090      Wichita State\n",
       "31                Cato {2}  6,090          Wisconsin\n",
       "32          Luca WIELANDSR  6,089          Minnesota\n",
       "33        Steinforth {2}SO  6,082           Nebraska\n",
       "34                Cato {3}  6,082          Wisconsin\n",
       "35           Tyler ADAMSSR  6,081  Sam Houston State\n",
       "36         Duckworth {3}SR  6,071           Kentucky\n",
       "37             Wieland {2}  6,070          Minnesota\n",
       "38        Andrei IOSIVASJR  6,069          Princeton\n",
       "39       Garrett SCANTLING  6,068            Georgia\n",
       "40  Bruno COMIN PESCADORJR  6,061         Washington\n",
       "41          Felix WOLTERSR  6,059         Pittsburgh\n",
       "42           Karl SALURIJR  6,051            Georgia\n",
       "43          Peyton HAACKJR  6,048               Iowa\n",
       "44         Kilmartin {2}JR  6,048              Texas"
      ]
     },
     "execution_count": 43,
     "metadata": {},
     "output_type": "execute_result"
    }
   ],
   "source": [
    "MensHepDF = pd.read_csv('MensHep.csv')\n",
    "MensHepDF"
   ]
  },
  {
   "cell_type": "code",
   "execution_count": 44,
   "id": "7a041475",
   "metadata": {},
   "outputs": [],
   "source": [
    "WomensHepDF = pd.read_csv('WomensHep.csv')"
   ]
  },
  {
   "cell_type": "code",
   "execution_count": 45,
   "id": "dc71cbea",
   "metadata": {},
   "outputs": [],
   "source": [
    "WomensPentDF = pd.read_csv('WomensPent.csv')"
   ]
  },
  {
   "cell_type": "markdown",
   "id": "5604d858",
   "metadata": {},
   "source": [
    "## Create Histograms"
   ]
  },
  {
   "cell_type": "code",
   "execution_count": 46,
   "id": "c743ac2e",
   "metadata": {},
   "outputs": [
    {
     "data": {
      "image/png": "[encoded data removed]",
      "text/plain": [
       "<Figure size 432x288 with 1 Axes>"
      ]
     },
     "metadata": {
      "needs_background": "light"
     },
     "output_type": "display_data"
    }
   ],
   "source": [
    "# Create a histogram using Seaborn\n",
    "column_name = \"Scores\"\n",
    "sns.histplot(MensDecaDF[column_name], bins=20, kde=True, color='skyblue', edgecolor='black')\n",
    "\n",
    "#Make names more readable\n",
    "plt.xticks(rotation=90)\n",
    "\n",
    "# Add labels and title\n",
    "plt.xlabel(column_name)\n",
    "plt.ylabel('Frequency')\n",
    "plt.title(f'Distribution of {column_name}')\n",
    "\n",
    "# Show the plot\n",
    "plt.show()"
   ]
  },
  {
   "cell_type": "code",
   "execution_count": 47,
   "id": "a13eda11",
   "metadata": {},
   "outputs": [
    {
     "data": {
      "image/png": "[encoded data removed]",
      "text/plain": [
       "<Figure size 432x288 with 1 Axes>"
      ]
     },
     "metadata": {
      "needs_background": "light"
     },
     "output_type": "display_data"
    }
   ],
   "source": [
    "# Create a histogram using Seaborn\n",
    "column_name = \"Scores\"\n",
    "sns.histplot(MensHepDF[column_name], bins=20, kde=True, color='red', edgecolor='black')\n",
    "\n",
    "\n",
    "#Make names more readable\n",
    "plt.xticks(rotation=90)\n",
    "\n",
    "# Add labels and title\n",
    "plt.xlabel(column_name)\n",
    "plt.ylabel('Frequency')\n",
    "plt.title(f'Distribution of {column_name}')\n",
    "\n",
    "# Show the plot\n",
    "plt.show()"
   ]
  },
  {
   "cell_type": "code",
   "execution_count": 48,
   "id": "e6b35a11",
   "metadata": {},
   "outputs": [
    {
     "data": {
      "image/png": "[encoded data removed]",
      "text/plain": [
       "<Figure size 432x288 with 1 Axes>"
      ]
     },
     "metadata": {
      "needs_background": "light"
     },
     "output_type": "display_data"
    }
   ],
   "source": [
    "# Create a histogram using Seaborn\n",
    "column_name = \"Scores\"\n",
    "sns.histplot(WomensHepDF[column_name], bins=20, kde=True, color='skyblue', edgecolor='black')\n",
    "\n",
    "#Make names more readable\n",
    "plt.xticks(rotation=90)\n",
    "\n",
    "# Add labels and title\n",
    "plt.xlabel(column_name)\n",
    "plt.ylabel('Frequency')\n",
    "plt.title(f'Distribution of {column_name}')\n",
    "\n",
    "# Show the plot\n",
    "plt.show()"
   ]
  },
  {
   "cell_type": "code",
   "execution_count": 49,
   "id": "9760e4ad",
   "metadata": {},
   "outputs": [
    {
     "data": {
      "image/png": "[encoded data removed]",
      "text/plain": [
       "<Figure size 432x288 with 1 Axes>"
      ]
     },
     "metadata": {
      "needs_background": "light"
     },
     "output_type": "display_data"
    }
   ],
   "source": [
    "# Create a histogram using Seaborn\n",
    "column_name = \"Scores\"\n",
    "sns.histplot(WomensPentDF[column_name], bins=20, kde=True, color='skyblue', edgecolor='black')\n",
    "\n",
    "#Make names more readable\n",
    "plt.xticks(rotation=90)\n",
    "\n",
    "# Add labels and title\n",
    "plt.xlabel(column_name)\n",
    "plt.ylabel('Frequency')\n",
    "plt.title(f'Distribution of {column_name}')\n",
    "\n",
    "# Show the plot\n",
    "plt.show()"
   ]
  },
  {
   "cell_type": "code",
   "execution_count": 50,
   "id": "ddbf3ba8",
   "metadata": {},
   "outputs": [
    {
     "data": {
      "image/png": "[encoded data removed]",
      "text/plain": [
       "<Figure size 432x288 with 1 Axes>"
      ]
     },
     "metadata": {
      "needs_background": "light"
     },
     "output_type": "display_data"
    }
   ],
   "source": [
    "# Create a histogram using Seaborn\n",
    "column_name = \"Schools\"\n",
    "sns.histplot(MensDecaDF[column_name], bins=20, kde=True, color='skyblue', edgecolor='black')\n",
    "\n",
    "# Add labels and title\n",
    "plt.xlabel(column_name)\n",
    "plt.ylabel('Frequency')\n",
    "plt.title(f'Distribution of {column_name}')\n",
    "\n",
    "#Make names more readable\n",
    "plt.xticks(rotation=90)\n",
    "\n",
    "\n",
    "# Show the plot\n",
    "plt.show()"
   ]
  },
  {
   "cell_type": "code",
   "execution_count": 51,
   "id": "22384129",
   "metadata": {},
   "outputs": [
    {
     "data": {
      "image/png": "[encoded data removed]",
      "text/plain": [
       "<Figure size 432x288 with 1 Axes>"
      ]
     },
     "metadata": {
      "needs_background": "light"
     },
     "output_type": "display_data"
    }
   ],
   "source": [
    "# Create a histogram using Seaborn\n",
    "column_name = \"Schools\"\n",
    "sns.histplot(MensHepDF[column_name], bins=20, kde=True, color='red', edgecolor='black')\n",
    "\n",
    "# Add labels and title\n",
    "plt.xlabel(column_name)\n",
    "plt.ylabel('Frequency')\n",
    "plt.title(f'Distribution of {column_name}')\n",
    "\n",
    "#Make names more readable\n",
    "plt.xticks(rotation=90)\n",
    "\n",
    "# Show the plot\n",
    "plt.show()"
   ]
  },
  {
   "cell_type": "code",
   "execution_count": 52,
   "id": "9e21a158",
   "metadata": {},
   "outputs": [
    {
     "data": {
      "image/png": "[encoded data removed]",
      "text/plain": [
       "<Figure size 432x288 with 1 Axes>"
      ]
     },
     "metadata": {
      "needs_background": "light"
     },
     "output_type": "display_data"
    }
   ],
   "source": [
    "# Create a histogram using Seaborn\n",
    "column_name = \"Schools\"\n",
    "sns.histplot(WomensHepDF[column_name], bins=20, kde=True, color='red', edgecolor='black')\n",
    "\n",
    "# Add labels and title\n",
    "plt.xlabel(column_name)\n",
    "plt.ylabel('Frequency')\n",
    "plt.title(f'Distribution of {column_name}')\n",
    "\n",
    "#Make names more readable\n",
    "plt.xticks(rotation=90)\n",
    "\n",
    "# Show the plot\n",
    "plt.show()"
   ]
  },
  {
   "cell_type": "code",
   "execution_count": 53,
   "id": "ea34fa2c",
   "metadata": {},
   "outputs": [
    {
     "data": {
      "image/png": "[encoded data removed]",
      "text/plain": [
       "<Figure size 432x288 with 1 Axes>"
      ]
     },
     "metadata": {
      "needs_background": "light"
     },
     "output_type": "display_data"
    }
   ],
   "source": [
    "# Create a histogram using Seaborn\n",
    "column_name = \"Schools\"\n",
    "sns.histplot(WomensPentDF[column_name], bins=20, kde=True, color='red', edgecolor='black')\n",
    "\n",
    "# Add labels and title\n",
    "plt.xlabel(column_name)\n",
    "plt.ylabel('Frequency')\n",
    "plt.title(f'Distribution of {column_name}')\n",
    "\n",
    "#Make names more readable\n",
    "plt.xticks(rotation=90)\n",
    "\n",
    "# Show the plot\n",
    "plt.show()"
   ]
  },
  {
   "cell_type": "code",
   "execution_count": null,
   "id": "c652ab2c",
   "metadata": {},
   "outputs": [],
   "source": []
  }
 ],
 "metadata": {
  "kernelspec": {
   "display_name": "Python 3 (ipykernel)",
   "language": "python",
   "name": "python3"
  },
  "language_info": {
   "codemirror_mode": {
    "name": "ipython",
    "version": 3
   },
   "file_extension": ".py",
   "mimetype": "text/x-python",
   "name": "python",
   "nbconvert_exporter": "python",
   "pygments_lexer": "ipython3",
   "version": "3.9.12"
  }
 },
 "nbformat": 4,
 "nbformat_minor": 5
}
