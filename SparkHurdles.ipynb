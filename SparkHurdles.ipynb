{
 "cells": [
  {
   "cell_type": "code",
   "execution_count": 1,
   "id": "a30c322d",
   "metadata": {},
   "outputs": [],
   "source": [
    "import pyspark"
   ]
  },
  {
   "cell_type": "code",
   "execution_count": 2,
   "id": "6ad22882",
   "metadata": {},
   "outputs": [],
   "source": [
    "from pyspark.sql import SparkSession"
   ]
  },
  {
   "cell_type": "code",
   "execution_count": 3,
   "id": "eb23f56b",
   "metadata": {},
   "outputs": [],
   "source": [
    "from pyspark.sql.functions import col"
   ]
  },
  {
   "cell_type": "code",
   "execution_count": 4,
   "id": "e1749c51",
   "metadata": {},
   "outputs": [],
   "source": [
    "from pyspark.sql.functions import desc"
   ]
  },
  {
   "cell_type": "code",
   "execution_count": 5,
   "id": "eed3004b",
   "metadata": {},
   "outputs": [],
   "source": [
    "from pyspark.sql.functions import asc"
   ]
  },
  {
   "cell_type": "code",
   "execution_count": 6,
   "id": "bb7978c1",
   "metadata": {},
   "outputs": [],
   "source": [
    "import findspark"
   ]
  },
  {
   "cell_type": "code",
   "execution_count": 7,
   "id": "3e244fa3",
   "metadata": {},
   "outputs": [],
   "source": [
    "findspark.init()"
   ]
  },
  {
   "cell_type": "code",
   "execution_count": 9,
   "id": "7861315e",
   "metadata": {},
   "outputs": [],
   "source": [
    "spark = SparkSession.builder.appName('ShortMHurdles').getOrCreate()"
   ]
  },
  {
   "cell_type": "markdown",
   "id": "9575835f",
   "metadata": {},
   "source": [
    "## Import Data"
   ]
  },
  {
   "cell_type": "code",
   "execution_count": 10,
   "id": "ca913ed6",
   "metadata": {},
   "outputs": [],
   "source": [
    "Mens110mHurdles = spark.read.format('csv').option('inferSchema','true').option('header','true').option('path','Mens110mHurdles.csv').load()"
   ]
  },
  {
   "cell_type": "code",
   "execution_count": 11,
   "id": "b0ff8238",
   "metadata": {},
   "outputs": [],
   "source": [
    "Womens100mHurdles = spark.read.format('csv').option('inferSchema','true').option('header','true').option('path','Women100mHurdles.csv').load()"
   ]
  },
  {
   "cell_type": "code",
   "execution_count": 12,
   "id": "e54c36f5",
   "metadata": {},
   "outputs": [],
   "source": [
    "from pyspark.sql.types import StructType, StructField, StringType, IntegerType"
   ]
  },
  {
   "cell_type": "markdown",
   "id": "f0ffb099",
   "metadata": {},
   "source": [
    "## Create View"
   ]
  },
  {
   "cell_type": "code",
   "execution_count": 13,
   "id": "608a16a5",
   "metadata": {},
   "outputs": [],
   "source": [
    "Mens110mHurdles.createOrReplaceTempView(\"Mens110mHurdles\")"
   ]
  },
  {
   "cell_type": "code",
   "execution_count": 14,
   "id": "89c28756",
   "metadata": {},
   "outputs": [],
   "source": [
    "Womens100mHurdles.createOrReplaceTempView(\"Womens100mHurdles\")"
   ]
  },
  {
   "cell_type": "markdown",
   "id": "a49905d6",
   "metadata": {},
   "source": [
    "## Basic Selection"
   ]
  },
  {
   "cell_type": "code",
   "execution_count": 15,
   "id": "a48e0eeb",
   "metadata": {
    "scrolled": true
   },
   "outputs": [
    {
     "name": "stdout",
     "output_type": "stream",
     "text": [
      "+--------------------+-----+-------------+\n",
      "|               Names|Times|      Schools|\n",
      "+--------------------+-----+-------------+\n",
      "|(1) Grant HOLLOWAYJR|12.98|      Florida|\n",
      "|(2) Trey CUNNINGH...| 13.0|Florida State|\n",
      "|(2) Daniel ROBERTSJR| 13.0|     Kentucky|\n",
      "|(2) Renaldo NEHEMIAH| 13.0|     Maryland|\n",
      "|     — Roberts {2}JR|13.06|     Kentucky|\n",
      "|  — Cunningham {2}SR|13.07|Florida State|\n",
      "|     — Roberts {3}JR|13.07|     Kentucky|\n",
      "|    — Holloway {2}JR|13.07|      Florida|\n",
      "|  — Cunningham {3}SR| 13.1|Florida State|\n",
      "|    — Holloway {3}JR| 13.1|      Florida|\n",
      "|    — Holloway {4}JR|13.12|      Florida|\n",
      "|  — Cunningham {4}SR|13.13|Florida State|\n",
      "|  — Cunningham {5}SR|13.13|Florida State|\n",
      "|     — Roberts {4}JR|13.13|     Kentucky|\n",
      "|(5) Eric EDWARDS ...|13.15|          LSU|\n",
      "|  — Cunningham {6}SR|13.15|Florida State|\n",
      "|  — Cunningham {7}SR|13.15|Florida State|\n",
      "|    — Holloway {5}SO|13.15|      Florida|\n",
      "|  — Cunningham {8}SR|13.16|Florida State|\n",
      "|    — Holloway {6}JR|13.16|      Florida|\n",
      "+--------------------+-----+-------------+\n",
      "only showing top 20 rows\n",
      "\n"
     ]
    }
   ],
   "source": [
    "resultone = spark.sql(\"SELECT * FROM Mens110mHurdles\")\n",
    "resultone.show()"
   ]
  },
  {
   "cell_type": "code",
   "execution_count": 16,
   "id": "c54e2ae9",
   "metadata": {},
   "outputs": [
    {
     "name": "stdout",
     "output_type": "stream",
     "text": [
      "+--------------------+-----+-------------------+\n",
      "|               Names|Times|            Schools|\n",
      "+--------------------+-----+-------------------+\n",
      "| (1) Masai RUSSELLSR|12.36|           Kentucky|\n",
      "|(2) Brianna ROLLI...|12.39|            Clemson|\n",
      "|(3) Alia ARMSTRONGJR| 12.4|                LSU|\n",
      "|  (3) Janeek BROWNSO| 12.4|           Arkansas|\n",
      "|(3) Jasmine CAMAC...| 12.4|           Kentucky|\n",
      "| (6) Ackera NUGENTJR|12.43|           Arkansas|\n",
      "|(7) Demisha ROSWE...|12.44|         Texas Tech|\n",
      "|(7) Tonea MARSHALLSR|12.44|                LSU|\n",
      "|      — Nugent {2}FR|12.45|             Baylor|\n",
      "|     — Russell {2}SR|12.47|           Kentucky|\n",
      "|     — Rollins {2}JR|12.47|            Clemson|\n",
      "|    — Marshall {2}SR|12.48|                LSU|\n",
      "| (9) Ginnie POWELLSR|12.48|Southern California|\n",
      "|     — Russell {3}SR| 12.5|           Kentucky|\n",
      "|  (10) Keni HARRISON| 12.5|           Kentucky|\n",
      "|      — Nugent {3}JR|12.52|           Arkansas|\n",
      "|    — Marshall {3}SR|12.52|                LSU|\n",
      "|(11) Chanel BRISS...|12.52|Southern California|\n",
      "|       — Brown {2}SO|12.53|           Arkansas|\n",
      "|   — Armstrong {2}JR|12.54|                LSU|\n",
      "+--------------------+-----+-------------------+\n",
      "only showing top 20 rows\n",
      "\n"
     ]
    }
   ],
   "source": [
    "resulttwo = spark.sql(\"SELECT * FROM Womens100mHurdles\")\n",
    "resulttwo.show()"
   ]
  },
  {
   "cell_type": "markdown",
   "id": "d6bfd1d0",
   "metadata": {},
   "source": [
    "## Query One (Times)"
   ]
  },
  {
   "cell_type": "code",
   "execution_count": 17,
   "id": "96f82c9a",
   "metadata": {},
   "outputs": [
    {
     "name": "stdout",
     "output_type": "stream",
     "text": [
      "+-----+-----+\n",
      "|Times|count|\n",
      "+-----+-----+\n",
      "|13.28|    8|\n",
      "|13.21|    6|\n",
      "|13.22|    6|\n",
      "|13.16|    5|\n",
      "|13.27|    5|\n",
      "|13.26|    4|\n",
      "|13.15|    4|\n",
      "|13.07|    3|\n",
      "|13.13|    3|\n",
      "|13.25|    3|\n",
      "|13.23|    3|\n",
      "|13.24|    3|\n",
      "| 13.0|    3|\n",
      "|13.18|    2|\n",
      "| 13.1|    2|\n",
      "|13.19|    2|\n",
      "|13.12|    1|\n",
      "|12.98|    1|\n",
      "| 13.2|    1|\n",
      "|13.06|    1|\n",
      "+-----+-----+\n",
      "\n"
     ]
    }
   ],
   "source": [
    "QueryOneA = spark.sql(\"SELECT Times, COUNT(*) as count FROM Mens110mHurdles GROUP BY Times ORDER BY count DESC\")\n",
    "QueryOneA.show()"
   ]
  },
  {
   "cell_type": "code",
   "execution_count": 18,
   "id": "884eaf92",
   "metadata": {},
   "outputs": [
    {
     "name": "stdout",
     "output_type": "stream",
     "text": [
      "+-----+-----+\n",
      "|Times|count|\n",
      "+-----+-----+\n",
      "|12.67|    8|\n",
      "|12.66|    5|\n",
      "|12.55|    5|\n",
      "|12.57|    4|\n",
      "|12.61|    4|\n",
      "|12.58|    4|\n",
      "|12.62|    3|\n",
      "| 12.4|    3|\n",
      "|12.63|    3|\n",
      "|12.52|    3|\n",
      "| 12.6|    3|\n",
      "|12.65|    3|\n",
      "|12.54|    3|\n",
      "|12.68|    3|\n",
      "|12.64|    2|\n",
      "| 12.5|    2|\n",
      "|12.44|    2|\n",
      "|12.48|    2|\n",
      "|12.47|    2|\n",
      "|12.43|    1|\n",
      "+-----+-----+\n",
      "only showing top 20 rows\n",
      "\n"
     ]
    }
   ],
   "source": [
    "QueryOneB = spark.sql(\"SELECT Times, COUNT(*) as count FROM Womens100mHurdles GROUP BY Times ORDER BY count DESC\")\n",
    "QueryOneB.show()"
   ]
  },
  {
   "cell_type": "markdown",
   "id": "83a843dc",
   "metadata": {},
   "source": [
    "## Query Two (Schools)"
   ]
  },
  {
   "cell_type": "code",
   "execution_count": 19,
   "id": "64db3f86",
   "metadata": {},
   "outputs": [
    {
     "name": "stdout",
     "output_type": "stream",
     "text": [
      "+-------------------+-----+\n",
      "|            Schools|count|\n",
      "+-------------------+-----+\n",
      "|      Florida State|   13|\n",
      "|            Florida|   10|\n",
      "|           Arkansas|    5|\n",
      "|           Kentucky|    5|\n",
      "|                LSU|    3|\n",
      "|          Texas A&M|    3|\n",
      "|           Maryland|    3|\n",
      "|            Alabama|    3|\n",
      "|          Tennessee|    3|\n",
      "|             Oregon|    2|\n",
      "|               UCLA|    2|\n",
      "|           Michigan|    2|\n",
      "|Southern California|    2|\n",
      "|     South Carolina|    2|\n",
      "|             Auburn|    1|\n",
      "|    Bethune-Cookman|    1|\n",
      "|         Texas Tech|    1|\n",
      "|           Illinois|    1|\n",
      "|               Iowa|    1|\n",
      "|            Houston|    1|\n",
      "+-------------------+-----+\n",
      "only showing top 20 rows\n",
      "\n"
     ]
    }
   ],
   "source": [
    "QueryTwoA = spark.sql(\"SELECT Schools, COUNT(*) as count FROM Mens110mHurdles GROUP BY Schools ORDER BY count DESC\")\n",
    "QueryTwoA.show()"
   ]
  },
  {
   "cell_type": "code",
   "execution_count": 20,
   "id": "eec6e62e",
   "metadata": {},
   "outputs": [
    {
     "name": "stdout",
     "output_type": "stream",
     "text": [
      "+-------------------+-----+\n",
      "|            Schools|count|\n",
      "+-------------------+-----+\n",
      "|                LSU|   13|\n",
      "|           Kentucky|   13|\n",
      "|Southern California|    8|\n",
      "|           Arkansas|    7|\n",
      "|              Texas|    3|\n",
      "|           Nebraska|    3|\n",
      "|               UTEP|    3|\n",
      "| North Carolina A&T|    3|\n",
      "|            Arizona|    3|\n",
      "|            Florida|    3|\n",
      "|            Clemson|    3|\n",
      "|           Michigan|    2|\n",
      "|      Virginia Tech|    2|\n",
      "|         Ohio State|    1|\n",
      "|         Texas Tech|    1|\n",
      "|             Baylor|    1|\n",
      "|               UCLA|    1|\n",
      "|   Coastal Carolina|    1|\n",
      "+-------------------+-----+\n",
      "\n"
     ]
    }
   ],
   "source": [
    "QueryTwoB = spark.sql(\"SELECT Schools, COUNT(*) as count FROM Womens100mHurdles GROUP BY Schools ORDER BY count DESC\")\n",
    "QueryTwoB.show()"
   ]
  },
  {
   "cell_type": "markdown",
   "id": "942ab92b",
   "metadata": {},
   "source": [
    "## Query Three (Times Percentages)"
   ]
  },
  {
   "cell_type": "code",
   "execution_count": 21,
   "id": "de4a564f",
   "metadata": {},
   "outputs": [
    {
     "name": "stdout",
     "output_type": "stream",
     "text": [
      "+-----+-----+------------------+\n",
      "|Times|count|        percentage|\n",
      "+-----+-----+------------------+\n",
      "|13.26|    4|6.0606060606060606|\n",
      "|13.12|    1|1.5151515151515151|\n",
      "|13.07|    3| 4.545454545454546|\n",
      "|13.18|    2|3.0303030303030303|\n",
      "|13.13|    3| 4.545454545454546|\n",
      "|12.98|    1|1.5151515151515151|\n",
      "|13.28|    8|12.121212121212121|\n",
      "| 13.2|    1|1.5151515151515151|\n",
      "|13.16|    5| 7.575757575757576|\n",
      "|13.25|    3| 4.545454545454546|\n",
      "|13.23|    3| 4.545454545454546|\n",
      "|13.27|    5| 7.575757575757576|\n",
      "| 13.1|    2|3.0303030303030303|\n",
      "|13.06|    1|1.5151515151515151|\n",
      "|13.24|    3| 4.545454545454546|\n",
      "|13.21|    6| 9.090909090909092|\n",
      "| 13.0|    3| 4.545454545454546|\n",
      "|13.19|    2|3.0303030303030303|\n",
      "|13.22|    6| 9.090909090909092|\n",
      "|13.15|    4|6.0606060606060606|\n",
      "+-----+-----+------------------+\n",
      "\n"
     ]
    }
   ],
   "source": [
    "QueryThreeA = spark.sql(\"SELECT Times, COUNT(*) as count, (COUNT(*) / (SELECT COUNT(*) FROM Mens110mHurdles)) * 100 as percentage FROM Mens110mHurdles GROUP BY Times\")\n",
    "QueryThreeA.show()"
   ]
  },
  {
   "cell_type": "code",
   "execution_count": 22,
   "id": "9da1dd6f",
   "metadata": {},
   "outputs": [
    {
     "name": "stdout",
     "output_type": "stream",
     "text": [
      "+-----+-----+------------------+\n",
      "|Times|count|        percentage|\n",
      "+-----+-----+------------------+\n",
      "|12.64|    2|2.8169014084507045|\n",
      "|12.43|    1|1.4084507042253522|\n",
      "| 12.5|    2|2.8169014084507045|\n",
      "|12.39|    1|1.4084507042253522|\n",
      "|12.67|    8|11.267605633802818|\n",
      "|12.57|    4| 5.633802816901409|\n",
      "|12.59|    1|1.4084507042253522|\n",
      "|12.62|    3| 4.225352112676056|\n",
      "| 12.4|    3| 4.225352112676056|\n",
      "|12.66|    5| 7.042253521126761|\n",
      "|12.44|    2|2.8169014084507045|\n",
      "|12.63|    3| 4.225352112676056|\n",
      "|12.55|    5| 7.042253521126761|\n",
      "|12.52|    3| 4.225352112676056|\n",
      "|12.56|    1|1.4084507042253522|\n",
      "| 12.6|    3| 4.225352112676056|\n",
      "|12.65|    3| 4.225352112676056|\n",
      "|12.53|    1|1.4084507042253522|\n",
      "|12.54|    3| 4.225352112676056|\n",
      "|12.48|    2|2.8169014084507045|\n",
      "+-----+-----+------------------+\n",
      "only showing top 20 rows\n",
      "\n"
     ]
    }
   ],
   "source": [
    "QueryThreeB = spark.sql(\"SELECT Times, COUNT(*) as count, (COUNT(*) / (SELECT COUNT(*) FROM Womens100mHurdles)) * 100 as percentage FROM Womens100mHurdles GROUP BY Times\")\n",
    "QueryThreeB.show()"
   ]
  },
  {
   "cell_type": "markdown",
   "id": "23df477f",
   "metadata": {},
   "source": [
    "## Query Four (School Percentages)"
   ]
  },
  {
   "cell_type": "code",
   "execution_count": 23,
   "id": "24da84f0",
   "metadata": {},
   "outputs": [
    {
     "name": "stdout",
     "output_type": "stream",
     "text": [
      "+-------------------+-----+------------------+\n",
      "|            Schools|count|        percentage|\n",
      "+-------------------+-----+------------------+\n",
      "|             Auburn|    1|1.5151515151515151|\n",
      "|    Bethune-Cookman|    1|1.5151515151515151|\n",
      "|             Oregon|    2|3.0303030303030303|\n",
      "|           Arkansas|    5| 7.575757575757576|\n",
      "|                LSU|    3| 4.545454545454546|\n",
      "|         Texas Tech|    1|1.5151515151515151|\n",
      "|           Illinois|    1|1.5151515151515151|\n",
      "|               UCLA|    2|3.0303030303030303|\n",
      "|           Michigan|    2|3.0303030303030303|\n",
      "|          Texas A&M|    3| 4.545454545454546|\n",
      "|           Maryland|    3| 4.545454545454546|\n",
      "|            Alabama|    3| 4.545454545454546|\n",
      "|               Iowa|    1|1.5151515151515151|\n",
      "|      Florida State|   13|19.696969696969695|\n",
      "|            Houston|    1|1.5151515151515151|\n",
      "|           Kentucky|    5| 7.575757575757576|\n",
      "|Southern California|    2|3.0303030303030303|\n",
      "|          Tennessee|    3| 4.545454545454546|\n",
      "|            Florida|   10|15.151515151515152|\n",
      "|    Pittsburg State|    1|1.5151515151515151|\n",
      "+-------------------+-----+------------------+\n",
      "only showing top 20 rows\n",
      "\n"
     ]
    }
   ],
   "source": [
    "QueryFourA = spark.sql(\"SELECT Schools, COUNT(*) as count, (COUNT(*) / (SELECT COUNT(*) FROM Mens110mHurdles)) * 100 as percentage FROM Mens110mHurdles GROUP BY Schools\")\n",
    "QueryFourA.show()"
   ]
  },
  {
   "cell_type": "code",
   "execution_count": 25,
   "id": "7ef3e71b",
   "metadata": {},
   "outputs": [
    {
     "name": "stdout",
     "output_type": "stream",
     "text": [
      "+-------------------+-----+------------------+\n",
      "|            Schools|count|        percentage|\n",
      "+-------------------+-----+------------------+\n",
      "|           Arkansas|    7| 9.859154929577464|\n",
      "|              Texas|    3| 4.225352112676056|\n",
      "|                LSU|   13| 18.30985915492958|\n",
      "|           Nebraska|    3| 4.225352112676056|\n",
      "|               UTEP|    3| 4.225352112676056|\n",
      "| North Carolina A&T|    3| 4.225352112676056|\n",
      "|         Ohio State|    1|1.4084507042253522|\n",
      "|         Texas Tech|    1|1.4084507042253522|\n",
      "|             Baylor|    1|1.4084507042253522|\n",
      "|               UCLA|    1|1.4084507042253522|\n",
      "|           Michigan|    2|2.8169014084507045|\n",
      "|            Arizona|    3| 4.225352112676056|\n",
      "|   Coastal Carolina|    1|1.4084507042253522|\n",
      "|           Kentucky|   13| 18.30985915492958|\n",
      "|Southern California|    8|11.267605633802818|\n",
      "|            Florida|    3| 4.225352112676056|\n",
      "|      Virginia Tech|    2|2.8169014084507045|\n",
      "|            Clemson|    3| 4.225352112676056|\n",
      "+-------------------+-----+------------------+\n",
      "\n"
     ]
    }
   ],
   "source": [
    "QueryFourB = spark.sql(\"SELECT Schools, COUNT(*) as count, (COUNT(*) / (SELECT COUNT(*) FROM Womens100mHurdles)) * 100 as percentage FROM Womens100mHurdles GROUP BY Schools\")\n",
    "QueryFourB.show()"
   ]
  },
  {
   "cell_type": "code",
   "execution_count": 26,
   "id": "d2c6fe2f",
   "metadata": {},
   "outputs": [
    {
     "name": "stderr",
     "output_type": "stream",
     "text": [
      "C:\\Users\\MoJo\\anaconda3\\lib\\site-packages\\scipy\\__init__.py:146: UserWarning: A NumPy version >=1.16.5 and <1.23.0 is required for this version of SciPy (detected version 1.25.1\n",
      "  warnings.warn(f\"A NumPy version >={np_minversion} and <{np_maxversion}\"\n"
     ]
    }
   ],
   "source": [
    "import pandas as pd\n",
    "import matplotlib.pyplot as plt\n",
    "import seaborn as sns"
   ]
  },
  {
   "cell_type": "markdown",
   "id": "925d796d",
   "metadata": {},
   "source": [
    "## Import Data "
   ]
  },
  {
   "cell_type": "code",
   "execution_count": 27,
   "id": "f4577fb2",
   "metadata": {},
   "outputs": [
    {
     "data": {
      "text/html": [
       "<div>\n",
       "<style scoped>\n",
       "    .dataframe tbody tr th:only-of-type {\n",
       "        vertical-align: middle;\n",
       "    }\n",
       "\n",
       "    .dataframe tbody tr th {\n",
       "        vertical-align: top;\n",
       "    }\n",
       "\n",
       "    .dataframe thead th {\n",
       "        text-align: right;\n",
       "    }\n",
       "</style>\n",
       "<table border=\"1\" class=\"dataframe\">\n",
       "  <thead>\n",
       "    <tr style=\"text-align: right;\">\n",
       "      <th></th>\n",
       "      <th>Names</th>\n",
       "      <th>Times</th>\n",
       "      <th>Schools</th>\n",
       "    </tr>\n",
       "  </thead>\n",
       "  <tbody>\n",
       "    <tr>\n",
       "      <th>0</th>\n",
       "      <td>(1) Grant HOLLOWAYJR</td>\n",
       "      <td>12.98</td>\n",
       "      <td>Florida</td>\n",
       "    </tr>\n",
       "    <tr>\n",
       "      <th>1</th>\n",
       "      <td>(2) Trey CUNNINGHAMSR</td>\n",
       "      <td>13.00</td>\n",
       "      <td>Florida State</td>\n",
       "    </tr>\n",
       "    <tr>\n",
       "      <th>2</th>\n",
       "      <td>(2) Daniel ROBERTSJR</td>\n",
       "      <td>13.00</td>\n",
       "      <td>Kentucky</td>\n",
       "    </tr>\n",
       "    <tr>\n",
       "      <th>3</th>\n",
       "      <td>(2) Renaldo NEHEMIAH</td>\n",
       "      <td>13.00</td>\n",
       "      <td>Maryland</td>\n",
       "    </tr>\n",
       "    <tr>\n",
       "      <th>4</th>\n",
       "      <td>— Roberts {2}JR</td>\n",
       "      <td>13.06</td>\n",
       "      <td>Kentucky</td>\n",
       "    </tr>\n",
       "    <tr>\n",
       "      <th>...</th>\n",
       "      <td>...</td>\n",
       "      <td>...</td>\n",
       "      <td>...</td>\n",
       "    </tr>\n",
       "    <tr>\n",
       "      <th>61</th>\n",
       "      <td>— Dunning {3}SR</td>\n",
       "      <td>13.28</td>\n",
       "      <td>Alabama</td>\n",
       "    </tr>\n",
       "    <tr>\n",
       "      <th>62</th>\n",
       "      <td>— Cunningham {13}JR</td>\n",
       "      <td>13.28</td>\n",
       "      <td>Florida State</td>\n",
       "    </tr>\n",
       "    <tr>\n",
       "      <th>63</th>\n",
       "      <td>— Holloway {10}JR</td>\n",
       "      <td>13.28</td>\n",
       "      <td>Florida</td>\n",
       "    </tr>\n",
       "    <tr>\n",
       "      <th>64</th>\n",
       "      <td>— McLeod {3}</td>\n",
       "      <td>13.28</td>\n",
       "      <td>Arkansas</td>\n",
       "    </tr>\n",
       "    <tr>\n",
       "      <th>65</th>\n",
       "      <td>(24) Andrew RILEY</td>\n",
       "      <td>13.28</td>\n",
       "      <td>Illinois</td>\n",
       "    </tr>\n",
       "  </tbody>\n",
       "</table>\n",
       "<p>66 rows × 3 columns</p>\n",
       "</div>"
      ],
      "text/plain": [
       "                    Names  Times        Schools\n",
       "0    (1) Grant HOLLOWAYJR  12.98        Florida\n",
       "1   (2) Trey CUNNINGHAMSR  13.00  Florida State\n",
       "2    (2) Daniel ROBERTSJR  13.00       Kentucky\n",
       "3    (2) Renaldo NEHEMIAH  13.00       Maryland\n",
       "4         — Roberts {2}JR  13.06       Kentucky\n",
       "..                    ...    ...            ...\n",
       "61        — Dunning {3}SR  13.28        Alabama\n",
       "62    — Cunningham {13}JR  13.28  Florida State\n",
       "63      — Holloway {10}JR  13.28        Florida\n",
       "64           — McLeod {3}  13.28       Arkansas\n",
       "65      (24) Andrew RILEY  13.28       Illinois\n",
       "\n",
       "[66 rows x 3 columns]"
      ]
     },
     "execution_count": 27,
     "metadata": {},
     "output_type": "execute_result"
    }
   ],
   "source": [
    "Mens110mHurdlesDF = pd.read_csv('Mens110mHurdles.csv')\n",
    "Mens110mHurdlesDF"
   ]
  },
  {
   "cell_type": "code",
   "execution_count": 28,
   "id": "34885632",
   "metadata": {},
   "outputs": [
    {
     "data": {
      "text/html": [
       "<div>\n",
       "<style scoped>\n",
       "    .dataframe tbody tr th:only-of-type {\n",
       "        vertical-align: middle;\n",
       "    }\n",
       "\n",
       "    .dataframe tbody tr th {\n",
       "        vertical-align: top;\n",
       "    }\n",
       "\n",
       "    .dataframe thead th {\n",
       "        text-align: right;\n",
       "    }\n",
       "</style>\n",
       "<table border=\"1\" class=\"dataframe\">\n",
       "  <thead>\n",
       "    <tr style=\"text-align: right;\">\n",
       "      <th></th>\n",
       "      <th>Names</th>\n",
       "      <th>Times</th>\n",
       "      <th>Schools</th>\n",
       "    </tr>\n",
       "  </thead>\n",
       "  <tbody>\n",
       "    <tr>\n",
       "      <th>0</th>\n",
       "      <td>(1) Masai RUSSELLSR</td>\n",
       "      <td>12.36</td>\n",
       "      <td>Kentucky</td>\n",
       "    </tr>\n",
       "    <tr>\n",
       "      <th>1</th>\n",
       "      <td>(2) Brianna ROLLINSJR</td>\n",
       "      <td>12.39</td>\n",
       "      <td>Clemson</td>\n",
       "    </tr>\n",
       "    <tr>\n",
       "      <th>2</th>\n",
       "      <td>(3) Alia ARMSTRONGJR</td>\n",
       "      <td>12.40</td>\n",
       "      <td>LSU</td>\n",
       "    </tr>\n",
       "    <tr>\n",
       "      <th>3</th>\n",
       "      <td>(3) Janeek BROWNSO</td>\n",
       "      <td>12.40</td>\n",
       "      <td>Arkansas</td>\n",
       "    </tr>\n",
       "    <tr>\n",
       "      <th>4</th>\n",
       "      <td>(3) Jasmine CAMACHO-QUINNJR</td>\n",
       "      <td>12.40</td>\n",
       "      <td>Kentucky</td>\n",
       "    </tr>\n",
       "    <tr>\n",
       "      <th>...</th>\n",
       "      <td>...</td>\n",
       "      <td>...</td>\n",
       "      <td>...</td>\n",
       "    </tr>\n",
       "    <tr>\n",
       "      <th>66</th>\n",
       "      <td>— Amusan {3}SO</td>\n",
       "      <td>12.67</td>\n",
       "      <td>UTEP</td>\n",
       "    </tr>\n",
       "    <tr>\n",
       "      <th>67</th>\n",
       "      <td>— Claye {2}</td>\n",
       "      <td>12.67</td>\n",
       "      <td>Virginia Tech</td>\n",
       "    </tr>\n",
       "    <tr>\n",
       "      <th>68</th>\n",
       "      <td>— Salmon {3}SR</td>\n",
       "      <td>12.68</td>\n",
       "      <td>North Carolina A&amp;T</td>\n",
       "    </tr>\n",
       "    <tr>\n",
       "      <th>69</th>\n",
       "      <td>— Rollins {3}</td>\n",
       "      <td>12.68</td>\n",
       "      <td>Clemson</td>\n",
       "    </tr>\n",
       "    <tr>\n",
       "      <th>70</th>\n",
       "      <td>(25) Christina CLEMONS</td>\n",
       "      <td>12.68</td>\n",
       "      <td>Ohio State</td>\n",
       "    </tr>\n",
       "  </tbody>\n",
       "</table>\n",
       "<p>71 rows × 3 columns</p>\n",
       "</div>"
      ],
      "text/plain": [
       "                          Names  Times             Schools\n",
       "0           (1) Masai RUSSELLSR  12.36            Kentucky\n",
       "1         (2) Brianna ROLLINSJR  12.39             Clemson\n",
       "2          (3) Alia ARMSTRONGJR  12.40                 LSU\n",
       "3            (3) Janeek BROWNSO  12.40            Arkansas\n",
       "4   (3) Jasmine CAMACHO-QUINNJR  12.40            Kentucky\n",
       "..                          ...    ...                 ...\n",
       "66               — Amusan {3}SO  12.67                UTEP\n",
       "67                  — Claye {2}  12.67       Virginia Tech\n",
       "68               — Salmon {3}SR  12.68  North Carolina A&T\n",
       "69                — Rollins {3}  12.68             Clemson\n",
       "70       (25) Christina CLEMONS  12.68          Ohio State\n",
       "\n",
       "[71 rows x 3 columns]"
      ]
     },
     "execution_count": 28,
     "metadata": {},
     "output_type": "execute_result"
    }
   ],
   "source": [
    "Women100mHurdlesDF = pd.read_csv('Women100mHurdles.csv')\n",
    "Women100mHurdlesDF"
   ]
  },
  {
   "cell_type": "code",
   "execution_count": 30,
   "id": "adf59985",
   "metadata": {},
   "outputs": [
    {
     "data": {
      "image/png": "[encoded data removed]",
      "text/plain": [
       "<Figure size 432x288 with 1 Axes>"
      ]
     },
     "metadata": {
      "needs_background": "light"
     },
     "output_type": "display_data"
    }
   ],
   "source": [
    "# Create a histogram using Seaborn\n",
    "column_name = \"Times\"\n",
    "sns.histplot(Mens110mHurdlesDF[column_name], bins=20, kde=True, color='skyblue', edgecolor='black')\n",
    "\n",
    "# Add labels and title\n",
    "plt.xlabel(column_name)\n",
    "plt.ylabel('Frequency')\n",
    "plt.title(f'Distribution of {column_name}')\n",
    "\n",
    "# Show the plot\n",
    "plt.show()"
   ]
  },
  {
   "cell_type": "code",
   "execution_count": 31,
   "id": "19a182f7",
   "metadata": {},
   "outputs": [
    {
     "data": {
      "image/png": "[encoded data removed]",
      "text/plain": [
       "<Figure size 432x288 with 1 Axes>"
      ]
     },
     "metadata": {
      "needs_background": "light"
     },
     "output_type": "display_data"
    }
   ],
   "source": [
    "# Create a histogram using Seaborn\n",
    "column_name = \"Times\"\n",
    "sns.histplot(Women100mHurdlesDF[column_name], bins=20, kde=True, color='red', edgecolor='black')\n",
    "\n",
    "# Add labels and title\n",
    "plt.xlabel(column_name)\n",
    "plt.ylabel('Frequency')\n",
    "plt.title(f'Distribution of {column_name}')\n",
    "\n",
    "# Show the plot\n",
    "plt.show()"
   ]
  },
  {
   "cell_type": "code",
   "execution_count": 34,
   "id": "7788e173",
   "metadata": {},
   "outputs": [
    {
     "data": {
      "image/png": "[encoded data removed]",
      "text/plain": [
       "<Figure size 432x288 with 1 Axes>"
      ]
     },
     "metadata": {
      "needs_background": "light"
     },
     "output_type": "display_data"
    }
   ],
   "source": [
    "# Create a histogram using Seaborn\n",
    "column_name = \"Schools\"\n",
    "sns.histplot(Mens110mHurdlesDF[column_name], bins=20, kde=True, color='skyblue', edgecolor='black')\n",
    "\n",
    "# Add labels and title\n",
    "plt.xlabel(column_name)\n",
    "plt.ylabel('Frequency')\n",
    "plt.title(f'Distribution of {column_name}')\n",
    "\n",
    "#Make names more readable\n",
    "plt.xticks(rotation=90)\n",
    "\n",
    "\n",
    "# Show the plot\n",
    "plt.show()"
   ]
  },
  {
   "cell_type": "code",
   "execution_count": 35,
   "id": "4a720193",
   "metadata": {},
   "outputs": [
    {
     "data": {
      "image/png": "[encoded data removed]",
      "text/plain": [
       "<Figure size 432x288 with 1 Axes>"
      ]
     },
     "metadata": {
      "needs_background": "light"
     },
     "output_type": "display_data"
    }
   ],
   "source": [
    "# Create a histogram using Seaborn\n",
    "column_name = \"Schools\"\n",
    "sns.histplot(Women100mHurdlesDF[column_name], bins=20, kde=True, color='red', edgecolor='black')\n",
    "\n",
    "# Add labels and title\n",
    "plt.xlabel(column_name)\n",
    "plt.ylabel('Frequency')\n",
    "plt.title(f'Distribution of {column_name}')\n",
    "\n",
    "#Make names more readable\n",
    "plt.xticks(rotation=90)\n",
    "\n",
    "# Show the plot\n",
    "plt.show()"
   ]
  },
  {
   "cell_type": "code",
   "execution_count": null,
   "id": "68d01d5a",
   "metadata": {},
   "outputs": [],
   "source": []
  }
 ],
 "metadata": {
  "kernelspec": {
   "display_name": "Python 3 (ipykernel)",
   "language": "python",
   "name": "python3"
  },
  "language_info": {
   "codemirror_mode": {
    "name": "ipython",
    "version": 3
   },
   "file_extension": ".py",
   "mimetype": "text/x-python",
   "name": "python",
   "nbconvert_exporter": "python",
   "pygments_lexer": "ipython3",
   "version": "3.9.12"
  }
 },
 "nbformat": 4,
 "nbformat_minor": 5
}
