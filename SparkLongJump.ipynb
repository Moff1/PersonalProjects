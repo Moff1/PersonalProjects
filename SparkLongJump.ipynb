{
 "cells": [
  {
   "cell_type": "code",
   "execution_count": 1,
   "id": "7801ef08",
   "metadata": {},
   "outputs": [],
   "source": [
    "import pyspark\n",
    "\n",
    "from pyspark.sql import SparkSession\n",
    "\n",
    "from pyspark.sql.functions import col\n",
    "\n",
    "from pyspark.sql.functions import desc\n",
    "\n",
    "from pyspark.sql.functions import asc\n",
    "\n",
    "import findspark\n",
    "\n",
    "from pyspark.sql.types import StructType, StructField, StringType, IntegerType\n",
    "\n",
    "import pandas as pd"
   ]
  },
  {
   "cell_type": "code",
   "execution_count": 2,
   "id": "815183b9",
   "metadata": {},
   "outputs": [],
   "source": [
    "spark = SparkSession.builder.appName('ProLongJump').enableHiveSupport().getOrCreate()"
   ]
  },
  {
   "cell_type": "code",
   "execution_count": 4,
   "id": "17be7e99",
   "metadata": {},
   "outputs": [],
   "source": [
    "ProMensLJ = spark.read.format('csv').option('inferSchema','true').option('header','true').option('path','ProMensLJ.csv').load()\n",
    "\n",
    "ProWomensLJ = spark.read.format('csv').option('inferSchema','true').option('header','true').option('path','ProWomensLJ.csv').load()"
   ]
  },
  {
   "cell_type": "code",
   "execution_count": 6,
   "id": "efcf4221",
   "metadata": {},
   "outputs": [],
   "source": [
    "ProMensLJ.createOrReplaceTempView(\"ProMensLJ\")\n",
    "\n",
    "ProWomensLJ.createOrReplaceTempView(\"ProWomensLJ\")"
   ]
  },
  {
   "cell_type": "code",
   "execution_count": 7,
   "id": "23d1f901",
   "metadata": {},
   "outputs": [
    {
     "name": "stdout",
     "output_type": "stream",
     "text": [
      "+--------+------+-------+--------------------+---------------+---------+-------------+-----------+\n",
      "|RANKINGS|LENGTH|COUNTRY|             ATHLETE|       LOCATION|BIRTHYEAR|DATEOFTHEJUMP|WINDREADING|\n",
      "+--------+------+-------+--------------------+---------------+---------+-------------+-----------+\n",
      "|       1|  8.95|    USA|   .3    Mike Powell|          Tokyo| 10.11.63|   30.08.1991|      +0.3 |\n",
      "|       2| 8.90A|    USA|    .0    Bob Beamon|Ciudadde México| 29.08.46|   18.10.1968|       +2.0|\n",
      "|       3| 8.87*|    USA|    .2    Carl Lewis|          Tokyo| 01.07.61|   30.08.1991|       -0.2|\n",
      "|       4| 8.86A|    ARM|.9    Robert Emmiyan|    Tsakhkadzor| 16.02.65|   22.05.1987|   +1.9    |\n",
      "|       5|  8.79|    USA|    .9    Carl Lewis|   Indianapolis| 01.07.61|   19.06.1983|       +1.9|\n",
      "|       6|  8.76|    USA|    .0    Carl Lewis|   Indianapolis| 01.07.61|   24.07.1982|       +1.0|\n",
      "|       6|  8.76|    USA|    .8    Carl Lewis|   Indianapolis| 01.07.61|   18.07.1988|       +0.8|\n",
      "|       8| 8.75*|    USA|    .7    Carl Lewis|   Indianapolis| 01.07.61|   16.08.1987|       +1.7|\n",
      "|       9|  8.74|    USA| .4    Larry Myricks|   Indianapolis| 10.03.56|   18.07.1988|    +1.4   |\n",
      "|       9| 8.74A|    USA|  .0    Erick Walder|        El Paso| 05.11.71|   02.04.1994|     +2.0  |\n",
      "|       9|  8.74|    USA|.2    Dwight Phil...|         Eugene| 01.10.77|   07.06.2009|  -1.2    D|\n",
      "|      12|  8.73|    PAN|.2    Irving Sala...|        Hengelo| 23.01.83|   24.05.2008|  +1.2    I|\n",
      "|      13|  8.72|    USA|    .2    Carl Lewis|          Seoul| 01.07.61|   26.09.1988|       -0.2|\n",
      "|      14|  8.71|    USA|    .3    Carl Lewis|       Westwood| 01.07.61|   13.05.1984|       -0.3|\n",
      "|      14|  8.71|    USA|    .1    Carl Lewis|    Los Angeles| 01.07.61|   19.06.1984|       +0.1|\n",
      "|      14|  8.71|    CUB|  .9    Iván Pedroso|      Salamanca| 17.12.72|   18.07.1995|     +1.9  |\n",
      "|      17|  8.70|    USA| .9    Larry Myricks|        Houston| 10.03.56|   17.06.1989|    +0.9   |\n",
      "|      17|  8.70|    USA|   .7    Mike Powell|      Salamanca| 10.11.63|   27.07.1993|      +0.7 |\n",
      "|      17|  8.70|    CUB|  .6    Iván Pedroso|       Göteborg| 17.12.72|   12.08.1995|     +1.6  |\n",
      "|      20|  8.69|    JAM|   .5    Tajay Gayle|      Ad-Dawhah| 02.08.96|   28.09.2019|      +0.5 |\n",
      "+--------+------+-------+--------------------+---------------+---------+-------------+-----------+\n",
      "only showing top 20 rows\n",
      "\n"
     ]
    }
   ],
   "source": [
    "resultOne = spark.sql(\"SELECT * FROM ProMensLJ\")\n",
    "resultOne.show()"
   ]
  },
  {
   "cell_type": "code",
   "execution_count": 8,
   "id": "599a2ae8",
   "metadata": {},
   "outputs": [
    {
     "name": "stdout",
     "output_type": "stream",
     "text": [
      "+--------+------+-------+--------------------+--------------+---------+-------------+--------------+\n",
      "|RANKINGS|LENGTH|COUNTRY|             ATHLETE|      LOCATION|BIRTHYEAR|DATEOFTHEJUMP|   WINDREADING|\n",
      "+--------+------+-------+--------------------+--------------+---------+-------------+--------------+\n",
      "|       1|  7.52|    RUS|.4    Galina Chis...|     Leningrad| 26.07.62|   11.06.1988|  +1.4    Gali|\n",
      "|       2|  7.49|    USA|.3    Jackie Joyn...| New York City| 03.03.62|   22.05.1994|+1.3    Jackie|\n",
      "|       2| 7.49A|    USA|.7    Jackie Joyn...|     Sestriere| 03.03.62|   31.07.1994|+1.7    Jackie|\n",
      "|       4|  7.48|    GER|.2    Heike Drech...|Neubrandenburg| 16.12.64|   09.07.1988|     +1.2    H|\n",
      "|       4|  7.48|    GER|.4    Heike Drech...|      Lausanne| 16.12.64|   08.07.1992|     +0.4    H|\n",
      "|       6|  7.45|    GER|.9    Heike Drech...|       Tallinn| 16.12.64|   21.06.1986|     +0.9    H|\n",
      "|       6|  7.45|    GER|.1    Heike Drech...|       Dresden| 16.12.64|   03.07.1986|     +1.1    H|\n",
      "|       6|  7.45|    USA|.6    Jackie Joyn...|  Indianapolis| 03.03.62|   13.08.1987|+0.6    Jackie|\n",
      "|       6|  7.45|    RUS|.6    Galina Chis...|      Budapest| 26.07.62|   12.08.1988|  +1.6    Gali|\n",
      "|      10|  7.44|    GER|.0    Heike Drech...|        Berlin| 16.12.64|   22.09.1985|     +2.0    H|\n",
      "|      11|  7.43|    ROU|.4    AnisoaraCusmir|     Bucuresti| 28.06.62|   04.06.1983|      +1.4    |\n",
      "|      12|  7.42|    RUS| .0    TatyanaKotova|        Annecy| 11.12.76|   23.06.2002|       +2.0   |\n",
      "|      13|  7.40|    GER|.8    Heike Drech...|       Dresden| 16.12.64|   26.07.1984|     +1.8    H|\n",
      "|      13|  7.40|    GER|.7    Heike Drech...|       Potsdam| 16.12.64|   21.08.1987|     +0.7    H|\n",
      "|      13|  7.40|    USA|.9    Jackie Joyn...|         Seoul| 03.03.62|   29.09.1988|+0.9    Jackie|\n",
      "|      16|  7.39|    GER|.3    Heike Drech...|        Zürich| 16.12.64|   21.08.1985|     +0.3    H|\n",
      "|      16|  7.39|    BLR|.5    Yelena Bele...|       Bryansk| 11.10.63|   18.07.1987|   +0.5    Yel|\n",
      "|      16|  7.39|    USA|Jackie Joyner-Kersee|     San Diego| 03.03.62|   25.06.1988|        Jackie|\n",
      "|      19| 7.37A|    GER|.8    Heike Drech...|     Sestriere| 16.12.64|   31.07.1991|     +1.8    H|\n",
      "|      19|  7.37|    UKR|      Inessa Kravets|          Kyiv| 05.10.66|   13.06.1992|          null|\n",
      "+--------+------+-------+--------------------+--------------+---------+-------------+--------------+\n",
      "only showing top 20 rows\n",
      "\n"
     ]
    }
   ],
   "source": [
    "resultTwo = spark.sql(\"SELECT * FROM ProWomensLJ\")\n",
    "resultTwo.show()"
   ]
  },
  {
   "cell_type": "code",
   "execution_count": null,
   "id": "53cc5430",
   "metadata": {},
   "outputs": [],
   "source": []
  },
  {
   "cell_type": "code",
   "execution_count": null,
   "id": "f12ad635",
   "metadata": {},
   "outputs": [],
   "source": []
  },
  {
   "cell_type": "code",
   "execution_count": null,
   "id": "585868a7",
   "metadata": {},
   "outputs": [],
   "source": []
  },
  {
   "cell_type": "code",
   "execution_count": null,
   "id": "e52f5796",
   "metadata": {},
   "outputs": [],
   "source": []
  }
 ],
 "metadata": {
  "kernelspec": {
   "display_name": "Python 3 (ipykernel)",
   "language": "python",
   "name": "python3"
  },
  "language_info": {
   "codemirror_mode": {
    "name": "ipython",
    "version": 3
   },
   "file_extension": ".py",
   "mimetype": "text/x-python",
   "name": "python",
   "nbconvert_exporter": "python",
   "pygments_lexer": "ipython3",
   "version": "3.9.12"
  }
 },
 "nbformat": 4,
 "nbformat_minor": 5
}
