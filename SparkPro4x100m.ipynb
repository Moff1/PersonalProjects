{
 "cells": [
  {
   "cell_type": "code",
   "execution_count": 1,
   "id": "c41d75fd",
   "metadata": {},
   "outputs": [],
   "source": [
    "import pyspark\n",
    "\n",
    "from pyspark.sql import SparkSession\n",
    "\n",
    "from pyspark.sql.functions import col\n",
    "\n",
    "from pyspark.sql.functions import desc\n",
    "\n",
    "from pyspark.sql.functions import asc\n",
    "\n",
    "import findspark\n",
    "\n",
    "from pyspark.sql.types import StructType, StructField, StringType, IntegerType\n",
    "\n",
    "import pandas as pd"
   ]
  },
  {
   "cell_type": "code",
   "execution_count": 2,
   "id": "51ca2c47",
   "metadata": {},
   "outputs": [],
   "source": [
    "spark = SparkSession.builder.appName('Pro4x100M').enableHiveSupport().getOrCreate()"
   ]
  },
  {
   "cell_type": "code",
   "execution_count": 3,
   "id": "ea0a7232",
   "metadata": {},
   "outputs": [],
   "source": [
    "ProMens4x100m = spark.read.format('csv').option('inferSchema','true').option('header','true').option('path','ProMens4x100m.csv').load()\n",
    "\n",
    "ProWomens4x100m = spark.read.format('csv').option('inferSchema','true').option('header','true').option('path','ProWomens4x100m.csv').load()"
   ]
  },
  {
   "cell_type": "code",
   "execution_count": 4,
   "id": "8e12e7f2",
   "metadata": {},
   "outputs": [],
   "source": [
    "ProMens4x100m.createOrReplaceTempView(\"ProMens4x100m\")\n",
    "\n",
    "ProWomens4x100m.createOrReplaceTempView(\"ProWomens4x100m\")"
   ]
  },
  {
   "cell_type": "code",
   "execution_count": 5,
   "id": "c0adae7b",
   "metadata": {},
   "outputs": [
    {
     "name": "stdout",
     "output_type": "stream",
     "text": [
      "+--------+-----+-------------------+--------------+----------+\n",
      "|RANKINGS|TIMES|               TEAM|      LOCATION|   RUNYEAR|\n",
      "+--------+-----+-------------------+--------------+----------+\n",
      "|       1|36.84|            Jamaica|        London|11.08.2012|\n",
      "|       2|37.04|            Jamaica|         Daegu|04.09.2011|\n",
      "|       3|37.10|      United States|     Ad-Dawhah|05.10.2019|\n",
      "|       4|37.27|            Jamaica|Rio de Janeiro|19.08.2016|\n",
      "|       5|37.31|            Jamaica|        Berlin|22.08.2009|\n",
      "|       6|37.36|            Jamaica|        Moskva|18.08.2013|\n",
      "|       6|37.36|            Jamaica|       Beijing|29.08.2015|\n",
      "|       6|37.36|Great Britain &N.I.|     Ad-Dawhah|05.10.2019|\n",
      "|       9|37.38|      United States|        Nassau|02.05.2015|\n",
      "|      10|37.39|            Jamaica|        London|10.08.2012|\n",
      "|      11|37.40|      United States|     Barcelona|08.08.1992|\n",
      "|      11|37.40|      United States|     Stuttgart|21.08.1993|\n",
      "|      13|37.41|            Jamaica|       Beijing|29.08.2015|\n",
      "|      14|37.43|              Japan|     Ad-Dawhah|05.10.2019|\n",
      "|      15|37.45|      United States|        Zürich|19.08.2010|\n",
      "|      16|37.46|  Racers Track Club|        London|25.07.2009|\n",
      "|      17|37.47|Great Britain &N.I.|        London|12.08.2017|\n",
      "|      18|37.48|      United States|     Stuttgart|22.08.1993|\n",
      "|      18|37.48|             Canada|        Eugene|23.07.2022|\n",
      "|      20|37.50|      United States|         Tokyo|01.09.1991|\n",
      "+--------+-----+-------------------+--------------+----------+\n",
      "only showing top 20 rows\n",
      "\n"
     ]
    }
   ],
   "source": [
    "resultOne = spark.sql(\"SELECT * FROM ProMens4x100m\")\n",
    "resultOne.show()"
   ]
  },
  {
   "cell_type": "code",
   "execution_count": 6,
   "id": "b1402d7e",
   "metadata": {},
   "outputs": [
    {
     "name": "stdout",
     "output_type": "stream",
     "text": [
      "+--------+-----+--------------------+--------------+----------+\n",
      "|RANKINGS|TIMES|                TEAM|      LOCATION|   RUNYEAR|\n",
      "+--------+-----+--------------------+--------------+----------+\n",
      "|       1|40.82|       United States|        London|10.08.2012|\n",
      "|       2|41.01|       United States|Rio de Janeiro|19.08.2016|\n",
      "|       3|41.02|             Jamaica|         Tokyo|06.08.2021|\n",
      "|       4|41.07|             Jamaica|       Beijing|29.08.2015|\n",
      "|       5|41.14|       United States|        Eugene|23.07.2022|\n",
      "|       6|41.18|             Jamaica|        Eugene|23.07.2022|\n",
      "|       7|41.29|             Jamaica|        Moskva|18.08.2013|\n",
      "|       8|41.36|             Jamaica|Rio de Janeiro|19.08.2016|\n",
      "|       9|41.37|German Democratic...|      Canberra|06.10.1985|\n",
      "|      10|41.41|             Jamaica|        London|10.08.2012|\n",
      "|      11|41.44|             Jamaica|     Ad-Dawhah|05.10.2019|\n",
      "|      12|41.45|       United States|         Tokyo|06.08.2021|\n",
      "|      13|41.47|       United States|       Athínai|09.08.1997|\n",
      "|      14|41.49|              Russia|     Stuttgart|22.08.1993|\n",
      "|      14|41.49|       United States|     Stuttgart|22.08.1993|\n",
      "|      16|41.52|       United States|       Athínai|08.08.1997|\n",
      "|      17|41.53|German Democratic...|        Berlin|31.07.1983|\n",
      "|      18|41.55|       United States|        Berlin|21.08.1987|\n",
      "|      18|41.55| Great Britain &N.I.|         Tokyo|05.08.2021|\n",
      "|      18|41.55| University of Texas|        Austin|08.06.2023|\n",
      "+--------+-----+--------------------+--------------+----------+\n",
      "only showing top 20 rows\n",
      "\n"
     ]
    }
   ],
   "source": [
    "\n",
    "resultTwo = spark.sql(\"SELECT * FROM ProWomens4x100m\")\n",
    "resultTwo.show()"
   ]
  },
  {
   "cell_type": "code",
   "execution_count": null,
   "id": "086a8de3",
   "metadata": {},
   "outputs": [],
   "source": []
  },
  {
   "cell_type": "code",
   "execution_count": null,
   "id": "14a76d5b",
   "metadata": {},
   "outputs": [],
   "source": []
  },
  {
   "cell_type": "code",
   "execution_count": null,
   "id": "6b60e568",
   "metadata": {},
   "outputs": [],
   "source": []
  }
 ],
 "metadata": {
  "kernelspec": {
   "display_name": "Python 3 (ipykernel)",
   "language": "python",
   "name": "python3"
  },
  "language_info": {
   "codemirror_mode": {
    "name": "ipython",
    "version": 3
   },
   "file_extension": ".py",
   "mimetype": "text/x-python",
   "name": "python",
   "nbconvert_exporter": "python",
   "pygments_lexer": "ipython3",
   "version": "3.9.12"
  }
 },
 "nbformat": 4,
 "nbformat_minor": 5
}
