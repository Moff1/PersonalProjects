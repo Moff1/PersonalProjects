{
 "cells": [
  {
   "cell_type": "code",
   "execution_count": 1,
   "id": "47b74105",
   "metadata": {},
   "outputs": [],
   "source": [
    "import pyspark\n",
    "\n",
    "from pyspark.sql import SparkSession\n",
    "\n",
    "from pyspark.sql.functions import col\n",
    "\n",
    "from pyspark.sql.functions import desc\n",
    "\n",
    "from pyspark.sql.functions import asc\n",
    "\n",
    "import findspark\n",
    "\n",
    "from pyspark.sql.types import StructType, StructField, StringType, IntegerType\n",
    "\n",
    "import pandas as pd"
   ]
  },
  {
   "cell_type": "code",
   "execution_count": 2,
   "id": "bd8b059c",
   "metadata": {},
   "outputs": [],
   "source": [
    "spark = SparkSession.builder.appName('Pro60M').enableHiveSupport().getOrCreate()"
   ]
  },
  {
   "cell_type": "code",
   "execution_count": 3,
   "id": "ea98a47b",
   "metadata": {},
   "outputs": [],
   "source": [
    "ProMens60m = spark.read.format('csv').option('inferSchema','true').option('header','true').option('path','ProMens60m.csv').load()\n",
    "\n",
    "ProWomens60m = spark.read.format('csv').option('inferSchema','true').option('header','true').option('path','ProWomens60m.csv').load()"
   ]
  },
  {
   "cell_type": "code",
   "execution_count": 4,
   "id": "53bc287b",
   "metadata": {},
   "outputs": [],
   "source": [
    "ProMens60m.createOrReplaceTempView(\"ProMens60m\")"
   ]
  },
  {
   "cell_type": "code",
   "execution_count": 5,
   "id": "6b7c395c",
   "metadata": {},
   "outputs": [],
   "source": [
    "ProWomens60m.createOrReplaceTempView(\"ProWomens60m\")"
   ]
  },
  {
   "cell_type": "code",
   "execution_count": 7,
   "id": "9b8e7070",
   "metadata": {},
   "outputs": [
    {
     "name": "stdout",
     "output_type": "stream",
     "text": [
      "+--------+-----+-------+--------------------+-----------+---------+------------+\n",
      "|RANKINGS|TIMES|COUNTRY|             ATHLETE|   LOCATION|BIRTHYEAR|DATEOFTHERUN|\n",
      "+--------+-----+-------+--------------------+-----------+---------+------------+\n",
      "|       1|6.34A|    USA|   Christian Coleman|Albuquerque| 06.03.96|  18.02.2018|\n",
      "|       2| 6.37|    USA|   Christian Coleman|    Clemson| 06.03.96|  19.01.2018|\n",
      "|       2| 6.37|    USA|   Christian Coleman| Birmingham| 06.03.96|  03.03.2018|\n",
      "|       2|6.37A|    USA|   Christian Coleman|Albuquerque| 06.03.96|  15.02.2020|\n",
      "|       5| 6.39|    USA|       MauriceGreene|     Madrid| 23.07.74|  03.02.1998|\n",
      "|       5| 6.39|    USA|       MauriceGreene|    Atlanta| 23.07.74|  03.03.2001|\n",
      "|       7| 6.40|    USA|       MauriceGreene|    Atlanta| 23.07.74|  27.02.1999|\n",
      "|       7|6.40A|    USA|        Ronnie Baker|Albuquerque| 15.10.93|  18.02.2018|\n",
      "|       9| 6.41|    USA|         Andre Cason|     Madrid| 20.01.69|  14.02.1992|\n",
      "|       9| 6.41|    USA|       MauriceGreene|  Stuttgart| 23.07.74|  01.02.1998|\n",
      "|       9| 6.41|    ITA|Lamont MarcellJacobs|    Beograd| 26.09.94|  19.03.2022|\n",
      "|       9| 6.41|    USA|   Christian Coleman|    Beograd| 06.03.96|  19.03.2022|\n",
      "|      13| 6.42|    USA|       MauriceGreene|   Maebashi| 23.07.74|  07.03.1999|\n",
      "|      13| 6.42|    GBR|      Dwain Chambers|     Torino| 05.04.78|  07.03.2009|\n",
      "|      13|6.42A|    USA|   Christian Coleman|Albuquerque| 06.03.96|  18.02.2018|\n",
      "|      13| 6.42|    CHN|         Su Bingtian| Birmingham| 29.08.89|  03.03.2018|\n",
      "|      13| 6.42|    USA|      TrayvonBromell|    Clemson| 10.07.95|  10.02.2023|\n",
      "|      18| 6.43|    USA|       MauriceGreene|  Stuttgart| 23.07.74|  01.02.1998|\n",
      "|      18| 6.43|    USA|          Tim Harden|   Maebashi| 27.01.74|  07.03.1999|\n",
      "|      18| 6.43|    CHN|         Su Bingtian| Düsseldorf| 29.08.89|  06.02.2018|\n",
      "+--------+-----+-------+--------------------+-----------+---------+------------+\n",
      "only showing top 20 rows\n",
      "\n"
     ]
    }
   ],
   "source": [
    "resultOne = spark.sql(\"SELECT * FROM ProMens60m\")\n",
    "resultOne.show()"
   ]
  },
  {
   "cell_type": "code",
   "execution_count": 8,
   "id": "b8d0ba55",
   "metadata": {},
   "outputs": [
    {
     "name": "stdout",
     "output_type": "stream",
     "text": [
      "+--------+-----+-------+----------------+-----------+---------+------------+\n",
      "|RANKINGS|TIMES|COUNTRY|         ATHLETE|   LOCATION|BIRTHYEAR|DATEOFTHERUN|\n",
      "+--------+-----+-------+----------------+-----------+---------+------------+\n",
      "|       1| 6.92|    RUS| Irina Privalova|     Madrid| 12.11.68|  11.02.1993|\n",
      "|       1| 6.92|    RUS| Irina Privalova|     Madrid| 12.11.68|  09.02.1995|\n",
      "|       3| 6.93|    RUS| Irina Privalova|     Liévin| 12.11.68|  13.02.1994|\n",
      "|       4| 6.94|    RUS| Irina Privalova|     Liévin| 12.11.68|  19.02.1995|\n",
      "|       4|6.94A|    USA|     Aleia Hobbs|Albuquerque| 24.02.96|  18.02.2023|\n",
      "|       4|6.94A|    LCA|   Julien Alfred|Albuquerque| 10.06.01|  11.03.2023|\n",
      "|       7| 6.95|    USA|     Gail Devers|    Toronto| 19.11.66|  12.03.1993|\n",
      "|       7| 6.95|    RUS| Irina Privalova|       Wien| 12.11.68|  06.02.1994|\n",
      "|       7| 6.95|    RUS| Irina Privalova|     Moskva| 12.11.68|  14.02.1995|\n",
      "|       7| 6.95|    USA|    Marion Jones|   Maebashi| 12.10.75|  07.03.1998|\n",
      "|      11| 6.96|    JAM|    MerleneOttey|     Madrid| 10.05.60|  14.02.1992|\n",
      "|      11| 6.96|    RUS| Irina Privalova|     Madrid| 12.11.68|  11.02.1993|\n",
      "|      11| 6.96|    GRE|Ekateríni Thánou|   Maebashi| 01.02.75|  07.03.1999|\n",
      "|      11| 6.96|    SUI|MujingaKambundji|    Beograd| 17.06.92|  18.03.2022|\n",
      "|      11|6.96A|    LCA|   Julien Alfred|Albuquerque| 10.06.01|  10.03.2023|\n",
      "|      16| 6.97|    RUS| Irina Privalova|     Madrid| 12.11.68|  14.02.1992|\n",
      "|      16| 6.97|    RUS| Irina Privalova|    Toronto| 12.11.68|  12.03.1993|\n",
      "|      16| 6.97|    RUS| Irina Privalova|     Madrid| 12.11.68|  11.02.1994|\n",
      "|      16| 6.97|    RUS| Irina Privalova|       Gent| 12.11.68|  12.02.1995|\n",
      "|      16| 6.97|    JAM|    MerleneOttey|     Liévin| 10.05.60|  19.02.1995|\n",
      "+--------+-----+-------+----------------+-----------+---------+------------+\n",
      "only showing top 20 rows\n",
      "\n"
     ]
    }
   ],
   "source": [
    "resultTwo = spark.sql(\"SELECT * FROM ProWomens60m\")\n",
    "resultTwo.show()"
   ]
  },
  {
   "cell_type": "code",
   "execution_count": null,
   "id": "540b2143",
   "metadata": {},
   "outputs": [],
   "source": []
  },
  {
   "cell_type": "code",
   "execution_count": null,
   "id": "2502cbf8",
   "metadata": {},
   "outputs": [],
   "source": []
  },
  {
   "cell_type": "code",
   "execution_count": null,
   "id": "62b41551",
   "metadata": {},
   "outputs": [],
   "source": []
  },
  {
   "cell_type": "code",
   "execution_count": null,
   "id": "db5c2005",
   "metadata": {},
   "outputs": [],
   "source": []
  }
 ],
 "metadata": {
  "kernelspec": {
   "display_name": "Python 3 (ipykernel)",
   "language": "python",
   "name": "python3"
  },
  "language_info": {
   "codemirror_mode": {
    "name": "ipython",
    "version": 3
   },
   "file_extension": ".py",
   "mimetype": "text/x-python",
   "name": "python",
   "nbconvert_exporter": "python",
   "pygments_lexer": "ipython3",
   "version": "3.9.12"
  }
 },
 "nbformat": 4,
 "nbformat_minor": 5
}
