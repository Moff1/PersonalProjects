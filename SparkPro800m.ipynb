{
 "cells": [
  {
   "cell_type": "code",
   "execution_count": 1,
   "id": "8c7e4089",
   "metadata": {},
   "outputs": [],
   "source": [
    "import pyspark\n",
    "\n",
    "from pyspark.sql import SparkSession\n",
    "\n",
    "from pyspark.sql.functions import col\n",
    "\n",
    "from pyspark.sql.functions import desc\n",
    "\n",
    "from pyspark.sql.functions import asc\n",
    "\n",
    "import findspark\n",
    "\n",
    "from pyspark.sql.types import StructType, StructField, StringType, IntegerType\n",
    "\n",
    "import pandas as pd"
   ]
  },
  {
   "cell_type": "code",
   "execution_count": 2,
   "id": "d8b6f795",
   "metadata": {},
   "outputs": [],
   "source": [
    "spark = SparkSession.builder.appName('Pro800M').enableHiveSupport().getOrCreate()"
   ]
  },
  {
   "cell_type": "code",
   "execution_count": 3,
   "id": "1fb77997",
   "metadata": {},
   "outputs": [],
   "source": [
    "ProMens800m = spark.read.format('csv').option('inferSchema','true').option('header','true').option('path','ProMens800m.csv').load()\n",
    "\n",
    "ProWomens800m = spark.read.format('csv').option('inferSchema','true').option('header','true').option('path','ProWomens800m.csv').load()"
   ]
  },
  {
   "cell_type": "code",
   "execution_count": 4,
   "id": "e5e11909",
   "metadata": {},
   "outputs": [],
   "source": [
    "ProMens800m.createOrReplaceTempView(\"ProMens800m\")"
   ]
  },
  {
   "cell_type": "code",
   "execution_count": 5,
   "id": "ebe6bf28",
   "metadata": {},
   "outputs": [],
   "source": [
    "ProWomens800m.createOrReplaceTempView(\"ProWomens800m\")"
   ]
  },
  {
   "cell_type": "code",
   "execution_count": 6,
   "id": "159c4092",
   "metadata": {},
   "outputs": [
    {
     "name": "stdout",
     "output_type": "stream",
     "text": [
      "+--------+------+--------------------+--------------+---------+------------+\n",
      "|RANKINGS| TIMES|             ATHLETE|      LOCATION|BIRTHYEAR|DATEOFTHERUN|\n",
      "+--------+------+--------------------+--------------+---------+------------+\n",
      "|       1|1:40.9|  1    David Rudisha|        London| 17.12.88|  09.08.2012|\n",
      "|       2|1:41.0|  1    David Rudisha|         Rieti| 17.12.88|  29.08.2010|\n",
      "|       3|1:41.0|  9    David Rudisha|        Berlin| 17.12.88|  22.08.2010|\n",
      "|       4|1:41.1|1    Wilson Kipketer|          Köln| 12.12.70|  24.08.1997|\n",
      "|       5|1:41.2|4    Wilson Kipketer|        Zürich| 12.12.70|  13.08.1997|\n",
      "|       6|1:41.3|  3    David Rudisha|         Rieti| 17.12.88|  10.09.2011|\n",
      "|       7|1:41.5|  1    David Rudisha|Heusden-Zolder| 17.12.88|  10.07.2010|\n",
      "|       8|1:41.5|  4    David Rudisha|   Saint-Denis| 17.12.88|  06.07.2012|\n",
      "|       9|1:41.7|   3    SebastianCoe|       Firenze| 29.09.56|  10.06.1981|\n",
      "|       9|1:41.7|3    Wilson Kipketer|     Stockholm| 12.12.70|  07.07.1997|\n",
      "|       9|1:41.7|     3    Nijel Amos|        London| 15.03.94|  09.08.2012|\n",
      "|      12|1:41.7|  4    David Rudisha| New York City| 17.12.88|  09.06.2012|\n",
      "|      13|1:41.7|   7    Joaquim Cruz|          Köln| 12.03.63|  26.08.1984|\n",
      "|      14|1:41.8|3    Wilson Kipketer|         Rieti| 12.12.70|  01.09.1996|\n",
      "|      15|1:41.8|     9    Nijel Amos|        Monaco| 15.03.94|  12.07.2019|\n",
      "|      16|1:42.0|  1    David Rudisha|         Rieti| 17.12.88|  06.09.2009|\n",
      "|      17|1:42.0|  4    David Rudisha|          Oslo| 17.12.88|  04.06.2010|\n",
      "|      18|1:42.0|  5    EmmanuelKorir|        London| 15.06.95|  22.07.2018|\n",
      "|      19|1:42.1|  2A   David Rudisha|       Nairobi| 17.12.88|  23.06.2012|\n",
      "|      20|1:42.1|     4    Nijel Amos|        Monaco| 15.03.94|  20.07.2018|\n",
      "+--------+------+--------------------+--------------+---------+------------+\n",
      "only showing top 20 rows\n",
      "\n"
     ]
    }
   ],
   "source": [
    "resultOne = spark.sql(\"SELECT * FROM ProMens800m\")\n",
    "resultOne.show()"
   ]
  },
  {
   "cell_type": "code",
   "execution_count": 7,
   "id": "8e4cd001",
   "metadata": {},
   "outputs": [
    {
     "name": "stdout",
     "output_type": "stream",
     "text": [
      "+--------+------+--------------------+-----------+---------+------------+\n",
      "|RANKINGS| TIMES|             ATHLETE|   LOCATION|BIRTHYEAR|DATEOFTHERUN|\n",
      "+--------+------+--------------------+-----------+---------+------------+\n",
      "|       1|1:53.2|8    Jarmila Krat...|    München| 26.01.51|  26.07.1983|\n",
      "|       2|1:53.4|3    NadezhdaOliz...|     Moskva| 28.11.53|  27.07.1980|\n",
      "|       3|1:54.0|  1    Pamela Jelimo|     Zürich| 15.12.89|  29.08.2008|\n",
      "|       4|1:54.2| 5    Caster Semenya|      Paris| 07.01.91|  30.06.2018|\n",
      "|       5|1:54.4|4    Ana Fidelia ...|  Barcelona| 23.03.63|  09.09.1989|\n",
      "|       6|1:54.6| 0    Caster Semenya|     Monaco| 07.01.91|  20.07.2018|\n",
      "|       7|1:54.6|8    Jarmila Krat...|   Helsinki| 26.01.51|  09.08.1983|\n",
      "|       8|1:54.7| 7    Caster Semenya|    Ostrava| 07.01.91|  09.09.2018|\n",
      "|       9|1:54.8|  1    Olga Mineyeva|     Moskva| 01.09.52|  27.07.1980|\n",
      "|      10|1:54.8|2    Ana Fidelia ...|       Köln| 23.03.63|  24.08.1997|\n",
      "|      11|1:54.8|5    NadezhdaOliz...|     Moskva| 28.11.53|  12.06.1980|\n",
      "|      12|1:54.8|  7    Pamela Jelimo|    Beijing| 15.12.89|  18.08.2008|\n",
      "|      13|1:54.9|4    Tatyana Kaza...|   Montréal| 17.12.51|  26.07.1976|\n",
      "|      14|1:54.9|  7    Pamela Jelimo|Saint-Denis| 15.12.89|  18.07.2008|\n",
      "|      15|1:54.9| 8    Caster Semenya|  Ad-Dawhah| 07.01.91|  03.05.2019|\n",
      "|      16|1:54.9|  9    Pamela Jelimo|     Berlin| 15.12.89|  01.06.2008|\n",
      "|      17|1:55.0|4    Jarmila Krat...|       Oslo| 26.01.51|  23.08.1983|\n",
      "|      17|1:55.0|      4    Athing Mu|     Eugene| 08.06.02|  21.08.2021|\n",
      "|      19|1:55.0|  5    Doina Melinte|  Bucuresti| 27.12.56|  01.08.1982|\n",
      "|      20|1:55.1|       Olga Mineyeva|     Moskva| 01.09.52|  06.07.1980|\n",
      "+--------+------+--------------------+-----------+---------+------------+\n",
      "only showing top 20 rows\n",
      "\n"
     ]
    }
   ],
   "source": [
    "resultTwo = spark.sql(\"SELECT * FROM ProWomens800m\")\n",
    "resultTwo.show()"
   ]
  },
  {
   "cell_type": "code",
   "execution_count": null,
   "id": "29cde170",
   "metadata": {},
   "outputs": [],
   "source": []
  }
 ],
 "metadata": {
  "kernelspec": {
   "display_name": "Python 3 (ipykernel)",
   "language": "python",
   "name": "python3"
  },
  "language_info": {
   "codemirror_mode": {
    "name": "ipython",
    "version": 3
   },
   "file_extension": ".py",
   "mimetype": "text/x-python",
   "name": "python",
   "nbconvert_exporter": "python",
   "pygments_lexer": "ipython3",
   "version": "3.9.12"
  }
 },
 "nbformat": 4,
 "nbformat_minor": 5
}
