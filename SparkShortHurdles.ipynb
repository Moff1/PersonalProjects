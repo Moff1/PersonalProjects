{
 "cells": [
  {
   "cell_type": "code",
   "execution_count": 1,
   "id": "a3130d4c",
   "metadata": {},
   "outputs": [],
   "source": [
    "import pyspark\n",
    "from pyspark.sql import SparkSession\n",
    "from pyspark.sql.functions import col\n",
    "from pyspark.sql.functions import desc\n",
    "from pyspark.sql.functions import asc\n",
    "import findspark\n",
    "from pyspark.sql.types import StructType, StructField, StringType, IntegerType\n",
    "import pandas as pd\n",
    "findspark.init()"
   ]
  },
  {
   "cell_type": "code",
   "execution_count": 2,
   "id": "1bc58a49",
   "metadata": {},
   "outputs": [],
   "source": [
    "spark = SparkSession.builder.appName('ProHurdles').enableHiveSupport().getOrCreate()"
   ]
  },
  {
   "cell_type": "code",
   "execution_count": 3,
   "id": "e5fd8acc",
   "metadata": {},
   "outputs": [],
   "source": [
    "ProMens110m = spark.read.format('csv').option('inferSchema','true').option('header','true').option('path','Mens110mHurdles.csv').load()"
   ]
  },
  {
   "cell_type": "code",
   "execution_count": 4,
   "id": "76b6605b",
   "metadata": {},
   "outputs": [],
   "source": [
    "ProWomens100mHurdles = spark.read.format('csv').option('inferSchema','true').option('header','true').option('path','Womens100mHurdles.csv').load()"
   ]
  },
  {
   "cell_type": "code",
   "execution_count": 5,
   "id": "b80ef7b5",
   "metadata": {},
   "outputs": [],
   "source": [
    "ProMens110m.createOrReplaceTempView(\"ProMens110m\")"
   ]
  },
  {
   "cell_type": "code",
   "execution_count": 6,
   "id": "84550a7f",
   "metadata": {},
   "outputs": [],
   "source": [
    "ProWomens100mHurdles.createOrReplaceTempView(\"ProWomens100mHurdles\")"
   ]
  },
  {
   "cell_type": "code",
   "execution_count": 7,
   "id": "1318d6f8",
   "metadata": {},
   "outputs": [
    {
     "name": "stdout",
     "output_type": "stream",
     "text": [
      "+--------+-----+-------+-------------------+--------------+---------+------------+-----------+\n",
      "|RANKINGS|TIMES|COUNTRY|            ATHLETE|      LOCATION|BIRTHYEAR|DATEOFTHERUN|WINDREADING|\n",
      "+--------+-----+-------+-------------------+--------------+---------+------------+-----------+\n",
      "|       1|12.80|    USA|      Aries Merritt|     Bruxelles| 24.07.85|  07.09.2012|  +0.3    A|\n",
      "|       2|12.81|    USA|     Grant Holloway|        Eugene| 19.11.97|  26.06.2021|  +1.8    G|\n",
      "|       3|12.84|    USA|        Devon Allen| New York City| 12.12.94|  12.06.2022|  +1.6    D|\n",
      "|       4|12.87|    CUB|      Dayron Robles|       Ostrava| 19.11.86|  12.06.2008|  +0.9    D|\n",
      "|       5|12.88|    CHN|          Liu Xiang|      Lausanne| 13.07.83|  11.07.2006|  +1.1    L|\n",
      "|       5|12.88|    CUB|      Dayron Robles|   Saint-Denis| 19.11.86|  18.07.2008|  +0.5    D|\n",
      "|       7|12.89|    USA|       David Oliver|   Saint-Denis| 24.04.82|  16.07.2010|  +0.5    D|\n",
      "|       8|12.90|    USA|    Dominique Arnol|      Lausanne| 14.09.73|  11.07.2006|  +1.1    D|\n",
      "|       8|12.90|    USA|       David Oliver|        Eugene| 24.04.82|  03.07.2010|  +1.6    D|\n",
      "|       8|12.90|    JAM|        Omar McLeod|      Kingston| 25.04.94|  24.06.2017|  +0.7    O|\n",
      "|      11|12.91|    GBR|      Colin Jackson|     Stuttgart| 18.02.67|  20.08.1993|  +0.5    C|\n",
      "|      11|12.91|    CHN|          Liu Xiang|       Athínai| 13.07.83|  27.08.2004|  +0.3    L|\n",
      "|      11|12.91|    CUB|      Dayron Robles|     Stockholm| 19.11.86|  22.07.2008|  +0.2    D|\n",
      "|      14|12.92|    USA|      Roger Kingdom|        Zürich| 26.08.62|  16.08.1989|  -0.1    R|\n",
      "|      14|12.92|    USA|      Allen Johnson|       Atlanta| 01.03.71|  23.06.1996|  +0.9    A|\n",
      "|      14|12.92|    USA|      Allen Johnson|     Bruxelles| 01.03.71|  23.08.1996|  +0.2    A|\n",
      "|      14|12.92|    CHN|          Liu Xiang| New York City| 13.07.83|  02.06.2007|  +1.5    L|\n",
      "|      14|12.92|    CUB|      Dayron Robles|     Stuttgart| 19.11.86|  23.09.2007|  ±0.0    D|\n",
      "|      14|12.92|    USA|      Aries Merritt|        London| 24.07.85|  08.08.2012|  -0.3    A|\n",
      "|      14|12.92|    RUS|    Sergey Shubenko|Székesfehérvár| 04.10.90|  02.07.2018|  +0.6    S|\n",
      "+--------+-----+-------+-------------------+--------------+---------+------------+-----------+\n",
      "only showing top 20 rows\n",
      "\n"
     ]
    }
   ],
   "source": [
    "resultOne = spark.sql(\"SELECT * FROM ProMens110m\")\n",
    "resultOne.show()"
   ]
  },
  {
   "cell_type": "code",
   "execution_count": 8,
   "id": "2609c9a4",
   "metadata": {},
   "outputs": [
    {
     "name": "stdout",
     "output_type": "stream",
     "text": [
      "+--------+-----+-------+--------------------+--------------+---------+------------+-----------+\n",
      "|RANKINGS|TIMES|COUNTRY|             ATHLETE|      LOCATION|BIRTHYEAR|DATEOFTHERUN|WINDREADING|\n",
      "+--------+-----+-------+--------------------+--------------+---------+------------+-----------+\n",
      "|       1|12.12|    NGR|    Oluwatobiloba...|        Eugene| 23.04.97|  24.07.2022|  +0.9    O|\n",
      "|       2|12.20|    USA|     Kendra Harrison|        London| 18.09.92|  22.07.2016|  +0.3    K|\n",
      "|       3|12.21|    BUL|     YordankaDonkova|   StaraZagora| 28.09.61|  20.08.1988|  +0.7    Y|\n",
      "|       4|12.24|    BUL|     YordankaDonkova|   StaraZagora| 28.09.61|  28.08.1988|  +0.9    Y|\n",
      "|       4|12.24|    USA|     Kendra Harrison|        Eugene| 18.09.92|  28.05.2016|  +0.7    K|\n",
      "|       6|12.25|    BUL|    Ginka Zagorcheva|         Dráma| 12.04.58|  08.08.1987|  +1.4    G|\n",
      "|       7|12.26|    BUL|     YordankaDonkova|     Ljubljana| 28.09.61|  07.09.1986|  +1.5    Y|\n",
      "|       7|12.26|    RUS|     LudmilaEngquist|       Sevilla| 21.04.64|  06.06.1992|  +1.7    L|\n",
      "|       7|12.26|    USA|       BriannaMcNeal|    Des Moines| 18.08.91|  22.06.2013|  +1.2    B|\n",
      "|       7|12.26|    PUR|    JasmineCamach...|         Tokyo| 21.08.96|  01.08.2021|  -0.2    J|\n",
      "|      11|12.27|    BUL|     YordankaDonkova|   StaraZagora| 28.09.61|  28.08.1988|  -1.2    Y|\n",
      "|      11|12.27|    USA|     Kendra Harrison|        Eugene| 18.09.92|  24.07.2022|  +0.9    K|\n",
      "|      11|12.27|    PUR|    JasmineCamach...|     Bruxelles| 21.08.96|  02.09.2022|  +0.1    J|\n",
      "|      14|12.28|    RUS|     LudmilaEngquist|          Kyiv| 21.04.64|  11.07.1991|  +1.8    L|\n",
      "|      14|12.28|    RUS|     LudmilaEngquist|       Sevilla| 21.04.64|  06.06.1992|  +0.9    L|\n",
      "|      14|12.28|    AUS|       Sally Pearson|         Daegu| 19.09.86|  03.09.2011|  +1.1    S|\n",
      "|      14|12.28|    USA|     Kendra Harrison|Székesfehérvár| 18.09.92|  04.07.2017|  +0.1    K|\n",
      "|      18|12.29|    BUL|     YordankaDonkova|          Köln| 28.09.61|  17.08.1986|  -0.4    Y|\n",
      "|      18|12.29|    NGR|    Oluwatobiloba...|        Zürich| 23.04.97|  08.09.2022|  -0.3    O|\n",
      "|      20|12.30|    NGR|    Oluwatobiloba...|    Birmingham| 23.04.97|  07.08.2022|  -0.2    O|\n",
      "+--------+-----+-------+--------------------+--------------+---------+------------+-----------+\n",
      "only showing top 20 rows\n",
      "\n"
     ]
    }
   ],
   "source": [
    "resultTwo = spark.sql(\"SELECT * FROM ProWomens100mHurdles\")\n",
    "resultTwo.show()"
   ]
  },
  {
   "cell_type": "code",
   "execution_count": null,
   "id": "cce960e3",
   "metadata": {},
   "outputs": [],
   "source": []
  }
 ],
 "metadata": {
  "kernelspec": {
   "display_name": "Python 3 (ipykernel)",
   "language": "python",
   "name": "python3"
  },
  "language_info": {
   "codemirror_mode": {
    "name": "ipython",
    "version": 3
   },
   "file_extension": ".py",
   "mimetype": "text/x-python",
   "name": "python",
   "nbconvert_exporter": "python",
   "pygments_lexer": "ipython3",
   "version": "3.9.12"
  }
 },
 "nbformat": 4,
 "nbformat_minor": 5
}
